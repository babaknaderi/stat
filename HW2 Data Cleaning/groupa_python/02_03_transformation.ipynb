{
 "cells": [
  {
   "cell_type": "markdown",
   "metadata": {},
   "source": [
    "# Task 3 Transformation"
   ]
  },
  {
   "cell_type": "markdown",
   "metadata": {},
   "source": [
    "## Import and Initializing"
   ]
  },
  {
   "cell_type": "code",
   "execution_count": 1,
   "metadata": {},
   "outputs": [],
   "source": [
    "import itertools\n",
    "\n",
    "import numpy as np  # pip install numpy\n",
    "import scipy.stats  # pip install scipy\n",
    "\n",
    "import pandas as pd  # pip install pandas\n",
    "import matplotlib.pyplot as plt  # pip install matplotlib\n",
    "import seaborn as sns  # pip install seaborn\n",
    "\n",
    "sns.set_context(\"notebook\")\n",
    "sns.set_style(\"whitegrid\")\n",
    "\n",
    "np.seterr(\"raise\")\n",
    "\n",
    "FIG_SIZE = (14, 4)\n",
    "\n",
    "CONDITION = \"condition_filled\""
   ]
  },
  {
   "cell_type": "markdown",
   "metadata": {},
   "source": [
    "## Loading and preparing the data"
   ]
  },
  {
   "cell_type": "code",
   "execution_count": 2,
   "metadata": {},
   "outputs": [
    {
     "name": "stdout",
     "output_type": "stream",
     "text": [
      "Sheets:\n"
     ]
    },
    {
     "data": {
      "text/plain": [
       "['Description',\n",
       " 'CS -Full',\n",
       " 'CS-per file',\n",
       " 'CS-per condition',\n",
       " 'CS participants',\n",
       " 'Lab-per condition']"
      ]
     },
     "execution_count": 2,
     "metadata": {},
     "output_type": "execute_result"
    }
   ],
   "source": [
    "sheets = pd.read_excel(\"../datasets/DB04_speech_quality_crowdsourcing_dataset.xlsx\", sheet_name=None)\n",
    "print(\"Sheets:\")\n",
    "list(sheets.keys())"
   ]
  },
  {
   "cell_type": "code",
   "execution_count": 3,
   "metadata": {},
   "outputs": [
    {
     "data": {
      "text/html": [
       "<div>\n",
       "<style scoped>\n",
       "    .dataframe tbody tr th:only-of-type {\n",
       "        vertical-align: middle;\n",
       "    }\n",
       "\n",
       "    .dataframe tbody tr th {\n",
       "        vertical-align: top;\n",
       "    }\n",
       "\n",
       "    .dataframe thead th {\n",
       "        text-align: right;\n",
       "    }\n",
       "</style>\n",
       "<table border=\"1\" class=\"dataframe\">\n",
       "  <thead>\n",
       "    <tr style=\"text-align: right;\">\n",
       "      <th></th>\n",
       "      <th>ID</th>\n",
       "      <th>Gender</th>\n",
       "      <th>Birth year</th>\n",
       "      <th>mother tongue</th>\n",
       "      <th>Listening device</th>\n",
       "    </tr>\n",
       "  </thead>\n",
       "  <tbody>\n",
       "    <tr>\n",
       "      <th>0</th>\n",
       "      <td>A10DEO061A6L3O</td>\n",
       "      <td>F</td>\n",
       "      <td>1984</td>\n",
       "      <td>English</td>\n",
       "      <td>over-ear</td>\n",
       "    </tr>\n",
       "    <tr>\n",
       "      <th>1</th>\n",
       "      <td>A12HZGOZQD5YK7</td>\n",
       "      <td>F</td>\n",
       "      <td>1959</td>\n",
       "      <td>english</td>\n",
       "      <td>in-ear</td>\n",
       "    </tr>\n",
       "    <tr>\n",
       "      <th>2</th>\n",
       "      <td>A14WLAP6TCEKO0</td>\n",
       "      <td>F</td>\n",
       "      <td>1966</td>\n",
       "      <td>English</td>\n",
       "      <td>in-ear</td>\n",
       "    </tr>\n",
       "    <tr>\n",
       "      <th>3</th>\n",
       "      <td>A16UAN46CNIRHY</td>\n",
       "      <td>M</td>\n",
       "      <td>1975</td>\n",
       "      <td>English</td>\n",
       "      <td>over-ear|ex-ls|ib-ls</td>\n",
       "    </tr>\n",
       "    <tr>\n",
       "      <th>4</th>\n",
       "      <td>A19CB2C4GY4C60</td>\n",
       "      <td>F</td>\n",
       "      <td>1992</td>\n",
       "      <td>English</td>\n",
       "      <td>over-ear</td>\n",
       "    </tr>\n",
       "    <tr>\n",
       "      <th>...</th>\n",
       "      <td>...</td>\n",
       "      <td>...</td>\n",
       "      <td>...</td>\n",
       "      <td>...</td>\n",
       "      <td>...</td>\n",
       "    </tr>\n",
       "    <tr>\n",
       "      <th>66</th>\n",
       "      <td>ASXFMHGSF0GU6</td>\n",
       "      <td>M</td>\n",
       "      <td>1989</td>\n",
       "      <td>English</td>\n",
       "      <td>over-ear</td>\n",
       "    </tr>\n",
       "    <tr>\n",
       "      <th>67</th>\n",
       "      <td>ATXY4CAGV87ZL</td>\n",
       "      <td>M</td>\n",
       "      <td>1966</td>\n",
       "      <td>ENGLISH</td>\n",
       "      <td>over-ear</td>\n",
       "    </tr>\n",
       "    <tr>\n",
       "      <th>68</th>\n",
       "      <td>AVBRJBJONL47I</td>\n",
       "      <td>F</td>\n",
       "      <td>1969</td>\n",
       "      <td>English</td>\n",
       "      <td>in-ear</td>\n",
       "    </tr>\n",
       "    <tr>\n",
       "      <th>69</th>\n",
       "      <td>AVXEDARJC5HLU</td>\n",
       "      <td>F</td>\n",
       "      <td>1968</td>\n",
       "      <td>english</td>\n",
       "      <td>in-ear</td>\n",
       "    </tr>\n",
       "    <tr>\n",
       "      <th>70</th>\n",
       "      <td>AZLZA0Q87TJZO</td>\n",
       "      <td>F</td>\n",
       "      <td>1988</td>\n",
       "      <td>English</td>\n",
       "      <td>over-ear</td>\n",
       "    </tr>\n",
       "  </tbody>\n",
       "</table>\n",
       "<p>71 rows × 5 columns</p>\n",
       "</div>"
      ],
      "text/plain": [
       "                ID Gender  Birth year mother tongue      Listening device\n",
       "0   A10DEO061A6L3O      F        1984       English              over-ear\n",
       "1   A12HZGOZQD5YK7      F        1959       english                in-ear\n",
       "2   A14WLAP6TCEKO0      F        1966       English                in-ear\n",
       "3   A16UAN46CNIRHY      M        1975       English  over-ear|ex-ls|ib-ls\n",
       "4   A19CB2C4GY4C60      F        1992       English              over-ear\n",
       "..             ...    ...         ...           ...                   ...\n",
       "66   ASXFMHGSF0GU6      M        1989       English              over-ear\n",
       "67   ATXY4CAGV87ZL      M        1966       ENGLISH              over-ear\n",
       "68   AVBRJBJONL47I      F        1969       English                in-ear\n",
       "69   AVXEDARJC5HLU      F        1968       english                in-ear\n",
       "70   AZLZA0Q87TJZO      F        1988       English              over-ear\n",
       "\n",
       "[71 rows x 5 columns]"
      ]
     },
     "execution_count": 3,
     "metadata": {},
     "output_type": "execute_result"
    }
   ],
   "source": [
    "participants = sheets[\"CS participants\"]\n",
    "participants"
   ]
  },
  {
   "cell_type": "markdown",
   "metadata": {},
   "source": [
    "## Calculating age and grouping into age bins "
   ]
  },
  {
   "cell_type": "code",
   "execution_count": 4,
   "metadata": {},
   "outputs": [],
   "source": [
    "year_birth = participants[\"Birth year\"]\n",
    "year_current = pd.to_datetime(\"now\").year\n",
    "age = year_current - year_birth"
   ]
  },
  {
   "cell_type": "code",
   "execution_count": 5,
   "metadata": {
    "scrolled": false
   },
   "outputs": [
    {
     "data": {
      "text/plain": [
       "Birth year\n",
       "(17.999, 26.0]    24.000000\n",
       "(26.0, 36.0]      31.925926\n",
       "(36.0, 50.0]      43.238095\n",
       "(50.0, 100.0]     58.555556\n",
       "Name: Birth year, dtype: float64"
      ]
     },
     "execution_count": 5,
     "metadata": {},
     "output_type": "execute_result"
    }
   ],
   "source": [
    "age_bins = pd.cut(age, [18, 26, 36, 50, 100], include_lowest=True)\n",
    "age.groupby(age_bins).mean()"
   ]
  },
  {
   "cell_type": "code",
   "execution_count": 6,
   "metadata": {},
   "outputs": [
    {
     "data": {
      "text/html": [
       "<div>\n",
       "<style scoped>\n",
       "    .dataframe tbody tr th:only-of-type {\n",
       "        vertical-align: middle;\n",
       "    }\n",
       "\n",
       "    .dataframe tbody tr th {\n",
       "        vertical-align: top;\n",
       "    }\n",
       "\n",
       "    .dataframe thead th {\n",
       "        text-align: right;\n",
       "    }\n",
       "</style>\n",
       "<table border=\"1\" class=\"dataframe\">\n",
       "  <thead>\n",
       "    <tr style=\"text-align: right;\">\n",
       "      <th></th>\n",
       "      <th>Birth year</th>\n",
       "      <th>Assigned age interval</th>\n",
       "    </tr>\n",
       "  </thead>\n",
       "  <tbody>\n",
       "    <tr>\n",
       "      <th>0</th>\n",
       "      <td>35</td>\n",
       "      <td>(26.0, 36.0]</td>\n",
       "    </tr>\n",
       "    <tr>\n",
       "      <th>1</th>\n",
       "      <td>60</td>\n",
       "      <td>(50.0, 100.0]</td>\n",
       "    </tr>\n",
       "    <tr>\n",
       "      <th>2</th>\n",
       "      <td>53</td>\n",
       "      <td>(50.0, 100.0]</td>\n",
       "    </tr>\n",
       "    <tr>\n",
       "      <th>3</th>\n",
       "      <td>44</td>\n",
       "      <td>(36.0, 50.0]</td>\n",
       "    </tr>\n",
       "    <tr>\n",
       "      <th>4</th>\n",
       "      <td>27</td>\n",
       "      <td>(26.0, 36.0]</td>\n",
       "    </tr>\n",
       "    <tr>\n",
       "      <th>...</th>\n",
       "      <td>...</td>\n",
       "      <td>...</td>\n",
       "    </tr>\n",
       "    <tr>\n",
       "      <th>66</th>\n",
       "      <td>30</td>\n",
       "      <td>(26.0, 36.0]</td>\n",
       "    </tr>\n",
       "    <tr>\n",
       "      <th>67</th>\n",
       "      <td>53</td>\n",
       "      <td>(50.0, 100.0]</td>\n",
       "    </tr>\n",
       "    <tr>\n",
       "      <th>68</th>\n",
       "      <td>50</td>\n",
       "      <td>(36.0, 50.0]</td>\n",
       "    </tr>\n",
       "    <tr>\n",
       "      <th>69</th>\n",
       "      <td>51</td>\n",
       "      <td>(50.0, 100.0]</td>\n",
       "    </tr>\n",
       "    <tr>\n",
       "      <th>70</th>\n",
       "      <td>31</td>\n",
       "      <td>(26.0, 36.0]</td>\n",
       "    </tr>\n",
       "  </tbody>\n",
       "</table>\n",
       "<p>71 rows × 2 columns</p>\n",
       "</div>"
      ],
      "text/plain": [
       "    Birth year Assigned age interval\n",
       "0           35          (26.0, 36.0]\n",
       "1           60         (50.0, 100.0]\n",
       "2           53         (50.0, 100.0]\n",
       "3           44          (36.0, 50.0]\n",
       "4           27          (26.0, 36.0]\n",
       "..         ...                   ...\n",
       "66          30          (26.0, 36.0]\n",
       "67          53         (50.0, 100.0]\n",
       "68          50          (36.0, 50.0]\n",
       "69          51         (50.0, 100.0]\n",
       "70          31          (26.0, 36.0]\n",
       "\n",
       "[71 rows x 2 columns]"
      ]
     },
     "execution_count": 6,
     "metadata": {},
     "output_type": "execute_result"
    }
   ],
   "source": [
    "pd.concat([age, age_bins], axis=\"columns\", keys=[\"Birth year\", \"Assigned age interval\"])"
   ]
  }
 ],
 "metadata": {
  "kernelspec": {
   "display_name": "Python 3",
   "language": "python",
   "name": "python3"
  },
  "language_info": {
   "codemirror_mode": {
    "name": "ipython",
    "version": 3
   },
   "file_extension": ".py",
   "mimetype": "text/x-python",
   "name": "python",
   "nbconvert_exporter": "python",
   "pygments_lexer": "ipython3",
   "version": "3.6.5"
  }
 },
 "nbformat": 4,
 "nbformat_minor": 2
}
