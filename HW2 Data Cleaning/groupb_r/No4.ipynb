{
 "cells": [
  {
   "cell_type": "markdown",
   "metadata": {},
   "source": [
    "# Task 4: Normality"
   ]
  },
  {
   "cell_type": "code",
   "execution_count": 1,
   "metadata": {},
   "outputs": [],
   "source": [
    "# install.packages('gdata')     # to read in spreadsheets\n",
    "# install.packages('dplyr')     # filtering, mapping and aggregating functionality\n",
    "# install.packages(\"nortest\")   # additional: Anderson-Darling-Test"
   ]
  },
  {
   "cell_type": "code",
   "execution_count": 2,
   "metadata": {},
   "outputs": [
    {
     "name": "stderr",
     "output_type": "stream",
     "text": [
      "\n",
      "Attaching package: 'dplyr'\n",
      "\n",
      "The following objects are masked from 'package:stats':\n",
      "\n",
      "    filter, lag\n",
      "\n",
      "The following objects are masked from 'package:base':\n",
      "\n",
      "    intersect, setdiff, setequal, union\n",
      "\n"
     ]
    }
   ],
   "source": [
    "library(nortest)                # Anderson-Darling normality test\n",
    "library(dplyr)                  # processing\n",
    "library(readxl)                 # reading in spreadsheet"
   ]
  },
  {
   "cell_type": "code",
   "execution_count": 3,
   "metadata": {},
   "outputs": [],
   "source": [
    "gaming_data <- read_excel(\"datasets/DB01_gaming_video_quality_dataset.xlsx\")\n",
    "gaming_data <- gaming_data %>% filter(Game == 'Game4') %>% filter(Condition == 26) %>% select(VQ)\n",
    "video_quality_ratings = gaming_data[['VQ']]"
   ]
  },
  {
   "cell_type": "code",
   "execution_count": 4,
   "metadata": {},
   "outputs": [
    {
     "name": "stderr",
     "output_type": "stream",
     "text": [
      "Warning message in ks.test(video_quality_ratings, \"pnorm\", mean = mean(gaming_data[[\"VQ\"]]), :\n",
      "\"ties should not be present for the Kolmogorov-Smirnov test\""
     ]
    },
    {
     "data": {
      "text/plain": [
       "\n",
       "\tOne-sample Kolmogorov-Smirnov test\n",
       "\n",
       "data:  video_quality_ratings\n",
       "D = 0.13837, p-value = 0.7935\n",
       "alternative hypothesis: two-sided\n"
      ]
     },
     "metadata": {},
     "output_type": "display_data"
    }
   ],
   "source": [
    "kolmogrow_smirnov = ks.test(video_quality_ratings, \"pnorm\", mean=mean(gaming_data[['VQ']]), sd=sd(gaming_data[['VQ']])) \n",
    "kolmogrow_smirnov   \n",
    "# p >> 0.05: null hypothesis of normality not rejected"
   ]
  },
  {
   "cell_type": "code",
   "execution_count": 5,
   "metadata": {},
   "outputs": [
    {
     "data": {
      "text/plain": [
       "\n",
       "\tShapiro-Wilk normality test\n",
       "\n",
       "data:  video_quality_ratings\n",
       "W = 0.9774, p-value = 0.8709\n"
      ]
     },
     "metadata": {},
     "output_type": "display_data"
    }
   ],
   "source": [
    "shapiro_wilk = shapiro.test(video_quality_ratings)\n",
    "shapiro_wilk        \n",
    "# p >> 0.05: null hypothesis of normality not rejected"
   ]
  },
  {
   "cell_type": "code",
   "execution_count": 6,
   "metadata": {},
   "outputs": [
    {
     "data": {
      "text/plain": [
       "\n",
       "\tAnderson-Darling normality test\n",
       "\n",
       "data:  video_quality_ratings\n",
       "A = 0.20594, p-value = 0.8513\n"
      ]
     },
     "metadata": {},
     "output_type": "display_data"
    }
   ],
   "source": [
    "ad.test(video_quality_ratings)\n",
    "# p >> 0.05: null hypothesis of normality not rejected"
   ]
  },
  {
   "cell_type": "code",
   "execution_count": 7,
   "metadata": {},
   "outputs": [
    {
     "data": {
      "image/png": "[encoded data removed]",
      "text/plain": [
       "Plot with title \"Normal Q-Q Plot\""
      ]
     },
     "metadata": {},
     "output_type": "display_data"
    }
   ],
   "source": [
    "# QQ plot: small residuals?\n",
    "\n",
    "qqnorm(video_quality_ratings, pch = 10, frame = TRUE)\n",
    "qqline(video_quality_ratings, col = \"steelblue\", lwd = 3)"
   ]
  }
 ],
 "metadata": {
  "kernelspec": {
   "display_name": "R",
   "language": "R",
   "name": "ir"
  },
  "language_info": {
   "codemirror_mode": "r",
   "file_extension": ".r",
   "mimetype": "text/x-r-source",
   "name": "R",
   "pygments_lexer": "r",
   "version": "3.6.1"
  }
 },
 "nbformat": 4,
 "nbformat_minor": 2
}
