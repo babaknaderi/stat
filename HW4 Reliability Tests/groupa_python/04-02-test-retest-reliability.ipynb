{
 "cells": [
  {
   "cell_type": "markdown",
   "metadata": {},
   "source": [
    "# Task 2"
   ]
  },
  {
   "cell_type": "markdown",
   "metadata": {},
   "source": [
    "## Import and Initializing\n"
   ]
  },
  {
   "cell_type": "code",
   "execution_count": 2,
   "metadata": {},
   "outputs": [],
   "source": [
    "import itertools\n",
    "import numpy as np  # pip install numpy\n",
    "import scipy.stats  # pip install scipy\n",
    "\n",
    "import pandas as pd  # pip install pandas"
   ]
  },
  {
   "cell_type": "markdown",
   "metadata": {},
   "source": [
    "## Loading the data"
   ]
  },
  {
   "cell_type": "code",
   "execution_count": 22,
   "metadata": {},
   "outputs": [
    {
     "data": {
      "text/html": [
       "<div>\n",
       "<style scoped>\n",
       "    .dataframe tbody tr th:only-of-type {\n",
       "        vertical-align: middle;\n",
       "    }\n",
       "\n",
       "    .dataframe tbody tr th {\n",
       "        vertical-align: top;\n",
       "    }\n",
       "\n",
       "    .dataframe thead th {\n",
       "        text-align: right;\n",
       "    }\n",
       "</style>\n",
       "<table border=\"1\" class=\"dataframe\">\n",
       "  <thead>\n",
       "    <tr style=\"text-align: right;\">\n",
       "      <th></th>\n",
       "      <th>subjectCode</th>\n",
       "      <th>testStimulus</th>\n",
       "      <th>repetition</th>\n",
       "      <th>rating</th>\n",
       "    </tr>\n",
       "  </thead>\n",
       "  <tbody>\n",
       "    <tr>\n",
       "      <td>740</td>\n",
       "      <td>vp01</td>\n",
       "      <td>maus_m_700_normAsl_-26</td>\n",
       "      <td>1</td>\n",
       "      <td>5</td>\n",
       "    </tr>\n",
       "    <tr>\n",
       "      <td>741</td>\n",
       "      <td>vp01</td>\n",
       "      <td>maus_m_700_normAsl_-26</td>\n",
       "      <td>2</td>\n",
       "      <td>4</td>\n",
       "    </tr>\n",
       "    <tr>\n",
       "      <td>742</td>\n",
       "      <td>vp01</td>\n",
       "      <td>maus_m_700_normAsl_-26</td>\n",
       "      <td>3</td>\n",
       "      <td>5</td>\n",
       "    </tr>\n",
       "    <tr>\n",
       "      <td>743</td>\n",
       "      <td>vp01</td>\n",
       "      <td>maus_m_700_normAsl_-26</td>\n",
       "      <td>4</td>\n",
       "      <td>4</td>\n",
       "    </tr>\n",
       "    <tr>\n",
       "      <td>744</td>\n",
       "      <td>vp02</td>\n",
       "      <td>maus_m_700_normAsl_-26</td>\n",
       "      <td>1</td>\n",
       "      <td>5</td>\n",
       "    </tr>\n",
       "  </tbody>\n",
       "</table>\n",
       "</div>"
      ],
      "text/plain": [
       "    subjectCode            testStimulus  repetition  rating\n",
       "740        vp01  maus_m_700_normAsl_-26           1       5\n",
       "741        vp01  maus_m_700_normAsl_-26           2       4\n",
       "742        vp01  maus_m_700_normAsl_-26           3       5\n",
       "743        vp01  maus_m_700_normAsl_-26           4       4\n",
       "744        vp02  maus_m_700_normAsl_-26           1       5"
      ]
     },
     "execution_count": 22,
     "metadata": {},
     "output_type": "execute_result"
    }
   ],
   "source": [
    "data = pd.read_csv(\"../Documents/speech_quality_repetition_dataset.csv\")\n",
    "\n",
    "stimulusData = data[data.testStimulus == \"maus_m_700_normAsl_-26\"]\n",
    "stimulusData.head()"
   ]
  },
  {
   "cell_type": "markdown",
   "metadata": {},
   "source": [
    "## Create list of ratings per repetition"
   ]
  },
  {
   "cell_type": "code",
   "execution_count": 55,
   "metadata": {},
   "outputs": [
    {
     "data": {
      "text/html": [
       "<div>\n",
       "<style scoped>\n",
       "    .dataframe tbody tr th:only-of-type {\n",
       "        vertical-align: middle;\n",
       "    }\n",
       "\n",
       "    .dataframe tbody tr th {\n",
       "        vertical-align: top;\n",
       "    }\n",
       "\n",
       "    .dataframe thead th {\n",
       "        text-align: right;\n",
       "    }\n",
       "</style>\n",
       "<table border=\"1\" class=\"dataframe\">\n",
       "  <thead>\n",
       "    <tr style=\"text-align: right;\">\n",
       "      <th></th>\n",
       "      <th>repetition</th>\n",
       "      <th>ratings</th>\n",
       "    </tr>\n",
       "  </thead>\n",
       "  <tbody>\n",
       "    <tr>\n",
       "      <td>0</td>\n",
       "      <td>1</td>\n",
       "      <td>[5, 5, 5, 5, 4, 4, 4, 5, 5, 5, 4, 5, 5, 1, 4, ...</td>\n",
       "    </tr>\n",
       "    <tr>\n",
       "      <td>1</td>\n",
       "      <td>2</td>\n",
       "      <td>[4, 5, 5, 5, 4, 3, 5, 4, 4, 5, 4, 5, 4, 2, 5, ...</td>\n",
       "    </tr>\n",
       "    <tr>\n",
       "      <td>2</td>\n",
       "      <td>3</td>\n",
       "      <td>[5, 5, 5, 5, 4, 4, 5, 4, 5, 5, 5, 5, 5, 4, 5, ...</td>\n",
       "    </tr>\n",
       "    <tr>\n",
       "      <td>3</td>\n",
       "      <td>4</td>\n",
       "      <td>[4, 5, 5, 5, 4, 5, 5, 5, 5, 5, 4, 5, 4, 1, 4, ...</td>\n",
       "    </tr>\n",
       "  </tbody>\n",
       "</table>\n",
       "</div>"
      ],
      "text/plain": [
       "   repetition                                            ratings\n",
       "0           1  [5, 5, 5, 5, 4, 4, 4, 5, 5, 5, 4, 5, 5, 1, 4, ...\n",
       "1           2  [4, 5, 5, 5, 4, 3, 5, 4, 4, 5, 4, 5, 4, 2, 5, ...\n",
       "2           3  [5, 5, 5, 5, 4, 4, 5, 4, 5, 5, 5, 5, 5, 4, 5, ...\n",
       "3           4  [4, 5, 5, 5, 4, 5, 5, 5, 5, 5, 4, 5, 4, 1, 4, ..."
      ]
     },
     "execution_count": 55,
     "metadata": {},
     "output_type": "execute_result"
    }
   ],
   "source": [
    "groupedRatings = stimulusData.groupby(\"repetition\")[\"rating\"].apply(list).reset_index(name='ratings')\n",
    "groupedRatings"
   ]
  },
  {
   "cell_type": "markdown",
   "metadata": {},
   "source": [
    "## Compute the searched correlations "
   ]
  },
  {
   "cell_type": "code",
   "execution_count": 99,
   "metadata": {},
   "outputs": [
    {
     "data": {
      "text/html": [
       "<div>\n",
       "<style scoped>\n",
       "    .dataframe tbody tr th:only-of-type {\n",
       "        vertical-align: middle;\n",
       "    }\n",
       "\n",
       "    .dataframe tbody tr th {\n",
       "        vertical-align: top;\n",
       "    }\n",
       "\n",
       "    .dataframe thead th {\n",
       "        text-align: right;\n",
       "    }\n",
       "</style>\n",
       "<table border=\"1\" class=\"dataframe\">\n",
       "  <thead>\n",
       "    <tr style=\"text-align: right;\">\n",
       "      <th></th>\n",
       "      <th>Correlated Values</th>\n",
       "      <th>Correlation Coefficient r</th>\n",
       "      <th>p-value</th>\n",
       "    </tr>\n",
       "  </thead>\n",
       "  <tbody>\n",
       "    <tr>\n",
       "      <td>0</td>\n",
       "      <td>1,2</td>\n",
       "      <td>0.685787</td>\n",
       "      <td>0.000003</td>\n",
       "    </tr>\n",
       "    <tr>\n",
       "      <td>1</td>\n",
       "      <td>2,3</td>\n",
       "      <td>0.408791</td>\n",
       "      <td>0.012003</td>\n",
       "    </tr>\n",
       "    <tr>\n",
       "      <td>2</td>\n",
       "      <td>3,4</td>\n",
       "      <td>0.443541</td>\n",
       "      <td>0.005966</td>\n",
       "    </tr>\n",
       "  </tbody>\n",
       "</table>\n",
       "</div>"
      ],
      "text/plain": [
       "  Correlated Values  Correlation Coefficient r   p-value\n",
       "0               1,2                   0.685787  0.000003\n",
       "1               2,3                   0.408791  0.012003\n",
       "2               3,4                   0.443541  0.005966"
      ]
     },
     "execution_count": 99,
     "metadata": {},
     "output_type": "execute_result"
    }
   ],
   "source": [
    "p12 = scipy.stats.pearsonr(groupedRatings.loc[0, \"ratings\"],groupedRatings.loc[1, \"ratings\"])\n",
    "p23 = scipy.stats.pearsonr(groupedRatings.loc[1, \"ratings\"],groupedRatings.loc[2, \"ratings\"])\n",
    "p34 = scipy.stats.pearsonr(groupedRatings.loc[2, \"ratings\"],groupedRatings.loc[3, \"ratings\"])\n",
    "\n",
    "corr = {\"Correlated Values\":['1,2','2,3','3,4'],\n",
    "        \"Correlation Coefficient r\":[p12[0], p23[0],p34[0]],\n",
    "        \"p-value\":[p12[1], p23[1],p34[1]]}\n",
    "\n",
    "out = pd.DataFrame(data=corr)\n",
    "out\n"
   ]
  }
 ],
 "metadata": {
  "kernelspec": {
   "display_name": "Python 3",
   "language": "python",
   "name": "python3"
  },
  "language_info": {
   "codemirror_mode": {
    "name": "ipython",
    "version": 3
   },
   "file_extension": ".py",
   "mimetype": "text/x-python",
   "name": "python",
   "nbconvert_exporter": "python",
   "pygments_lexer": "ipython3",
   "version": "3.7.4"
  }
 },
 "nbformat": 4,
 "nbformat_minor": 2
}
