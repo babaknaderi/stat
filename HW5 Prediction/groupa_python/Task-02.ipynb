{
 "cells": [
  {
   "cell_type": "markdown",
   "metadata": {},
   "source": [
    "# 5 Modelling - Task 2"
   ]
  },
  {
   "cell_type": "markdown",
   "metadata": {},
   "source": [
    "## Import and Initializing"
   ]
  },
  {
   "cell_type": "code",
   "execution_count": 1,
   "metadata": {},
   "outputs": [],
   "source": [
    "import numpy as np\n",
    "import pandas as pd\n",
    "\n",
    "from sklearn import linear_model, metrics, preprocessing, pipeline  # pip3 install sklearn --user\n",
    "from scipy import optimize\n",
    "\n",
    "import matplotlib.pyplot as plt\n",
    "import seaborn as sns\n",
    "sns.set(style=\"whitegrid\", context=\"notebook\")\n",
    "\n",
    "FIGSIZE = (16,4)"
   ]
  },
  {
   "cell_type": "code",
   "execution_count": 2,
   "metadata": {},
   "outputs": [],
   "source": [
    "dataset = pd.read_excel(\"../datasets/DB01_gaming_video_quality_dataset.xlsx\")\n",
    "\n",
    "# calculate MOS\n",
    "mos_by_game_condition = dataset.groupby([\"Game\", \"Condition\"]).mean()"
   ]
  },
  {
   "cell_type": "markdown",
   "metadata": {},
   "source": [
    "## Calculate a new parameter called bitperpixel"
   ]
  },
  {
   "cell_type": "code",
   "execution_count": 3,
   "metadata": {},
   "outputs": [],
   "source": [
    "num_pixels = {\n",
    "    480: 720 * 480,\n",
    "    720: 1280 * 720,\n",
    "    1080: 1920 * 1080\n",
    "}\n",
    "\n",
    "def count_pixels(resolution):\n",
    "    return num_pixels[int(resolution)]\n",
    "\n",
    "mos_by_game_condition[\"num_pixels\"] = mos_by_game_condition.Resolution.transform(count_pixels)\n",
    "mos_by_game_condition[\"bitperpixel\"] = mos_by_game_condition.Bitrate / mos_by_game_condition.num_pixels"
   ]
  }
 ],
 "metadata": {
  "kernelspec": {
   "display_name": "Python 3",
   "language": "python",
   "name": "python3"
  },
  "language_info": {
   "codemirror_mode": {
    "name": "ipython",
    "version": 3
   },
   "file_extension": ".py",
   "mimetype": "text/x-python",
   "name": "python",
   "nbconvert_exporter": "python",
   "pygments_lexer": "ipython3",
   "version": "3.6.5"
  }
 },
 "nbformat": 4,
 "nbformat_minor": 2
}
