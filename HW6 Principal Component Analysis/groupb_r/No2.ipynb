{
 "cells": [
  {
   "cell_type": "markdown",
   "metadata": {},
   "source": [
    "# Task 2: Check using all available ratings, if the three quality features VF, VU, and VD are perceptual dimensions (i.e. factors). File to use: Gaming_Video_Quality_dataset.xlsx"
   ]
  },
  {
   "cell_type": "markdown",
   "metadata": {},
   "source": [
    "### Step 1: Library imports and reading in data"
   ]
  },
  {
   "cell_type": "code",
   "execution_count": 1,
   "metadata": {},
   "outputs": [],
   "source": [
    "# install.packages('dplyr')      # processing \n",
    "# install.packages('gdata')      # file reading\n",
    "# install.packages('Hmisc')      # correlation matricies\n",
    "# install.packages('ggfortify')  # PCA visualization\n",
    "# install.packages('psych')      # KMO test and PCA prediction"
   ]
  },
  {
   "cell_type": "code",
   "execution_count": 2,
   "metadata": {},
   "outputs": [
    {
     "name": "stderr",
     "output_type": "stream",
     "text": [
      "\n",
      "Attaching package: 'dplyr'\n",
      "\n",
      "The following objects are masked from 'package:stats':\n",
      "\n",
      "    filter, lag\n",
      "\n",
      "The following objects are masked from 'package:base':\n",
      "\n",
      "    intersect, setdiff, setequal, union\n",
      "\n",
      "Loading required package: lattice\n",
      "Loading required package: survival\n",
      "Loading required package: Formula\n",
      "Loading required package: ggplot2\n",
      "\n",
      "Attaching package: 'Hmisc'\n",
      "\n",
      "The following objects are masked from 'package:dplyr':\n",
      "\n",
      "    src, summarize\n",
      "\n",
      "The following objects are masked from 'package:base':\n",
      "\n",
      "    format.pval, units\n",
      "\n",
      "Warning message:\n",
      "\"package 'ggfortify' was built under R version 3.6.2\"\n",
      "Attaching package: 'psych'\n",
      "\n",
      "The following object is masked from 'package:Hmisc':\n",
      "\n",
      "    describe\n",
      "\n",
      "The following objects are masked from 'package:ggplot2':\n",
      "\n",
      "    %+%, alpha\n",
      "\n"
     ]
    }
   ],
   "source": [
    "library(dplyr)     # processing\n",
    "library(readxl)    # reading in data\n",
    "library(Hmisc)     # correlation matricies\n",
    "library(ggfortify) # PCA visualization\n",
    "library(psych)     # KMO test and PCA prediction"
   ]
  },
  {
   "cell_type": "code",
   "execution_count": 3,
   "metadata": {},
   "outputs": [
    {
     "data": {
      "text/html": [
       "<table>\n",
       "<thead><tr><th scope=col>VF</th><th scope=col>VU</th><th scope=col>VD</th></tr></thead>\n",
       "<tbody>\n",
       "\t<tr><td>1.3</td><td>1.6</td><td>5.7</td></tr>\n",
       "\t<tr><td>1.2</td><td>4.6</td><td>6.3</td></tr>\n",
       "\t<tr><td>2.3</td><td>2.8</td><td>4.4</td></tr>\n",
       "\t<tr><td>3.0</td><td>2.0</td><td>4.8</td></tr>\n",
       "\t<tr><td>3.0</td><td>2.0</td><td>5.5</td></tr>\n",
       "\t<tr><td>2.2</td><td>2.0</td><td>4.0</td></tr>\n",
       "</tbody>\n",
       "</table>\n"
      ],
      "text/latex": [
       "\\begin{tabular}{r|lll}\n",
       " VF & VU & VD\\\\\n",
       "\\hline\n",
       "\t 1.3 & 1.6 & 5.7\\\\\n",
       "\t 1.2 & 4.6 & 6.3\\\\\n",
       "\t 2.3 & 2.8 & 4.4\\\\\n",
       "\t 3.0 & 2.0 & 4.8\\\\\n",
       "\t 3.0 & 2.0 & 5.5\\\\\n",
       "\t 2.2 & 2.0 & 4.0\\\\\n",
       "\\end{tabular}\n"
      ],
      "text/markdown": [
       "\n",
       "| VF | VU | VD |\n",
       "|---|---|---|\n",
       "| 1.3 | 1.6 | 5.7 |\n",
       "| 1.2 | 4.6 | 6.3 |\n",
       "| 2.3 | 2.8 | 4.4 |\n",
       "| 3.0 | 2.0 | 4.8 |\n",
       "| 3.0 | 2.0 | 5.5 |\n",
       "| 2.2 | 2.0 | 4.0 |\n",
       "\n"
      ],
      "text/plain": [
       "  VF  VU  VD \n",
       "1 1.3 1.6 5.7\n",
       "2 1.2 4.6 6.3\n",
       "3 2.3 2.8 4.4\n",
       "4 3.0 2.0 4.8\n",
       "5 3.0 2.0 5.5\n",
       "6 2.2 2.0 4.0"
      ]
     },
     "metadata": {},
     "output_type": "display_data"
    }
   ],
   "source": [
    "# read in data set\n",
    "gaming_data <- read_excel(\"datasets/DB01_gaming_video_quality_dataset.xlsx\")[c(9:11)]\n",
    "head(gaming_data)"
   ]
  },
  {
   "cell_type": "markdown",
   "metadata": {},
   "source": [
    "### Step 2: Checking if PCA can be applied directly => KMO test"
   ]
  },
  {
   "cell_type": "code",
   "execution_count": 4,
   "metadata": {},
   "outputs": [
    {
     "data": {
      "text/html": [
       "'KMO test for gaming data set:'"
      ],
      "text/latex": [
       "'KMO test for gaming data set:'"
      ],
      "text/markdown": [
       "'KMO test for gaming data set:'"
      ],
      "text/plain": [
       "[1] \"KMO test for gaming data set:\""
      ]
     },
     "metadata": {},
     "output_type": "display_data"
    },
    {
     "data": {
      "text/plain": [
       "Kaiser-Meyer-Olkin factor adequacy\n",
       "Call: KMO(r = gaming_data)\n",
       "Overall MSA =  0.55\n",
       "MSA for each item = \n",
       "  VF   VU   VD \n",
       "0.53 0.54 0.72 "
      ]
     },
     "metadata": {},
     "output_type": "display_data"
    }
   ],
   "source": [
    "# KMO test: PCA only fine if overall MSA > 0.5\n",
    "paste0('KMO test for gaming data set:')\n",
    "KMO(gaming_data)"
   ]
  },
  {
   "cell_type": "markdown",
   "metadata": {},
   "source": [
    "#### As Measure of Sampling Adequacy > 0.5 for every item & overall in every data set [even in whole data set]\n",
    "#### => PCA can be performed directly"
   ]
  },
  {
   "cell_type": "markdown",
   "metadata": {},
   "source": [
    "### Step 3: Compute correlation matricies and their eigenvalues\n",
    "#### Note: Look at high correlation pairs to presume factors"
   ]
  },
  {
   "cell_type": "code",
   "execution_count": 5,
   "metadata": {},
   "outputs": [],
   "source": [
    "# Not strictly linear relationships between the variables \n",
    "# Hence: Compute no Pearson but Spearman correlation matricies\n",
    "corr_data <- rcorr(as.matrix(gaming_data), type=c(\"spearman\"))"
   ]
  },
  {
   "cell_type": "code",
   "execution_count": 6,
   "metadata": {},
   "outputs": [
    {
     "data": {
      "text/html": [
       "'p value matrix of variables in gaming data set:'"
      ],
      "text/latex": [
       "'p value matrix of variables in gaming data set:'"
      ],
      "text/markdown": [
       "'p value matrix of variables in gaming data set:'"
      ],
      "text/plain": [
       "[1] \"p value matrix of variables in gaming data set:\""
      ]
     },
     "metadata": {},
     "output_type": "display_data"
    },
    {
     "data": {
      "text/html": [
       "<table>\n",
       "<thead><tr><th></th><th scope=col>VF</th><th scope=col>VU</th><th scope=col>VD</th></tr></thead>\n",
       "<tbody>\n",
       "\t<tr><th scope=row>VF</th><td>NA</td><td> 0</td><td> 0</td></tr>\n",
       "\t<tr><th scope=row>VU</th><td> 0</td><td>NA</td><td> 0</td></tr>\n",
       "\t<tr><th scope=row>VD</th><td> 0</td><td> 0</td><td>NA</td></tr>\n",
       "</tbody>\n",
       "</table>\n"
      ],
      "text/latex": [
       "\\begin{tabular}{r|lll}\n",
       "  & VF & VU & VD\\\\\n",
       "\\hline\n",
       "\tVF & NA &  0 &  0\\\\\n",
       "\tVU &  0 & NA &  0\\\\\n",
       "\tVD &  0 &  0 & NA\\\\\n",
       "\\end{tabular}\n"
      ],
      "text/markdown": [
       "\n",
       "| <!--/--> | VF | VU | VD |\n",
       "|---|---|---|---|\n",
       "| VF | NA |  0 |  0 |\n",
       "| VU |  0 | NA |  0 |\n",
       "| VD |  0 |  0 | NA |\n",
       "\n"
      ],
      "text/plain": [
       "   VF VU VD\n",
       "VF NA  0  0\n",
       "VU  0 NA  0\n",
       "VD  0  0 NA"
      ]
     },
     "metadata": {},
     "output_type": "display_data"
    }
   ],
   "source": [
    "# pro forma: display p values of variables in data set\n",
    "paste0('p value matrix of variables in gaming data set:')\n",
    "corr_data$P"
   ]
  },
  {
   "cell_type": "code",
   "execution_count": 7,
   "metadata": {},
   "outputs": [
    {
     "data": {
      "text/html": [
       "'Correlation matrix of variables in gaming data set:'"
      ],
      "text/latex": [
       "'Correlation matrix of variables in gaming data set:'"
      ],
      "text/markdown": [
       "'Correlation matrix of variables in gaming data set:'"
      ],
      "text/plain": [
       "[1] \"Correlation matrix of variables in gaming data set:\""
      ]
     },
     "metadata": {},
     "output_type": "display_data"
    },
    {
     "data": {
      "text/html": [
       "<table>\n",
       "<thead><tr><th></th><th scope=col>VF</th><th scope=col>VU</th><th scope=col>VD</th></tr></thead>\n",
       "<tbody>\n",
       "\t<tr><th scope=row>VF</th><td>1.0000000</td><td>0.4335250</td><td>0.1901738</td></tr>\n",
       "\t<tr><th scope=row>VU</th><td>0.4335250</td><td>1.0000000</td><td>0.1634967</td></tr>\n",
       "\t<tr><th scope=row>VD</th><td>0.1901738</td><td>0.1634967</td><td>1.0000000</td></tr>\n",
       "</tbody>\n",
       "</table>\n"
      ],
      "text/latex": [
       "\\begin{tabular}{r|lll}\n",
       "  & VF & VU & VD\\\\\n",
       "\\hline\n",
       "\tVF & 1.0000000 & 0.4335250 & 0.1901738\\\\\n",
       "\tVU & 0.4335250 & 1.0000000 & 0.1634967\\\\\n",
       "\tVD & 0.1901738 & 0.1634967 & 1.0000000\\\\\n",
       "\\end{tabular}\n"
      ],
      "text/markdown": [
       "\n",
       "| <!--/--> | VF | VU | VD |\n",
       "|---|---|---|---|\n",
       "| VF | 1.0000000 | 0.4335250 | 0.1901738 |\n",
       "| VU | 0.4335250 | 1.0000000 | 0.1634967 |\n",
       "| VD | 0.1901738 | 0.1634967 | 1.0000000 |\n",
       "\n"
      ],
      "text/plain": [
       "   VF        VU        VD       \n",
       "VF 1.0000000 0.4335250 0.1901738\n",
       "VU 0.4335250 1.0000000 0.1634967\n",
       "VD 0.1901738 0.1634967 1.0000000"
      ]
     },
     "metadata": {},
     "output_type": "display_data"
    }
   ],
   "source": [
    "# Correlation matrix => note the correlations !\n",
    "paste0('Correlation matrix of variables in gaming data set:')\n",
    "corr_data <- corr_data$r\n",
    "corr_data"
   ]
  },
  {
   "cell_type": "code",
   "execution_count": 8,
   "metadata": {},
   "outputs": [
    {
     "data": {
      "text/html": [
       "'Eigenvalues of gaming data correlation matrix:'"
      ],
      "text/latex": [
       "'Eigenvalues of gaming data correlation matrix:'"
      ],
      "text/markdown": [
       "'Eigenvalues of gaming data correlation matrix:'"
      ],
      "text/plain": [
       "[1] \"Eigenvalues of gaming data correlation matrix:\""
      ]
     },
     "metadata": {},
     "output_type": "display_data"
    },
    {
     "data": {
      "text/html": [
       "<ol class=list-inline>\n",
       "\t<li>1.54777427833553</li>\n",
       "\t<li>0.886732409162411</li>\n",
       "\t<li>0.565493312502062</li>\n",
       "</ol>\n"
      ],
      "text/latex": [
       "\\begin{enumerate*}\n",
       "\\item 1.54777427833553\n",
       "\\item 0.886732409162411\n",
       "\\item 0.565493312502062\n",
       "\\end{enumerate*}\n"
      ],
      "text/markdown": [
       "1. 1.54777427833553\n",
       "2. 0.886732409162411\n",
       "3. 0.565493312502062\n",
       "\n",
       "\n"
      ],
      "text/plain": [
       "[1] 1.5477743 0.8867324 0.5654933"
      ]
     },
     "metadata": {},
     "output_type": "display_data"
    }
   ],
   "source": [
    "# Compute eigenvalues\n",
    "paste0('Eigenvalues of gaming data correlation matrix:')\n",
    "eigenvalues <- eigen(as.matrix(corr_data))$values\n",
    "eigenvalues"
   ]
  },
  {
   "cell_type": "markdown",
   "metadata": {},
   "source": [
    "### Step 4: Decide on number of factors based on scree plot"
   ]
  },
  {
   "cell_type": "code",
   "execution_count": 9,
   "metadata": {},
   "outputs": [
    {
     "data": {
      "image/png": "[encoded data removed]",
      "text/plain": [
       "Plot with title \"Scree Plot for gaming data set\""
      ]
     },
     "metadata": {},
     "output_type": "display_data"
    }
   ],
   "source": [
    "# Display scree plots for data set, decision: retain TWO factors\n",
    "plot(eigenvalues, main=\"Scree Plot for gaming data set\", ylab=\"Eigenvalues\", xlab=\"Component Number\",type='b') # b: plot points AND lines\n",
    "abline(h=1, lty=2) # lty = line type (2 for dashed)"
   ]
  },
  {
   "cell_type": "markdown",
   "metadata": {},
   "source": [
    "#### Note: As the point of inflexion is located at Component number = 2, we set the number of retained factors to 2"
   ]
  },
  {
   "cell_type": "markdown",
   "metadata": {},
   "source": [
    "#### Only taking one component / conducting Kaiser's criterion would be not the best plan here (as correlation between VD & PC1 low, as observed in correlation matrix), and because PC plot tells a lot:"
   ]
  },
  {
   "cell_type": "markdown",
   "metadata": {},
   "source": [
    "### Step 5: Conduct Principal Component Analysis based on previous steps"
   ]
  },
  {
   "cell_type": "markdown",
   "metadata": {},
   "source": [
    "#### As we see above and remember from previous computations on the data set, there is merely minor correlation between the possible factors. Therefore, we would decide for orthogonal rotation intuitively, which is perfectly confirmed by plotting the PC plot => orthogonal rotation."
   ]
  },
  {
   "cell_type": "code",
   "execution_count": 10,
   "metadata": {},
   "outputs": [
    {
     "data": {
      "image/png": "[encoded data removed]",
      "text/plain": [
       "plot without title"
      ]
     },
     "metadata": {},
     "output_type": "display_data"
    }
   ],
   "source": [
    "# by plotting: visible that there is very little correlation between both PCs => orthogonal rotation, e.g. varimax\n",
    "autoplot(prcomp(gaming_data),\n",
    "         loadings = TRUE, loadings.colour = 'red',\n",
    "         loadings.label = TRUE, loadings.label.size = 10)"
   ]
  },
  {
   "cell_type": "code",
   "execution_count": 11,
   "metadata": {},
   "outputs": [
    {
     "data": {
      "text/plain": [
       "Principal Components Analysis\n",
       "Call: principal(r = gaming_data, nfactors = 2, rotate = \"varimax\", \n",
       "    covar = FALSE, impute = \"mean\")\n",
       "Standardized loadings (pattern matrix) based upon correlation matrix\n",
       "    RC1  RC2   h2      u2 com\n",
       "VF 0.84 0.13 0.72 0.27998   1\n",
       "VU 0.85 0.09 0.73 0.27179   1\n",
       "VD 0.07 1.00 1.00 0.00045   1\n",
       "\n",
       "                       RC1  RC2\n",
       "SS loadings           1.43 1.02\n",
       "Proportion Var        0.48 0.34\n",
       "Cumulative Var        0.48 0.82\n",
       "Proportion Explained  0.58 0.42\n",
       "Cumulative Proportion 0.58 1.00\n",
       "\n",
       "Mean item complexity =  1\n",
       "Test of the hypothesis that 2 components are sufficient.\n",
       "\n",
       "The root mean square of the residuals (RMSR) is  0.16 \n",
       " with the empirical chi square  516.7  with prob <  NA \n",
       "\n",
       "Fit based upon off diagonal values = 0.7"
      ]
     },
     "metadata": {},
     "output_type": "display_data"
    }
   ],
   "source": [
    "# conduct PCA with two PCs\n",
    "pca_gaming_data <- principal(gaming_data, nfactor=2, covar=FALSE, impute='mean', rotate='varimax')\n",
    "pca_gaming_data"
   ]
  },
  {
   "cell_type": "markdown",
   "metadata": {},
   "source": [
    "### Are VF, VU & VD perceptual dimensions / factors? => Most likely not (reason: see component plot and PCA results for factor loadings)"
   ]
  },
  {
   "cell_type": "code",
   "execution_count": 12,
   "metadata": {},
   "outputs": [
    {
     "data": {
      "text/html": [
       "<table>\n",
       "<thead><tr><th scope=col>RC1</th><th scope=col>RC2</th></tr></thead>\n",
       "<tbody>\n",
       "\t<tr><td>-2.263066  </td><td> 0.83926748</td></tr>\n",
       "\t<tr><td>-1.033774  </td><td> 1.25063411</td></tr>\n",
       "\t<tr><td>-1.171002  </td><td>-0.41761329</td></tr>\n",
       "\t<tr><td>-1.289021  </td><td>-0.02560982</td></tr>\n",
       "\t<tr><td>-1.369446  </td><td> 0.61366846</td></tr>\n",
       "\t<tr><td>-1.522809  </td><td>-0.74466341</td></tr>\n",
       "</tbody>\n",
       "</table>\n"
      ],
      "text/latex": [
       "\\begin{tabular}{ll}\n",
       " RC1 & RC2\\\\\n",
       "\\hline\n",
       "\t -2.263066   &  0.83926748\\\\\n",
       "\t -1.033774   &  1.25063411\\\\\n",
       "\t -1.171002   & -0.41761329\\\\\n",
       "\t -1.289021   & -0.02560982\\\\\n",
       "\t -1.369446   &  0.61366846\\\\\n",
       "\t -1.522809   & -0.74466341\\\\\n",
       "\\end{tabular}\n"
      ],
      "text/markdown": [
       "\n",
       "| RC1 | RC2 |\n",
       "|---|---|\n",
       "| -2.263066   |  0.83926748 |\n",
       "| -1.033774   |  1.25063411 |\n",
       "| -1.171002   | -0.41761329 |\n",
       "| -1.289021   | -0.02560982 |\n",
       "| -1.369446   |  0.61366846 |\n",
       "| -1.522809   | -0.74466341 |\n",
       "\n"
      ],
      "text/plain": [
       "     RC1       RC2        \n",
       "[1,] -2.263066  0.83926748\n",
       "[2,] -1.033774  1.25063411\n",
       "[3,] -1.171002 -0.41761329\n",
       "[4,] -1.289021 -0.02560982\n",
       "[5,] -1.369446  0.61366846\n",
       "[6,] -1.522809 -0.74466341"
      ]
     },
     "metadata": {},
     "output_type": "display_data"
    }
   ],
   "source": [
    "# Optional bonus: Compute predicted component scores based on previous PCA results\n",
    "reduced_gaming_data <- predict(pca_gaming_data, gaming_data)\n",
    "head(reduced_gaming_data)"
   ]
  },
  {
   "cell_type": "markdown",
   "metadata": {},
   "source": [
    "### Step 6: Compute Cronbach's Alpha"
   ]
  },
  {
   "cell_type": "code",
   "execution_count": 13,
   "metadata": {},
   "outputs": [
    {
     "name": "stderr",
     "output_type": "stream",
     "text": [
      "Warning message in psych::alpha(reduced_gaming_data, check.keys = TRUE):\n",
      "\"Some items were negatively correlated with total scale and were automatically reversed.\n",
      " This is indicated by a negative sign for the variable name.\"Warning message in matrix(unlist(drop.item), ncol = 10, byrow = TRUE):\n",
      "\"data length [16] is not a sub-multiple or multiple of the number of columns [10]\""
     ]
    },
    {
     "data": {
      "text/html": [
       "'Original Cronbach Alpha: 0.525 =&gt; Reduced Cronbach Alpha: 0'"
      ],
      "text/latex": [
       "'Original Cronbach Alpha: 0.525 => Reduced Cronbach Alpha: 0'"
      ],
      "text/markdown": [
       "'Original Cronbach Alpha: 0.525 =&gt; Reduced Cronbach Alpha: 0'"
      ],
      "text/plain": [
       "[1] \"Original Cronbach Alpha: 0.525 => Reduced Cronbach Alpha: 0\""
      ]
     },
     "metadata": {},
     "output_type": "display_data"
    }
   ],
   "source": [
    "original_gaming_alpha <- psych::alpha(gaming_data, check.keys=TRUE)$total$raw_alpha\n",
    "reduced_gaming_alpha <- psych::alpha(reduced_gaming_data, check.keys=TRUE)$total$raw_alpha\n",
    "paste0('Original Cronbach Alpha: ', round(original_gaming_alpha, digits=3), ' => ', 'Reduced Cronbach Alpha: ', round(reduced_gaming_alpha, digits=3))"
   ]
  }
 ],
 "metadata": {
  "kernelspec": {
   "display_name": "R",
   "language": "R",
   "name": "ir"
  },
  "language_info": {
   "codemirror_mode": "r",
   "file_extension": ".r",
   "mimetype": "text/x-r-source",
   "name": "R",
   "pygments_lexer": "r",
   "version": "3.6.1"
  }
 },
 "nbformat": 4,
 "nbformat_minor": 2
}
