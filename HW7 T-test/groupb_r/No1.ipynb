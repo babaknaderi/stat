{
 "cells": [
  {
   "cell_type": "markdown",
   "metadata": {},
   "source": [
    "# Task 1: Does increasing the bitrate (independent variable) from 2000 kbps to 6000 kbps for the first game using a resolution of 1080p and a framerate of 60 fps (conditions 36 and 50) significantly improve the video quality ratings (dependent variable). Use the ratings provided in the gaming video quality dataset. In case of an extreme outlier, the participant can be completely removed from the dataset."
   ]
  },
  {
   "cell_type": "markdown",
   "metadata": {},
   "source": [
    "### Step 1: Include libraries"
   ]
  },
  {
   "cell_type": "code",
   "execution_count": 1,
   "metadata": {},
   "outputs": [],
   "source": [
    "# install.packages('dplyr')      # processing \n",
    "# install.packages('gdata')      # file reading\n",
    "# install.packages('effsize')      # Cohen's D"
   ]
  },
  {
   "cell_type": "code",
   "execution_count": 2,
   "metadata": {},
   "outputs": [
    {
     "name": "stderr",
     "output_type": "stream",
     "text": [
      "Warning message:\n",
      "\"package 'dplyr' was built under R version 3.6.2\"\n",
      "Attaching package: 'dplyr'\n",
      "\n",
      "The following objects are masked from 'package:stats':\n",
      "\n",
      "    filter, lag\n",
      "\n",
      "The following objects are masked from 'package:base':\n",
      "\n",
      "    intersect, setdiff, setequal, union\n",
      "\n",
      "Warning message:\n",
      "\"package 'effsize' was built under R version 3.6.2\""
     ]
    }
   ],
   "source": [
    "library(dplyr)     # processing\n",
    "library(readxl)    # reading in data\n",
    "library(effsize)   # Cohen's D"
   ]
  },
  {
   "cell_type": "markdown",
   "metadata": {},
   "source": [
    "### Step 2: Load data sets"
   ]
  },
  {
   "cell_type": "code",
   "execution_count": 3,
   "metadata": {},
   "outputs": [
    {
     "data": {
      "text/html": [
       "<table>\n",
       "<thead><tr><th scope=col>PID</th><th scope=col>VQ_2000</th></tr></thead>\n",
       "<tbody>\n",
       "\t<tr><td>1  </td><td>2.9</td></tr>\n",
       "\t<tr><td>2  </td><td>4.6</td></tr>\n",
       "\t<tr><td>3  </td><td>2.7</td></tr>\n",
       "\t<tr><td>4  </td><td>2.6</td></tr>\n",
       "\t<tr><td>5  </td><td>2.7</td></tr>\n",
       "\t<tr><td>6  </td><td>3.0</td></tr>\n",
       "</tbody>\n",
       "</table>\n"
      ],
      "text/latex": [
       "\\begin{tabular}{r|ll}\n",
       " PID & VQ\\_2000\\\\\n",
       "\\hline\n",
       "\t 1   & 2.9\\\\\n",
       "\t 2   & 4.6\\\\\n",
       "\t 3   & 2.7\\\\\n",
       "\t 4   & 2.6\\\\\n",
       "\t 5   & 2.7\\\\\n",
       "\t 6   & 3.0\\\\\n",
       "\\end{tabular}\n"
      ],
      "text/markdown": [
       "\n",
       "| PID | VQ_2000 |\n",
       "|---|---|\n",
       "| 1   | 2.9 |\n",
       "| 2   | 4.6 |\n",
       "| 3   | 2.7 |\n",
       "| 4   | 2.6 |\n",
       "| 5   | 2.7 |\n",
       "| 6   | 3.0 |\n",
       "\n"
      ],
      "text/plain": [
       "  PID VQ_2000\n",
       "1 1   2.9    \n",
       "2 2   4.6    \n",
       "3 3   2.7    \n",
       "4 4   2.6    \n",
       "5 5   2.7    \n",
       "6 6   3.0    "
      ]
     },
     "metadata": {},
     "output_type": "display_data"
    },
    {
     "data": {
      "text/html": [
       "<table>\n",
       "<thead><tr><th scope=col>PID</th><th scope=col>VQ_6000</th></tr></thead>\n",
       "<tbody>\n",
       "\t<tr><td>1  </td><td>4.5</td></tr>\n",
       "\t<tr><td>2  </td><td>5.7</td></tr>\n",
       "\t<tr><td>3  </td><td>4.5</td></tr>\n",
       "\t<tr><td>4  </td><td>3.5</td></tr>\n",
       "\t<tr><td>5  </td><td>4.5</td></tr>\n",
       "\t<tr><td>6  </td><td>5.0</td></tr>\n",
       "</tbody>\n",
       "</table>\n"
      ],
      "text/latex": [
       "\\begin{tabular}{r|ll}\n",
       " PID & VQ\\_6000\\\\\n",
       "\\hline\n",
       "\t 1   & 4.5\\\\\n",
       "\t 2   & 5.7\\\\\n",
       "\t 3   & 4.5\\\\\n",
       "\t 4   & 3.5\\\\\n",
       "\t 5   & 4.5\\\\\n",
       "\t 6   & 5.0\\\\\n",
       "\\end{tabular}\n"
      ],
      "text/markdown": [
       "\n",
       "| PID | VQ_6000 |\n",
       "|---|---|\n",
       "| 1   | 4.5 |\n",
       "| 2   | 5.7 |\n",
       "| 3   | 4.5 |\n",
       "| 4   | 3.5 |\n",
       "| 5   | 4.5 |\n",
       "| 6   | 5.0 |\n",
       "\n"
      ],
      "text/plain": [
       "  PID VQ_6000\n",
       "1 1   4.5    \n",
       "2 2   5.7    \n",
       "3 3   4.5    \n",
       "4 4   3.5    \n",
       "5 5   4.5    \n",
       "6 6   5.0    "
      ]
     },
     "metadata": {},
     "output_type": "display_data"
    }
   ],
   "source": [
    "# read in separate data sets for 2000 & 6000 kbps\n",
    "get_gaming_data_for_kbps <- function(kbps) {\n",
    "    gaming_data <- read_excel(\"datasets/DB01_gaming_video_quality_dataset.xlsx\")\n",
    "    gaming_data <- gaming_data %>% filter(Resolution == 1080, \n",
    "                                      Framerate == 60, \n",
    "                                      Game == 'Game1', \n",
    "                                      (Condition == 36 | Condition == 50),\n",
    "                                      Bitrate == kbps) %>% \n",
    "                                    select(PID, VQ) %>%\n",
    "                                    arrange(PID)\n",
    "    \n",
    "    if(kbps == 2000) {\n",
    "        gaming_data <- gaming_data %>% rename(VQ_2000 = VQ)\n",
    "    } else {\n",
    "        gaming_data <- gaming_data %>% rename(VQ_6000 = VQ)\n",
    "    }\n",
    "    \n",
    "}\n",
    "\n",
    "head(get_gaming_data_for_kbps(2000))\n",
    "head(get_gaming_data_for_kbps(6000))"
   ]
  },
  {
   "cell_type": "code",
   "execution_count": 4,
   "metadata": {},
   "outputs": [
    {
     "data": {
      "text/html": [
       "<table>\n",
       "<thead><tr><th scope=col>PID</th><th scope=col>VQ_2000</th><th scope=col>VQ_6000</th></tr></thead>\n",
       "<tbody>\n",
       "\t<tr><td>1  </td><td>2.9</td><td>4.5</td></tr>\n",
       "\t<tr><td>2  </td><td>4.6</td><td>5.7</td></tr>\n",
       "\t<tr><td>3  </td><td>2.7</td><td>4.5</td></tr>\n",
       "\t<tr><td>4  </td><td>2.6</td><td>3.5</td></tr>\n",
       "\t<tr><td>5  </td><td>2.7</td><td>4.5</td></tr>\n",
       "\t<tr><td>6  </td><td>3.0</td><td>5.0</td></tr>\n",
       "</tbody>\n",
       "</table>\n"
      ],
      "text/latex": [
       "\\begin{tabular}{r|lll}\n",
       " PID & VQ\\_2000 & VQ\\_6000\\\\\n",
       "\\hline\n",
       "\t 1   & 2.9 & 4.5\\\\\n",
       "\t 2   & 4.6 & 5.7\\\\\n",
       "\t 3   & 2.7 & 4.5\\\\\n",
       "\t 4   & 2.6 & 3.5\\\\\n",
       "\t 5   & 2.7 & 4.5\\\\\n",
       "\t 6   & 3.0 & 5.0\\\\\n",
       "\\end{tabular}\n"
      ],
      "text/markdown": [
       "\n",
       "| PID | VQ_2000 | VQ_6000 |\n",
       "|---|---|---|\n",
       "| 1   | 2.9 | 4.5 |\n",
       "| 2   | 4.6 | 5.7 |\n",
       "| 3   | 2.7 | 4.5 |\n",
       "| 4   | 2.6 | 3.5 |\n",
       "| 5   | 2.7 | 4.5 |\n",
       "| 6   | 3.0 | 5.0 |\n",
       "\n"
      ],
      "text/plain": [
       "  PID VQ_2000 VQ_6000\n",
       "1 1   2.9     4.5    \n",
       "2 2   4.6     5.7    \n",
       "3 3   2.7     4.5    \n",
       "4 4   2.6     3.5    \n",
       "5 5   2.7     4.5    \n",
       "6 6   3.0     5.0    "
      ]
     },
     "metadata": {},
     "output_type": "display_data"
    }
   ],
   "source": [
    "# merge separate data sets for 2000 & 6000 kbps by PID\n",
    "gaming_data <- cbind(get_gaming_data_for_kbps(2000), get_gaming_data_for_kbps(6000))[-c(3)]\n",
    "head(gaming_data)"
   ]
  },
  {
   "cell_type": "markdown",
   "metadata": {},
   "source": [
    "### Step 3: Decide on which test to use for the research question"
   ]
  },
  {
   "cell_type": "markdown",
   "metadata": {},
   "source": [
    "### As the exact same individuals [see PID] were asked to rate the video quality several times => dependent t-test / repeated measure t-test / Paired Samples t-test to be used here!"
   ]
  },
  {
   "cell_type": "markdown",
   "metadata": {},
   "source": [
    "### Step 4: Check if conditions for Paired Samples / dependent t-test are met"
   ]
  },
  {
   "cell_type": "markdown",
   "metadata": {},
   "source": [
    "#### 1.) Dependent variable [= VQ] measured at least at interval / ration level => OK, as VQ is continuous \n",
    "#### 2.) No significant outliers => Don't know, need to check that in the next step!\n",
    "#### 3.) Independent variable [= kbps] should consist of two categorical related groups => OK, as 2000kbps & 6000kbps [= related] and also categorical [always either 2000kbps or 6000kbps]\n",
    "#### 4.) Distribution of differences in dependent variable [= VQ] between two related groups approximately normally distributed => Don't know, need to check in the next step!"
   ]
  },
  {
   "cell_type": "markdown",
   "metadata": {},
   "source": [
    "### Step 5: Check not yet confirmed requirements => no significant outliers in data set & differences approximately normally distributed?"
   ]
  },
  {
   "cell_type": "code",
   "execution_count": 5,
   "metadata": {},
   "outputs": [
    {
     "data": {
      "text/html": [
       "<table>\n",
       "<thead><tr><th scope=col>PID</th><th scope=col>VQ_2000</th><th scope=col>VQ_6000</th><th scope=col>Z_Score_2000</th><th scope=col>Z_Score_6000</th></tr></thead>\n",
       "<tbody>\n",
       "</tbody>\n",
       "</table>\n"
      ],
      "text/latex": [
       "\\begin{tabular}{r|lllll}\n",
       " PID & VQ\\_2000 & VQ\\_6000 & Z\\_Score\\_2000 & Z\\_Score\\_6000\\\\\n",
       "\\hline\n",
       "\\end{tabular}\n"
      ],
      "text/markdown": [
       "\n",
       "| PID | VQ_2000 | VQ_6000 | Z_Score_2000 | Z_Score_6000 |\n",
       "|---|---|---|---|---|\n",
       "\n"
      ],
      "text/plain": [
       "     PID VQ_2000 VQ_6000 Z_Score_2000 Z_Score_6000"
      ]
     },
     "metadata": {},
     "output_type": "display_data"
    }
   ],
   "source": [
    "# Check for outliers using Z-Score method\n",
    "get_significant_outliers <- function(data) {\n",
    "    data %>% \n",
    "    mutate(Std_Dev_VQ_2000 = sd(VQ_2000), \n",
    "           Std_Dev_VQ_6000 = sd(VQ_6000), \n",
    "           Mean_VQ_2000 = mean(VQ_2000), \n",
    "           Mean_VQ_6000 = mean(VQ_6000)) %>%\n",
    "    mutate(Z_Score_2000 = (VQ_2000 - Mean_VQ_2000) / Std_Dev_VQ_2000) %>%\n",
    "    mutate(Z_Score_6000 = (VQ_6000 - Mean_VQ_6000) / Std_Dev_VQ_6000) %>%\n",
    "    select(PID, VQ_2000, VQ_6000, Z_Score_2000, Z_Score_6000) %>% \n",
    "    filter(abs(Z_Score_2000) > 3.29 | abs(Z_Score_6000) > 3.29)\n",
    "}\n",
    "\n",
    "get_significant_outliers(gaming_data)"
   ]
  },
  {
   "cell_type": "markdown",
   "metadata": {},
   "source": [
    "#### No significant outliers found neither in 2000kbps nor in 6000kbps data => condition 2.) met!"
   ]
  },
  {
   "cell_type": "code",
   "execution_count": 6,
   "metadata": {},
   "outputs": [
    {
     "data": {
      "text/html": [
       "<table>\n",
       "<thead><tr><th scope=col>PID</th><th scope=col>VQ_2000</th><th scope=col>VQ_6000</th><th scope=col>VQ_Differences</th></tr></thead>\n",
       "<tbody>\n",
       "\t<tr><td>1  </td><td>2.9</td><td>4.5</td><td>1.6</td></tr>\n",
       "\t<tr><td>2  </td><td>4.6</td><td>5.7</td><td>1.1</td></tr>\n",
       "\t<tr><td>3  </td><td>2.7</td><td>4.5</td><td>1.8</td></tr>\n",
       "\t<tr><td>4  </td><td>2.6</td><td>3.5</td><td>0.9</td></tr>\n",
       "\t<tr><td>5  </td><td>2.7</td><td>4.5</td><td>1.8</td></tr>\n",
       "\t<tr><td>6  </td><td>3.0</td><td>5.0</td><td>2.0</td></tr>\n",
       "</tbody>\n",
       "</table>\n"
      ],
      "text/latex": [
       "\\begin{tabular}{r|llll}\n",
       " PID & VQ\\_2000 & VQ\\_6000 & VQ\\_Differences\\\\\n",
       "\\hline\n",
       "\t 1   & 2.9 & 4.5 & 1.6\\\\\n",
       "\t 2   & 4.6 & 5.7 & 1.1\\\\\n",
       "\t 3   & 2.7 & 4.5 & 1.8\\\\\n",
       "\t 4   & 2.6 & 3.5 & 0.9\\\\\n",
       "\t 5   & 2.7 & 4.5 & 1.8\\\\\n",
       "\t 6   & 3.0 & 5.0 & 2.0\\\\\n",
       "\\end{tabular}\n"
      ],
      "text/markdown": [
       "\n",
       "| PID | VQ_2000 | VQ_6000 | VQ_Differences |\n",
       "|---|---|---|---|\n",
       "| 1   | 2.9 | 4.5 | 1.6 |\n",
       "| 2   | 4.6 | 5.7 | 1.1 |\n",
       "| 3   | 2.7 | 4.5 | 1.8 |\n",
       "| 4   | 2.6 | 3.5 | 0.9 |\n",
       "| 5   | 2.7 | 4.5 | 1.8 |\n",
       "| 6   | 3.0 | 5.0 | 2.0 |\n",
       "\n"
      ],
      "text/plain": [
       "  PID VQ_2000 VQ_6000 VQ_Differences\n",
       "1 1   2.9     4.5     1.6           \n",
       "2 2   4.6     5.7     1.1           \n",
       "3 3   2.7     4.5     1.8           \n",
       "4 4   2.6     3.5     0.9           \n",
       "5 5   2.7     4.5     1.8           \n",
       "6 6   3.0     5.0     2.0           "
      ]
     },
     "metadata": {},
     "output_type": "display_data"
    },
    {
     "data": {
      "text/plain": [
       "\n",
       "\tShapiro-Wilk normality test\n",
       "\n",
       "data:  VQ_differences[[\"VQ_Differences\"]]\n",
       "W = 0.9397, p-value = 0.1457\n"
      ]
     },
     "metadata": {},
     "output_type": "display_data"
    },
    {
     "name": "stderr",
     "output_type": "stream",
     "text": [
      "Warning message in ks.test(VQ_differences[[\"VQ_Differences\"]], \"pnorm\", mean = mean(VQ_differences[[\"VQ_Differences\"]]), :\n",
      "\"ties should not be present for the Kolmogorov-Smirnov test\""
     ]
    },
    {
     "data": {
      "text/plain": [
       "\n",
       "\tOne-sample Kolmogorov-Smirnov test\n",
       "\n",
       "data:  VQ_differences[[\"VQ_Differences\"]]\n",
       "D = 0.13542, p-value = 0.749\n",
       "alternative hypothesis: two-sided\n"
      ]
     },
     "metadata": {},
     "output_type": "display_data"
    }
   ],
   "source": [
    "# Compute pairwise differences in VQ ratings\n",
    "VQ_differences <- (gaming_data %>% mutate(VQ_Differences = as.numeric(VQ_6000 - VQ_2000)))\n",
    "head(VQ_differences)\n",
    "\n",
    "# Conduct Shapiro-Wilk-Test & just to be sure also Kolmogorov-Smirnov test for normality check\n",
    "shapiro.test(VQ_differences[['VQ_Differences']])\n",
    "ks.test(VQ_differences[['VQ_Differences']], \"pnorm\", mean=mean(VQ_differences[['VQ_Differences']]), sd=sd(VQ_differences[['VQ_Differences']]))"
   ]
  },
  {
   "cell_type": "markdown",
   "metadata": {},
   "source": [
    "#### As p-values of both the Kolmogrov-Smirnov-Test & Shapiro-Wilk-Test >= 0.05 => normal distribution of VQ rating differences can be assumed, hence condition 4.) met!"
   ]
  },
  {
   "cell_type": "markdown",
   "metadata": {},
   "source": [
    "#### All the requirements for the Paired Sample t-test are met! :)"
   ]
  },
  {
   "cell_type": "markdown",
   "metadata": {},
   "source": [
    "### Step 6: Conduct Paired Sample / dependent t-test"
   ]
  },
  {
   "cell_type": "markdown",
   "metadata": {},
   "source": [
    "#### We wish to check if the mean of the 6000kbps distribution is greater than the one of the 2000kbps distribution. In other words, we want to check if the difference of the 6000kbps mean and the 2000kbps mean [call that difference m] is greater than 0. \n",
    "\n",
    "#### Hence:H0: m <= 0, H1: m > 0"
   ]
  },
  {
   "cell_type": "code",
   "execution_count": 7,
   "metadata": {},
   "outputs": [
    {
     "data": {
      "text/plain": [
       "\n",
       "\tPaired t-test\n",
       "\n",
       "data:  gaming_data[[\"VQ_6000\"]] and gaming_data[[\"VQ_2000\"]]\n",
       "t = 6.7225, df = 24, p-value = 2.966e-07\n",
       "alternative hypothesis: true difference in means is greater than 0\n",
       "95 percent confidence interval:\n",
       " 0.9810747       Inf\n",
       "sample estimates:\n",
       "mean of the differences \n",
       "                  1.316 \n"
      ]
     },
     "metadata": {},
     "output_type": "display_data"
    }
   ],
   "source": [
    "# Conduct Paired Sample t-test\n",
    "t.test(gaming_data[['VQ_6000']], gaming_data[['VQ_2000']], paired=TRUE, alternative = \"greater\")"
   ]
  },
  {
   "cell_type": "markdown",
   "metadata": {},
   "source": [
    "#### As p-value < 0.05 => null hypothesis rejected => H1 (= increasing bitrate from 2.000 to 6.000 kbps improves video quality ratings) assumed"
   ]
  },
  {
   "cell_type": "markdown",
   "metadata": {},
   "source": [
    "### Step 7: Compute effect size"
   ]
  },
  {
   "cell_type": "code",
   "execution_count": 8,
   "metadata": {},
   "outputs": [
    {
     "data": {
      "text/html": [
       "'Already implemented Cohens d function:'"
      ],
      "text/latex": [
       "'Already implemented Cohens d function:'"
      ],
      "text/markdown": [
       "'Already implemented Cohens d function:'"
      ],
      "text/plain": [
       "[1] \"Already implemented Cohens d function:\""
      ]
     },
     "metadata": {},
     "output_type": "display_data"
    },
    {
     "data": {
      "text/plain": [
       "\n",
       "Cohen's d\n",
       "\n",
       "d estimate: 1.51107 (large)\n",
       "95 percent confidence interval:\n",
       "    lower     upper \n",
       "0.8496679 2.1724725 "
      ]
     },
     "metadata": {},
     "output_type": "display_data"
    },
    {
     "data": {
      "text/html": [
       "'Self-implemented Cohens d function =&gt; Effect size = 1.512'"
      ],
      "text/latex": [
       "'Self-implemented Cohens d function => Effect size = 1.512'"
      ],
      "text/markdown": [
       "'Self-implemented Cohens d function =&gt; Effect size = 1.512'"
      ],
      "text/plain": [
       "[1] \"Self-implemented Cohens d function => Effect size = 1.512\""
      ]
     },
     "metadata": {},
     "output_type": "display_data"
    }
   ],
   "source": [
    "# Compute Cohen's D\n",
    "paste0('Already implemented Cohens d function:')\n",
    "cohen.d(gaming_data[['VQ_6000']], gaming_data[['VQ_2000']], paired=TRUE)\n",
    "\n",
    "compute_cohens_d_alternatively <- function(data) {\n",
    "    distribution_parameters <- (data %>% mutate(Mean_VQ_2000 = mean(VQ_2000), \n",
    "                                Mean_VQ_6000 = mean(VQ_6000), \n",
    "                                Sd_VQ_2000 = sd(VQ_2000),\n",
    "                                Sd_VQ_6000 = sd(VQ_6000)))[1,]\n",
    "    mean_6000 <- distribution_parameters[['Mean_VQ_6000']]\n",
    "    mean_2000 <- distribution_parameters[['Mean_VQ_2000']]\n",
    "    sd_6000 <- distribution_parameters[['Sd_VQ_6000']]\n",
    "    sd_2000 <- distribution_parameters[['Sd_VQ_2000']]\n",
    "    \n",
    "    return(round((mean_6000 - mean_2000) / sqrt((sd_2000 * sd_2000 + sd_6000 * sd_6000) / 2), digits=3))\n",
    "    \n",
    "}\n",
    "\n",
    "paste0('Self-implemented Cohens d function => Effect size = ', compute_cohens_d_alternatively(gaming_data))"
   ]
  },
  {
   "cell_type": "markdown",
   "metadata": {},
   "source": [
    "### Step 8: Interpretation of results"
   ]
  },
  {
   "cell_type": "markdown",
   "metadata": {},
   "source": [
    "#### With a p-value of 2.966e-07 / a t-score (test statistic value) of 6.7225, n-1=25-1=24 degrees of freedom & a Cohen's d effect size of around 1.51 [= large], we were able to show with a statistical significance of alpha = 0.05 that the average difference of 6000kbps VQ ratings & 2000kbps VQ ratings between the two dependent samples (each of size n=25) is greater than 0: increasing the bitrate from 2.000 to 6.000 kbps significantly improves the video quality ratings (VQ) here."
   ]
  }
 ],
 "metadata": {
  "kernelspec": {
   "display_name": "R",
   "language": "R",
   "name": "ir"
  },
  "language_info": {
   "codemirror_mode": "r",
   "file_extension": ".r",
   "mimetype": "text/x-r-source",
   "name": "R",
   "pygments_lexer": "r",
   "version": "3.6.1"
  }
 },
 "nbformat": 4,
 "nbformat_minor": 2
}
