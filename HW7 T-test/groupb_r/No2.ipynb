{
 "cells": [
  {
   "cell_type": "markdown",
   "metadata": {},
   "source": [
    "# Task 2: Does the test environment (independent variable), i.e. Lab (ID=1) or home (ID=0), have a significant influence on speech quality ratings (dependent variable). Use the quality ratings of condition 3 provided in the file (lab_crowd_speech_quality)."
   ]
  },
  {
   "cell_type": "markdown",
   "metadata": {},
   "source": [
    "### Step 1: Include libraries"
   ]
  },
  {
   "cell_type": "code",
   "execution_count": 1,
   "metadata": {},
   "outputs": [],
   "source": [
    "# install.packages('dplyr')      # processing \n",
    "# install.packages('gdata')      # file reading\n",
    "# install.packages('effsize')    # Cohen's D\n",
    "# install.packages('car')        # homogenity of variances"
   ]
  },
  {
   "cell_type": "code",
   "execution_count": 2,
   "metadata": {},
   "outputs": [
    {
     "name": "stderr",
     "output_type": "stream",
     "text": [
      "Warning message:\n",
      "\"package 'dplyr' was built under R version 3.6.2\"\n",
      "Attaching package: 'dplyr'\n",
      "\n",
      "The following objects are masked from 'package:stats':\n",
      "\n",
      "    filter, lag\n",
      "\n",
      "The following objects are masked from 'package:base':\n",
      "\n",
      "    intersect, setdiff, setequal, union\n",
      "\n",
      "Warning message:\n",
      "\"package 'effsize' was built under R version 3.6.2\"Warning message:\n",
      "\"package 'car' was built under R version 3.6.2\"Loading required package: carData\n",
      "\n",
      "Attaching package: 'car'\n",
      "\n",
      "The following object is masked from 'package:dplyr':\n",
      "\n",
      "    recode\n",
      "\n"
     ]
    }
   ],
   "source": [
    "library(dplyr)     # processing\n",
    "library(readxl)    # reading in data\n",
    "library(effsize)   # Cohen's D\n",
    "library(car)       # homogenity of variances"
   ]
  },
  {
   "cell_type": "markdown",
   "metadata": {},
   "source": [
    "### Step 2: Load data sets"
   ]
  },
  {
   "cell_type": "code",
   "execution_count": 3,
   "metadata": {},
   "outputs": [
    {
     "data": {
      "text/html": [
       "<table>\n",
       "<thead><tr><th scope=col>Quality_Home</th></tr></thead>\n",
       "<tbody>\n",
       "\t<tr><td>4</td></tr>\n",
       "\t<tr><td>3</td></tr>\n",
       "\t<tr><td>4</td></tr>\n",
       "\t<tr><td>4</td></tr>\n",
       "\t<tr><td>4</td></tr>\n",
       "\t<tr><td>3</td></tr>\n",
       "</tbody>\n",
       "</table>\n"
      ],
      "text/latex": [
       "\\begin{tabular}{r|l}\n",
       " Quality\\_Home\\\\\n",
       "\\hline\n",
       "\t 4\\\\\n",
       "\t 3\\\\\n",
       "\t 4\\\\\n",
       "\t 4\\\\\n",
       "\t 4\\\\\n",
       "\t 3\\\\\n",
       "\\end{tabular}\n"
      ],
      "text/markdown": [
       "\n",
       "| Quality_Home |\n",
       "|---|\n",
       "| 4 |\n",
       "| 3 |\n",
       "| 4 |\n",
       "| 4 |\n",
       "| 4 |\n",
       "| 3 |\n",
       "\n"
      ],
      "text/plain": [
       "  Quality_Home\n",
       "1 4           \n",
       "2 3           \n",
       "3 4           \n",
       "4 4           \n",
       "5 4           \n",
       "6 3           "
      ]
     },
     "metadata": {},
     "output_type": "display_data"
    },
    {
     "data": {
      "text/html": [
       "<table>\n",
       "<thead><tr><th scope=col>Quality_Lab</th></tr></thead>\n",
       "<tbody>\n",
       "\t<tr><td>3</td></tr>\n",
       "\t<tr><td>3</td></tr>\n",
       "\t<tr><td>3</td></tr>\n",
       "\t<tr><td>3</td></tr>\n",
       "\t<tr><td>3</td></tr>\n",
       "\t<tr><td>2</td></tr>\n",
       "</tbody>\n",
       "</table>\n"
      ],
      "text/latex": [
       "\\begin{tabular}{r|l}\n",
       " Quality\\_Lab\\\\\n",
       "\\hline\n",
       "\t 3\\\\\n",
       "\t 3\\\\\n",
       "\t 3\\\\\n",
       "\t 3\\\\\n",
       "\t 3\\\\\n",
       "\t 2\\\\\n",
       "\\end{tabular}\n"
      ],
      "text/markdown": [
       "\n",
       "| Quality_Lab |\n",
       "|---|\n",
       "| 3 |\n",
       "| 3 |\n",
       "| 3 |\n",
       "| 3 |\n",
       "| 3 |\n",
       "| 2 |\n",
       "\n"
      ],
      "text/plain": [
       "  Quality_Lab\n",
       "1 3          \n",
       "2 3          \n",
       "3 3          \n",
       "4 3          \n",
       "5 3          \n",
       "6 2          "
      ]
     },
     "metadata": {},
     "output_type": "display_data"
    }
   ],
   "source": [
    "# read in separate data sets for both environments\n",
    "get_data_for_environment <- function(home=TRUE) {\n",
    "    data <- read_excel(\"datasets/lab_crowd_speech_quality.xlsx\")\n",
    "    \n",
    "    if(home) {\n",
    "        data <- data %>% filter(Environment == 0) %>% mutate(Quality_Home = Quality) %>% select(Quality_Home)\n",
    "    } else {\n",
    "        data <- data %>% filter(Environment == 1) %>% mutate(Quality_Lab = Quality) %>% select(Quality_Lab)\n",
    "    }\n",
    "    \n",
    "}\n",
    "\n",
    "home_data <- get_data_for_environment(home=TRUE)\n",
    "lab_data <- get_data_for_environment(home=FALSE)\n",
    "head(home_data)\n",
    "head(lab_data)"
   ]
  },
  {
   "cell_type": "markdown",
   "metadata": {},
   "source": [
    "### Step 3: Decide on which test to use for the research question"
   ]
  },
  {
   "cell_type": "markdown",
   "metadata": {},
   "source": [
    "### As not necessarily (even most likely different) people were asked to rate speech quality in different environments, one can assume independence between the ratings of both environments => use Independent Samples t-test!"
   ]
  },
  {
   "cell_type": "markdown",
   "metadata": {},
   "source": [
    "### Step 4: Check if conditions for Independent Samples t-test are met"
   ]
  },
  {
   "cell_type": "markdown",
   "metadata": {},
   "source": [
    "#### 1.) Dependent variable [= Quality] measured at least at interval / ration level => OK, as Quality ratings are continuous \n",
    "#### 2.) No significant outliers => Don't know, need to check that in the next step!\n",
    "#### 3.) Independent variable [= Environment: lab or home] should consist of two categorical, independent groups => OK, as lab & home are categorical and one can assume independence between lab and home raters [as they are most likely different people]\n",
    "#### 4.) Independence of observations => OK, as this can easily be assumed as lab and home ratings were given individually without any known source of dependency\n",
    "#### 5.) Dependent variable [= Quality] approximately normally distributed in both groups of the independent variable => Don't know, need to check that in the next step!\n",
    "#### 6.) Homogenity of variances => Don't know, need to check that in the next step!"
   ]
  },
  {
   "cell_type": "markdown",
   "metadata": {},
   "source": [
    "### Step 5: Check not yet confirmed requirements => no significant outliers in data set, both group ratings approximately normally distributed & homogenity of variances"
   ]
  },
  {
   "cell_type": "code",
   "execution_count": 4,
   "metadata": {},
   "outputs": [
    {
     "data": {
      "text/html": [
       "<table>\n",
       "<thead><tr><th scope=col>Quality_Home</th><th scope=col>Z_Score_Home</th></tr></thead>\n",
       "<tbody>\n",
       "</tbody>\n",
       "</table>\n"
      ],
      "text/latex": [
       "\\begin{tabular}{r|ll}\n",
       " Quality\\_Home & Z\\_Score\\_Home\\\\\n",
       "\\hline\n",
       "\\end{tabular}\n"
      ],
      "text/markdown": [
       "\n",
       "| Quality_Home | Z_Score_Home |\n",
       "|---|---|\n",
       "\n"
      ],
      "text/plain": [
       "     Quality_Home Z_Score_Home"
      ]
     },
     "metadata": {},
     "output_type": "display_data"
    },
    {
     "data": {
      "text/html": [
       "<table>\n",
       "<thead><tr><th scope=col>Quality_Lab</th><th scope=col>Z_Score_Lab</th></tr></thead>\n",
       "<tbody>\n",
       "</tbody>\n",
       "</table>\n"
      ],
      "text/latex": [
       "\\begin{tabular}{r|ll}\n",
       " Quality\\_Lab & Z\\_Score\\_Lab\\\\\n",
       "\\hline\n",
       "\\end{tabular}\n"
      ],
      "text/markdown": [
       "\n",
       "| Quality_Lab | Z_Score_Lab |\n",
       "|---|---|\n",
       "\n"
      ],
      "text/plain": [
       "     Quality_Lab Z_Score_Lab"
      ]
     },
     "metadata": {},
     "output_type": "display_data"
    }
   ],
   "source": [
    "# Check for outliers using Z-Score method\n",
    "get_significant_outliers <- function(data, home=TRUE) {\n",
    "    \n",
    "    if(home) {\n",
    "        data %>% \n",
    "            mutate(Std_Dev_Quality_Home = sd(Quality_Home), \n",
    "                   Mean_Quality_Home = mean(Quality_Home)) %>%\n",
    "            mutate(Z_Score_Home = (Quality_Home - Mean_Quality_Home) / Std_Dev_Quality_Home) %>%\n",
    "            select(Quality_Home, Z_Score_Home) %>% \n",
    "            filter(abs(Z_Score_Home) > 3.29)\n",
    "    } else {\n",
    "        data %>% \n",
    "            mutate(Std_Dev_Quality_Lab = sd(Quality_Lab), \n",
    "                   Mean_Quality_Lab = mean(Quality_Lab)) %>%\n",
    "            mutate(Z_Score_Lab = (Quality_Lab - Mean_Quality_Lab) / Std_Dev_Quality_Lab) %>%\n",
    "            select(Quality_Lab, Z_Score_Lab) %>% \n",
    "            filter(abs(Z_Score_Lab) > 3.29)\n",
    "    }\n",
    "}\n",
    "\n",
    "get_significant_outliers(home_data, home=TRUE)\n",
    "get_significant_outliers(lab_data, home=FALSE)"
   ]
  },
  {
   "cell_type": "markdown",
   "metadata": {},
   "source": [
    "#### No significant outliers found neither in home nor in lab data => condition 2.) met!"
   ]
  },
  {
   "cell_type": "code",
   "execution_count": 5,
   "metadata": {},
   "outputs": [
    {
     "data": {
      "text/plain": [
       "\n",
       "\tShapiro-Wilk normality test\n",
       "\n",
       "data:  home_data[[\"Quality_Home\"]]\n",
       "W = 0.88359, p-value = 9.368e-12\n"
      ]
     },
     "metadata": {},
     "output_type": "display_data"
    },
    {
     "name": "stderr",
     "output_type": "stream",
     "text": [
      "Warning message in ks.test(home_data[[\"Quality_Home\"]], \"pnorm\", mean = mean(home_data[[\"Quality_Home\"]]), :\n",
      "\"ties should not be present for the Kolmogorov-Smirnov test\""
     ]
    },
    {
     "data": {
      "text/plain": [
       "\n",
       "\tOne-sample Kolmogorov-Smirnov test\n",
       "\n",
       "data:  home_data[[\"Quality_Home\"]]\n",
       "D = 0.24924, p-value = 6.429e-12\n",
       "alternative hypothesis: two-sided\n"
      ]
     },
     "metadata": {},
     "output_type": "display_data"
    }
   ],
   "source": [
    "# Conduct Shapiro-Wilk-Test & just to be sure also Kolmogorov-Smirnov test for normality check for home ratings\n",
    "shapiro.test(home_data[['Quality_Home']])\n",
    "ks.test(home_data[['Quality_Home']], \"pnorm\", mean=mean(home_data[['Quality_Home']]), sd=sd(home_data[['Quality_Home']]))"
   ]
  },
  {
   "cell_type": "code",
   "execution_count": 6,
   "metadata": {},
   "outputs": [
    {
     "data": {
      "text/plain": [
       "\n",
       "\tShapiro-Wilk normality test\n",
       "\n",
       "data:  lab_data[[\"Quality_Lab\"]]\n",
       "W = 0.86034, p-value = 2.772e-12\n"
      ]
     },
     "metadata": {},
     "output_type": "display_data"
    },
    {
     "name": "stderr",
     "output_type": "stream",
     "text": [
      "Warning message in ks.test(lab_data[[\"Quality_Lab\"]], \"pnorm\", mean = mean(lab_data[[\"Quality_Lab\"]]), :\n",
      "\"ties should not be present for the Kolmogorov-Smirnov test\""
     ]
    },
    {
     "data": {
      "text/plain": [
       "\n",
       "\tOne-sample Kolmogorov-Smirnov test\n",
       "\n",
       "data:  lab_data[[\"Quality_Lab\"]]\n",
       "D = 0.25398, p-value = 3.496e-11\n",
       "alternative hypothesis: two-sided\n"
      ]
     },
     "metadata": {},
     "output_type": "display_data"
    }
   ],
   "source": [
    "# Conduct Shapiro-Wilk-Test & just to be sure also Kolmogorov-Smirnov test for normality check for lab ratings\n",
    "shapiro.test(lab_data[['Quality_Lab']])\n",
    "ks.test(lab_data[['Quality_Lab']], \"pnorm\", mean=mean(lab_data[['Quality_Lab']]), sd=sd(lab_data[['Quality_Lab']]))"
   ]
  },
  {
   "cell_type": "markdown",
   "metadata": {},
   "source": [
    "#### As p-values of both the Kolmogrov-Smirnov-Test & Shapiro-Wilk-Test < 0.05 => NO normal distribution of quality ratings can be assumed (neither in home, nor in lab environment), hence condition 5.) NOT met! But we are going to continue anyway..."
   ]
  },
  {
   "cell_type": "code",
   "execution_count": 7,
   "metadata": {},
   "outputs": [
    {
     "name": "stderr",
     "output_type": "stream",
     "text": [
      "Warning message in leveneTest.default(y = y, group = group, ...):\n",
      "\"group coerced to factor.\""
     ]
    },
    {
     "data": {
      "text/html": [
       "'F(df_home = 212, df_lab = 191) = 0.09 | p-value = 0.764 =&gt; homogenity of variance CAN be assumed'"
      ],
      "text/latex": [
       "'F(df\\_home = 212, df\\_lab = 191) = 0.09 \\textbar{} p-value = 0.764 => homogenity of variance CAN be assumed'"
      ],
      "text/markdown": [
       "'F(df_home = 212, df_lab = 191) = 0.09 | p-value = 0.764 =&gt; homogenity of variance CAN be assumed'"
      ],
      "text/plain": [
       "[1] \"F(df_home = 212, df_lab = 191) = 0.09 | p-value = 0.764 => homogenity of variance CAN be assumed\""
      ]
     },
     "metadata": {},
     "output_type": "display_data"
    }
   ],
   "source": [
    "# Check for homogenity of groups' rating variances\n",
    "get_levene_test_results <- function() {\n",
    "    entire_data <- read_excel(\"datasets/lab_crowd_speech_quality.xlsx\") %>% \n",
    "                mutate(Environment = case_when(Environment == 0 ~ \"Home\",Environment != 0  ~ \"Lab\"))\n",
    "\n",
    "    test_results <- leveneTest(Quality ~ Environment, data = entire_data, center = mean)\n",
    "    #test_results$Pr(>F)\n",
    "    #test_results$F value\n",
    "    n_home <- (entire_data %>% filter(Environment == 'Home') %>% mutate(df = n() - 1))[1,][['df']]\n",
    "    n_lab <- (entire_data %>% filter(Environment == 'Lab') %>% mutate(df = n() - 1))[1,][['df']]\n",
    "    result <- paste0('F(df_home = ', n_home, ', df_lab = ', n_lab, ') = ', \n",
    "               round(test_results[1,2], digits=3), \n",
    "               ' | p-value = ', \n",
    "               round(test_results[1,3], digits=3))\n",
    "    \n",
    "    if(test_results[1,3] > 0.05) {\n",
    "        result <- paste0(result, ' => homogenity of variance CAN be assumed')\n",
    "    } else {\n",
    "        result <- paste0(result, ' => homogenity of variance CANNOT be assumed')\n",
    "    }\n",
    "    \n",
    "    result\n",
    "}\n",
    "\n",
    "get_levene_test_results()"
   ]
  },
  {
   "cell_type": "markdown",
   "metadata": {},
   "source": [
    "#### As Levene's test delivers p-value > 0.05 => homogenity of variance can be assumed, thus condition 6.) met!"
   ]
  },
  {
   "cell_type": "markdown",
   "metadata": {},
   "source": [
    "### Step 6: Conduct Independent Sample t-test"
   ]
  },
  {
   "cell_type": "markdown",
   "metadata": {},
   "source": [
    "#### We wish to check if the mean of the quality rating distribution measured in lab environment is not equal to the one measured in home environment. Denote m as the difference of both distributions' mean values:\n",
    "\n",
    "#### H0: m = 0, H1: m != 0"
   ]
  },
  {
   "cell_type": "code",
   "execution_count": 8,
   "metadata": {},
   "outputs": [
    {
     "data": {
      "text/plain": [
       "\n",
       "\tTwo Sample t-test\n",
       "\n",
       "data:  home_data[[\"Quality_Home\"]] and lab_data[[\"Quality_Lab\"]]\n",
       "t = 3.4419, df = 403, p-value = 0.0006382\n",
       "alternative hypothesis: true difference in means is not equal to 0\n",
       "95 percent confidence interval:\n",
       " 0.1240392 0.4544526\n",
       "sample estimates:\n",
       "mean of x mean of y \n",
       " 3.117371  2.828125 \n"
      ]
     },
     "metadata": {},
     "output_type": "display_data"
    }
   ],
   "source": [
    "# Conduct Independent Sample t-test\n",
    "t.test(home_data[['Quality_Home']], lab_data[['Quality_Lab']], alternative = \"two.sided\", var.equal = TRUE)"
   ]
  },
  {
   "cell_type": "markdown",
   "metadata": {},
   "source": [
    "#### As p-value < 0.05 => null hypothesis rejected => H1 (true difference in means is not equal to 0) assumed"
   ]
  },
  {
   "cell_type": "markdown",
   "metadata": {},
   "source": [
    "### Step 7: Compute effect size"
   ]
  },
  {
   "cell_type": "code",
   "execution_count": 9,
   "metadata": {},
   "outputs": [
    {
     "data": {
      "text/html": [
       "'Already implemented Cohens d function:'"
      ],
      "text/latex": [
       "'Already implemented Cohens d function:'"
      ],
      "text/markdown": [
       "'Already implemented Cohens d function:'"
      ],
      "text/plain": [
       "[1] \"Already implemented Cohens d function:\""
      ]
     },
     "metadata": {},
     "output_type": "display_data"
    },
    {
     "data": {
      "text/plain": [
       "\n",
       "Cohen's d\n",
       "\n",
       "d estimate: 0.3425161 (small)\n",
       "95 percent confidence interval:\n",
       "    lower     upper \n",
       "0.1454580 0.5395742 "
      ]
     },
     "metadata": {},
     "output_type": "display_data"
    },
    {
     "data": {
      "text/html": [
       "'Self-implemented Cohens d function =&gt; Effect size = 0.349'"
      ],
      "text/latex": [
       "'Self-implemented Cohens d function => Effect size = 0.349'"
      ],
      "text/markdown": [
       "'Self-implemented Cohens d function =&gt; Effect size = 0.349'"
      ],
      "text/plain": [
       "[1] \"Self-implemented Cohens d function => Effect size = 0.349\""
      ]
     },
     "metadata": {},
     "output_type": "display_data"
    }
   ],
   "source": [
    "# Compute Cohen's D\n",
    "paste0('Already implemented Cohens d function:')\n",
    "cohen.d(home_data[['Quality_Home']], lab_data[['Quality_Lab']], paired=FALSE)\n",
    "\n",
    "compute_cohens_d_alternatively <- function(home_data, lab_data) {\n",
    "    \n",
    "    mean_home <- (home_data %>% mutate(meanQuality = mean(Quality_Home)))[[1,2]]\n",
    "    mean_lab <- (lab_data %>% mutate(meanQuality = mean(Quality_Lab)))[[1,2]]\n",
    "    sd_home <- (lab_data %>% mutate(sdQuality = sd(Quality_Lab)))[[1,2]]\n",
    "    sd_lab <- (lab_data %>% mutate(sdQuality = sd(Quality_Lab)))[[1,2]]\n",
    "    \n",
    "    return(round((mean_home - mean_lab) / sqrt((sd_home * sd_home + sd_lab * sd_lab) / 2), digits=3))\n",
    "    \n",
    "}\n",
    "\n",
    "paste0('Self-implemented Cohens d function => Effect size = ', compute_cohens_d_alternatively(home_data, lab_data))"
   ]
  },
  {
   "cell_type": "markdown",
   "metadata": {},
   "source": [
    "### Step 8: Interpretation of results"
   ]
  },
  {
   "cell_type": "markdown",
   "metadata": {},
   "source": [
    "#### With a p-value of 0.0006382 / a t-score (test statistic value) of 3.4419, n-1=213-1=212 degrees of freedom for the home environment (n-1=192-1=191 for the lab environment) & a Cohen's d effect size of around 0.3425161 [= small], we were able to show with a statistical significance of alpha = 0.05 that the difference of the average quality ratings ratings (for home & lab environment) between the two independent samples (n_home = 213, n_lab = 192) is not equal to 0. Therefore, we can statistically significantly confirm the above stated research question: the test environment has a significant impact on the speech quality ratings."
   ]
  }
 ],
 "metadata": {
  "kernelspec": {
   "display_name": "R",
   "language": "R",
   "name": "ir"
  },
  "language_info": {
   "codemirror_mode": "r",
   "file_extension": ".r",
   "mimetype": "text/x-r-source",
   "name": "R",
   "pygments_lexer": "r",
   "version": "3.6.1"
  }
 },
 "nbformat": 4,
 "nbformat_minor": 2
}
