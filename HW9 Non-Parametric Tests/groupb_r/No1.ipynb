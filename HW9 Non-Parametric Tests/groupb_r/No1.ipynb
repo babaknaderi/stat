{
 "cells": [
  {
   "cell_type": "markdown",
   "metadata": {},
   "source": [
    "# Task 1: Does changing the bitrate (independent variable: 2000, 4000, 6000, 50000 kbps) have a significant effect on the video quality (VQ) ratings (dependent variable)? Please consider all ratings at a resolution of 1080p and framerate of 60fps for the FIRST game. Use the ratings provided in the gaming video quality dataset."
   ]
  },
  {
   "cell_type": "markdown",
   "metadata": {},
   "source": [
    "### Step 1: Import libraries and read in data set"
   ]
  },
  {
   "cell_type": "code",
   "execution_count": 1,
   "metadata": {},
   "outputs": [],
   "source": [
    "# install.packages('dplyr')                                           # processing \n",
    "# install.packages('gdata')                                           # file reading\n",
    "# install.packages('tidyverse')                                       # ggplot2 plot library\n",
    "# install.packages('gridExtra')                                       # subplotting\n",
    "# install.packages('stats')                                           # Friedman Test\n",
    "# install.packages('rstatix')                                         # effect size for Friedman Test\n",
    "# install.packages('coin', repos='http://R-Forge.R-project.org')      # effect size for Wilcoxon signed-rank post hoc"
   ]
  },
  {
   "cell_type": "code",
   "execution_count": 2,
   "metadata": {
    "scrolled": true
   },
   "outputs": [
    {
     "name": "stderr",
     "output_type": "stream",
     "text": [
      "Warning message:\n",
      "\"package 'dplyr' was built under R version 3.6.2\"\n",
      "Attaching package: 'dplyr'\n",
      "\n",
      "The following objects are masked from 'package:stats':\n",
      "\n",
      "    filter, lag\n",
      "\n",
      "The following objects are masked from 'package:base':\n",
      "\n",
      "    intersect, setdiff, setequal, union\n",
      "\n",
      "Warning message:\n",
      "\"package 'rstatix' was built under R version 3.6.2\"\n",
      "Attaching package: 'rstatix'\n",
      "\n",
      "The following object is masked from 'package:stats':\n",
      "\n",
      "    filter\n",
      "\n",
      "Warning message:\n",
      "\"package 'gridExtra' was built under R version 3.6.2\"\n",
      "Attaching package: 'gridExtra'\n",
      "\n",
      "The following object is masked from 'package:dplyr':\n",
      "\n",
      "    combine\n",
      "\n",
      "Warning message:\n",
      "\"package 'coin' was built under R version 3.6.2\"Loading required package: survival\n",
      "\n",
      "Attaching package: 'coin'\n",
      "\n",
      "The following objects are masked from 'package:rstatix':\n",
      "\n",
      "    chisq_test, friedman_test, kruskal_test, sign_test, wilcox_test\n",
      "\n"
     ]
    }
   ],
   "source": [
    "library(dplyr)     # processing\n",
    "library(readxl)    # reading in data\n",
    "library(stats)     # Friedman test\n",
    "library(rstatix)   # effect size for Friedman Test\n",
    "library(ggplot2)   # plots\n",
    "library(gridExtra) # subplotting\n",
    "library(coin)      # effect size for Wilcoxon signed-rank post hoc"
   ]
  },
  {
   "cell_type": "code",
   "execution_count": 3,
   "metadata": {
    "scrolled": false
   },
   "outputs": [
    {
     "data": {
      "text/html": [
       "<table>\n",
       "<thead><tr><th scope=col>PID</th><th scope=col>Bitrate</th><th scope=col>VQ</th></tr></thead>\n",
       "<tbody>\n",
       "\t<tr><td>1    </td><td> 2000</td><td>2.9  </td></tr>\n",
       "\t<tr><td>1    </td><td> 4000</td><td>2.0  </td></tr>\n",
       "\t<tr><td>1    </td><td> 6000</td><td>4.5  </td></tr>\n",
       "\t<tr><td>1    </td><td>50000</td><td>4.6  </td></tr>\n",
       "\t<tr><td>2    </td><td> 2000</td><td>4.6  </td></tr>\n",
       "\t<tr><td>2    </td><td> 4000</td><td>4.7  </td></tr>\n",
       "</tbody>\n",
       "</table>\n"
      ],
      "text/latex": [
       "\\begin{tabular}{r|lll}\n",
       " PID & Bitrate & VQ\\\\\n",
       "\\hline\n",
       "\t 1     &  2000 & 2.9  \\\\\n",
       "\t 1     &  4000 & 2.0  \\\\\n",
       "\t 1     &  6000 & 4.5  \\\\\n",
       "\t 1     & 50000 & 4.6  \\\\\n",
       "\t 2     &  2000 & 4.6  \\\\\n",
       "\t 2     &  4000 & 4.7  \\\\\n",
       "\\end{tabular}\n"
      ],
      "text/markdown": [
       "\n",
       "| PID | Bitrate | VQ |\n",
       "|---|---|---|\n",
       "| 1     |  2000 | 2.9   |\n",
       "| 1     |  4000 | 2.0   |\n",
       "| 1     |  6000 | 4.5   |\n",
       "| 1     | 50000 | 4.6   |\n",
       "| 2     |  2000 | 4.6   |\n",
       "| 2     |  4000 | 4.7   |\n",
       "\n"
      ],
      "text/plain": [
       "  PID Bitrate VQ \n",
       "1 1    2000   2.9\n",
       "2 1    4000   2.0\n",
       "3 1    6000   4.5\n",
       "4 1   50000   4.6\n",
       "5 2    2000   4.6\n",
       "6 2    4000   4.7"
      ]
     },
     "metadata": {},
     "output_type": "display_data"
    }
   ],
   "source": [
    "# read in data sets\n",
    "\n",
    "get_gaming_data <- function() {\n",
    "    gaming_data <- read_excel(\"datasets/DB01_gaming_video_quality_dataset.xlsx\")\n",
    "    gaming_data <- gaming_data %>% dplyr::filter(Resolution == 1080, Framerate == 60, Game == 'Game1') %>%\n",
    "                                    select(PID, Bitrate, VQ) %>%\n",
    "                                    arrange(PID)\n",
    "    \n",
    "    gaming_data\n",
    "}\n",
    "\n",
    "gaming_data <- get_gaming_data()\n",
    "head(gaming_data)"
   ]
  },
  {
   "cell_type": "markdown",
   "metadata": {},
   "source": [
    "### Step 2: Decide on which non-parametric test to use"
   ]
  },
  {
   "cell_type": "markdown",
   "metadata": {},
   "source": [
    "#### => More than two groups (as 4 different bitrates) and each subject giving several ratings based on the bitrate condition => dependent ratings, one independent variable (bitrate) => Friedman Test"
   ]
  },
  {
   "cell_type": "markdown",
   "metadata": {},
   "source": [
    "### Step 3: Check assumptions"
   ]
  },
  {
   "cell_type": "markdown",
   "metadata": {},
   "source": [
    "#### 1. One group is measured more than 2 times => check, as each bitrate group contains 20+ ratings (each from a different subjects)\n",
    "#### 2. Dependent variable (VQ) at least at ordinal level => check, as the video quality (VQ) ratings is continuous"
   ]
  },
  {
   "cell_type": "markdown",
   "metadata": {},
   "source": [
    "#### => Assumptions for non-parametric Friedman Test met :)"
   ]
  },
  {
   "cell_type": "markdown",
   "metadata": {},
   "source": [
    "### Step 4: Conduct Friedman Test"
   ]
  },
  {
   "cell_type": "code",
   "execution_count": 4,
   "metadata": {
    "scrolled": false
   },
   "outputs": [
    {
     "data": {
      "text/plain": [
       "\n",
       "\tFriedman rank sum test\n",
       "\n",
       "data:  gaming_data$VQ, gaming_data$Bitrate and gaming_data$PID\n",
       "Friedman chi-squared = 56.716, df = 3, p-value = 2.955e-12\n"
      ]
     },
     "metadata": {},
     "output_type": "display_data"
    }
   ],
   "source": [
    "# Conduct Friedman Test\n",
    "\n",
    "friedman.test(gaming_data$VQ, gaming_data$Bitrate, gaming_data$PID)"
   ]
  },
  {
   "cell_type": "code",
   "execution_count": 5,
   "metadata": {},
   "outputs": [
    {
     "data": {
      "text/html": [
       "<table>\n",
       "<thead><tr><th scope=col>.y.</th><th scope=col>n</th><th scope=col>effsize</th><th scope=col>method</th><th scope=col>magnitude</th></tr></thead>\n",
       "<tbody>\n",
       "\t<tr><td>VQ       </td><td>25       </td><td>0.756214 </td><td>Kendall W</td><td>large    </td></tr>\n",
       "</tbody>\n",
       "</table>\n"
      ],
      "text/latex": [
       "\\begin{tabular}{r|lllll}\n",
       " .y. & n & effsize & method & magnitude\\\\\n",
       "\\hline\n",
       "\t VQ        & 25        & 0.756214  & Kendall W & large    \\\\\n",
       "\\end{tabular}\n"
      ],
      "text/markdown": [
       "\n",
       "| .y. | n | effsize | method | magnitude |\n",
       "|---|---|---|---|---|\n",
       "| VQ        | 25        | 0.756214  | Kendall W | large     |\n",
       "\n"
      ],
      "text/plain": [
       "  .y. n  effsize  method    magnitude\n",
       "1 VQ  25 0.756214 Kendall W large    "
      ]
     },
     "metadata": {},
     "output_type": "display_data"
    }
   ],
   "source": [
    "# Compute effect size\n",
    "\n",
    "friedman_effsize(gaming_data, VQ ~ Bitrate | PID)"
   ]
  },
  {
   "cell_type": "markdown",
   "metadata": {},
   "source": [
    "#### Based on the Friedman Test, we can see that the p value is around 0, therefore we can assume that the bitrate has a significant impact on the video quality (VQ) ratings. The effect size is also of large magnitude. More: see interpretation"
   ]
  },
  {
   "cell_type": "markdown",
   "metadata": {},
   "source": [
    "### Step 5: Pairwise comparison / post-hoc test"
   ]
  },
  {
   "cell_type": "markdown",
   "metadata": {},
   "source": [
    "#### Two groups (bitrates) per pair and dependence between them because the subjects gave ratings for every bitrate => Wilcoxon signed-rank test as post-hoc test"
   ]
  },
  {
   "cell_type": "markdown",
   "metadata": {},
   "source": [
    "#### Checking assumptions for Wilcoxon signed-rank test:\n",
    "#### 1. Dependent variable at least ordinal (check, as VQ is contiuous)\n",
    "#### 2. Two groups (check, as pairwise comparisons)\n",
    "#### 3. Delta between groups with symmetric shape: don't know, let's look at the following plots!"
   ]
  },
  {
   "cell_type": "code",
   "execution_count": 6,
   "metadata": {},
   "outputs": [],
   "source": [
    "# plotting all delta (= VQ_group_1 - VQ_group_2) distributions to check for symmetry\n",
    "\n",
    "plot_deltas <- function(bitrate_combinations) {\n",
    "    plots <- list()\n",
    "    for (row in 1:nrow(bitrate_combinations)) {\n",
    "        # setting up the data frame for the current pairwise comparison\n",
    "        VQ1 <- (gaming_data %>% \n",
    "                filter(Bitrate == bitrate_combinations[row,][['Bitrate1']]) %>% \n",
    "                arrange(PID))[['VQ']]\n",
    "        VQ2 <- (gaming_data %>% \n",
    "                filter(Bitrate == bitrate_combinations[row,][['Bitrate2']]) %>% \n",
    "                arrange(PID))[['VQ']]\n",
    "        delta <- as.data.frame(VQ1 - VQ2)\n",
    "        \n",
    "        # save plot\n",
    "        colnames(delta) <- c('Delta')\n",
    "        plots[[row]] <- ggplot(delta, aes(x=Delta)) + \n",
    "          geom_histogram(color=\"red\", fill=\"white\", bins = 36) + \n",
    "            theme(panel.background = element_rect(fill = \"lightblue\", colour = \"lightblue\"), \n",
    "                  plot.title = element_text(size=10)) + \n",
    "                ggtitle(paste0('Delta distribution for ', \n",
    "                               bitrate_combinations[row,][['Bitrate2']], \n",
    "                               ' kbps and ', bitrate_combinations[row,][['Bitrate1']], ' kbps\\nbitrate VQ ratings:'))\n",
    "    }\n",
    "    \n",
    "    # plot all pairwise combination plots\n",
    "    do.call(grid.arrange, plots)\n",
    "}"
   ]
  },
  {
   "cell_type": "code",
   "execution_count": 7,
   "metadata": {},
   "outputs": [
    {
     "data": {
      "image/png": "[encoded data removed]",
      "text/plain": [
       "plot without title"
      ]
     },
     "metadata": {},
     "output_type": "display_data"
    }
   ],
   "source": [
    "# finding all possible bitrate pairs without duplications\n",
    "\n",
    "bitrates <- (gaming_data %>% distinct(Bitrate))[['Bitrate']]\n",
    "all_bitrate_combinations <- expand.grid(bitrates, bitrates) %>% filter(Var1 != Var2) # remove self-comparisons\n",
    "all_bitrate_combinations <- t(apply(all_bitrate_combinations, 1, sort)) # sort pairs\n",
    "all_bitrate_combinations <- all_bitrate_combinations[!duplicated(all_bitrate_combinations),] # remove duplicates\n",
    "colnames(all_bitrate_combinations) <- c('Bitrate1', 'Bitrate2') # add column names\n",
    "\n",
    "plot_deltas(all_bitrate_combinations)"
   ]
  },
  {
   "cell_type": "markdown",
   "metadata": {},
   "source": [
    "#### As we can see, the delta distributions is not perfectly symmetric, but we are still going to continue with the post-hoc test! :)"
   ]
  },
  {
   "cell_type": "markdown",
   "metadata": {},
   "source": [
    "#### Conducting the post-hoc test"
   ]
  },
  {
   "cell_type": "code",
   "execution_count": 8,
   "metadata": {
    "scrolled": false
   },
   "outputs": [
    {
     "data": {
      "text/plain": [
       "\n",
       "\tPairwise comparisons using Wilcoxon signed rank test \n",
       "\n",
       "data:  gaming_data$VQ and gaming_data$Bitrate \n",
       "\n",
       "      2000    4000    6000   \n",
       "4000  0.00291 -       -      \n",
       "6000  0.00072 0.01149 -      \n",
       "50000 8.8e-05 8.8e-05 0.00033\n",
       "\n",
       "P value adjustment method: bonferroni "
      ]
     },
     "metadata": {},
     "output_type": "display_data"
    }
   ],
   "source": [
    "# Bonferroni correction to conservatively control Type I error\n",
    "\n",
    "pairwise.wilcox.test(gaming_data$VQ, \n",
    "                     gaming_data$Bitrate, \n",
    "                     paired=TRUE, \n",
    "                     exact=FALSE, # better compatibility with ties\n",
    "                     p.adj='bonferroni')"
   ]
  },
  {
   "cell_type": "code",
   "execution_count": 9,
   "metadata": {},
   "outputs": [
    {
     "data": {
      "text/html": [
       "<table>\n",
       "<thead><tr><th scope=col>.y.</th><th scope=col>group1</th><th scope=col>group2</th><th scope=col>effsize</th><th scope=col>n1</th><th scope=col>n2</th><th scope=col>magnitude</th></tr></thead>\n",
       "<tbody>\n",
       "\t<tr><td>VQ       </td><td>2000     </td><td>50000    </td><td>0.8695655</td><td>25       </td><td>25       </td><td>large    </td></tr>\n",
       "\t<tr><td>VQ       </td><td>4000     </td><td>50000    </td><td>0.8692899</td><td>25       </td><td>25       </td><td>large    </td></tr>\n",
       "\t<tr><td>VQ       </td><td>6000     </td><td>50000    </td><td>0.8297096</td><td>25       </td><td>25       </td><td>large    </td></tr>\n",
       "\t<tr><td>VQ       </td><td>2000     </td><td>6000     </td><td>0.7863225</td><td>25       </td><td>25       </td><td>large    </td></tr>\n",
       "\t<tr><td>VQ       </td><td>2000     </td><td>4000     </td><td>0.7082289</td><td>25       </td><td>25       </td><td>large    </td></tr>\n",
       "\t<tr><td>VQ       </td><td>4000     </td><td>6000     </td><td>0.6469673</td><td>25       </td><td>25       </td><td>large    </td></tr>\n",
       "</tbody>\n",
       "</table>\n"
      ],
      "text/latex": [
       "\\begin{tabular}{r|lllllll}\n",
       " .y. & group1 & group2 & effsize & n1 & n2 & magnitude\\\\\n",
       "\\hline\n",
       "\t VQ        & 2000      & 50000     & 0.8695655 & 25        & 25        & large    \\\\\n",
       "\t VQ        & 4000      & 50000     & 0.8692899 & 25        & 25        & large    \\\\\n",
       "\t VQ        & 6000      & 50000     & 0.8297096 & 25        & 25        & large    \\\\\n",
       "\t VQ        & 2000      & 6000      & 0.7863225 & 25        & 25        & large    \\\\\n",
       "\t VQ        & 2000      & 4000      & 0.7082289 & 25        & 25        & large    \\\\\n",
       "\t VQ        & 4000      & 6000      & 0.6469673 & 25        & 25        & large    \\\\\n",
       "\\end{tabular}\n"
      ],
      "text/markdown": [
       "\n",
       "| .y. | group1 | group2 | effsize | n1 | n2 | magnitude |\n",
       "|---|---|---|---|---|---|---|\n",
       "| VQ        | 2000      | 50000     | 0.8695655 | 25        | 25        | large     |\n",
       "| VQ        | 4000      | 50000     | 0.8692899 | 25        | 25        | large     |\n",
       "| VQ        | 6000      | 50000     | 0.8297096 | 25        | 25        | large     |\n",
       "| VQ        | 2000      | 6000      | 0.7863225 | 25        | 25        | large     |\n",
       "| VQ        | 2000      | 4000      | 0.7082289 | 25        | 25        | large     |\n",
       "| VQ        | 4000      | 6000      | 0.6469673 | 25        | 25        | large     |\n",
       "\n"
      ],
      "text/plain": [
       "  .y. group1 group2 effsize   n1 n2 magnitude\n",
       "1 VQ  2000   50000  0.8695655 25 25 large    \n",
       "2 VQ  4000   50000  0.8692899 25 25 large    \n",
       "3 VQ  6000   50000  0.8297096 25 25 large    \n",
       "4 VQ  2000   6000   0.7863225 25 25 large    \n",
       "5 VQ  2000   4000   0.7082289 25 25 large    \n",
       "6 VQ  4000   6000   0.6469673 25 25 large    "
      ]
     },
     "metadata": {},
     "output_type": "display_data"
    }
   ],
   "source": [
    "# Compute r effect size for Wilcoxon signed-rank test (https://rpkgs.datanovia.com/rstatix/reference/wilcox_effsize.html)\n",
    "\n",
    "gaming_data %>% wilcox_effsize(VQ ~ Bitrate, paired = TRUE) %>% arrange(desc(effsize))"
   ]
  },
  {
   "cell_type": "markdown",
   "metadata": {},
   "source": [
    "#### As we can see in the pairwise comparison results, the p values are smaller than 0.05 in all cases. Therefore, altering the bitrate seems to have a significant impact on the video quality (VQ) ratings in every case. This impression is also confirmed by the (r) effect sizes which are of large magnitude in all pairs."
   ]
  },
  {
   "cell_type": "markdown",
   "metadata": {},
   "source": [
    "### Step 6: Interpretation"
   ]
  },
  {
   "cell_type": "code",
   "execution_count": 10,
   "metadata": {},
   "outputs": [
    {
     "name": "stdout",
     "output_type": "stream",
     "text": [
      "df_{2000 kbps bitrate} = 24\n",
      "df_{4000 kbps bitrate} = 24\n",
      "df_{6000 kbps bitrate} = 24\n",
      "df_{50000 kbps bitrate} = 24\n",
      "\n",
      "df_total = 99"
     ]
    }
   ],
   "source": [
    "# compute individual degrees of freedom for groups\n",
    "\n",
    "print_degrees_of_freedom <- function() {\n",
    "    bitrates <- (gaming_data %>% distinct(Bitrate))[['Bitrate']]\n",
    "    result <- ''\n",
    "    \n",
    "    for (bitrate in bitrates) {\n",
    "        df <- (gaming_data %>% dplyr::filter(Bitrate == bitrate) %>% mutate(df = n() - 1))[1,][['df']]\n",
    "        result <- paste0(result, 'df_{', bitrate, ' kbps bitrate} = ', df, '\\n')\n",
    "    } \n",
    "    \n",
    "    # pretty print\n",
    "    result <- paste0(result, '\\ndf_total = ', nrow(gaming_data) - 1)\n",
    "    cat(result)\n",
    "}\n",
    "\n",
    "print_degrees_of_freedom()"
   ]
  },
  {
   "cell_type": "code",
   "execution_count": 11,
   "metadata": {},
   "outputs": [
    {
     "name": "stdout",
     "output_type": "stream",
     "text": [
      "VQ rating mean for 2000 kbps bitrate = 2.964, standard deviation of VQ = 0.89948\n",
      "VQ rating mean for 4000 kbps bitrate = 3.74, standard deviation of VQ = 0.75\n",
      "VQ rating mean for 6000 kbps bitrate = 4.28, standard deviation of VQ = 0.84014\n",
      "VQ rating mean for 50000 kbps bitrate = 5.36, standard deviation of VQ = 0.65638\n"
     ]
    }
   ],
   "source": [
    "# compute statistics for bitrates\n",
    "\n",
    "print_statistics_for_bitrates <- function() {\n",
    "    bitrates <- (gaming_data %>% distinct(Bitrate))[['Bitrate']]\n",
    "    result_string <- ''\n",
    "    \n",
    "    for (bitrate in bitrates) {\n",
    "        data <- gaming_data %>% \n",
    "                    filter(Bitrate == bitrate) %>% \n",
    "                    group_by(Bitrate) %>% \n",
    "                    summarize(mean = round(mean(VQ), digits=5), sd = round(sd(VQ), digits=5))\n",
    "        result_string <- paste0(result_string, 'VQ rating mean for ', bitrate, ' kbps bitrate = ', data['mean'], ', standard deviation of VQ = ', data['sd'], '\\n')\n",
    "    }  \n",
    "    \n",
    "    # pretty print\n",
    "    cat(result_string)\n",
    "}\n",
    "\n",
    "print_statistics_for_bitrates()"
   ]
  },
  {
   "cell_type": "markdown",
   "metadata": {},
   "source": [
    "#### Altering the bitrate does indeed have a significant effect on the video quality (VQ) ratings (with selected alpha of  0.05): \n",
    "#### There is a significant, rather large effect of the bitrate on the video quality (VQ) ratings (Friedman test's chi-squared statistic value of around 56.716, p-value of around 0 and large effect size of around 0.7562 (Kendall’s W coefficient, interpretated intervals are the same as for Cohen's D)). \n",
    "#### The total degrees of freedom are the amount of total observations - 1 => 100 - 1 = 99 [or 25 - 1 = 24 degrees of freedom per distinct bitrate group and 3 for the Friedman Test].\n",
    "#### Regarding pairwise comparisons / post hoc tests (pairwise Wilcoxon signed-rank test with Bonferroni correction for non-parametric tests), there is a statistically significant difference of video quality (VQ) ratings when altering the bitrate in every case. The biggest differences in VQ ratings statistically occur in the following cases (sorted in ascending order of p values):\n",
    "#### 1. Switching between 50000 kbps bitrate & 2000 or 4000 kbps bitrate (p value of around 0.00008 < 0.001, r effect size around 0.87)\n",
    "#### 2. Switching between 50000 kbps bitrate & 6000 kbps bitrate (p value of around 0.00033 < 0.001, r effect size around 0.8297)\n",
    "#### 3. Switching between 6000 kbps & 2000 kbps bitrate (p value of around 0.00072 < 0.001, r effect size around 0.7863)\n",
    "#### 4. Switching between 4000 kbps & 2000 kbps bitrate (p value of around 0.00291 < 0.05, r effect size around 0.7082)\n",
    "#### 5. Switching between 6000 kbps & 4000 kbps bitrate (p value of around 0.01149 < 0.05, r effect size around 0.647)\n",
    "#### This confirms the intuition of the p values and effect sizes that one can have before actually conducting the test. For more information, please look above."
   ]
  }
 ],
 "metadata": {
  "kernelspec": {
   "display_name": "R",
   "language": "R",
   "name": "ir"
  },
  "language_info": {
   "codemirror_mode": "r",
   "file_extension": ".r",
   "mimetype": "text/x-r-source",
   "name": "R",
   "pygments_lexer": "r",
   "version": "3.6.1"
  }
 },
 "nbformat": 4,
 "nbformat_minor": 2
}
