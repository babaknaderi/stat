{
 "cells": [
  {
   "cell_type": "markdown",
   "metadata": {},
   "source": [
    "# Task 1: How reliable was the CS study? Compare it with the corresponding Lab study (calculate per condition level, use Intra class correlation for both CS and Lab)."
   ]
  },
  {
   "cell_type": "code",
   "execution_count": 1,
   "metadata": {},
   "outputs": [],
   "source": [
    "# install.packages('dplyr')      # processing \n",
    "# install.packages('gdata')      # file reading\n",
    "# install.packages('reshape2')   # getting rid of NA values\n",
    "# install.packages('irr')        # Intraclass Correlation Coefficients"
   ]
  },
  {
   "cell_type": "code",
   "execution_count": 2,
   "metadata": {},
   "outputs": [
    {
     "name": "stderr",
     "output_type": "stream",
     "text": [
      "\n",
      "Attaching package: 'dplyr'\n",
      "\n",
      "The following objects are masked from 'package:stats':\n",
      "\n",
      "    filter, lag\n",
      "\n",
      "The following objects are masked from 'package:base':\n",
      "\n",
      "    intersect, setdiff, setequal, union\n",
      "\n",
      "Loading required package: lpSolve\n"
     ]
    }
   ],
   "source": [
    "# include libraries\n",
    "library(dplyr)     # processing\n",
    "library(readxl)    # reading in data\n",
    "library(reshape2)  # used for clearing data points of NA values\n",
    "library(irr)       # Intraclass Correlation Coefficients"
   ]
  },
  {
   "cell_type": "markdown",
   "metadata": {},
   "source": [
    "# Compute ICC for Crowdsourcing study"
   ]
  },
  {
   "cell_type": "code",
   "execution_count": 3,
   "metadata": {},
   "outputs": [],
   "source": [
    "# wrapper function that gets cs data with mos per condition, subject\n",
    "\n",
    "get_cs_data <- function (summarised) {\n",
    "    speech_quality_crowdsourcing <- read_excel(\"datasets/DB04_speech_quality_crowdsourcing_dataset.xlsx\", sheet = 3)\n",
    "    speech_quality_crowdsourcing$cond = substr(speech_quality_crowdsourcing$files,6,8)\n",
    "    \n",
    "    # remove NA's and merge data\n",
    "    p <- select(speech_quality_crowdsourcing, starts_with(\"P\"), cond)\n",
    "    crowd <- melt(p, id.vars=c('cond'))\n",
    "    crowd <- na.omit(crowd)\n",
    "    \n",
    "    if(summarised) {\n",
    "        return(crowd %>% group_by(cond, variable) %>% \n",
    "                summarise(Crowdsourcing = mean(value, na.rm = TRUE)) %>%\n",
    "                rename(condition = cond) %>%\n",
    "                arrange(condition))\n",
    "    } else {\n",
    "        return(crowd)\n",
    "    }\n",
    "}"
   ]
  },
  {
   "cell_type": "code",
   "execution_count": 4,
   "metadata": {},
   "outputs": [],
   "source": [
    "# read in cs spreadsheet\n",
    "\n",
    "cs_data <- get_cs_data(TRUE) %>% rename(rater = variable)\n",
    "\n",
    "cs_data <- dcast(melt(cs_data, id.vars=c(\"condition\", \"rater\")), rater ~ condition) # long to wide data frame format\n",
    "rownames(cs_data) <- cs_data[,1] # add column values (conditions) as row names\n",
    "cs_data <- cs_data[,-1] # remove condition column"
   ]
  },
  {
   "cell_type": "code",
   "execution_count": 5,
   "metadata": {},
   "outputs": [
    {
     "data": {
      "text/html": [
       "<table>\n",
       "<thead><tr><th></th><th scope=col>P1</th><th scope=col>P2</th><th scope=col>P3</th><th scope=col>P4</th><th scope=col>P5</th><th scope=col>P6</th><th scope=col>P7</th><th scope=col>P8</th><th scope=col>P9</th><th scope=col>P10</th><th scope=col>P11</th><th scope=col>P12</th><th scope=col>P13</th><th scope=col>P14</th><th scope=col>P15</th><th scope=col>P16</th><th scope=col>P17</th><th scope=col>P18</th></tr></thead>\n",
       "<tbody>\n",
       "\t<tr><th scope=row>c01</th><td>4.791667</td><td>4.875000</td><td>4.708333</td><td>4.750000</td><td>4.958333</td><td>4.958333</td><td>4.875000</td><td>4.809524</td><td>4.833333</td><td>4.714286</td><td>NA      </td><td>NA      </td><td>NA      </td><td>NA      </td><td>NA      </td><td>NA      </td><td>NA      </td><td>NA      </td></tr>\n",
       "\t<tr><th scope=row>c02</th><td>1.500000</td><td>1.458333</td><td>1.666667</td><td>1.416667</td><td>1.541667</td><td>1.500000</td><td>1.541667</td><td>1.590909</td><td>1.736842</td><td>1.444444</td><td>NA      </td><td>NA      </td><td>NA      </td><td>NA      </td><td>NA      </td><td>NA      </td><td>NA      </td><td>NA      </td></tr>\n",
       "\t<tr><th scope=row>c03</th><td>4.125000</td><td>4.458333</td><td>4.250000</td><td>4.541667</td><td>4.625000</td><td>4.208333</td><td>4.130435</td><td>4.333333</td><td>4.611111</td><td>4.200000</td><td>NA      </td><td>NA      </td><td>NA      </td><td>NA      </td><td>NA      </td><td>NA      </td><td>NA      </td><td>NA      </td></tr>\n",
       "\t<tr><th scope=row>c04</th><td>2.875000</td><td>2.875000</td><td>2.541667</td><td>2.666667</td><td>3.083333</td><td>2.500000</td><td>2.916667</td><td>3.043478</td><td>2.368421</td><td>3.142857</td><td>NA      </td><td>NA      </td><td>NA      </td><td>NA      </td><td>NA      </td><td>NA      </td><td>NA      </td><td>NA      </td></tr>\n",
       "\t<tr><th scope=row>c05</th><td>3.333333</td><td>3.708333</td><td>3.416667</td><td>3.250000</td><td>3.541667</td><td>3.666667</td><td>3.666667</td><td>3.666667</td><td>3.588235</td><td>3.600000</td><td>NA      </td><td>NA      </td><td>NA      </td><td>NA      </td><td>NA      </td><td>NA      </td><td>NA      </td><td>NA      </td></tr>\n",
       "\t<tr><th scope=row>c06</th><td>4.458333</td><td>4.666667</td><td>4.583333</td><td>4.541667</td><td>4.750000</td><td>4.541667</td><td>4.583333</td><td>4.714286</td><td>4.705882</td><td>4.888889</td><td>NA      </td><td>NA      </td><td>NA      </td><td>NA      </td><td>NA      </td><td>NA      </td><td>NA      </td><td>NA      </td></tr>\n",
       "\t<tr><th scope=row>c07</th><td>3.500000</td><td>3.875000</td><td>3.416667</td><td>3.541667</td><td>3.833333</td><td>3.791667</td><td>3.521739</td><td>4.047619</td><td>3.562500</td><td>3.375000</td><td>NA      </td><td>NA      </td><td>NA      </td><td>NA      </td><td>NA      </td><td>NA      </td><td>NA      </td><td>NA      </td></tr>\n",
       "\t<tr><th scope=row>c08</th><td>3.916667</td><td>4.041667</td><td>3.875000</td><td>3.916667</td><td>3.833333</td><td>4.041667</td><td>4.086957</td><td>3.909091</td><td>3.642857</td><td>4.000000</td><td>NA      </td><td>NA      </td><td>NA      </td><td>NA      </td><td>NA      </td><td>NA      </td><td>NA      </td><td>NA      </td></tr>\n",
       "\t<tr><th scope=row>c09</th><td>3.166667</td><td>3.125000</td><td>3.250000</td><td>2.791667</td><td>3.291667</td><td>3.083333</td><td>2.913043</td><td>3.095238</td><td>3.263158</td><td>3.500000</td><td>NA      </td><td>NA      </td><td>NA      </td><td>NA      </td><td>NA      </td><td>NA      </td><td>NA      </td><td>NA      </td></tr>\n",
       "\t<tr><th scope=row>c10</th><td>4.541667</td><td>4.500000</td><td>4.458333</td><td>4.541667</td><td>4.625000</td><td>4.541667</td><td>4.625000</td><td>4.315789</td><td>4.352941</td><td>4.750000</td><td> 4      </td><td> 5      </td><td> 4      </td><td> 5      </td><td> 5      </td><td> 4      </td><td> 4      </td><td> 5      </td></tr>\n",
       "\t<tr><th scope=row>c11</th><td>4.166667</td><td>4.208333</td><td>4.250000</td><td>4.208333</td><td>4.375000</td><td>4.208333</td><td>4.000000</td><td>4.458333</td><td>4.315789</td><td>4.333333</td><td>NA      </td><td>NA      </td><td>NA      </td><td>NA      </td><td>NA      </td><td>NA      </td><td>NA      </td><td>NA      </td></tr>\n",
       "\t<tr><th scope=row>c12</th><td>1.666667</td><td>1.375000</td><td>1.625000</td><td>1.333333</td><td>1.458333</td><td>1.708333</td><td>1.434783</td><td>1.476190</td><td>1.411765</td><td>1.571429</td><td>NA      </td><td>NA      </td><td>NA      </td><td>NA      </td><td>NA      </td><td>NA      </td><td>NA      </td><td>NA      </td></tr>\n",
       "\t<tr><th scope=row>c13</th><td>4.541667</td><td>4.583333</td><td>4.541667</td><td>4.166667</td><td>4.583333</td><td>4.708333</td><td>4.347826</td><td>4.190476</td><td>4.600000</td><td>4.250000</td><td>NA      </td><td>NA      </td><td>NA      </td><td>NA      </td><td>NA      </td><td>NA      </td><td>NA      </td><td>NA      </td></tr>\n",
       "\t<tr><th scope=row>c14</th><td>2.875000</td><td>2.625000</td><td>2.958333</td><td>2.791667</td><td>2.875000</td><td>2.750000</td><td>2.833333</td><td>2.625000</td><td>2.750000</td><td>2.600000</td><td>NA      </td><td>NA      </td><td>NA      </td><td>NA      </td><td>NA      </td><td>NA      </td><td>NA      </td><td>NA      </td></tr>\n",
       "\t<tr><th scope=row>c15</th><td>3.625000</td><td>3.666667</td><td>3.458333</td><td>3.875000</td><td>3.500000</td><td>3.291667</td><td>3.625000</td><td>3.045455</td><td>3.526316</td><td>4.000000</td><td>NA      </td><td>NA      </td><td>NA      </td><td>NA      </td><td>NA      </td><td>NA      </td><td>NA      </td><td>NA      </td></tr>\n",
       "\t<tr><th scope=row>c16</th><td>3.833333</td><td>3.458333</td><td>3.541667</td><td>3.625000</td><td>3.708333</td><td>3.958333</td><td>3.625000</td><td>3.695652</td><td>3.833333</td><td>3.400000</td><td>NA      </td><td>NA      </td><td>NA      </td><td>NA      </td><td>NA      </td><td>NA      </td><td>NA      </td><td>NA      </td></tr>\n",
       "\t<tr><th scope=row>c17</th><td>4.291667</td><td>4.500000</td><td>4.250000</td><td>4.166667</td><td>4.291667</td><td>4.333333</td><td>4.166667</td><td>4.000000</td><td>4.000000</td><td>4.000000</td><td>NA      </td><td>NA      </td><td>NA      </td><td>NA      </td><td>NA      </td><td>NA      </td><td>NA      </td><td>NA      </td></tr>\n",
       "\t<tr><th scope=row>c18</th><td>3.416667</td><td>2.958333</td><td>3.083333</td><td>3.291667</td><td>3.208333</td><td>3.166667</td><td>2.958333</td><td>2.913043</td><td>2.736842</td><td>2.750000</td><td>NA      </td><td>NA      </td><td>NA      </td><td>NA      </td><td>NA      </td><td>NA      </td><td>NA      </td><td>NA      </td></tr>\n",
       "\t<tr><th scope=row>c19</th><td>4.666667</td><td>4.500000</td><td>4.458333</td><td>4.625000</td><td>4.583333</td><td>4.458333</td><td>4.375000</td><td>4.318182</td><td>4.461538</td><td>4.857143</td><td>NA      </td><td>NA      </td><td>NA      </td><td>NA      </td><td>NA      </td><td>NA      </td><td>NA      </td><td>NA      </td></tr>\n",
       "\t<tr><th scope=row>c20</th><td>3.083333</td><td>2.875000</td><td>2.833333</td><td>2.625000</td><td>2.583333</td><td>2.708333</td><td>2.958333</td><td>2.750000</td><td>2.631579</td><td>2.857143</td><td> 2      </td><td> 3      </td><td> 3      </td><td> 4      </td><td> 2      </td><td> 4      </td><td> 1      </td><td> 3      </td></tr>\n",
       "\t<tr><th scope=row>c21</th><td>3.291667</td><td>2.916667</td><td>3.333333</td><td>2.875000</td><td>3.000000</td><td>3.125000</td><td>2.916667</td><td>2.863636</td><td>3.000000</td><td>2.800000</td><td>NA      </td><td>NA      </td><td>NA      </td><td>NA      </td><td>NA      </td><td>NA      </td><td>NA      </td><td>NA      </td></tr>\n",
       "\t<tr><th scope=row>c22</th><td>3.000000</td><td>2.666667</td><td>2.916667</td><td>2.791667</td><td>2.916667</td><td>2.958333</td><td>2.916667</td><td>2.772727</td><td>2.764706</td><td>3.200000</td><td>NA      </td><td>NA      </td><td>NA      </td><td>NA      </td><td>NA      </td><td>NA      </td><td>NA      </td><td>NA      </td></tr>\n",
       "\t<tr><th scope=row>c23</th><td>3.916667</td><td>3.791667</td><td>3.875000</td><td>3.833333</td><td>3.875000</td><td>3.625000</td><td>3.500000</td><td>3.363636</td><td>3.722222</td><td>4.000000</td><td>NA      </td><td>NA      </td><td>NA      </td><td>NA      </td><td>NA      </td><td>NA      </td><td>NA      </td><td>NA      </td></tr>\n",
       "\t<tr><th scope=row>c24</th><td>1.541667</td><td>1.791667</td><td>1.458333</td><td>1.666667</td><td>1.458333</td><td>1.500000</td><td>1.583333</td><td>1.136364</td><td>1.263158</td><td>1.500000</td><td>NA      </td><td>NA      </td><td>NA      </td><td>NA      </td><td>NA      </td><td>NA      </td><td>NA      </td><td>NA      </td></tr>\n",
       "\t<tr><th scope=row>c25</th><td>4.375000</td><td>4.375000</td><td>3.916667</td><td>4.208333</td><td>4.125000</td><td>4.500000</td><td>4.333333</td><td>4.238095</td><td>4.666667</td><td>4.833333</td><td>NA      </td><td>NA      </td><td>NA      </td><td>NA      </td><td>NA      </td><td>NA      </td><td>NA      </td><td>NA      </td></tr>\n",
       "\t<tr><th scope=row>c26</th><td>1.750000</td><td>1.500000</td><td>1.333333</td><td>1.583333</td><td>1.333333</td><td>1.541667</td><td>1.521739</td><td>1.428571</td><td>1.600000</td><td>1.500000</td><td> 1      </td><td> 1      </td><td> 3      </td><td> 1      </td><td> 3      </td><td> 1      </td><td> 1      </td><td> 1      </td></tr>\n",
       "\t<tr><th scope=row>c27</th><td>2.625000</td><td>2.916667</td><td>2.708333</td><td>2.750000</td><td>3.125000</td><td>2.625000</td><td>2.478261</td><td>2.500000</td><td>2.733333</td><td>3.000000</td><td>NA      </td><td>NA      </td><td>NA      </td><td>NA      </td><td>NA      </td><td>NA      </td><td>NA      </td><td>NA      </td></tr>\n",
       "\t<tr><th scope=row>c28</th><td>2.458333</td><td>2.458333</td><td>2.250000</td><td>2.166667</td><td>2.250000</td><td>2.083333</td><td>2.347826</td><td>2.600000</td><td>2.210526</td><td>2.444444</td><td> 2      </td><td> 3      </td><td> 3      </td><td> 3      </td><td> 3      </td><td> 4      </td><td> 1      </td><td> 2      </td></tr>\n",
       "\t<tr><th scope=row>c29</th><td>2.875000</td><td>2.875000</td><td>3.000000</td><td>2.791667</td><td>2.958333</td><td>2.958333</td><td>2.875000</td><td>3.333333</td><td>3.052632</td><td>2.777778</td><td>NA      </td><td>NA      </td><td>NA      </td><td>NA      </td><td>NA      </td><td>NA      </td><td>NA      </td><td>NA      </td></tr>\n",
       "\t<tr><th scope=row>c30</th><td>2.083333</td><td>2.125000</td><td>2.083333</td><td>1.791667</td><td>1.833333</td><td>1.625000</td><td>1.833333</td><td>2.000000</td><td>2.047619</td><td>2.500000</td><td>NA      </td><td>NA      </td><td>NA      </td><td>NA      </td><td>NA      </td><td>NA      </td><td>NA      </td><td>NA      </td></tr>\n",
       "\t<tr><th scope=row>c31</th><td>3.375000</td><td>2.958333</td><td>3.125000</td><td>3.083333</td><td>3.375000</td><td>3.166667</td><td>2.958333</td><td>3.000000</td><td>3.000000</td><td>3.333333</td><td>NA      </td><td>NA      </td><td>NA      </td><td>NA      </td><td>NA      </td><td>NA      </td><td>NA      </td><td>NA      </td></tr>\n",
       "\t<tr><th scope=row>c32</th><td>2.916667</td><td>2.666667</td><td>2.833333</td><td>2.791667</td><td>3.125000</td><td>2.541667</td><td>2.708333</td><td>2.809524</td><td>3.000000</td><td>2.777778</td><td>NA      </td><td>NA      </td><td>NA      </td><td>NA      </td><td>NA      </td><td>NA      </td><td>NA      </td><td>NA      </td></tr>\n",
       "\t<tr><th scope=row>c33</th><td>3.375000</td><td>3.416667</td><td>3.250000</td><td>3.541667</td><td>3.416667</td><td>3.208333</td><td>3.333333</td><td>3.086957</td><td>3.500000</td><td>3.700000</td><td>NA      </td><td>NA      </td><td>NA      </td><td>NA      </td><td>NA      </td><td>NA      </td><td>NA      </td><td>NA      </td></tr>\n",
       "\t<tr><th scope=row>c34</th><td>3.458333</td><td>3.416667</td><td>3.416667</td><td>3.333333</td><td>3.333333</td><td>3.458333</td><td>3.166667</td><td>3.086957</td><td>3.187500</td><td>3.222222</td><td>NA      </td><td>NA      </td><td>NA      </td><td>NA      </td><td>NA      </td><td>NA      </td><td>NA      </td><td>NA      </td></tr>\n",
       "\t<tr><th scope=row>c35</th><td>2.708333</td><td>2.875000</td><td>2.750000</td><td>2.708333</td><td>2.791667</td><td>2.541667</td><td>2.541667</td><td>2.695652</td><td>2.937500</td><td>2.571429</td><td>NA      </td><td>NA      </td><td>NA      </td><td>NA      </td><td>NA      </td><td>NA      </td><td>NA      </td><td>NA      </td></tr>\n",
       "\t<tr><th scope=row>c36</th><td>2.708333</td><td>2.291667</td><td>2.500000</td><td>2.458333</td><td>2.125000</td><td>2.291667</td><td>2.333333</td><td>2.714286</td><td>2.333333</td><td>2.916667</td><td>NA      </td><td>NA      </td><td>NA      </td><td>NA      </td><td>NA      </td><td>NA      </td><td>NA      </td><td>NA      </td></tr>\n",
       "\t<tr><th scope=row>c37</th><td>3.500000</td><td>3.291667</td><td>3.333333</td><td>3.250000</td><td>3.208333</td><td>3.291667</td><td>3.125000</td><td>3.318182</td><td>3.312500</td><td>3.571429</td><td> 3      </td><td> 3      </td><td> 3      </td><td> 5      </td><td> 5      </td><td> 3      </td><td> 2      </td><td> 4      </td></tr>\n",
       "\t<tr><th scope=row>c38</th><td>2.083333</td><td>2.083333</td><td>2.583333</td><td>1.916667</td><td>2.291667</td><td>2.250000</td><td>2.000000</td><td>1.772727</td><td>1.764706</td><td>1.750000</td><td>NA      </td><td>NA      </td><td>NA      </td><td>NA      </td><td>NA      </td><td>NA      </td><td>NA      </td><td>NA      </td></tr>\n",
       "\t<tr><th scope=row>c39</th><td>3.166667</td><td>3.083333</td><td>3.083333</td><td>2.916667</td><td>3.250000</td><td>2.875000</td><td>3.125000</td><td>2.950000</td><td>3.000000</td><td>3.416667</td><td>NA      </td><td>NA      </td><td>NA      </td><td>NA      </td><td>NA      </td><td>NA      </td><td>NA      </td><td>NA      </td></tr>\n",
       "\t<tr><th scope=row>c40</th><td>3.166667</td><td>3.250000</td><td>3.500000</td><td>3.166667</td><td>3.375000</td><td>3.458333</td><td>3.291667</td><td>3.083333</td><td>3.409091</td><td>3.125000</td><td>NA      </td><td>NA      </td><td>NA      </td><td>NA      </td><td>NA      </td><td>NA      </td><td>NA      </td><td>NA      </td></tr>\n",
       "\t<tr><th scope=row>c41</th><td>2.208333</td><td>1.625000</td><td>2.291667</td><td>2.166667</td><td>2.208333</td><td>2.291667</td><td>2.375000</td><td>2.095238</td><td>2.062500</td><td>2.000000</td><td>NA      </td><td>NA      </td><td>NA      </td><td>NA      </td><td>NA      </td><td>NA      </td><td>NA      </td><td>NA      </td></tr>\n",
       "\t<tr><th scope=row>c42</th><td>2.708333</td><td>2.583333</td><td>2.458333</td><td>2.500000</td><td>2.458333</td><td>2.458333</td><td>2.583333</td><td>2.428571</td><td>2.857143</td><td>1.750000</td><td>NA      </td><td>NA      </td><td>NA      </td><td>NA      </td><td>NA      </td><td>NA      </td><td>NA      </td><td>NA      </td></tr>\n",
       "\t<tr><th scope=row>c43</th><td>4.541667</td><td>4.583333</td><td>4.500000</td><td>4.500000</td><td>4.541667</td><td>4.541667</td><td>4.583333</td><td>4.434783</td><td>4.611111</td><td>4.461538</td><td>NA      </td><td>NA      </td><td>NA      </td><td>NA      </td><td>NA      </td><td>NA      </td><td>NA      </td><td>NA      </td></tr>\n",
       "\t<tr><th scope=row>c44</th><td>4.833333</td><td>4.583333</td><td>4.750000</td><td>4.750000</td><td>4.666667</td><td>4.458333</td><td>4.708333</td><td>4.652174</td><td>4.684211</td><td>4.666667</td><td>NA      </td><td>NA      </td><td>NA      </td><td>NA      </td><td>NA      </td><td>NA      </td><td>NA      </td><td>NA      </td></tr>\n",
       "\t<tr><th scope=row>c45</th><td>3.750000</td><td>3.916667</td><td>4.166667</td><td>3.958333</td><td>3.916667</td><td>3.666667</td><td>4.000000</td><td>4.086957</td><td>3.368421</td><td>3.454545</td><td>NA      </td><td>NA      </td><td>NA      </td><td>NA      </td><td>NA      </td><td>NA      </td><td>NA      </td><td>NA      </td></tr>\n",
       "\t<tr><th scope=row>c46</th><td>3.583333</td><td>3.791667</td><td>3.833333</td><td>3.666667</td><td>3.791667</td><td>3.916667</td><td>3.739130</td><td>3.636364</td><td>3.375000</td><td>4.000000</td><td> 4      </td><td> 4      </td><td> 4      </td><td> 5      </td><td> 3      </td><td> 4      </td><td> 3      </td><td> 4      </td></tr>\n",
       "\t<tr><th scope=row>c47</th><td>4.500000</td><td>4.583333</td><td>4.541667</td><td>4.750000</td><td>4.583333</td><td>4.708333</td><td>4.666667</td><td>4.318182</td><td>4.722222</td><td>4.500000</td><td> 5      </td><td> 4      </td><td> 5      </td><td> 5      </td><td> 5      </td><td> 3      </td><td> 3      </td><td> 5      </td></tr>\n",
       "\t<tr><th scope=row>c48</th><td>3.458333</td><td>3.583333</td><td>3.333333</td><td>3.541667</td><td>3.708333</td><td>3.916667</td><td>3.750000</td><td>4.173913</td><td>3.400000</td><td>4.100000</td><td> 3      </td><td> 4      </td><td> 3      </td><td> 5      </td><td> 4      </td><td> 1      </td><td> 2      </td><td> 4      </td></tr>\n",
       "</tbody>\n",
       "</table>\n"
      ],
      "text/latex": [
       "\\begin{tabular}{r|llllllllllllllllll}\n",
       "  & P1 & P2 & P3 & P4 & P5 & P6 & P7 & P8 & P9 & P10 & P11 & P12 & P13 & P14 & P15 & P16 & P17 & P18\\\\\n",
       "\\hline\n",
       "\tc01 & 4.791667 & 4.875000 & 4.708333 & 4.750000 & 4.958333 & 4.958333 & 4.875000 & 4.809524 & 4.833333 & 4.714286 & NA       & NA       & NA       & NA       & NA       & NA       & NA       & NA      \\\\\n",
       "\tc02 & 1.500000 & 1.458333 & 1.666667 & 1.416667 & 1.541667 & 1.500000 & 1.541667 & 1.590909 & 1.736842 & 1.444444 & NA       & NA       & NA       & NA       & NA       & NA       & NA       & NA      \\\\\n",
       "\tc03 & 4.125000 & 4.458333 & 4.250000 & 4.541667 & 4.625000 & 4.208333 & 4.130435 & 4.333333 & 4.611111 & 4.200000 & NA       & NA       & NA       & NA       & NA       & NA       & NA       & NA      \\\\\n",
       "\tc04 & 2.875000 & 2.875000 & 2.541667 & 2.666667 & 3.083333 & 2.500000 & 2.916667 & 3.043478 & 2.368421 & 3.142857 & NA       & NA       & NA       & NA       & NA       & NA       & NA       & NA      \\\\\n",
       "\tc05 & 3.333333 & 3.708333 & 3.416667 & 3.250000 & 3.541667 & 3.666667 & 3.666667 & 3.666667 & 3.588235 & 3.600000 & NA       & NA       & NA       & NA       & NA       & NA       & NA       & NA      \\\\\n",
       "\tc06 & 4.458333 & 4.666667 & 4.583333 & 4.541667 & 4.750000 & 4.541667 & 4.583333 & 4.714286 & 4.705882 & 4.888889 & NA       & NA       & NA       & NA       & NA       & NA       & NA       & NA      \\\\\n",
       "\tc07 & 3.500000 & 3.875000 & 3.416667 & 3.541667 & 3.833333 & 3.791667 & 3.521739 & 4.047619 & 3.562500 & 3.375000 & NA       & NA       & NA       & NA       & NA       & NA       & NA       & NA      \\\\\n",
       "\tc08 & 3.916667 & 4.041667 & 3.875000 & 3.916667 & 3.833333 & 4.041667 & 4.086957 & 3.909091 & 3.642857 & 4.000000 & NA       & NA       & NA       & NA       & NA       & NA       & NA       & NA      \\\\\n",
       "\tc09 & 3.166667 & 3.125000 & 3.250000 & 2.791667 & 3.291667 & 3.083333 & 2.913043 & 3.095238 & 3.263158 & 3.500000 & NA       & NA       & NA       & NA       & NA       & NA       & NA       & NA      \\\\\n",
       "\tc10 & 4.541667 & 4.500000 & 4.458333 & 4.541667 & 4.625000 & 4.541667 & 4.625000 & 4.315789 & 4.352941 & 4.750000 &  4       &  5       &  4       &  5       &  5       &  4       &  4       &  5      \\\\\n",
       "\tc11 & 4.166667 & 4.208333 & 4.250000 & 4.208333 & 4.375000 & 4.208333 & 4.000000 & 4.458333 & 4.315789 & 4.333333 & NA       & NA       & NA       & NA       & NA       & NA       & NA       & NA      \\\\\n",
       "\tc12 & 1.666667 & 1.375000 & 1.625000 & 1.333333 & 1.458333 & 1.708333 & 1.434783 & 1.476190 & 1.411765 & 1.571429 & NA       & NA       & NA       & NA       & NA       & NA       & NA       & NA      \\\\\n",
       "\tc13 & 4.541667 & 4.583333 & 4.541667 & 4.166667 & 4.583333 & 4.708333 & 4.347826 & 4.190476 & 4.600000 & 4.250000 & NA       & NA       & NA       & NA       & NA       & NA       & NA       & NA      \\\\\n",
       "\tc14 & 2.875000 & 2.625000 & 2.958333 & 2.791667 & 2.875000 & 2.750000 & 2.833333 & 2.625000 & 2.750000 & 2.600000 & NA       & NA       & NA       & NA       & NA       & NA       & NA       & NA      \\\\\n",
       "\tc15 & 3.625000 & 3.666667 & 3.458333 & 3.875000 & 3.500000 & 3.291667 & 3.625000 & 3.045455 & 3.526316 & 4.000000 & NA       & NA       & NA       & NA       & NA       & NA       & NA       & NA      \\\\\n",
       "\tc16 & 3.833333 & 3.458333 & 3.541667 & 3.625000 & 3.708333 & 3.958333 & 3.625000 & 3.695652 & 3.833333 & 3.400000 & NA       & NA       & NA       & NA       & NA       & NA       & NA       & NA      \\\\\n",
       "\tc17 & 4.291667 & 4.500000 & 4.250000 & 4.166667 & 4.291667 & 4.333333 & 4.166667 & 4.000000 & 4.000000 & 4.000000 & NA       & NA       & NA       & NA       & NA       & NA       & NA       & NA      \\\\\n",
       "\tc18 & 3.416667 & 2.958333 & 3.083333 & 3.291667 & 3.208333 & 3.166667 & 2.958333 & 2.913043 & 2.736842 & 2.750000 & NA       & NA       & NA       & NA       & NA       & NA       & NA       & NA      \\\\\n",
       "\tc19 & 4.666667 & 4.500000 & 4.458333 & 4.625000 & 4.583333 & 4.458333 & 4.375000 & 4.318182 & 4.461538 & 4.857143 & NA       & NA       & NA       & NA       & NA       & NA       & NA       & NA      \\\\\n",
       "\tc20 & 3.083333 & 2.875000 & 2.833333 & 2.625000 & 2.583333 & 2.708333 & 2.958333 & 2.750000 & 2.631579 & 2.857143 &  2       &  3       &  3       &  4       &  2       &  4       &  1       &  3      \\\\\n",
       "\tc21 & 3.291667 & 2.916667 & 3.333333 & 2.875000 & 3.000000 & 3.125000 & 2.916667 & 2.863636 & 3.000000 & 2.800000 & NA       & NA       & NA       & NA       & NA       & NA       & NA       & NA      \\\\\n",
       "\tc22 & 3.000000 & 2.666667 & 2.916667 & 2.791667 & 2.916667 & 2.958333 & 2.916667 & 2.772727 & 2.764706 & 3.200000 & NA       & NA       & NA       & NA       & NA       & NA       & NA       & NA      \\\\\n",
       "\tc23 & 3.916667 & 3.791667 & 3.875000 & 3.833333 & 3.875000 & 3.625000 & 3.500000 & 3.363636 & 3.722222 & 4.000000 & NA       & NA       & NA       & NA       & NA       & NA       & NA       & NA      \\\\\n",
       "\tc24 & 1.541667 & 1.791667 & 1.458333 & 1.666667 & 1.458333 & 1.500000 & 1.583333 & 1.136364 & 1.263158 & 1.500000 & NA       & NA       & NA       & NA       & NA       & NA       & NA       & NA      \\\\\n",
       "\tc25 & 4.375000 & 4.375000 & 3.916667 & 4.208333 & 4.125000 & 4.500000 & 4.333333 & 4.238095 & 4.666667 & 4.833333 & NA       & NA       & NA       & NA       & NA       & NA       & NA       & NA      \\\\\n",
       "\tc26 & 1.750000 & 1.500000 & 1.333333 & 1.583333 & 1.333333 & 1.541667 & 1.521739 & 1.428571 & 1.600000 & 1.500000 &  1       &  1       &  3       &  1       &  3       &  1       &  1       &  1      \\\\\n",
       "\tc27 & 2.625000 & 2.916667 & 2.708333 & 2.750000 & 3.125000 & 2.625000 & 2.478261 & 2.500000 & 2.733333 & 3.000000 & NA       & NA       & NA       & NA       & NA       & NA       & NA       & NA      \\\\\n",
       "\tc28 & 2.458333 & 2.458333 & 2.250000 & 2.166667 & 2.250000 & 2.083333 & 2.347826 & 2.600000 & 2.210526 & 2.444444 &  2       &  3       &  3       &  3       &  3       &  4       &  1       &  2      \\\\\n",
       "\tc29 & 2.875000 & 2.875000 & 3.000000 & 2.791667 & 2.958333 & 2.958333 & 2.875000 & 3.333333 & 3.052632 & 2.777778 & NA       & NA       & NA       & NA       & NA       & NA       & NA       & NA      \\\\\n",
       "\tc30 & 2.083333 & 2.125000 & 2.083333 & 1.791667 & 1.833333 & 1.625000 & 1.833333 & 2.000000 & 2.047619 & 2.500000 & NA       & NA       & NA       & NA       & NA       & NA       & NA       & NA      \\\\\n",
       "\tc31 & 3.375000 & 2.958333 & 3.125000 & 3.083333 & 3.375000 & 3.166667 & 2.958333 & 3.000000 & 3.000000 & 3.333333 & NA       & NA       & NA       & NA       & NA       & NA       & NA       & NA      \\\\\n",
       "\tc32 & 2.916667 & 2.666667 & 2.833333 & 2.791667 & 3.125000 & 2.541667 & 2.708333 & 2.809524 & 3.000000 & 2.777778 & NA       & NA       & NA       & NA       & NA       & NA       & NA       & NA      \\\\\n",
       "\tc33 & 3.375000 & 3.416667 & 3.250000 & 3.541667 & 3.416667 & 3.208333 & 3.333333 & 3.086957 & 3.500000 & 3.700000 & NA       & NA       & NA       & NA       & NA       & NA       & NA       & NA      \\\\\n",
       "\tc34 & 3.458333 & 3.416667 & 3.416667 & 3.333333 & 3.333333 & 3.458333 & 3.166667 & 3.086957 & 3.187500 & 3.222222 & NA       & NA       & NA       & NA       & NA       & NA       & NA       & NA      \\\\\n",
       "\tc35 & 2.708333 & 2.875000 & 2.750000 & 2.708333 & 2.791667 & 2.541667 & 2.541667 & 2.695652 & 2.937500 & 2.571429 & NA       & NA       & NA       & NA       & NA       & NA       & NA       & NA      \\\\\n",
       "\tc36 & 2.708333 & 2.291667 & 2.500000 & 2.458333 & 2.125000 & 2.291667 & 2.333333 & 2.714286 & 2.333333 & 2.916667 & NA       & NA       & NA       & NA       & NA       & NA       & NA       & NA      \\\\\n",
       "\tc37 & 3.500000 & 3.291667 & 3.333333 & 3.250000 & 3.208333 & 3.291667 & 3.125000 & 3.318182 & 3.312500 & 3.571429 &  3       &  3       &  3       &  5       &  5       &  3       &  2       &  4      \\\\\n",
       "\tc38 & 2.083333 & 2.083333 & 2.583333 & 1.916667 & 2.291667 & 2.250000 & 2.000000 & 1.772727 & 1.764706 & 1.750000 & NA       & NA       & NA       & NA       & NA       & NA       & NA       & NA      \\\\\n",
       "\tc39 & 3.166667 & 3.083333 & 3.083333 & 2.916667 & 3.250000 & 2.875000 & 3.125000 & 2.950000 & 3.000000 & 3.416667 & NA       & NA       & NA       & NA       & NA       & NA       & NA       & NA      \\\\\n",
       "\tc40 & 3.166667 & 3.250000 & 3.500000 & 3.166667 & 3.375000 & 3.458333 & 3.291667 & 3.083333 & 3.409091 & 3.125000 & NA       & NA       & NA       & NA       & NA       & NA       & NA       & NA      \\\\\n",
       "\tc41 & 2.208333 & 1.625000 & 2.291667 & 2.166667 & 2.208333 & 2.291667 & 2.375000 & 2.095238 & 2.062500 & 2.000000 & NA       & NA       & NA       & NA       & NA       & NA       & NA       & NA      \\\\\n",
       "\tc42 & 2.708333 & 2.583333 & 2.458333 & 2.500000 & 2.458333 & 2.458333 & 2.583333 & 2.428571 & 2.857143 & 1.750000 & NA       & NA       & NA       & NA       & NA       & NA       & NA       & NA      \\\\\n",
       "\tc43 & 4.541667 & 4.583333 & 4.500000 & 4.500000 & 4.541667 & 4.541667 & 4.583333 & 4.434783 & 4.611111 & 4.461538 & NA       & NA       & NA       & NA       & NA       & NA       & NA       & NA      \\\\\n",
       "\tc44 & 4.833333 & 4.583333 & 4.750000 & 4.750000 & 4.666667 & 4.458333 & 4.708333 & 4.652174 & 4.684211 & 4.666667 & NA       & NA       & NA       & NA       & NA       & NA       & NA       & NA      \\\\\n",
       "\tc45 & 3.750000 & 3.916667 & 4.166667 & 3.958333 & 3.916667 & 3.666667 & 4.000000 & 4.086957 & 3.368421 & 3.454545 & NA       & NA       & NA       & NA       & NA       & NA       & NA       & NA      \\\\\n",
       "\tc46 & 3.583333 & 3.791667 & 3.833333 & 3.666667 & 3.791667 & 3.916667 & 3.739130 & 3.636364 & 3.375000 & 4.000000 &  4       &  4       &  4       &  5       &  3       &  4       &  3       &  4      \\\\\n",
       "\tc47 & 4.500000 & 4.583333 & 4.541667 & 4.750000 & 4.583333 & 4.708333 & 4.666667 & 4.318182 & 4.722222 & 4.500000 &  5       &  4       &  5       &  5       &  5       &  3       &  3       &  5      \\\\\n",
       "\tc48 & 3.458333 & 3.583333 & 3.333333 & 3.541667 & 3.708333 & 3.916667 & 3.750000 & 4.173913 & 3.400000 & 4.100000 &  3       &  4       &  3       &  5       &  4       &  1       &  2       &  4      \\\\\n",
       "\\end{tabular}\n"
      ],
      "text/markdown": [
       "\n",
       "| <!--/--> | P1 | P2 | P3 | P4 | P5 | P6 | P7 | P8 | P9 | P10 | P11 | P12 | P13 | P14 | P15 | P16 | P17 | P18 |\n",
       "|---|---|---|---|---|---|---|---|---|---|---|---|---|---|---|---|---|---|---|\n",
       "| c01 | 4.791667 | 4.875000 | 4.708333 | 4.750000 | 4.958333 | 4.958333 | 4.875000 | 4.809524 | 4.833333 | 4.714286 | NA       | NA       | NA       | NA       | NA       | NA       | NA       | NA       |\n",
       "| c02 | 1.500000 | 1.458333 | 1.666667 | 1.416667 | 1.541667 | 1.500000 | 1.541667 | 1.590909 | 1.736842 | 1.444444 | NA       | NA       | NA       | NA       | NA       | NA       | NA       | NA       |\n",
       "| c03 | 4.125000 | 4.458333 | 4.250000 | 4.541667 | 4.625000 | 4.208333 | 4.130435 | 4.333333 | 4.611111 | 4.200000 | NA       | NA       | NA       | NA       | NA       | NA       | NA       | NA       |\n",
       "| c04 | 2.875000 | 2.875000 | 2.541667 | 2.666667 | 3.083333 | 2.500000 | 2.916667 | 3.043478 | 2.368421 | 3.142857 | NA       | NA       | NA       | NA       | NA       | NA       | NA       | NA       |\n",
       "| c05 | 3.333333 | 3.708333 | 3.416667 | 3.250000 | 3.541667 | 3.666667 | 3.666667 | 3.666667 | 3.588235 | 3.600000 | NA       | NA       | NA       | NA       | NA       | NA       | NA       | NA       |\n",
       "| c06 | 4.458333 | 4.666667 | 4.583333 | 4.541667 | 4.750000 | 4.541667 | 4.583333 | 4.714286 | 4.705882 | 4.888889 | NA       | NA       | NA       | NA       | NA       | NA       | NA       | NA       |\n",
       "| c07 | 3.500000 | 3.875000 | 3.416667 | 3.541667 | 3.833333 | 3.791667 | 3.521739 | 4.047619 | 3.562500 | 3.375000 | NA       | NA       | NA       | NA       | NA       | NA       | NA       | NA       |\n",
       "| c08 | 3.916667 | 4.041667 | 3.875000 | 3.916667 | 3.833333 | 4.041667 | 4.086957 | 3.909091 | 3.642857 | 4.000000 | NA       | NA       | NA       | NA       | NA       | NA       | NA       | NA       |\n",
       "| c09 | 3.166667 | 3.125000 | 3.250000 | 2.791667 | 3.291667 | 3.083333 | 2.913043 | 3.095238 | 3.263158 | 3.500000 | NA       | NA       | NA       | NA       | NA       | NA       | NA       | NA       |\n",
       "| c10 | 4.541667 | 4.500000 | 4.458333 | 4.541667 | 4.625000 | 4.541667 | 4.625000 | 4.315789 | 4.352941 | 4.750000 |  4       |  5       |  4       |  5       |  5       |  4       |  4       |  5       |\n",
       "| c11 | 4.166667 | 4.208333 | 4.250000 | 4.208333 | 4.375000 | 4.208333 | 4.000000 | 4.458333 | 4.315789 | 4.333333 | NA       | NA       | NA       | NA       | NA       | NA       | NA       | NA       |\n",
       "| c12 | 1.666667 | 1.375000 | 1.625000 | 1.333333 | 1.458333 | 1.708333 | 1.434783 | 1.476190 | 1.411765 | 1.571429 | NA       | NA       | NA       | NA       | NA       | NA       | NA       | NA       |\n",
       "| c13 | 4.541667 | 4.583333 | 4.541667 | 4.166667 | 4.583333 | 4.708333 | 4.347826 | 4.190476 | 4.600000 | 4.250000 | NA       | NA       | NA       | NA       | NA       | NA       | NA       | NA       |\n",
       "| c14 | 2.875000 | 2.625000 | 2.958333 | 2.791667 | 2.875000 | 2.750000 | 2.833333 | 2.625000 | 2.750000 | 2.600000 | NA       | NA       | NA       | NA       | NA       | NA       | NA       | NA       |\n",
       "| c15 | 3.625000 | 3.666667 | 3.458333 | 3.875000 | 3.500000 | 3.291667 | 3.625000 | 3.045455 | 3.526316 | 4.000000 | NA       | NA       | NA       | NA       | NA       | NA       | NA       | NA       |\n",
       "| c16 | 3.833333 | 3.458333 | 3.541667 | 3.625000 | 3.708333 | 3.958333 | 3.625000 | 3.695652 | 3.833333 | 3.400000 | NA       | NA       | NA       | NA       | NA       | NA       | NA       | NA       |\n",
       "| c17 | 4.291667 | 4.500000 | 4.250000 | 4.166667 | 4.291667 | 4.333333 | 4.166667 | 4.000000 | 4.000000 | 4.000000 | NA       | NA       | NA       | NA       | NA       | NA       | NA       | NA       |\n",
       "| c18 | 3.416667 | 2.958333 | 3.083333 | 3.291667 | 3.208333 | 3.166667 | 2.958333 | 2.913043 | 2.736842 | 2.750000 | NA       | NA       | NA       | NA       | NA       | NA       | NA       | NA       |\n",
       "| c19 | 4.666667 | 4.500000 | 4.458333 | 4.625000 | 4.583333 | 4.458333 | 4.375000 | 4.318182 | 4.461538 | 4.857143 | NA       | NA       | NA       | NA       | NA       | NA       | NA       | NA       |\n",
       "| c20 | 3.083333 | 2.875000 | 2.833333 | 2.625000 | 2.583333 | 2.708333 | 2.958333 | 2.750000 | 2.631579 | 2.857143 |  2       |  3       |  3       |  4       |  2       |  4       |  1       |  3       |\n",
       "| c21 | 3.291667 | 2.916667 | 3.333333 | 2.875000 | 3.000000 | 3.125000 | 2.916667 | 2.863636 | 3.000000 | 2.800000 | NA       | NA       | NA       | NA       | NA       | NA       | NA       | NA       |\n",
       "| c22 | 3.000000 | 2.666667 | 2.916667 | 2.791667 | 2.916667 | 2.958333 | 2.916667 | 2.772727 | 2.764706 | 3.200000 | NA       | NA       | NA       | NA       | NA       | NA       | NA       | NA       |\n",
       "| c23 | 3.916667 | 3.791667 | 3.875000 | 3.833333 | 3.875000 | 3.625000 | 3.500000 | 3.363636 | 3.722222 | 4.000000 | NA       | NA       | NA       | NA       | NA       | NA       | NA       | NA       |\n",
       "| c24 | 1.541667 | 1.791667 | 1.458333 | 1.666667 | 1.458333 | 1.500000 | 1.583333 | 1.136364 | 1.263158 | 1.500000 | NA       | NA       | NA       | NA       | NA       | NA       | NA       | NA       |\n",
       "| c25 | 4.375000 | 4.375000 | 3.916667 | 4.208333 | 4.125000 | 4.500000 | 4.333333 | 4.238095 | 4.666667 | 4.833333 | NA       | NA       | NA       | NA       | NA       | NA       | NA       | NA       |\n",
       "| c26 | 1.750000 | 1.500000 | 1.333333 | 1.583333 | 1.333333 | 1.541667 | 1.521739 | 1.428571 | 1.600000 | 1.500000 |  1       |  1       |  3       |  1       |  3       |  1       |  1       |  1       |\n",
       "| c27 | 2.625000 | 2.916667 | 2.708333 | 2.750000 | 3.125000 | 2.625000 | 2.478261 | 2.500000 | 2.733333 | 3.000000 | NA       | NA       | NA       | NA       | NA       | NA       | NA       | NA       |\n",
       "| c28 | 2.458333 | 2.458333 | 2.250000 | 2.166667 | 2.250000 | 2.083333 | 2.347826 | 2.600000 | 2.210526 | 2.444444 |  2       |  3       |  3       |  3       |  3       |  4       |  1       |  2       |\n",
       "| c29 | 2.875000 | 2.875000 | 3.000000 | 2.791667 | 2.958333 | 2.958333 | 2.875000 | 3.333333 | 3.052632 | 2.777778 | NA       | NA       | NA       | NA       | NA       | NA       | NA       | NA       |\n",
       "| c30 | 2.083333 | 2.125000 | 2.083333 | 1.791667 | 1.833333 | 1.625000 | 1.833333 | 2.000000 | 2.047619 | 2.500000 | NA       | NA       | NA       | NA       | NA       | NA       | NA       | NA       |\n",
       "| c31 | 3.375000 | 2.958333 | 3.125000 | 3.083333 | 3.375000 | 3.166667 | 2.958333 | 3.000000 | 3.000000 | 3.333333 | NA       | NA       | NA       | NA       | NA       | NA       | NA       | NA       |\n",
       "| c32 | 2.916667 | 2.666667 | 2.833333 | 2.791667 | 3.125000 | 2.541667 | 2.708333 | 2.809524 | 3.000000 | 2.777778 | NA       | NA       | NA       | NA       | NA       | NA       | NA       | NA       |\n",
       "| c33 | 3.375000 | 3.416667 | 3.250000 | 3.541667 | 3.416667 | 3.208333 | 3.333333 | 3.086957 | 3.500000 | 3.700000 | NA       | NA       | NA       | NA       | NA       | NA       | NA       | NA       |\n",
       "| c34 | 3.458333 | 3.416667 | 3.416667 | 3.333333 | 3.333333 | 3.458333 | 3.166667 | 3.086957 | 3.187500 | 3.222222 | NA       | NA       | NA       | NA       | NA       | NA       | NA       | NA       |\n",
       "| c35 | 2.708333 | 2.875000 | 2.750000 | 2.708333 | 2.791667 | 2.541667 | 2.541667 | 2.695652 | 2.937500 | 2.571429 | NA       | NA       | NA       | NA       | NA       | NA       | NA       | NA       |\n",
       "| c36 | 2.708333 | 2.291667 | 2.500000 | 2.458333 | 2.125000 | 2.291667 | 2.333333 | 2.714286 | 2.333333 | 2.916667 | NA       | NA       | NA       | NA       | NA       | NA       | NA       | NA       |\n",
       "| c37 | 3.500000 | 3.291667 | 3.333333 | 3.250000 | 3.208333 | 3.291667 | 3.125000 | 3.318182 | 3.312500 | 3.571429 |  3       |  3       |  3       |  5       |  5       |  3       |  2       |  4       |\n",
       "| c38 | 2.083333 | 2.083333 | 2.583333 | 1.916667 | 2.291667 | 2.250000 | 2.000000 | 1.772727 | 1.764706 | 1.750000 | NA       | NA       | NA       | NA       | NA       | NA       | NA       | NA       |\n",
       "| c39 | 3.166667 | 3.083333 | 3.083333 | 2.916667 | 3.250000 | 2.875000 | 3.125000 | 2.950000 | 3.000000 | 3.416667 | NA       | NA       | NA       | NA       | NA       | NA       | NA       | NA       |\n",
       "| c40 | 3.166667 | 3.250000 | 3.500000 | 3.166667 | 3.375000 | 3.458333 | 3.291667 | 3.083333 | 3.409091 | 3.125000 | NA       | NA       | NA       | NA       | NA       | NA       | NA       | NA       |\n",
       "| c41 | 2.208333 | 1.625000 | 2.291667 | 2.166667 | 2.208333 | 2.291667 | 2.375000 | 2.095238 | 2.062500 | 2.000000 | NA       | NA       | NA       | NA       | NA       | NA       | NA       | NA       |\n",
       "| c42 | 2.708333 | 2.583333 | 2.458333 | 2.500000 | 2.458333 | 2.458333 | 2.583333 | 2.428571 | 2.857143 | 1.750000 | NA       | NA       | NA       | NA       | NA       | NA       | NA       | NA       |\n",
       "| c43 | 4.541667 | 4.583333 | 4.500000 | 4.500000 | 4.541667 | 4.541667 | 4.583333 | 4.434783 | 4.611111 | 4.461538 | NA       | NA       | NA       | NA       | NA       | NA       | NA       | NA       |\n",
       "| c44 | 4.833333 | 4.583333 | 4.750000 | 4.750000 | 4.666667 | 4.458333 | 4.708333 | 4.652174 | 4.684211 | 4.666667 | NA       | NA       | NA       | NA       | NA       | NA       | NA       | NA       |\n",
       "| c45 | 3.750000 | 3.916667 | 4.166667 | 3.958333 | 3.916667 | 3.666667 | 4.000000 | 4.086957 | 3.368421 | 3.454545 | NA       | NA       | NA       | NA       | NA       | NA       | NA       | NA       |\n",
       "| c46 | 3.583333 | 3.791667 | 3.833333 | 3.666667 | 3.791667 | 3.916667 | 3.739130 | 3.636364 | 3.375000 | 4.000000 |  4       |  4       |  4       |  5       |  3       |  4       |  3       |  4       |\n",
       "| c47 | 4.500000 | 4.583333 | 4.541667 | 4.750000 | 4.583333 | 4.708333 | 4.666667 | 4.318182 | 4.722222 | 4.500000 |  5       |  4       |  5       |  5       |  5       |  3       |  3       |  5       |\n",
       "| c48 | 3.458333 | 3.583333 | 3.333333 | 3.541667 | 3.708333 | 3.916667 | 3.750000 | 4.173913 | 3.400000 | 4.100000 |  3       |  4       |  3       |  5       |  4       |  1       |  2       |  4       |\n",
       "\n"
      ],
      "text/plain": [
       "    P1       P2       P3       P4       P5       P6       P7       P8      \n",
       "c01 4.791667 4.875000 4.708333 4.750000 4.958333 4.958333 4.875000 4.809524\n",
       "c02 1.500000 1.458333 1.666667 1.416667 1.541667 1.500000 1.541667 1.590909\n",
       "c03 4.125000 4.458333 4.250000 4.541667 4.625000 4.208333 4.130435 4.333333\n",
       "c04 2.875000 2.875000 2.541667 2.666667 3.083333 2.500000 2.916667 3.043478\n",
       "c05 3.333333 3.708333 3.416667 3.250000 3.541667 3.666667 3.666667 3.666667\n",
       "c06 4.458333 4.666667 4.583333 4.541667 4.750000 4.541667 4.583333 4.714286\n",
       "c07 3.500000 3.875000 3.416667 3.541667 3.833333 3.791667 3.521739 4.047619\n",
       "c08 3.916667 4.041667 3.875000 3.916667 3.833333 4.041667 4.086957 3.909091\n",
       "c09 3.166667 3.125000 3.250000 2.791667 3.291667 3.083333 2.913043 3.095238\n",
       "c10 4.541667 4.500000 4.458333 4.541667 4.625000 4.541667 4.625000 4.315789\n",
       "c11 4.166667 4.208333 4.250000 4.208333 4.375000 4.208333 4.000000 4.458333\n",
       "c12 1.666667 1.375000 1.625000 1.333333 1.458333 1.708333 1.434783 1.476190\n",
       "c13 4.541667 4.583333 4.541667 4.166667 4.583333 4.708333 4.347826 4.190476\n",
       "c14 2.875000 2.625000 2.958333 2.791667 2.875000 2.750000 2.833333 2.625000\n",
       "c15 3.625000 3.666667 3.458333 3.875000 3.500000 3.291667 3.625000 3.045455\n",
       "c16 3.833333 3.458333 3.541667 3.625000 3.708333 3.958333 3.625000 3.695652\n",
       "c17 4.291667 4.500000 4.250000 4.166667 4.291667 4.333333 4.166667 4.000000\n",
       "c18 3.416667 2.958333 3.083333 3.291667 3.208333 3.166667 2.958333 2.913043\n",
       "c19 4.666667 4.500000 4.458333 4.625000 4.583333 4.458333 4.375000 4.318182\n",
       "c20 3.083333 2.875000 2.833333 2.625000 2.583333 2.708333 2.958333 2.750000\n",
       "c21 3.291667 2.916667 3.333333 2.875000 3.000000 3.125000 2.916667 2.863636\n",
       "c22 3.000000 2.666667 2.916667 2.791667 2.916667 2.958333 2.916667 2.772727\n",
       "c23 3.916667 3.791667 3.875000 3.833333 3.875000 3.625000 3.500000 3.363636\n",
       "c24 1.541667 1.791667 1.458333 1.666667 1.458333 1.500000 1.583333 1.136364\n",
       "c25 4.375000 4.375000 3.916667 4.208333 4.125000 4.500000 4.333333 4.238095\n",
       "c26 1.750000 1.500000 1.333333 1.583333 1.333333 1.541667 1.521739 1.428571\n",
       "c27 2.625000 2.916667 2.708333 2.750000 3.125000 2.625000 2.478261 2.500000\n",
       "c28 2.458333 2.458333 2.250000 2.166667 2.250000 2.083333 2.347826 2.600000\n",
       "c29 2.875000 2.875000 3.000000 2.791667 2.958333 2.958333 2.875000 3.333333\n",
       "c30 2.083333 2.125000 2.083333 1.791667 1.833333 1.625000 1.833333 2.000000\n",
       "c31 3.375000 2.958333 3.125000 3.083333 3.375000 3.166667 2.958333 3.000000\n",
       "c32 2.916667 2.666667 2.833333 2.791667 3.125000 2.541667 2.708333 2.809524\n",
       "c33 3.375000 3.416667 3.250000 3.541667 3.416667 3.208333 3.333333 3.086957\n",
       "c34 3.458333 3.416667 3.416667 3.333333 3.333333 3.458333 3.166667 3.086957\n",
       "c35 2.708333 2.875000 2.750000 2.708333 2.791667 2.541667 2.541667 2.695652\n",
       "c36 2.708333 2.291667 2.500000 2.458333 2.125000 2.291667 2.333333 2.714286\n",
       "c37 3.500000 3.291667 3.333333 3.250000 3.208333 3.291667 3.125000 3.318182\n",
       "c38 2.083333 2.083333 2.583333 1.916667 2.291667 2.250000 2.000000 1.772727\n",
       "c39 3.166667 3.083333 3.083333 2.916667 3.250000 2.875000 3.125000 2.950000\n",
       "c40 3.166667 3.250000 3.500000 3.166667 3.375000 3.458333 3.291667 3.083333\n",
       "c41 2.208333 1.625000 2.291667 2.166667 2.208333 2.291667 2.375000 2.095238\n",
       "c42 2.708333 2.583333 2.458333 2.500000 2.458333 2.458333 2.583333 2.428571\n",
       "c43 4.541667 4.583333 4.500000 4.500000 4.541667 4.541667 4.583333 4.434783\n",
       "c44 4.833333 4.583333 4.750000 4.750000 4.666667 4.458333 4.708333 4.652174\n",
       "c45 3.750000 3.916667 4.166667 3.958333 3.916667 3.666667 4.000000 4.086957\n",
       "c46 3.583333 3.791667 3.833333 3.666667 3.791667 3.916667 3.739130 3.636364\n",
       "c47 4.500000 4.583333 4.541667 4.750000 4.583333 4.708333 4.666667 4.318182\n",
       "c48 3.458333 3.583333 3.333333 3.541667 3.708333 3.916667 3.750000 4.173913\n",
       "    P9       P10      P11 P12 P13 P14 P15 P16 P17 P18\n",
       "c01 4.833333 4.714286 NA  NA  NA  NA  NA  NA  NA  NA \n",
       "c02 1.736842 1.444444 NA  NA  NA  NA  NA  NA  NA  NA \n",
       "c03 4.611111 4.200000 NA  NA  NA  NA  NA  NA  NA  NA \n",
       "c04 2.368421 3.142857 NA  NA  NA  NA  NA  NA  NA  NA \n",
       "c05 3.588235 3.600000 NA  NA  NA  NA  NA  NA  NA  NA \n",
       "c06 4.705882 4.888889 NA  NA  NA  NA  NA  NA  NA  NA \n",
       "c07 3.562500 3.375000 NA  NA  NA  NA  NA  NA  NA  NA \n",
       "c08 3.642857 4.000000 NA  NA  NA  NA  NA  NA  NA  NA \n",
       "c09 3.263158 3.500000 NA  NA  NA  NA  NA  NA  NA  NA \n",
       "c10 4.352941 4.750000  4   5   4   5   5   4   4   5 \n",
       "c11 4.315789 4.333333 NA  NA  NA  NA  NA  NA  NA  NA \n",
       "c12 1.411765 1.571429 NA  NA  NA  NA  NA  NA  NA  NA \n",
       "c13 4.600000 4.250000 NA  NA  NA  NA  NA  NA  NA  NA \n",
       "c14 2.750000 2.600000 NA  NA  NA  NA  NA  NA  NA  NA \n",
       "c15 3.526316 4.000000 NA  NA  NA  NA  NA  NA  NA  NA \n",
       "c16 3.833333 3.400000 NA  NA  NA  NA  NA  NA  NA  NA \n",
       "c17 4.000000 4.000000 NA  NA  NA  NA  NA  NA  NA  NA \n",
       "c18 2.736842 2.750000 NA  NA  NA  NA  NA  NA  NA  NA \n",
       "c19 4.461538 4.857143 NA  NA  NA  NA  NA  NA  NA  NA \n",
       "c20 2.631579 2.857143  2   3   3   4   2   4   1   3 \n",
       "c21 3.000000 2.800000 NA  NA  NA  NA  NA  NA  NA  NA \n",
       "c22 2.764706 3.200000 NA  NA  NA  NA  NA  NA  NA  NA \n",
       "c23 3.722222 4.000000 NA  NA  NA  NA  NA  NA  NA  NA \n",
       "c24 1.263158 1.500000 NA  NA  NA  NA  NA  NA  NA  NA \n",
       "c25 4.666667 4.833333 NA  NA  NA  NA  NA  NA  NA  NA \n",
       "c26 1.600000 1.500000  1   1   3   1   3   1   1   1 \n",
       "c27 2.733333 3.000000 NA  NA  NA  NA  NA  NA  NA  NA \n",
       "c28 2.210526 2.444444  2   3   3   3   3   4   1   2 \n",
       "c29 3.052632 2.777778 NA  NA  NA  NA  NA  NA  NA  NA \n",
       "c30 2.047619 2.500000 NA  NA  NA  NA  NA  NA  NA  NA \n",
       "c31 3.000000 3.333333 NA  NA  NA  NA  NA  NA  NA  NA \n",
       "c32 3.000000 2.777778 NA  NA  NA  NA  NA  NA  NA  NA \n",
       "c33 3.500000 3.700000 NA  NA  NA  NA  NA  NA  NA  NA \n",
       "c34 3.187500 3.222222 NA  NA  NA  NA  NA  NA  NA  NA \n",
       "c35 2.937500 2.571429 NA  NA  NA  NA  NA  NA  NA  NA \n",
       "c36 2.333333 2.916667 NA  NA  NA  NA  NA  NA  NA  NA \n",
       "c37 3.312500 3.571429  3   3   3   5   5   3   2   4 \n",
       "c38 1.764706 1.750000 NA  NA  NA  NA  NA  NA  NA  NA \n",
       "c39 3.000000 3.416667 NA  NA  NA  NA  NA  NA  NA  NA \n",
       "c40 3.409091 3.125000 NA  NA  NA  NA  NA  NA  NA  NA \n",
       "c41 2.062500 2.000000 NA  NA  NA  NA  NA  NA  NA  NA \n",
       "c42 2.857143 1.750000 NA  NA  NA  NA  NA  NA  NA  NA \n",
       "c43 4.611111 4.461538 NA  NA  NA  NA  NA  NA  NA  NA \n",
       "c44 4.684211 4.666667 NA  NA  NA  NA  NA  NA  NA  NA \n",
       "c45 3.368421 3.454545 NA  NA  NA  NA  NA  NA  NA  NA \n",
       "c46 3.375000 4.000000  4   4   4   5   3   4   3   4 \n",
       "c47 4.722222 4.500000  5   4   5   5   5   3   3   5 \n",
       "c48 3.400000 4.100000  3   4   3   5   4   1   2   4 "
      ]
     },
     "metadata": {},
     "output_type": "display_data"
    }
   ],
   "source": [
    "# required: subjects [= conditions] x raters [= participants] => transpose needed!\n",
    "\n",
    "cs_data_transposed <- apply(as.data.frame(t(cs_data)), c(1, 2), as.numeric)\n",
    "\n",
    "cs_data_transposed"
   ]
  },
  {
   "cell_type": "code",
   "execution_count": 6,
   "metadata": {},
   "outputs": [
    {
     "data": {
      "text/plain": [
       " Average Score Intraclass Correlation\n",
       "\n",
       "   Model: oneway \n",
       "   Type : consistency \n",
       "\n",
       "   Subjects = 8 \n",
       "     Raters = 18 \n",
       "    ICC(18) = 0.979\n",
       "\n",
       " F-Test, H0: r0 = 0 ; H1: r0 > 0 \n",
       "   F(7,136) = 48.4 , p = 6.36e-34 \n",
       "\n",
       " 95%-Confidence Interval for ICC Population Values:\n",
       "  0.951 < ICC < 0.995"
      ]
     },
     "metadata": {},
     "output_type": "display_data"
    }
   ],
   "source": [
    "# model: CS = 1-way\n",
    "# type: consistency because we only care about the CS reliability, not its validity\n",
    "# unit: reliability check applied to mean (MOS)\n",
    "\n",
    "icc_cs <- icc(cs_data_transposed, model=\"oneway\", type=\"consistency\", unit=\"average\")\n",
    "\n",
    "icc_cs"
   ]
  },
  {
   "cell_type": "markdown",
   "metadata": {},
   "source": [
    "# Compute ICC for corresponding Lab study"
   ]
  },
  {
   "cell_type": "code",
   "execution_count": 7,
   "metadata": {},
   "outputs": [],
   "source": [
    "# read in lab spreadsheet\n",
    "\n",
    "lab_data <- read.csv('datasets/DB03_speech_quality_repetition_dataset.csv') %>%\n",
    "        group_by(subjectCode, testStimulus) %>%\n",
    "        summarise(MOS = mean(rating))"
   ]
  },
  {
   "cell_type": "code",
   "execution_count": 8,
   "metadata": {},
   "outputs": [],
   "source": [
    "# format lab data set\n",
    "\n",
    "lab_data <- dcast(melt(lab_data, id.vars=c(\"testStimulus\", \"subjectCode\")), subjectCode ~ testStimulus) # long to wide data frame format\n",
    "rownames(lab_data) <- lab_data[,1] # add column values (conditions) as row names\n",
    "lab_data <- lab_data[,-1] # remove condition column"
   ]
  },
  {
   "cell_type": "code",
   "execution_count": 9,
   "metadata": {},
   "outputs": [
    {
     "data": {
      "text/html": [
       "<table>\n",
       "<thead><tr><th></th><th scope=col>vp01</th><th scope=col>vp02</th><th scope=col>vp03</th><th scope=col>vp04</th><th scope=col>vp05</th><th scope=col>vp06</th><th scope=col>vp07</th><th scope=col>vp08</th><th scope=col>vp09</th><th scope=col>vp10</th><th scope=col>...</th><th scope=col>vp28</th><th scope=col>vp29</th><th scope=col>vp30</th><th scope=col>vp31</th><th scope=col>vp32</th><th scope=col>vp33</th><th scope=col>vp34</th><th scope=col>vp35</th><th scope=col>vp36</th><th scope=col>vp37</th></tr></thead>\n",
       "<tbody>\n",
       "\t<tr><th scope=row>haus_m_700_bpf_200_2800_normAsl_-26</th><td>2.00</td><td>2.50</td><td>2.50</td><td>3.75</td><td>2.00</td><td>1   </td><td>2.00</td><td>2.75</td><td>4.75</td><td>2.75</td><td>... </td><td>1.25</td><td>5.00</td><td>3.25</td><td>3.00</td><td>2.5 </td><td>2.00</td><td>2.00</td><td>3.25</td><td>3.5 </td><td>2.00</td></tr>\n",
       "\t<tr><th scope=row>haus_m_700_mnru_Q_14_normAsl_-26</th><td>2.75</td><td>2.00</td><td>3.75</td><td>2.75</td><td>2.00</td><td>2   </td><td>1.25</td><td>1.75</td><td>3.50</td><td>2.00</td><td>... </td><td>2.00</td><td>3.50</td><td>2.75</td><td>2.50</td><td>1.5 </td><td>1.00</td><td>3.25</td><td>2.75</td><td>2.0 </td><td>1.25</td></tr>\n",
       "\t<tr><th scope=row>haus_m_700_normAsl_-26</th><td>4.00</td><td>4.75</td><td>5.00</td><td>5.00</td><td>3.50</td><td>4   </td><td>4.50</td><td>4.75</td><td>4.75</td><td>4.75</td><td>... </td><td>5.00</td><td>4.75</td><td>5.00</td><td>4.00</td><td>4.0 </td><td>3.75</td><td>5.00</td><td>5.00</td><td>5.0 </td><td>3.50</td></tr>\n",
       "\t<tr><th scope=row>maus_m_700_bpf_200_2800_normAsl_-26</th><td>2.00</td><td>3.00</td><td>2.50</td><td>3.00</td><td>2.25</td><td>1   </td><td>2.50</td><td>2.50</td><td>5.00</td><td>2.50</td><td>... </td><td>2.00</td><td>4.75</td><td>3.00</td><td>3.50</td><td>2.5 </td><td>2.00</td><td>2.25</td><td>3.25</td><td>3.0 </td><td>2.00</td></tr>\n",
       "\t<tr><th scope=row>maus_m_700_mnru_Q_14_normAsl_-26</th><td>2.75</td><td>2.25</td><td>3.50</td><td>2.50</td><td>2.25</td><td>2   </td><td>1.00</td><td>2.25</td><td>3.25</td><td>1.50</td><td>... </td><td>2.00</td><td>3.00</td><td>3.50</td><td>2.00</td><td>1.5 </td><td>1.00</td><td>2.75</td><td>2.25</td><td>2.0 </td><td>1.50</td></tr>\n",
       "\t<tr><th scope=row>maus_m_700_normAsl_-26</th><td>4.50</td><td>5.00</td><td>5.00</td><td>5.00</td><td>4.00</td><td>4   </td><td>4.75</td><td>4.50</td><td>4.75</td><td>5.00</td><td>... </td><td>5.00</td><td>5.00</td><td>5.00</td><td>4.25</td><td>4.0 </td><td>4.50</td><td>5.00</td><td>5.00</td><td>5.0 </td><td>4.75</td></tr>\n",
       "</tbody>\n",
       "</table>\n"
      ],
      "text/latex": [
       "\\begin{tabular}{r|lllllllllllllllllllllllllllllllllllll}\n",
       "  & vp01 & vp02 & vp03 & vp04 & vp05 & vp06 & vp07 & vp08 & vp09 & vp10 & ... & vp28 & vp29 & vp30 & vp31 & vp32 & vp33 & vp34 & vp35 & vp36 & vp37\\\\\n",
       "\\hline\n",
       "\thaus\\_m\\_700\\_bpf\\_200\\_2800\\_normAsl\\_-26 & 2.00 & 2.50 & 2.50 & 3.75 & 2.00 & 1    & 2.00 & 2.75 & 4.75 & 2.75 & ...  & 1.25 & 5.00 & 3.25 & 3.00 & 2.5  & 2.00 & 2.00 & 3.25 & 3.5  & 2.00\\\\\n",
       "\thaus\\_m\\_700\\_mnru\\_Q\\_14\\_normAsl\\_-26 & 2.75 & 2.00 & 3.75 & 2.75 & 2.00 & 2    & 1.25 & 1.75 & 3.50 & 2.00 & ...  & 2.00 & 3.50 & 2.75 & 2.50 & 1.5  & 1.00 & 3.25 & 2.75 & 2.0  & 1.25\\\\\n",
       "\thaus\\_m\\_700\\_normAsl\\_-26 & 4.00 & 4.75 & 5.00 & 5.00 & 3.50 & 4    & 4.50 & 4.75 & 4.75 & 4.75 & ...  & 5.00 & 4.75 & 5.00 & 4.00 & 4.0  & 3.75 & 5.00 & 5.00 & 5.0  & 3.50\\\\\n",
       "\tmaus\\_m\\_700\\_bpf\\_200\\_2800\\_normAsl\\_-26 & 2.00 & 3.00 & 2.50 & 3.00 & 2.25 & 1    & 2.50 & 2.50 & 5.00 & 2.50 & ...  & 2.00 & 4.75 & 3.00 & 3.50 & 2.5  & 2.00 & 2.25 & 3.25 & 3.0  & 2.00\\\\\n",
       "\tmaus\\_m\\_700\\_mnru\\_Q\\_14\\_normAsl\\_-26 & 2.75 & 2.25 & 3.50 & 2.50 & 2.25 & 2    & 1.00 & 2.25 & 3.25 & 1.50 & ...  & 2.00 & 3.00 & 3.50 & 2.00 & 1.5  & 1.00 & 2.75 & 2.25 & 2.0  & 1.50\\\\\n",
       "\tmaus\\_m\\_700\\_normAsl\\_-26 & 4.50 & 5.00 & 5.00 & 5.00 & 4.00 & 4    & 4.75 & 4.50 & 4.75 & 5.00 & ...  & 5.00 & 5.00 & 5.00 & 4.25 & 4.0  & 4.50 & 5.00 & 5.00 & 5.0  & 4.75\\\\\n",
       "\\end{tabular}\n"
      ],
      "text/markdown": [
       "\n",
       "| <!--/--> | vp01 | vp02 | vp03 | vp04 | vp05 | vp06 | vp07 | vp08 | vp09 | vp10 | ... | vp28 | vp29 | vp30 | vp31 | vp32 | vp33 | vp34 | vp35 | vp36 | vp37 |\n",
       "|---|---|---|---|---|---|---|---|---|---|---|---|---|---|---|---|---|---|---|---|---|---|\n",
       "| haus_m_700_bpf_200_2800_normAsl_-26 | 2.00 | 2.50 | 2.50 | 3.75 | 2.00 | 1    | 2.00 | 2.75 | 4.75 | 2.75 | ...  | 1.25 | 5.00 | 3.25 | 3.00 | 2.5  | 2.00 | 2.00 | 3.25 | 3.5  | 2.00 |\n",
       "| haus_m_700_mnru_Q_14_normAsl_-26 | 2.75 | 2.00 | 3.75 | 2.75 | 2.00 | 2    | 1.25 | 1.75 | 3.50 | 2.00 | ...  | 2.00 | 3.50 | 2.75 | 2.50 | 1.5  | 1.00 | 3.25 | 2.75 | 2.0  | 1.25 |\n",
       "| haus_m_700_normAsl_-26 | 4.00 | 4.75 | 5.00 | 5.00 | 3.50 | 4    | 4.50 | 4.75 | 4.75 | 4.75 | ...  | 5.00 | 4.75 | 5.00 | 4.00 | 4.0  | 3.75 | 5.00 | 5.00 | 5.0  | 3.50 |\n",
       "| maus_m_700_bpf_200_2800_normAsl_-26 | 2.00 | 3.00 | 2.50 | 3.00 | 2.25 | 1    | 2.50 | 2.50 | 5.00 | 2.50 | ...  | 2.00 | 4.75 | 3.00 | 3.50 | 2.5  | 2.00 | 2.25 | 3.25 | 3.0  | 2.00 |\n",
       "| maus_m_700_mnru_Q_14_normAsl_-26 | 2.75 | 2.25 | 3.50 | 2.50 | 2.25 | 2    | 1.00 | 2.25 | 3.25 | 1.50 | ...  | 2.00 | 3.00 | 3.50 | 2.00 | 1.5  | 1.00 | 2.75 | 2.25 | 2.0  | 1.50 |\n",
       "| maus_m_700_normAsl_-26 | 4.50 | 5.00 | 5.00 | 5.00 | 4.00 | 4    | 4.75 | 4.50 | 4.75 | 5.00 | ...  | 5.00 | 5.00 | 5.00 | 4.25 | 4.0  | 4.50 | 5.00 | 5.00 | 5.0  | 4.75 |\n",
       "\n"
      ],
      "text/plain": [
       "                                    vp01 vp02 vp03 vp04 vp05 vp06 vp07 vp08\n",
       "haus_m_700_bpf_200_2800_normAsl_-26 2.00 2.50 2.50 3.75 2.00 1    2.00 2.75\n",
       "haus_m_700_mnru_Q_14_normAsl_-26    2.75 2.00 3.75 2.75 2.00 2    1.25 1.75\n",
       "haus_m_700_normAsl_-26              4.00 4.75 5.00 5.00 3.50 4    4.50 4.75\n",
       "maus_m_700_bpf_200_2800_normAsl_-26 2.00 3.00 2.50 3.00 2.25 1    2.50 2.50\n",
       "maus_m_700_mnru_Q_14_normAsl_-26    2.75 2.25 3.50 2.50 2.25 2    1.00 2.25\n",
       "maus_m_700_normAsl_-26              4.50 5.00 5.00 5.00 4.00 4    4.75 4.50\n",
       "                                    vp09 vp10 ... vp28 vp29 vp30 vp31 vp32 vp33\n",
       "haus_m_700_bpf_200_2800_normAsl_-26 4.75 2.75 ... 1.25 5.00 3.25 3.00 2.5  2.00\n",
       "haus_m_700_mnru_Q_14_normAsl_-26    3.50 2.00 ... 2.00 3.50 2.75 2.50 1.5  1.00\n",
       "haus_m_700_normAsl_-26              4.75 4.75 ... 5.00 4.75 5.00 4.00 4.0  3.75\n",
       "maus_m_700_bpf_200_2800_normAsl_-26 5.00 2.50 ... 2.00 4.75 3.00 3.50 2.5  2.00\n",
       "maus_m_700_mnru_Q_14_normAsl_-26    3.25 1.50 ... 2.00 3.00 3.50 2.00 1.5  1.00\n",
       "maus_m_700_normAsl_-26              4.75 5.00 ... 5.00 5.00 5.00 4.25 4.0  4.50\n",
       "                                    vp34 vp35 vp36 vp37\n",
       "haus_m_700_bpf_200_2800_normAsl_-26 2.00 3.25 3.5  2.00\n",
       "haus_m_700_mnru_Q_14_normAsl_-26    3.25 2.75 2.0  1.25\n",
       "haus_m_700_normAsl_-26              5.00 5.00 5.0  3.50\n",
       "maus_m_700_bpf_200_2800_normAsl_-26 2.25 3.25 3.0  2.00\n",
       "maus_m_700_mnru_Q_14_normAsl_-26    2.75 2.25 2.0  1.50\n",
       "maus_m_700_normAsl_-26              5.00 5.00 5.0  4.75"
      ]
     },
     "metadata": {},
     "output_type": "display_data"
    }
   ],
   "source": [
    "# required: subjects [= conditions] x raters [= participants] => transpose needed!\n",
    "\n",
    "lab_data_transposed <- apply(as.data.frame(t(lab_data)), c(1, 2), as.numeric)\n",
    "\n",
    "lab_data_transposed"
   ]
  },
  {
   "cell_type": "code",
   "execution_count": 10,
   "metadata": {},
   "outputs": [
    {
     "data": {
      "text/plain": [
       " Average Score Intraclass Correlation\n",
       "\n",
       "   Model: twoway \n",
       "   Type : consistency \n",
       "\n",
       "   Subjects = 6 \n",
       "     Raters = 37 \n",
       "  ICC(C,37) = 0.994\n",
       "\n",
       " F-Test, H0: r0 = 0 ; H1: r0 > 0 \n",
       "   F(5,180) = 166 , p = 1.52e-65 \n",
       "\n",
       " 95%-Confidence Interval for ICC Population Values:\n",
       "  0.984 < ICC < 0.999"
      ]
     },
     "metadata": {},
     "output_type": "display_data"
    }
   ],
   "source": [
    "# model: Lab = 2-way\n",
    "# type: consistency because we only care about the CS reliability, not its validity\n",
    "# unit: reliability check applied to mean (MOS)\n",
    "\n",
    "icc_lab <- icc(lab_data_transposed, model=\"twoway\", type=\"consistency\", unit=\"average\")\n",
    "\n",
    "icc_lab"
   ]
  },
  {
   "cell_type": "markdown",
   "metadata": {},
   "source": [
    "# Comparison: Crowdsourcing reliable compared to Lab study?"
   ]
  },
  {
   "cell_type": "code",
   "execution_count": 11,
   "metadata": {},
   "outputs": [
    {
     "data": {
      "text/html": [
       "'ICC for CS study = 0.979340487002751'"
      ],
      "text/latex": [
       "'ICC for CS study = 0.979340487002751'"
      ],
      "text/markdown": [
       "'ICC for CS study = 0.979340487002751'"
      ],
      "text/plain": [
       "[1] \"ICC for CS study = 0.979340487002751\""
      ]
     },
     "metadata": {},
     "output_type": "display_data"
    },
    {
     "data": {
      "text/html": [
       "'ICC for Lab study = 0.993993376972736'"
      ],
      "text/latex": [
       "'ICC for Lab study = 0.993993376972736'"
      ],
      "text/markdown": [
       "'ICC for Lab study = 0.993993376972736'"
      ],
      "text/plain": [
       "[1] \"ICC for Lab study = 0.993993376972736\""
      ]
     },
     "metadata": {},
     "output_type": "display_data"
    }
   ],
   "source": [
    "paste0('ICC for CS study = ', icc_cs$value)\n",
    "paste0('ICC for Lab study = ', icc_lab$value)"
   ]
  },
  {
   "cell_type": "markdown",
   "metadata": {},
   "source": [
    "#### As ICC of CS study very close to Lab study and even above 0.97 => CS study has excellent reliability!"
   ]
  }
 ],
 "metadata": {
  "kernelspec": {
   "display_name": "R",
   "language": "R",
   "name": "ir"
  },
  "language_info": {
   "codemirror_mode": "r",
   "file_extension": ".r",
   "mimetype": "text/x-r-source",
   "name": "R",
   "pygments_lexer": "r",
   "version": "3.6.1"
  }
 },
 "nbformat": 4,
 "nbformat_minor": 2
}
