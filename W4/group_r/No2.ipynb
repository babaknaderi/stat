{
 "cells": [
  {
   "cell_type": "markdown",
   "metadata": {},
   "source": [
    "# Task 2: Are the raters consistent over the time? Check the test retest reliability of the test stimulus maus_m_ 700 _ 26 for all four repetitions (i.e. repetition 1 vs 2, 2 vs 3 and 3 vs 4."
   ]
  },
  {
   "cell_type": "code",
   "execution_count": 1,
   "metadata": {},
   "outputs": [],
   "source": [
    "# install.packages('dplyr')      # processing \n",
    "# install.packages('gdata')      # file reading\n",
    "# install.packages('reshape2')   # getting rid of NA values\n",
    "# install.packages('irr')        # Intraclass Correlation Coefficients\n",
    "# install.packages('Hmisc')      # Correlation"
   ]
  },
  {
   "cell_type": "code",
   "execution_count": 2,
   "metadata": {},
   "outputs": [
    {
     "name": "stderr",
     "output_type": "stream",
     "text": [
      "\n",
      "Attaching package: 'dplyr'\n",
      "\n",
      "The following objects are masked from 'package:stats':\n",
      "\n",
      "    filter, lag\n",
      "\n",
      "The following objects are masked from 'package:base':\n",
      "\n",
      "    intersect, setdiff, setequal, union\n",
      "\n",
      "gdata: Unable to locate valid perl interpreter\n",
      "gdata: \n",
      "gdata: read.xls() will be unable to read Excel XLS and XLSX files\n",
      "gdata: unless the 'perl=' argument is used to specify the location of a\n",
      "gdata: valid perl intrpreter.\n",
      "gdata: \n",
      "gdata: (To avoid display of this message in the future, please ensure\n",
      "gdata: perl is installed and available on the executable search path.)\n",
      "gdata: Unable to load perl libaries needed by read.xls()\n",
      "gdata: to support 'XLX' (Excel 97-2004) files.\n",
      "\n",
      "gdata: Unable to load perl libaries needed by read.xls()\n",
      "gdata: to support 'XLSX' (Excel 2007+) files.\n",
      "\n",
      "gdata: Run the function 'installXLSXsupport()'\n",
      "gdata: to automatically download and install the perl\n",
      "gdata: libaries needed to support Excel XLS and XLSX formats.\n",
      "\n",
      "Attaching package: 'gdata'\n",
      "\n",
      "The following objects are masked from 'package:dplyr':\n",
      "\n",
      "    combine, first, last\n",
      "\n",
      "The following object is masked from 'package:stats':\n",
      "\n",
      "    nobs\n",
      "\n",
      "The following object is masked from 'package:utils':\n",
      "\n",
      "    object.size\n",
      "\n",
      "The following object is masked from 'package:base':\n",
      "\n",
      "    startsWith\n",
      "\n",
      "Loading required package: lpSolve\n",
      "Loading required package: lattice\n",
      "Loading required package: survival\n",
      "Loading required package: Formula\n",
      "Loading required package: ggplot2\n",
      "\n",
      "Attaching package: 'Hmisc'\n",
      "\n",
      "The following objects are masked from 'package:dplyr':\n",
      "\n",
      "    src, summarize\n",
      "\n",
      "The following objects are masked from 'package:base':\n",
      "\n",
      "    format.pval, units\n",
      "\n"
     ]
    }
   ],
   "source": [
    "# include libraries\n",
    "library(dplyr)     # processing\n",
    "library(gdata)     # reading in data\n",
    "library(reshape2)  # used for clearing data points of NA values\n",
    "library(irr)       # Intraclass Correlation Coefficients\n",
    "library(Hmisc)     # correlation"
   ]
  },
  {
   "cell_type": "markdown",
   "metadata": {},
   "source": [
    "# Reading in the data set"
   ]
  },
  {
   "cell_type": "code",
   "execution_count": 3,
   "metadata": {},
   "outputs": [],
   "source": [
    "data <- read.csv('datasets/DB03_speech_quality_repetition_dataset.csv')"
   ]
  },
  {
   "cell_type": "code",
   "execution_count": 4,
   "metadata": {},
   "outputs": [
    {
     "data": {
      "text/html": [
       "<table>\n",
       "<thead><tr><th scope=col>repetition</th><th scope=col>rating</th></tr></thead>\n",
       "<tbody>\n",
       "\t<tr><td>1</td><td>5</td></tr>\n",
       "\t<tr><td>2</td><td>4</td></tr>\n",
       "\t<tr><td>3</td><td>5</td></tr>\n",
       "\t<tr><td>4</td><td>4</td></tr>\n",
       "\t<tr><td>1</td><td>5</td></tr>\n",
       "\t<tr><td>2</td><td>5</td></tr>\n",
       "\t<tr><td>3</td><td>5</td></tr>\n",
       "\t<tr><td>4</td><td>5</td></tr>\n",
       "\t<tr><td>1</td><td>5</td></tr>\n",
       "\t<tr><td>2</td><td>5</td></tr>\n",
       "\t<tr><td>3</td><td>5</td></tr>\n",
       "\t<tr><td>4</td><td>5</td></tr>\n",
       "\t<tr><td>1</td><td>5</td></tr>\n",
       "\t<tr><td>2</td><td>5</td></tr>\n",
       "\t<tr><td>3</td><td>5</td></tr>\n",
       "\t<tr><td>4</td><td>5</td></tr>\n",
       "\t<tr><td>1</td><td>4</td></tr>\n",
       "\t<tr><td>2</td><td>4</td></tr>\n",
       "\t<tr><td>3</td><td>4</td></tr>\n",
       "\t<tr><td>4</td><td>4</td></tr>\n",
       "\t<tr><td>1</td><td>4</td></tr>\n",
       "\t<tr><td>2</td><td>3</td></tr>\n",
       "\t<tr><td>3</td><td>4</td></tr>\n",
       "\t<tr><td>4</td><td>5</td></tr>\n",
       "\t<tr><td>1</td><td>4</td></tr>\n",
       "\t<tr><td>2</td><td>5</td></tr>\n",
       "\t<tr><td>3</td><td>5</td></tr>\n",
       "\t<tr><td>4</td><td>5</td></tr>\n",
       "\t<tr><td>1</td><td>5</td></tr>\n",
       "\t<tr><td>2</td><td>4</td></tr>\n",
       "\t<tr><td>...</td><td>...</td></tr>\n",
       "\t<tr><td>3</td><td>5</td></tr>\n",
       "\t<tr><td>4</td><td>5</td></tr>\n",
       "\t<tr><td>1</td><td>3</td></tr>\n",
       "\t<tr><td>2</td><td>4</td></tr>\n",
       "\t<tr><td>3</td><td>5</td></tr>\n",
       "\t<tr><td>4</td><td>5</td></tr>\n",
       "\t<tr><td>1</td><td>4</td></tr>\n",
       "\t<tr><td>2</td><td>4</td></tr>\n",
       "\t<tr><td>3</td><td>4</td></tr>\n",
       "\t<tr><td>4</td><td>4</td></tr>\n",
       "\t<tr><td>1</td><td>4</td></tr>\n",
       "\t<tr><td>2</td><td>5</td></tr>\n",
       "\t<tr><td>3</td><td>4</td></tr>\n",
       "\t<tr><td>4</td><td>5</td></tr>\n",
       "\t<tr><td>1</td><td>5</td></tr>\n",
       "\t<tr><td>2</td><td>5</td></tr>\n",
       "\t<tr><td>3</td><td>5</td></tr>\n",
       "\t<tr><td>4</td><td>5</td></tr>\n",
       "\t<tr><td>1</td><td>5</td></tr>\n",
       "\t<tr><td>2</td><td>5</td></tr>\n",
       "\t<tr><td>3</td><td>5</td></tr>\n",
       "\t<tr><td>4</td><td>5</td></tr>\n",
       "\t<tr><td>1</td><td>5</td></tr>\n",
       "\t<tr><td>2</td><td>5</td></tr>\n",
       "\t<tr><td>3</td><td>5</td></tr>\n",
       "\t<tr><td>4</td><td>5</td></tr>\n",
       "\t<tr><td>1</td><td>5</td></tr>\n",
       "\t<tr><td>2</td><td>5</td></tr>\n",
       "\t<tr><td>3</td><td>4</td></tr>\n",
       "\t<tr><td>4</td><td>5</td></tr>\n",
       "</tbody>\n",
       "</table>\n"
      ],
      "text/latex": [
       "\\begin{tabular}{r|ll}\n",
       " repetition & rating\\\\\n",
       "\\hline\n",
       "\t 1 & 5\\\\\n",
       "\t 2 & 4\\\\\n",
       "\t 3 & 5\\\\\n",
       "\t 4 & 4\\\\\n",
       "\t 1 & 5\\\\\n",
       "\t 2 & 5\\\\\n",
       "\t 3 & 5\\\\\n",
       "\t 4 & 5\\\\\n",
       "\t 1 & 5\\\\\n",
       "\t 2 & 5\\\\\n",
       "\t 3 & 5\\\\\n",
       "\t 4 & 5\\\\\n",
       "\t 1 & 5\\\\\n",
       "\t 2 & 5\\\\\n",
       "\t 3 & 5\\\\\n",
       "\t 4 & 5\\\\\n",
       "\t 1 & 4\\\\\n",
       "\t 2 & 4\\\\\n",
       "\t 3 & 4\\\\\n",
       "\t 4 & 4\\\\\n",
       "\t 1 & 4\\\\\n",
       "\t 2 & 3\\\\\n",
       "\t 3 & 4\\\\\n",
       "\t 4 & 5\\\\\n",
       "\t 1 & 4\\\\\n",
       "\t 2 & 5\\\\\n",
       "\t 3 & 5\\\\\n",
       "\t 4 & 5\\\\\n",
       "\t 1 & 5\\\\\n",
       "\t 2 & 4\\\\\n",
       "\t ... & ...\\\\\n",
       "\t 3 & 5\\\\\n",
       "\t 4 & 5\\\\\n",
       "\t 1 & 3\\\\\n",
       "\t 2 & 4\\\\\n",
       "\t 3 & 5\\\\\n",
       "\t 4 & 5\\\\\n",
       "\t 1 & 4\\\\\n",
       "\t 2 & 4\\\\\n",
       "\t 3 & 4\\\\\n",
       "\t 4 & 4\\\\\n",
       "\t 1 & 4\\\\\n",
       "\t 2 & 5\\\\\n",
       "\t 3 & 4\\\\\n",
       "\t 4 & 5\\\\\n",
       "\t 1 & 5\\\\\n",
       "\t 2 & 5\\\\\n",
       "\t 3 & 5\\\\\n",
       "\t 4 & 5\\\\\n",
       "\t 1 & 5\\\\\n",
       "\t 2 & 5\\\\\n",
       "\t 3 & 5\\\\\n",
       "\t 4 & 5\\\\\n",
       "\t 1 & 5\\\\\n",
       "\t 2 & 5\\\\\n",
       "\t 3 & 5\\\\\n",
       "\t 4 & 5\\\\\n",
       "\t 1 & 5\\\\\n",
       "\t 2 & 5\\\\\n",
       "\t 3 & 4\\\\\n",
       "\t 4 & 5\\\\\n",
       "\\end{tabular}\n"
      ],
      "text/markdown": [
       "\n",
       "| repetition | rating |\n",
       "|---|---|\n",
       "| 1 | 5 |\n",
       "| 2 | 4 |\n",
       "| 3 | 5 |\n",
       "| 4 | 4 |\n",
       "| 1 | 5 |\n",
       "| 2 | 5 |\n",
       "| 3 | 5 |\n",
       "| 4 | 5 |\n",
       "| 1 | 5 |\n",
       "| 2 | 5 |\n",
       "| 3 | 5 |\n",
       "| 4 | 5 |\n",
       "| 1 | 5 |\n",
       "| 2 | 5 |\n",
       "| 3 | 5 |\n",
       "| 4 | 5 |\n",
       "| 1 | 4 |\n",
       "| 2 | 4 |\n",
       "| 3 | 4 |\n",
       "| 4 | 4 |\n",
       "| 1 | 4 |\n",
       "| 2 | 3 |\n",
       "| 3 | 4 |\n",
       "| 4 | 5 |\n",
       "| 1 | 4 |\n",
       "| 2 | 5 |\n",
       "| 3 | 5 |\n",
       "| 4 | 5 |\n",
       "| 1 | 5 |\n",
       "| 2 | 4 |\n",
       "| ... | ... |\n",
       "| 3 | 5 |\n",
       "| 4 | 5 |\n",
       "| 1 | 3 |\n",
       "| 2 | 4 |\n",
       "| 3 | 5 |\n",
       "| 4 | 5 |\n",
       "| 1 | 4 |\n",
       "| 2 | 4 |\n",
       "| 3 | 4 |\n",
       "| 4 | 4 |\n",
       "| 1 | 4 |\n",
       "| 2 | 5 |\n",
       "| 3 | 4 |\n",
       "| 4 | 5 |\n",
       "| 1 | 5 |\n",
       "| 2 | 5 |\n",
       "| 3 | 5 |\n",
       "| 4 | 5 |\n",
       "| 1 | 5 |\n",
       "| 2 | 5 |\n",
       "| 3 | 5 |\n",
       "| 4 | 5 |\n",
       "| 1 | 5 |\n",
       "| 2 | 5 |\n",
       "| 3 | 5 |\n",
       "| 4 | 5 |\n",
       "| 1 | 5 |\n",
       "| 2 | 5 |\n",
       "| 3 | 4 |\n",
       "| 4 | 5 |\n",
       "\n"
      ],
      "text/plain": [
       "    repetition rating\n",
       "1   1          5     \n",
       "2   2          4     \n",
       "3   3          5     \n",
       "4   4          4     \n",
       "5   1          5     \n",
       "6   2          5     \n",
       "7   3          5     \n",
       "8   4          5     \n",
       "9   1          5     \n",
       "10  2          5     \n",
       "11  3          5     \n",
       "12  4          5     \n",
       "13  1          5     \n",
       "14  2          5     \n",
       "15  3          5     \n",
       "16  4          5     \n",
       "17  1          4     \n",
       "18  2          4     \n",
       "19  3          4     \n",
       "20  4          4     \n",
       "21  1          4     \n",
       "22  2          3     \n",
       "23  3          4     \n",
       "24  4          5     \n",
       "25  1          4     \n",
       "26  2          5     \n",
       "27  3          5     \n",
       "28  4          5     \n",
       "29  1          5     \n",
       "30  2          4     \n",
       "... ...        ...   \n",
       "119 3          5     \n",
       "120 4          5     \n",
       "121 1          3     \n",
       "122 2          4     \n",
       "123 3          5     \n",
       "124 4          5     \n",
       "125 1          4     \n",
       "126 2          4     \n",
       "127 3          4     \n",
       "128 4          4     \n",
       "129 1          4     \n",
       "130 2          5     \n",
       "131 3          4     \n",
       "132 4          5     \n",
       "133 1          5     \n",
       "134 2          5     \n",
       "135 3          5     \n",
       "136 4          5     \n",
       "137 1          5     \n",
       "138 2          5     \n",
       "139 3          5     \n",
       "140 4          5     \n",
       "141 1          5     \n",
       "142 2          5     \n",
       "143 3          5     \n",
       "144 4          5     \n",
       "145 1          5     \n",
       "146 2          5     \n",
       "147 3          4     \n",
       "148 4          5     "
      ]
     },
     "metadata": {},
     "output_type": "display_data"
    }
   ],
   "source": [
    "data <- data %>% \n",
    "        filter(testStimulus == 'maus_m_700_normAsl_-26') %>%\n",
    "        select(repetition, rating)\n",
    "\n",
    "data"
   ]
  },
  {
   "cell_type": "markdown",
   "metadata": {},
   "source": [
    "# Compute test-retest reliability for repetition pairs"
   ]
  },
  {
   "cell_type": "code",
   "execution_count": 5,
   "metadata": {},
   "outputs": [],
   "source": [
    "get_consecutive_correlation_from <- function(t0) {\n",
    "    t0_data <- data %>% filter(repetition == t0) %>% select(rating) %>% mutate(rating = as.numeric(rating)) %>% rename(rating_t0 = rating)\n",
    "    t1_data <- data %>% filter(repetition == t0 + 1) %>% select(rating) %>% mutate(rating = as.numeric(rating)) %>% rename(rating_t1 = rating)\n",
    "    correlation <- round(cor(cbind(t0_data, t1_data), method=\"pearson\")[[2]], digits=5)\n",
    "    \n",
    "    if(correlation < 0.6) {\n",
    "        subjective_interpretation <- 'Poor to unacceptable reliability'\n",
    "    } else if(correlation < 0.7) {\n",
    "        subjective_interpretation <- 'Fair, but questionable reliability'\n",
    "    } else {\n",
    "        subjective_interpretation <- 'Good reliability'\n",
    "    }\n",
    "        \n",
    "    paste0('Correlation between repetition ', as.character(t0), \n",
    "           ' & ', as.character(t0 + 1), ': ', correlation, \n",
    "           ' => ', subjective_interpretation)\n",
    "}"
   ]
  },
  {
   "cell_type": "code",
   "execution_count": 6,
   "metadata": {},
   "outputs": [
    {
     "data": {
      "text/html": [
       "'Correlation between repetition 1 &amp; 2: 0.68579 =&gt; Fair, but questionable reliability'"
      ],
      "text/latex": [
       "'Correlation between repetition 1 \\& 2: 0.68579 => Fair, but questionable reliability'"
      ],
      "text/markdown": [
       "'Correlation between repetition 1 &amp; 2: 0.68579 =&gt; Fair, but questionable reliability'"
      ],
      "text/plain": [
       "[1] \"Correlation between repetition 1 & 2: 0.68579 => Fair, but questionable reliability\""
      ]
     },
     "metadata": {},
     "output_type": "display_data"
    },
    {
     "data": {
      "text/html": [
       "'Correlation between repetition 2 &amp; 3: 0.40879 =&gt; Poor to unacceptable reliability'"
      ],
      "text/latex": [
       "'Correlation between repetition 2 \\& 3: 0.40879 => Poor to unacceptable reliability'"
      ],
      "text/markdown": [
       "'Correlation between repetition 2 &amp; 3: 0.40879 =&gt; Poor to unacceptable reliability'"
      ],
      "text/plain": [
       "[1] \"Correlation between repetition 2 & 3: 0.40879 => Poor to unacceptable reliability\""
      ]
     },
     "metadata": {},
     "output_type": "display_data"
    },
    {
     "data": {
      "text/html": [
       "'Correlation between repetition 3 &amp; 4: 0.44354 =&gt; Poor to unacceptable reliability'"
      ],
      "text/latex": [
       "'Correlation between repetition 3 \\& 4: 0.44354 => Poor to unacceptable reliability'"
      ],
      "text/markdown": [
       "'Correlation between repetition 3 &amp; 4: 0.44354 =&gt; Poor to unacceptable reliability'"
      ],
      "text/plain": [
       "[1] \"Correlation between repetition 3 & 4: 0.44354 => Poor to unacceptable reliability\""
      ]
     },
     "metadata": {},
     "output_type": "display_data"
    }
   ],
   "source": [
    "get_consecutive_correlation_from(1)\n",
    "get_consecutive_correlation_from(2)\n",
    "get_consecutive_correlation_from(3)"
   ]
  }
 ],
 "metadata": {
  "kernelspec": {
   "display_name": "R",
   "language": "R",
   "name": "ir"
  },
  "language_info": {
   "codemirror_mode": "r",
   "file_extension": ".r",
   "mimetype": "text/x-r-source",
   "name": "R",
   "pygments_lexer": "r",
   "version": "3.6.1"
  }
 },
 "nbformat": 4,
 "nbformat_minor": 2
}
