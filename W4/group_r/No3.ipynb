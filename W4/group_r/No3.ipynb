{
 "cells": [
  {
   "cell_type": "markdown",
   "metadata": {},
   "source": [
    "# Task 3: Do Video Quality, Video Fragmentation, Video Unclearness, and Video Discontinuity build the same general construct? What is their internal consistency? If not, which combination does?"
   ]
  },
  {
   "cell_type": "code",
   "execution_count": 1,
   "metadata": {},
   "outputs": [],
   "source": [
    "# install.packages('dplyr')      # processing \n",
    "# install.packages('gdata')      # file reading\n",
    "# install.packages('psych')      # Cronbach Alpha for internal consistency"
   ]
  },
  {
   "cell_type": "code",
   "execution_count": 2,
   "metadata": {},
   "outputs": [
    {
     "name": "stderr",
     "output_type": "stream",
     "text": [
      "\n",
      "Attaching package: 'dplyr'\n",
      "\n",
      "The following objects are masked from 'package:stats':\n",
      "\n",
      "    filter, lag\n",
      "\n",
      "The following objects are masked from 'package:base':\n",
      "\n",
      "    intersect, setdiff, setequal, union\n",
      "\n"
     ]
    }
   ],
   "source": [
    "library(dplyr)      # processing\n",
    "library(readxl)     # reading in data\n",
    "library(psych)      # Cronbach Alpha library\n",
    "options(warn=-1)    "
   ]
  },
  {
   "cell_type": "markdown",
   "metadata": {},
   "source": [
    "# Wrapper functions and global mean decision"
   ]
  },
  {
   "cell_type": "code",
   "execution_count": 3,
   "metadata": {},
   "outputs": [],
   "source": [
    "# Global adjustable variable if we were not sure about dealing with multiple answers per participant\n",
    "# every participant is now several times in used data set\n",
    "# if TRUE: MOS per participant used\n",
    "\n",
    "use_mean_for_cronbach <- FALSE"
   ]
  },
  {
   "cell_type": "code",
   "execution_count": 4,
   "metadata": {},
   "outputs": [],
   "source": [
    "# function to evaluate Cronbach alpha values\n",
    "\n",
    "# source: Quality & Usability Seminar, TU Berlin, \n",
    "# slides for reliability, December 2019\n",
    "\n",
    "get_internal_consistency_label <- function(alpha) {\n",
    "    if(alpha < 0.5) {\n",
    "        return('unacceptable')\n",
    "    } else if(alpha < 0.6) {\n",
    "        return('poor')\n",
    "    } else if(alpha < 0.7) {\n",
    "        return('questionable')\n",
    "    } else if(alpha < 0.8) {\n",
    "        return('acceptable')\n",
    "    } else if(alpha < 0.9) {\n",
    "        return('good')\n",
    "    } else {\n",
    "        return('excellent')\n",
    "    }\n",
    "}"
   ]
  },
  {
   "cell_type": "code",
   "execution_count": 5,
   "metadata": {},
   "outputs": [],
   "source": [
    "# reads in initial data set based\n",
    "\n",
    "get_initial_data <- function() {\n",
    "    data <- read_excel('datasets/DB01_gaming_video_quality_dataset.xlsx')\n",
    "    if(use_mean_for_cronbach) {\n",
    "        res <- data %>% \n",
    "                    group_by(PID) %>% \n",
    "                    summarise(meanVQ = mean(VQ),\n",
    "                              meanVF = mean(VF),\n",
    "                              meanVU = mean(VU),\n",
    "                              meanVD = mean(VD)) %>%\n",
    "                    rename(VQ = meanVQ, \n",
    "                           VF = meanVF, \n",
    "                           VU = meanVU, \n",
    "                           VD = meanVD) %>%\n",
    "                    select(VQ,VF,VU,VD)\n",
    "    } else {\n",
    "        res <- data %>% select(VQ,VF,VU,VD)\n",
    "    }\n",
    "    res\n",
    "}"
   ]
  },
  {
   "cell_type": "code",
   "execution_count": 6,
   "metadata": {
    "scrolled": false
   },
   "outputs": [],
   "source": [
    "# function that returns data frame without passed scales hindering reliability excluded\n",
    "\n",
    "get_updated_data <- function (data, exclude_cols=NULL) {\n",
    "    if(missing(exclude_cols) || is.null(exclude_cols)) {\n",
    "        return(data)\n",
    "    } else {\n",
    "        return(data %>% select(-exclude_cols)) # exclude passed column to increase Cronbach alpha\n",
    "    }\n",
    "}"
   ]
  },
  {
   "cell_type": "code",
   "execution_count": 7,
   "metadata": {},
   "outputs": [],
   "source": [
    "# prints Cronbach alpha values if items were removed from our data set\n",
    "\n",
    "print_results_if_scale_removed <- function(input) {\n",
    "    current_alpha <- alpha(input)[[1]] %>% select(raw_alpha)\n",
    "    cronbach_if_scale_dropped <- alpha(input)[[2]] %>% \n",
    "                                select(raw_alpha) %>% \n",
    "                                rename(Cronbach_If_Scale_Dropped = raw_alpha)\n",
    "\n",
    "    cronbach_if_scale_dropped\n",
    "}"
   ]
  },
  {
   "cell_type": "code",
   "execution_count": 8,
   "metadata": {},
   "outputs": [],
   "source": [
    "# prints current formatted Cronbach alpha value\n",
    "\n",
    "print_current_results <- function(input) {\n",
    "    if(ncol(input) == 1) {\n",
    "        input\n",
    "    } else {\n",
    "        current_alpha <- alpha(input)[[1]] %>% select(raw_alpha)\n",
    "        current_alpha <- round(current_alpha, digits=5)\n",
    "        \n",
    "        return(\n",
    "            paste0('Current Cronbach alpha (', \n",
    "           paste(rownames(alpha(input)[[2]]), collapse=', '), \n",
    "           ') : ', current_alpha, ' => ', \n",
    "           get_internal_consistency_label(current_alpha), \n",
    "           ' internal consistency')\n",
    "        )\n",
    "    }\n",
    "}"
   ]
  },
  {
   "cell_type": "markdown",
   "metadata": {},
   "source": [
    "# Reading in initial data set with VQ, VF, VU & VD scales + internal consistency results"
   ]
  },
  {
   "cell_type": "code",
   "execution_count": 9,
   "metadata": {},
   "outputs": [
    {
     "data": {
      "text/html": [
       "<table>\n",
       "<thead><tr><th scope=col>VQ</th><th scope=col>VF</th><th scope=col>VU</th><th scope=col>VD</th></tr></thead>\n",
       "<tbody>\n",
       "\t<tr><td>1.4</td><td>1.3</td><td>1.6</td><td>5.7</td></tr>\n",
       "\t<tr><td>1.2</td><td>1.2</td><td>4.6</td><td>6.3</td></tr>\n",
       "\t<tr><td>2.5</td><td>2.3</td><td>2.8</td><td>4.4</td></tr>\n",
       "\t<tr><td>2.0</td><td>3.0</td><td>2.0</td><td>4.8</td></tr>\n",
       "\t<tr><td>2.4</td><td>3.0</td><td>2.0</td><td>5.5</td></tr>\n",
       "\t<tr><td>2.0</td><td>2.2</td><td>2.0</td><td>4.0</td></tr>\n",
       "\t<tr><td>2.0</td><td>2.0</td><td>2.0</td><td>6.0</td></tr>\n",
       "\t<tr><td>1.5</td><td>1.2</td><td>1.2</td><td>5.6</td></tr>\n",
       "\t<tr><td>2.4</td><td>2.3</td><td>2.6</td><td>5.3</td></tr>\n",
       "\t<tr><td>2.3</td><td>2.8</td><td>2.0</td><td>5.7</td></tr>\n",
       "\t<tr><td>1.4</td><td>2.0</td><td>2.0</td><td>5.0</td></tr>\n",
       "\t<tr><td>2.0</td><td>2.0</td><td>2.0</td><td>6.0</td></tr>\n",
       "\t<tr><td>1.0</td><td>1.6</td><td>2.3</td><td>5.9</td></tr>\n",
       "\t<tr><td>2.0</td><td>1.8</td><td>2.0</td><td>6.0</td></tr>\n",
       "\t<tr><td>2.2</td><td>3.2</td><td>1.6</td><td>4.9</td></tr>\n",
       "\t<tr><td>2.0</td><td>2.0</td><td>2.0</td><td>5.6</td></tr>\n",
       "\t<tr><td>2.0</td><td>6.0</td><td>1.8</td><td>6.0</td></tr>\n",
       "\t<tr><td>2.1</td><td>2.1</td><td>4.0</td><td>5.2</td></tr>\n",
       "\t<tr><td>1.1</td><td>1.2</td><td>1.2</td><td>5.0</td></tr>\n",
       "\t<tr><td>2.9</td><td>2.4</td><td>2.8</td><td>5.2</td></tr>\n",
       "\t<tr><td>1.7</td><td>1.9</td><td>1.9</td><td>2.0</td></tr>\n",
       "\t<tr><td>1.2</td><td>1.3</td><td>1.3</td><td>2.9</td></tr>\n",
       "\t<tr><td>2.0</td><td>2.1</td><td>2.1</td><td>4.9</td></tr>\n",
       "\t<tr><td>4.6</td><td>3.2</td><td>4.9</td><td>5.5</td></tr>\n",
       "\t<tr><td>1.8</td><td>1.7</td><td>1.8</td><td>3.9</td></tr>\n",
       "\t<tr><td>1.1</td><td>1.3</td><td>1.4</td><td>5.8</td></tr>\n",
       "\t<tr><td>2.0</td><td>2.3</td><td>2.5</td><td>6.0</td></tr>\n",
       "\t<tr><td>1.6</td><td>2.0</td><td>2.0</td><td>6.0</td></tr>\n",
       "\t<tr><td>1.3</td><td>1.1</td><td>1.6</td><td>4.7</td></tr>\n",
       "\t<tr><td>2.1</td><td>2.5</td><td>1.8</td><td>5.9</td></tr>\n",
       "\t<tr><td>...</td><td>...</td><td>...</td><td>...</td></tr>\n",
       "\t<tr><td>5.5</td><td>5.8</td><td>6.0</td><td>6.0</td></tr>\n",
       "\t<tr><td>5.0</td><td>5.5</td><td>5.0</td><td>5.5</td></tr>\n",
       "\t<tr><td>5.1</td><td>6.0</td><td>5.6</td><td>5.8</td></tr>\n",
       "\t<tr><td>5.6</td><td>5.6</td><td>5.6</td><td>5.3</td></tr>\n",
       "\t<tr><td>5.0</td><td>5.6</td><td>5.9</td><td>4.4</td></tr>\n",
       "\t<tr><td>4.7</td><td>3.2</td><td>3.0</td><td>5.2</td></tr>\n",
       "\t<tr><td>5.7</td><td>5.5</td><td>6.0</td><td>5.4</td></tr>\n",
       "\t<tr><td>6.0</td><td>5.7</td><td>6.0</td><td>5.0</td></tr>\n",
       "\t<tr><td>6.0</td><td>6.0</td><td>6.0</td><td>6.0</td></tr>\n",
       "\t<tr><td>6.0</td><td>6.0</td><td>6.0</td><td>6.0</td></tr>\n",
       "\t<tr><td>6.4</td><td>6.0</td><td>6.4</td><td>6.0</td></tr>\n",
       "\t<tr><td>5.0</td><td>5.9</td><td>5.4</td><td>5.5</td></tr>\n",
       "\t<tr><td>5.2</td><td>6.0</td><td>5.9</td><td>4.2</td></tr>\n",
       "\t<tr><td>6.0</td><td>6.0</td><td>6.0</td><td>6.0</td></tr>\n",
       "\t<tr><td>5.1</td><td>5.4</td><td>5.9</td><td>5.0</td></tr>\n",
       "\t<tr><td>5.3</td><td>5.1</td><td>5.6</td><td>5.6</td></tr>\n",
       "\t<tr><td>5.0</td><td>5.4</td><td>5.7</td><td>5.3</td></tr>\n",
       "\t<tr><td>4.3</td><td>5.1</td><td>5.2</td><td>4.0</td></tr>\n",
       "\t<tr><td>6.0</td><td>5.7</td><td>5.7</td><td>5.2</td></tr>\n",
       "\t<tr><td>4.8</td><td>5.4</td><td>5.2</td><td>5.0</td></tr>\n",
       "\t<tr><td>2.9</td><td>2.8</td><td>5.3</td><td>2.8</td></tr>\n",
       "\t<tr><td>6.0</td><td>6.0</td><td>6.0</td><td>6.0</td></tr>\n",
       "\t<tr><td>6.0</td><td>6.0</td><td>6.0</td><td>6.0</td></tr>\n",
       "\t<tr><td>5.0</td><td>6.0</td><td>6.0</td><td>5.0</td></tr>\n",
       "\t<tr><td>6.0</td><td>4.9</td><td>6.0</td><td>6.0</td></tr>\n",
       "\t<tr><td>6.0</td><td>6.0</td><td>6.0</td><td>6.0</td></tr>\n",
       "\t<tr><td>6.0</td><td>6.0</td><td>6.0</td><td>6.0</td></tr>\n",
       "\t<tr><td>5.7</td><td>4.0</td><td>6.4</td><td>4.0</td></tr>\n",
       "\t<tr><td>5.7</td><td>5.8</td><td>5.9</td><td>5.9</td></tr>\n",
       "\t<tr><td>5.5</td><td>6.0</td><td>5.4</td><td>5.9</td></tr>\n",
       "</tbody>\n",
       "</table>\n"
      ],
      "text/latex": [
       "\\begin{tabular}{r|llll}\n",
       " VQ & VF & VU & VD\\\\\n",
       "\\hline\n",
       "\t 1.4 & 1.3 & 1.6 & 5.7\\\\\n",
       "\t 1.2 & 1.2 & 4.6 & 6.3\\\\\n",
       "\t 2.5 & 2.3 & 2.8 & 4.4\\\\\n",
       "\t 2.0 & 3.0 & 2.0 & 4.8\\\\\n",
       "\t 2.4 & 3.0 & 2.0 & 5.5\\\\\n",
       "\t 2.0 & 2.2 & 2.0 & 4.0\\\\\n",
       "\t 2.0 & 2.0 & 2.0 & 6.0\\\\\n",
       "\t 1.5 & 1.2 & 1.2 & 5.6\\\\\n",
       "\t 2.4 & 2.3 & 2.6 & 5.3\\\\\n",
       "\t 2.3 & 2.8 & 2.0 & 5.7\\\\\n",
       "\t 1.4 & 2.0 & 2.0 & 5.0\\\\\n",
       "\t 2.0 & 2.0 & 2.0 & 6.0\\\\\n",
       "\t 1.0 & 1.6 & 2.3 & 5.9\\\\\n",
       "\t 2.0 & 1.8 & 2.0 & 6.0\\\\\n",
       "\t 2.2 & 3.2 & 1.6 & 4.9\\\\\n",
       "\t 2.0 & 2.0 & 2.0 & 5.6\\\\\n",
       "\t 2.0 & 6.0 & 1.8 & 6.0\\\\\n",
       "\t 2.1 & 2.1 & 4.0 & 5.2\\\\\n",
       "\t 1.1 & 1.2 & 1.2 & 5.0\\\\\n",
       "\t 2.9 & 2.4 & 2.8 & 5.2\\\\\n",
       "\t 1.7 & 1.9 & 1.9 & 2.0\\\\\n",
       "\t 1.2 & 1.3 & 1.3 & 2.9\\\\\n",
       "\t 2.0 & 2.1 & 2.1 & 4.9\\\\\n",
       "\t 4.6 & 3.2 & 4.9 & 5.5\\\\\n",
       "\t 1.8 & 1.7 & 1.8 & 3.9\\\\\n",
       "\t 1.1 & 1.3 & 1.4 & 5.8\\\\\n",
       "\t 2.0 & 2.3 & 2.5 & 6.0\\\\\n",
       "\t 1.6 & 2.0 & 2.0 & 6.0\\\\\n",
       "\t 1.3 & 1.1 & 1.6 & 4.7\\\\\n",
       "\t 2.1 & 2.5 & 1.8 & 5.9\\\\\n",
       "\t ... & ... & ... & ...\\\\\n",
       "\t 5.5 & 5.8 & 6.0 & 6.0\\\\\n",
       "\t 5.0 & 5.5 & 5.0 & 5.5\\\\\n",
       "\t 5.1 & 6.0 & 5.6 & 5.8\\\\\n",
       "\t 5.6 & 5.6 & 5.6 & 5.3\\\\\n",
       "\t 5.0 & 5.6 & 5.9 & 4.4\\\\\n",
       "\t 4.7 & 3.2 & 3.0 & 5.2\\\\\n",
       "\t 5.7 & 5.5 & 6.0 & 5.4\\\\\n",
       "\t 6.0 & 5.7 & 6.0 & 5.0\\\\\n",
       "\t 6.0 & 6.0 & 6.0 & 6.0\\\\\n",
       "\t 6.0 & 6.0 & 6.0 & 6.0\\\\\n",
       "\t 6.4 & 6.0 & 6.4 & 6.0\\\\\n",
       "\t 5.0 & 5.9 & 5.4 & 5.5\\\\\n",
       "\t 5.2 & 6.0 & 5.9 & 4.2\\\\\n",
       "\t 6.0 & 6.0 & 6.0 & 6.0\\\\\n",
       "\t 5.1 & 5.4 & 5.9 & 5.0\\\\\n",
       "\t 5.3 & 5.1 & 5.6 & 5.6\\\\\n",
       "\t 5.0 & 5.4 & 5.7 & 5.3\\\\\n",
       "\t 4.3 & 5.1 & 5.2 & 4.0\\\\\n",
       "\t 6.0 & 5.7 & 5.7 & 5.2\\\\\n",
       "\t 4.8 & 5.4 & 5.2 & 5.0\\\\\n",
       "\t 2.9 & 2.8 & 5.3 & 2.8\\\\\n",
       "\t 6.0 & 6.0 & 6.0 & 6.0\\\\\n",
       "\t 6.0 & 6.0 & 6.0 & 6.0\\\\\n",
       "\t 5.0 & 6.0 & 6.0 & 5.0\\\\\n",
       "\t 6.0 & 4.9 & 6.0 & 6.0\\\\\n",
       "\t 6.0 & 6.0 & 6.0 & 6.0\\\\\n",
       "\t 6.0 & 6.0 & 6.0 & 6.0\\\\\n",
       "\t 5.7 & 4.0 & 6.4 & 4.0\\\\\n",
       "\t 5.7 & 5.8 & 5.9 & 5.9\\\\\n",
       "\t 5.5 & 6.0 & 5.4 & 5.9\\\\\n",
       "\\end{tabular}\n"
      ],
      "text/markdown": [
       "\n",
       "| VQ | VF | VU | VD |\n",
       "|---|---|---|---|\n",
       "| 1.4 | 1.3 | 1.6 | 5.7 |\n",
       "| 1.2 | 1.2 | 4.6 | 6.3 |\n",
       "| 2.5 | 2.3 | 2.8 | 4.4 |\n",
       "| 2.0 | 3.0 | 2.0 | 4.8 |\n",
       "| 2.4 | 3.0 | 2.0 | 5.5 |\n",
       "| 2.0 | 2.2 | 2.0 | 4.0 |\n",
       "| 2.0 | 2.0 | 2.0 | 6.0 |\n",
       "| 1.5 | 1.2 | 1.2 | 5.6 |\n",
       "| 2.4 | 2.3 | 2.6 | 5.3 |\n",
       "| 2.3 | 2.8 | 2.0 | 5.7 |\n",
       "| 1.4 | 2.0 | 2.0 | 5.0 |\n",
       "| 2.0 | 2.0 | 2.0 | 6.0 |\n",
       "| 1.0 | 1.6 | 2.3 | 5.9 |\n",
       "| 2.0 | 1.8 | 2.0 | 6.0 |\n",
       "| 2.2 | 3.2 | 1.6 | 4.9 |\n",
       "| 2.0 | 2.0 | 2.0 | 5.6 |\n",
       "| 2.0 | 6.0 | 1.8 | 6.0 |\n",
       "| 2.1 | 2.1 | 4.0 | 5.2 |\n",
       "| 1.1 | 1.2 | 1.2 | 5.0 |\n",
       "| 2.9 | 2.4 | 2.8 | 5.2 |\n",
       "| 1.7 | 1.9 | 1.9 | 2.0 |\n",
       "| 1.2 | 1.3 | 1.3 | 2.9 |\n",
       "| 2.0 | 2.1 | 2.1 | 4.9 |\n",
       "| 4.6 | 3.2 | 4.9 | 5.5 |\n",
       "| 1.8 | 1.7 | 1.8 | 3.9 |\n",
       "| 1.1 | 1.3 | 1.4 | 5.8 |\n",
       "| 2.0 | 2.3 | 2.5 | 6.0 |\n",
       "| 1.6 | 2.0 | 2.0 | 6.0 |\n",
       "| 1.3 | 1.1 | 1.6 | 4.7 |\n",
       "| 2.1 | 2.5 | 1.8 | 5.9 |\n",
       "| ... | ... | ... | ... |\n",
       "| 5.5 | 5.8 | 6.0 | 6.0 |\n",
       "| 5.0 | 5.5 | 5.0 | 5.5 |\n",
       "| 5.1 | 6.0 | 5.6 | 5.8 |\n",
       "| 5.6 | 5.6 | 5.6 | 5.3 |\n",
       "| 5.0 | 5.6 | 5.9 | 4.4 |\n",
       "| 4.7 | 3.2 | 3.0 | 5.2 |\n",
       "| 5.7 | 5.5 | 6.0 | 5.4 |\n",
       "| 6.0 | 5.7 | 6.0 | 5.0 |\n",
       "| 6.0 | 6.0 | 6.0 | 6.0 |\n",
       "| 6.0 | 6.0 | 6.0 | 6.0 |\n",
       "| 6.4 | 6.0 | 6.4 | 6.0 |\n",
       "| 5.0 | 5.9 | 5.4 | 5.5 |\n",
       "| 5.2 | 6.0 | 5.9 | 4.2 |\n",
       "| 6.0 | 6.0 | 6.0 | 6.0 |\n",
       "| 5.1 | 5.4 | 5.9 | 5.0 |\n",
       "| 5.3 | 5.1 | 5.6 | 5.6 |\n",
       "| 5.0 | 5.4 | 5.7 | 5.3 |\n",
       "| 4.3 | 5.1 | 5.2 | 4.0 |\n",
       "| 6.0 | 5.7 | 5.7 | 5.2 |\n",
       "| 4.8 | 5.4 | 5.2 | 5.0 |\n",
       "| 2.9 | 2.8 | 5.3 | 2.8 |\n",
       "| 6.0 | 6.0 | 6.0 | 6.0 |\n",
       "| 6.0 | 6.0 | 6.0 | 6.0 |\n",
       "| 5.0 | 6.0 | 6.0 | 5.0 |\n",
       "| 6.0 | 4.9 | 6.0 | 6.0 |\n",
       "| 6.0 | 6.0 | 6.0 | 6.0 |\n",
       "| 6.0 | 6.0 | 6.0 | 6.0 |\n",
       "| 5.7 | 4.0 | 6.4 | 4.0 |\n",
       "| 5.7 | 5.8 | 5.9 | 5.9 |\n",
       "| 5.5 | 6.0 | 5.4 | 5.9 |\n",
       "\n"
      ],
      "text/plain": [
       "     VQ  VF  VU  VD \n",
       "1    1.4 1.3 1.6 5.7\n",
       "2    1.2 1.2 4.6 6.3\n",
       "3    2.5 2.3 2.8 4.4\n",
       "4    2.0 3.0 2.0 4.8\n",
       "5    2.4 3.0 2.0 5.5\n",
       "6    2.0 2.2 2.0 4.0\n",
       "7    2.0 2.0 2.0 6.0\n",
       "8    1.5 1.2 1.2 5.6\n",
       "9    2.4 2.3 2.6 5.3\n",
       "10   2.3 2.8 2.0 5.7\n",
       "11   1.4 2.0 2.0 5.0\n",
       "12   2.0 2.0 2.0 6.0\n",
       "13   1.0 1.6 2.3 5.9\n",
       "14   2.0 1.8 2.0 6.0\n",
       "15   2.2 3.2 1.6 4.9\n",
       "16   2.0 2.0 2.0 5.6\n",
       "17   2.0 6.0 1.8 6.0\n",
       "18   2.1 2.1 4.0 5.2\n",
       "19   1.1 1.2 1.2 5.0\n",
       "20   2.9 2.4 2.8 5.2\n",
       "21   1.7 1.9 1.9 2.0\n",
       "22   1.2 1.3 1.3 2.9\n",
       "23   2.0 2.1 2.1 4.9\n",
       "24   4.6 3.2 4.9 5.5\n",
       "25   1.8 1.7 1.8 3.9\n",
       "26   1.1 1.3 1.4 5.8\n",
       "27   2.0 2.3 2.5 6.0\n",
       "28   1.6 2.0 2.0 6.0\n",
       "29   1.3 1.1 1.6 4.7\n",
       "30   2.1 2.5 1.8 5.9\n",
       "...  ... ... ... ...\n",
       "3355 5.5 5.8 6.0 6.0\n",
       "3356 5.0 5.5 5.0 5.5\n",
       "3357 5.1 6.0 5.6 5.8\n",
       "3358 5.6 5.6 5.6 5.3\n",
       "3359 5.0 5.6 5.9 4.4\n",
       "3360 4.7 3.2 3.0 5.2\n",
       "3361 5.7 5.5 6.0 5.4\n",
       "3362 6.0 5.7 6.0 5.0\n",
       "3363 6.0 6.0 6.0 6.0\n",
       "3364 6.0 6.0 6.0 6.0\n",
       "3365 6.4 6.0 6.4 6.0\n",
       "3366 5.0 5.9 5.4 5.5\n",
       "3367 5.2 6.0 5.9 4.2\n",
       "3368 6.0 6.0 6.0 6.0\n",
       "3369 5.1 5.4 5.9 5.0\n",
       "3370 5.3 5.1 5.6 5.6\n",
       "3371 5.0 5.4 5.7 5.3\n",
       "3372 4.3 5.1 5.2 4.0\n",
       "3373 6.0 5.7 5.7 5.2\n",
       "3374 4.8 5.4 5.2 5.0\n",
       "3375 2.9 2.8 5.3 2.8\n",
       "3376 6.0 6.0 6.0 6.0\n",
       "3377 6.0 6.0 6.0 6.0\n",
       "3378 5.0 6.0 6.0 5.0\n",
       "3379 6.0 4.9 6.0 6.0\n",
       "3380 6.0 6.0 6.0 6.0\n",
       "3381 6.0 6.0 6.0 6.0\n",
       "3382 5.7 4.0 6.4 4.0\n",
       "3383 5.7 5.8 5.9 5.9\n",
       "3384 5.5 6.0 5.4 5.9"
      ]
     },
     "metadata": {},
     "output_type": "display_data"
    }
   ],
   "source": [
    "# print initial data set\n",
    "data <- get_initial_data()\n",
    "\n",
    "current_data <- get_updated_data(data, exclude_cols = NULL)\n",
    "current_data"
   ]
  },
  {
   "cell_type": "code",
   "execution_count": 10,
   "metadata": {},
   "outputs": [
    {
     "data": {
      "text/html": [
       "'Current Cronbach alpha (VQ, VF, VU, VD) : 0.74212 =&gt; acceptable internal consistency'"
      ],
      "text/latex": [
       "'Current Cronbach alpha (VQ, VF, VU, VD) : 0.74212 => acceptable internal consistency'"
      ],
      "text/markdown": [
       "'Current Cronbach alpha (VQ, VF, VU, VD) : 0.74212 =&gt; acceptable internal consistency'"
      ],
      "text/plain": [
       "[1] \"Current Cronbach alpha (VQ, VF, VU, VD) : 0.74212 => acceptable internal consistency\""
      ]
     },
     "metadata": {},
     "output_type": "display_data"
    },
    {
     "data": {
      "text/html": [
       "<table>\n",
       "<thead><tr><th></th><th scope=col>Cronbach_If_Scale_Dropped</th></tr></thead>\n",
       "<tbody>\n",
       "\t<tr><th scope=row>VQ</th><td>0.5253684</td></tr>\n",
       "\t<tr><th scope=row>VF</th><td>0.6560034</td></tr>\n",
       "\t<tr><th scope=row>VU</th><td>0.6500011</td></tr>\n",
       "\t<tr><th scope=row>VD</th><td>0.8298210</td></tr>\n",
       "</tbody>\n",
       "</table>\n"
      ],
      "text/latex": [
       "\\begin{tabular}{r|l}\n",
       "  & Cronbach\\_If\\_Scale\\_Dropped\\\\\n",
       "\\hline\n",
       "\tVQ & 0.5253684\\\\\n",
       "\tVF & 0.6560034\\\\\n",
       "\tVU & 0.6500011\\\\\n",
       "\tVD & 0.8298210\\\\\n",
       "\\end{tabular}\n"
      ],
      "text/markdown": [
       "\n",
       "| <!--/--> | Cronbach_If_Scale_Dropped |\n",
       "|---|---|\n",
       "| VQ | 0.5253684 |\n",
       "| VF | 0.6560034 |\n",
       "| VU | 0.6500011 |\n",
       "| VD | 0.8298210 |\n",
       "\n"
      ],
      "text/plain": [
       "   Cronbach_If_Scale_Dropped\n",
       "VQ 0.5253684                \n",
       "VF 0.6560034                \n",
       "VU 0.6500011                \n",
       "VD 0.8298210                "
      ]
     },
     "metadata": {},
     "output_type": "display_data"
    }
   ],
   "source": [
    "# print internal consistency analysis results for current scales\n",
    "\n",
    "print_current_results(current_data)\n",
    "print_results_if_scale_removed(current_data)"
   ]
  },
  {
   "cell_type": "markdown",
   "metadata": {},
   "source": [
    "# Remove \"most lucrative scale\" to improve internal consistency + internal consistency results"
   ]
  },
  {
   "cell_type": "code",
   "execution_count": 11,
   "metadata": {},
   "outputs": [
    {
     "data": {
      "text/html": [
       "<table>\n",
       "<thead><tr><th scope=col>VQ</th><th scope=col>VF</th><th scope=col>VU</th></tr></thead>\n",
       "<tbody>\n",
       "\t<tr><td>1.4</td><td>1.3</td><td>1.6</td></tr>\n",
       "\t<tr><td>1.2</td><td>1.2</td><td>4.6</td></tr>\n",
       "\t<tr><td>2.5</td><td>2.3</td><td>2.8</td></tr>\n",
       "\t<tr><td>2.0</td><td>3.0</td><td>2.0</td></tr>\n",
       "\t<tr><td>2.4</td><td>3.0</td><td>2.0</td></tr>\n",
       "\t<tr><td>2.0</td><td>2.2</td><td>2.0</td></tr>\n",
       "\t<tr><td>2.0</td><td>2.0</td><td>2.0</td></tr>\n",
       "\t<tr><td>1.5</td><td>1.2</td><td>1.2</td></tr>\n",
       "\t<tr><td>2.4</td><td>2.3</td><td>2.6</td></tr>\n",
       "\t<tr><td>2.3</td><td>2.8</td><td>2.0</td></tr>\n",
       "\t<tr><td>1.4</td><td>2.0</td><td>2.0</td></tr>\n",
       "\t<tr><td>2.0</td><td>2.0</td><td>2.0</td></tr>\n",
       "\t<tr><td>1.0</td><td>1.6</td><td>2.3</td></tr>\n",
       "\t<tr><td>2.0</td><td>1.8</td><td>2.0</td></tr>\n",
       "\t<tr><td>2.2</td><td>3.2</td><td>1.6</td></tr>\n",
       "\t<tr><td>2.0</td><td>2.0</td><td>2.0</td></tr>\n",
       "\t<tr><td>2.0</td><td>6.0</td><td>1.8</td></tr>\n",
       "\t<tr><td>2.1</td><td>2.1</td><td>4.0</td></tr>\n",
       "\t<tr><td>1.1</td><td>1.2</td><td>1.2</td></tr>\n",
       "\t<tr><td>2.9</td><td>2.4</td><td>2.8</td></tr>\n",
       "\t<tr><td>1.7</td><td>1.9</td><td>1.9</td></tr>\n",
       "\t<tr><td>1.2</td><td>1.3</td><td>1.3</td></tr>\n",
       "\t<tr><td>2.0</td><td>2.1</td><td>2.1</td></tr>\n",
       "\t<tr><td>4.6</td><td>3.2</td><td>4.9</td></tr>\n",
       "\t<tr><td>1.8</td><td>1.7</td><td>1.8</td></tr>\n",
       "\t<tr><td>1.1</td><td>1.3</td><td>1.4</td></tr>\n",
       "\t<tr><td>2.0</td><td>2.3</td><td>2.5</td></tr>\n",
       "\t<tr><td>1.6</td><td>2.0</td><td>2.0</td></tr>\n",
       "\t<tr><td>1.3</td><td>1.1</td><td>1.6</td></tr>\n",
       "\t<tr><td>2.1</td><td>2.5</td><td>1.8</td></tr>\n",
       "\t<tr><td>...</td><td>...</td><td>...</td></tr>\n",
       "\t<tr><td>5.5</td><td>5.8</td><td>6.0</td></tr>\n",
       "\t<tr><td>5.0</td><td>5.5</td><td>5.0</td></tr>\n",
       "\t<tr><td>5.1</td><td>6.0</td><td>5.6</td></tr>\n",
       "\t<tr><td>5.6</td><td>5.6</td><td>5.6</td></tr>\n",
       "\t<tr><td>5.0</td><td>5.6</td><td>5.9</td></tr>\n",
       "\t<tr><td>4.7</td><td>3.2</td><td>3.0</td></tr>\n",
       "\t<tr><td>5.7</td><td>5.5</td><td>6.0</td></tr>\n",
       "\t<tr><td>6.0</td><td>5.7</td><td>6.0</td></tr>\n",
       "\t<tr><td>6.0</td><td>6.0</td><td>6.0</td></tr>\n",
       "\t<tr><td>6.0</td><td>6.0</td><td>6.0</td></tr>\n",
       "\t<tr><td>6.4</td><td>6.0</td><td>6.4</td></tr>\n",
       "\t<tr><td>5.0</td><td>5.9</td><td>5.4</td></tr>\n",
       "\t<tr><td>5.2</td><td>6.0</td><td>5.9</td></tr>\n",
       "\t<tr><td>6.0</td><td>6.0</td><td>6.0</td></tr>\n",
       "\t<tr><td>5.1</td><td>5.4</td><td>5.9</td></tr>\n",
       "\t<tr><td>5.3</td><td>5.1</td><td>5.6</td></tr>\n",
       "\t<tr><td>5.0</td><td>5.4</td><td>5.7</td></tr>\n",
       "\t<tr><td>4.3</td><td>5.1</td><td>5.2</td></tr>\n",
       "\t<tr><td>6.0</td><td>5.7</td><td>5.7</td></tr>\n",
       "\t<tr><td>4.8</td><td>5.4</td><td>5.2</td></tr>\n",
       "\t<tr><td>2.9</td><td>2.8</td><td>5.3</td></tr>\n",
       "\t<tr><td>6.0</td><td>6.0</td><td>6.0</td></tr>\n",
       "\t<tr><td>6.0</td><td>6.0</td><td>6.0</td></tr>\n",
       "\t<tr><td>5.0</td><td>6.0</td><td>6.0</td></tr>\n",
       "\t<tr><td>6.0</td><td>4.9</td><td>6.0</td></tr>\n",
       "\t<tr><td>6.0</td><td>6.0</td><td>6.0</td></tr>\n",
       "\t<tr><td>6.0</td><td>6.0</td><td>6.0</td></tr>\n",
       "\t<tr><td>5.7</td><td>4.0</td><td>6.4</td></tr>\n",
       "\t<tr><td>5.7</td><td>5.8</td><td>5.9</td></tr>\n",
       "\t<tr><td>5.5</td><td>6.0</td><td>5.4</td></tr>\n",
       "</tbody>\n",
       "</table>\n"
      ],
      "text/latex": [
       "\\begin{tabular}{r|lll}\n",
       " VQ & VF & VU\\\\\n",
       "\\hline\n",
       "\t 1.4 & 1.3 & 1.6\\\\\n",
       "\t 1.2 & 1.2 & 4.6\\\\\n",
       "\t 2.5 & 2.3 & 2.8\\\\\n",
       "\t 2.0 & 3.0 & 2.0\\\\\n",
       "\t 2.4 & 3.0 & 2.0\\\\\n",
       "\t 2.0 & 2.2 & 2.0\\\\\n",
       "\t 2.0 & 2.0 & 2.0\\\\\n",
       "\t 1.5 & 1.2 & 1.2\\\\\n",
       "\t 2.4 & 2.3 & 2.6\\\\\n",
       "\t 2.3 & 2.8 & 2.0\\\\\n",
       "\t 1.4 & 2.0 & 2.0\\\\\n",
       "\t 2.0 & 2.0 & 2.0\\\\\n",
       "\t 1.0 & 1.6 & 2.3\\\\\n",
       "\t 2.0 & 1.8 & 2.0\\\\\n",
       "\t 2.2 & 3.2 & 1.6\\\\\n",
       "\t 2.0 & 2.0 & 2.0\\\\\n",
       "\t 2.0 & 6.0 & 1.8\\\\\n",
       "\t 2.1 & 2.1 & 4.0\\\\\n",
       "\t 1.1 & 1.2 & 1.2\\\\\n",
       "\t 2.9 & 2.4 & 2.8\\\\\n",
       "\t 1.7 & 1.9 & 1.9\\\\\n",
       "\t 1.2 & 1.3 & 1.3\\\\\n",
       "\t 2.0 & 2.1 & 2.1\\\\\n",
       "\t 4.6 & 3.2 & 4.9\\\\\n",
       "\t 1.8 & 1.7 & 1.8\\\\\n",
       "\t 1.1 & 1.3 & 1.4\\\\\n",
       "\t 2.0 & 2.3 & 2.5\\\\\n",
       "\t 1.6 & 2.0 & 2.0\\\\\n",
       "\t 1.3 & 1.1 & 1.6\\\\\n",
       "\t 2.1 & 2.5 & 1.8\\\\\n",
       "\t ... & ... & ...\\\\\n",
       "\t 5.5 & 5.8 & 6.0\\\\\n",
       "\t 5.0 & 5.5 & 5.0\\\\\n",
       "\t 5.1 & 6.0 & 5.6\\\\\n",
       "\t 5.6 & 5.6 & 5.6\\\\\n",
       "\t 5.0 & 5.6 & 5.9\\\\\n",
       "\t 4.7 & 3.2 & 3.0\\\\\n",
       "\t 5.7 & 5.5 & 6.0\\\\\n",
       "\t 6.0 & 5.7 & 6.0\\\\\n",
       "\t 6.0 & 6.0 & 6.0\\\\\n",
       "\t 6.0 & 6.0 & 6.0\\\\\n",
       "\t 6.4 & 6.0 & 6.4\\\\\n",
       "\t 5.0 & 5.9 & 5.4\\\\\n",
       "\t 5.2 & 6.0 & 5.9\\\\\n",
       "\t 6.0 & 6.0 & 6.0\\\\\n",
       "\t 5.1 & 5.4 & 5.9\\\\\n",
       "\t 5.3 & 5.1 & 5.6\\\\\n",
       "\t 5.0 & 5.4 & 5.7\\\\\n",
       "\t 4.3 & 5.1 & 5.2\\\\\n",
       "\t 6.0 & 5.7 & 5.7\\\\\n",
       "\t 4.8 & 5.4 & 5.2\\\\\n",
       "\t 2.9 & 2.8 & 5.3\\\\\n",
       "\t 6.0 & 6.0 & 6.0\\\\\n",
       "\t 6.0 & 6.0 & 6.0\\\\\n",
       "\t 5.0 & 6.0 & 6.0\\\\\n",
       "\t 6.0 & 4.9 & 6.0\\\\\n",
       "\t 6.0 & 6.0 & 6.0\\\\\n",
       "\t 6.0 & 6.0 & 6.0\\\\\n",
       "\t 5.7 & 4.0 & 6.4\\\\\n",
       "\t 5.7 & 5.8 & 5.9\\\\\n",
       "\t 5.5 & 6.0 & 5.4\\\\\n",
       "\\end{tabular}\n"
      ],
      "text/markdown": [
       "\n",
       "| VQ | VF | VU |\n",
       "|---|---|---|\n",
       "| 1.4 | 1.3 | 1.6 |\n",
       "| 1.2 | 1.2 | 4.6 |\n",
       "| 2.5 | 2.3 | 2.8 |\n",
       "| 2.0 | 3.0 | 2.0 |\n",
       "| 2.4 | 3.0 | 2.0 |\n",
       "| 2.0 | 2.2 | 2.0 |\n",
       "| 2.0 | 2.0 | 2.0 |\n",
       "| 1.5 | 1.2 | 1.2 |\n",
       "| 2.4 | 2.3 | 2.6 |\n",
       "| 2.3 | 2.8 | 2.0 |\n",
       "| 1.4 | 2.0 | 2.0 |\n",
       "| 2.0 | 2.0 | 2.0 |\n",
       "| 1.0 | 1.6 | 2.3 |\n",
       "| 2.0 | 1.8 | 2.0 |\n",
       "| 2.2 | 3.2 | 1.6 |\n",
       "| 2.0 | 2.0 | 2.0 |\n",
       "| 2.0 | 6.0 | 1.8 |\n",
       "| 2.1 | 2.1 | 4.0 |\n",
       "| 1.1 | 1.2 | 1.2 |\n",
       "| 2.9 | 2.4 | 2.8 |\n",
       "| 1.7 | 1.9 | 1.9 |\n",
       "| 1.2 | 1.3 | 1.3 |\n",
       "| 2.0 | 2.1 | 2.1 |\n",
       "| 4.6 | 3.2 | 4.9 |\n",
       "| 1.8 | 1.7 | 1.8 |\n",
       "| 1.1 | 1.3 | 1.4 |\n",
       "| 2.0 | 2.3 | 2.5 |\n",
       "| 1.6 | 2.0 | 2.0 |\n",
       "| 1.3 | 1.1 | 1.6 |\n",
       "| 2.1 | 2.5 | 1.8 |\n",
       "| ... | ... | ... |\n",
       "| 5.5 | 5.8 | 6.0 |\n",
       "| 5.0 | 5.5 | 5.0 |\n",
       "| 5.1 | 6.0 | 5.6 |\n",
       "| 5.6 | 5.6 | 5.6 |\n",
       "| 5.0 | 5.6 | 5.9 |\n",
       "| 4.7 | 3.2 | 3.0 |\n",
       "| 5.7 | 5.5 | 6.0 |\n",
       "| 6.0 | 5.7 | 6.0 |\n",
       "| 6.0 | 6.0 | 6.0 |\n",
       "| 6.0 | 6.0 | 6.0 |\n",
       "| 6.4 | 6.0 | 6.4 |\n",
       "| 5.0 | 5.9 | 5.4 |\n",
       "| 5.2 | 6.0 | 5.9 |\n",
       "| 6.0 | 6.0 | 6.0 |\n",
       "| 5.1 | 5.4 | 5.9 |\n",
       "| 5.3 | 5.1 | 5.6 |\n",
       "| 5.0 | 5.4 | 5.7 |\n",
       "| 4.3 | 5.1 | 5.2 |\n",
       "| 6.0 | 5.7 | 5.7 |\n",
       "| 4.8 | 5.4 | 5.2 |\n",
       "| 2.9 | 2.8 | 5.3 |\n",
       "| 6.0 | 6.0 | 6.0 |\n",
       "| 6.0 | 6.0 | 6.0 |\n",
       "| 5.0 | 6.0 | 6.0 |\n",
       "| 6.0 | 4.9 | 6.0 |\n",
       "| 6.0 | 6.0 | 6.0 |\n",
       "| 6.0 | 6.0 | 6.0 |\n",
       "| 5.7 | 4.0 | 6.4 |\n",
       "| 5.7 | 5.8 | 5.9 |\n",
       "| 5.5 | 6.0 | 5.4 |\n",
       "\n"
      ],
      "text/plain": [
       "     VQ  VF  VU \n",
       "1    1.4 1.3 1.6\n",
       "2    1.2 1.2 4.6\n",
       "3    2.5 2.3 2.8\n",
       "4    2.0 3.0 2.0\n",
       "5    2.4 3.0 2.0\n",
       "6    2.0 2.2 2.0\n",
       "7    2.0 2.0 2.0\n",
       "8    1.5 1.2 1.2\n",
       "9    2.4 2.3 2.6\n",
       "10   2.3 2.8 2.0\n",
       "11   1.4 2.0 2.0\n",
       "12   2.0 2.0 2.0\n",
       "13   1.0 1.6 2.3\n",
       "14   2.0 1.8 2.0\n",
       "15   2.2 3.2 1.6\n",
       "16   2.0 2.0 2.0\n",
       "17   2.0 6.0 1.8\n",
       "18   2.1 2.1 4.0\n",
       "19   1.1 1.2 1.2\n",
       "20   2.9 2.4 2.8\n",
       "21   1.7 1.9 1.9\n",
       "22   1.2 1.3 1.3\n",
       "23   2.0 2.1 2.1\n",
       "24   4.6 3.2 4.9\n",
       "25   1.8 1.7 1.8\n",
       "26   1.1 1.3 1.4\n",
       "27   2.0 2.3 2.5\n",
       "28   1.6 2.0 2.0\n",
       "29   1.3 1.1 1.6\n",
       "30   2.1 2.5 1.8\n",
       "...  ... ... ...\n",
       "3355 5.5 5.8 6.0\n",
       "3356 5.0 5.5 5.0\n",
       "3357 5.1 6.0 5.6\n",
       "3358 5.6 5.6 5.6\n",
       "3359 5.0 5.6 5.9\n",
       "3360 4.7 3.2 3.0\n",
       "3361 5.7 5.5 6.0\n",
       "3362 6.0 5.7 6.0\n",
       "3363 6.0 6.0 6.0\n",
       "3364 6.0 6.0 6.0\n",
       "3365 6.4 6.0 6.4\n",
       "3366 5.0 5.9 5.4\n",
       "3367 5.2 6.0 5.9\n",
       "3368 6.0 6.0 6.0\n",
       "3369 5.1 5.4 5.9\n",
       "3370 5.3 5.1 5.6\n",
       "3371 5.0 5.4 5.7\n",
       "3372 4.3 5.1 5.2\n",
       "3373 6.0 5.7 5.7\n",
       "3374 4.8 5.4 5.2\n",
       "3375 2.9 2.8 5.3\n",
       "3376 6.0 6.0 6.0\n",
       "3377 6.0 6.0 6.0\n",
       "3378 5.0 6.0 6.0\n",
       "3379 6.0 4.9 6.0\n",
       "3380 6.0 6.0 6.0\n",
       "3381 6.0 6.0 6.0\n",
       "3382 5.7 4.0 6.4\n",
       "3383 5.7 5.8 5.9\n",
       "3384 5.5 6.0 5.4"
      ]
     },
     "metadata": {},
     "output_type": "display_data"
    }
   ],
   "source": [
    "# remove first item from data frame to increase Cronbach's alpha\n",
    "\n",
    "current_data <- get_updated_data(current_data, exclude_cols = c('VD'))\n",
    "current_data"
   ]
  },
  {
   "cell_type": "code",
   "execution_count": 12,
   "metadata": {},
   "outputs": [
    {
     "data": {
      "text/html": [
       "'Current Cronbach alpha (VQ, VF, VU) : 0.82982 =&gt; good internal consistency'"
      ],
      "text/latex": [
       "'Current Cronbach alpha (VQ, VF, VU) : 0.82982 => good internal consistency'"
      ],
      "text/markdown": [
       "'Current Cronbach alpha (VQ, VF, VU) : 0.82982 =&gt; good internal consistency'"
      ],
      "text/plain": [
       "[1] \"Current Cronbach alpha (VQ, VF, VU) : 0.82982 => good internal consistency\""
      ]
     },
     "metadata": {},
     "output_type": "display_data"
    },
    {
     "data": {
      "text/html": [
       "<table>\n",
       "<thead><tr><th></th><th scope=col>Cronbach_If_Scale_Dropped</th></tr></thead>\n",
       "<tbody>\n",
       "\t<tr><th scope=row>VQ</th><td>0.6172722</td></tr>\n",
       "\t<tr><th scope=row>VF</th><td>0.8502522</td></tr>\n",
       "\t<tr><th scope=row>VU</th><td>0.8247029</td></tr>\n",
       "</tbody>\n",
       "</table>\n"
      ],
      "text/latex": [
       "\\begin{tabular}{r|l}\n",
       "  & Cronbach\\_If\\_Scale\\_Dropped\\\\\n",
       "\\hline\n",
       "\tVQ & 0.6172722\\\\\n",
       "\tVF & 0.8502522\\\\\n",
       "\tVU & 0.8247029\\\\\n",
       "\\end{tabular}\n"
      ],
      "text/markdown": [
       "\n",
       "| <!--/--> | Cronbach_If_Scale_Dropped |\n",
       "|---|---|\n",
       "| VQ | 0.6172722 |\n",
       "| VF | 0.8502522 |\n",
       "| VU | 0.8247029 |\n",
       "\n"
      ],
      "text/plain": [
       "   Cronbach_If_Scale_Dropped\n",
       "VQ 0.6172722                \n",
       "VF 0.8502522                \n",
       "VU 0.8247029                "
      ]
     },
     "metadata": {},
     "output_type": "display_data"
    }
   ],
   "source": [
    "print_current_results(current_data)\n",
    "print_results_if_scale_removed(current_data)"
   ]
  },
  {
   "cell_type": "markdown",
   "metadata": {},
   "source": [
    "# Repeat scale removal to increase internal consistency"
   ]
  },
  {
   "cell_type": "code",
   "execution_count": 13,
   "metadata": {},
   "outputs": [
    {
     "data": {
      "text/html": [
       "<table>\n",
       "<thead><tr><th scope=col>VQ</th><th scope=col>VU</th></tr></thead>\n",
       "<tbody>\n",
       "\t<tr><td>1.4</td><td>1.6</td></tr>\n",
       "\t<tr><td>1.2</td><td>4.6</td></tr>\n",
       "\t<tr><td>2.5</td><td>2.8</td></tr>\n",
       "\t<tr><td>2.0</td><td>2.0</td></tr>\n",
       "\t<tr><td>2.4</td><td>2.0</td></tr>\n",
       "\t<tr><td>2.0</td><td>2.0</td></tr>\n",
       "\t<tr><td>2.0</td><td>2.0</td></tr>\n",
       "\t<tr><td>1.5</td><td>1.2</td></tr>\n",
       "\t<tr><td>2.4</td><td>2.6</td></tr>\n",
       "\t<tr><td>2.3</td><td>2.0</td></tr>\n",
       "\t<tr><td>1.4</td><td>2.0</td></tr>\n",
       "\t<tr><td>2.0</td><td>2.0</td></tr>\n",
       "\t<tr><td>1.0</td><td>2.3</td></tr>\n",
       "\t<tr><td>2.0</td><td>2.0</td></tr>\n",
       "\t<tr><td>2.2</td><td>1.6</td></tr>\n",
       "\t<tr><td>2.0</td><td>2.0</td></tr>\n",
       "\t<tr><td>2.0</td><td>1.8</td></tr>\n",
       "\t<tr><td>2.1</td><td>4.0</td></tr>\n",
       "\t<tr><td>1.1</td><td>1.2</td></tr>\n",
       "\t<tr><td>2.9</td><td>2.8</td></tr>\n",
       "\t<tr><td>1.7</td><td>1.9</td></tr>\n",
       "\t<tr><td>1.2</td><td>1.3</td></tr>\n",
       "\t<tr><td>2.0</td><td>2.1</td></tr>\n",
       "\t<tr><td>4.6</td><td>4.9</td></tr>\n",
       "\t<tr><td>1.8</td><td>1.8</td></tr>\n",
       "\t<tr><td>1.1</td><td>1.4</td></tr>\n",
       "\t<tr><td>2.0</td><td>2.5</td></tr>\n",
       "\t<tr><td>1.6</td><td>2.0</td></tr>\n",
       "\t<tr><td>1.3</td><td>1.6</td></tr>\n",
       "\t<tr><td>2.1</td><td>1.8</td></tr>\n",
       "\t<tr><td>...</td><td>...</td></tr>\n",
       "\t<tr><td>5.5</td><td>6.0</td></tr>\n",
       "\t<tr><td>5.0</td><td>5.0</td></tr>\n",
       "\t<tr><td>5.1</td><td>5.6</td></tr>\n",
       "\t<tr><td>5.6</td><td>5.6</td></tr>\n",
       "\t<tr><td>5.0</td><td>5.9</td></tr>\n",
       "\t<tr><td>4.7</td><td>3.0</td></tr>\n",
       "\t<tr><td>5.7</td><td>6.0</td></tr>\n",
       "\t<tr><td>6.0</td><td>6.0</td></tr>\n",
       "\t<tr><td>6.0</td><td>6.0</td></tr>\n",
       "\t<tr><td>6.0</td><td>6.0</td></tr>\n",
       "\t<tr><td>6.4</td><td>6.4</td></tr>\n",
       "\t<tr><td>5.0</td><td>5.4</td></tr>\n",
       "\t<tr><td>5.2</td><td>5.9</td></tr>\n",
       "\t<tr><td>6.0</td><td>6.0</td></tr>\n",
       "\t<tr><td>5.1</td><td>5.9</td></tr>\n",
       "\t<tr><td>5.3</td><td>5.6</td></tr>\n",
       "\t<tr><td>5.0</td><td>5.7</td></tr>\n",
       "\t<tr><td>4.3</td><td>5.2</td></tr>\n",
       "\t<tr><td>6.0</td><td>5.7</td></tr>\n",
       "\t<tr><td>4.8</td><td>5.2</td></tr>\n",
       "\t<tr><td>2.9</td><td>5.3</td></tr>\n",
       "\t<tr><td>6.0</td><td>6.0</td></tr>\n",
       "\t<tr><td>6.0</td><td>6.0</td></tr>\n",
       "\t<tr><td>5.0</td><td>6.0</td></tr>\n",
       "\t<tr><td>6.0</td><td>6.0</td></tr>\n",
       "\t<tr><td>6.0</td><td>6.0</td></tr>\n",
       "\t<tr><td>6.0</td><td>6.0</td></tr>\n",
       "\t<tr><td>5.7</td><td>6.4</td></tr>\n",
       "\t<tr><td>5.7</td><td>5.9</td></tr>\n",
       "\t<tr><td>5.5</td><td>5.4</td></tr>\n",
       "</tbody>\n",
       "</table>\n"
      ],
      "text/latex": [
       "\\begin{tabular}{r|ll}\n",
       " VQ & VU\\\\\n",
       "\\hline\n",
       "\t 1.4 & 1.6\\\\\n",
       "\t 1.2 & 4.6\\\\\n",
       "\t 2.5 & 2.8\\\\\n",
       "\t 2.0 & 2.0\\\\\n",
       "\t 2.4 & 2.0\\\\\n",
       "\t 2.0 & 2.0\\\\\n",
       "\t 2.0 & 2.0\\\\\n",
       "\t 1.5 & 1.2\\\\\n",
       "\t 2.4 & 2.6\\\\\n",
       "\t 2.3 & 2.0\\\\\n",
       "\t 1.4 & 2.0\\\\\n",
       "\t 2.0 & 2.0\\\\\n",
       "\t 1.0 & 2.3\\\\\n",
       "\t 2.0 & 2.0\\\\\n",
       "\t 2.2 & 1.6\\\\\n",
       "\t 2.0 & 2.0\\\\\n",
       "\t 2.0 & 1.8\\\\\n",
       "\t 2.1 & 4.0\\\\\n",
       "\t 1.1 & 1.2\\\\\n",
       "\t 2.9 & 2.8\\\\\n",
       "\t 1.7 & 1.9\\\\\n",
       "\t 1.2 & 1.3\\\\\n",
       "\t 2.0 & 2.1\\\\\n",
       "\t 4.6 & 4.9\\\\\n",
       "\t 1.8 & 1.8\\\\\n",
       "\t 1.1 & 1.4\\\\\n",
       "\t 2.0 & 2.5\\\\\n",
       "\t 1.6 & 2.0\\\\\n",
       "\t 1.3 & 1.6\\\\\n",
       "\t 2.1 & 1.8\\\\\n",
       "\t ... & ...\\\\\n",
       "\t 5.5 & 6.0\\\\\n",
       "\t 5.0 & 5.0\\\\\n",
       "\t 5.1 & 5.6\\\\\n",
       "\t 5.6 & 5.6\\\\\n",
       "\t 5.0 & 5.9\\\\\n",
       "\t 4.7 & 3.0\\\\\n",
       "\t 5.7 & 6.0\\\\\n",
       "\t 6.0 & 6.0\\\\\n",
       "\t 6.0 & 6.0\\\\\n",
       "\t 6.0 & 6.0\\\\\n",
       "\t 6.4 & 6.4\\\\\n",
       "\t 5.0 & 5.4\\\\\n",
       "\t 5.2 & 5.9\\\\\n",
       "\t 6.0 & 6.0\\\\\n",
       "\t 5.1 & 5.9\\\\\n",
       "\t 5.3 & 5.6\\\\\n",
       "\t 5.0 & 5.7\\\\\n",
       "\t 4.3 & 5.2\\\\\n",
       "\t 6.0 & 5.7\\\\\n",
       "\t 4.8 & 5.2\\\\\n",
       "\t 2.9 & 5.3\\\\\n",
       "\t 6.0 & 6.0\\\\\n",
       "\t 6.0 & 6.0\\\\\n",
       "\t 5.0 & 6.0\\\\\n",
       "\t 6.0 & 6.0\\\\\n",
       "\t 6.0 & 6.0\\\\\n",
       "\t 6.0 & 6.0\\\\\n",
       "\t 5.7 & 6.4\\\\\n",
       "\t 5.7 & 5.9\\\\\n",
       "\t 5.5 & 5.4\\\\\n",
       "\\end{tabular}\n"
      ],
      "text/markdown": [
       "\n",
       "| VQ | VU |\n",
       "|---|---|\n",
       "| 1.4 | 1.6 |\n",
       "| 1.2 | 4.6 |\n",
       "| 2.5 | 2.8 |\n",
       "| 2.0 | 2.0 |\n",
       "| 2.4 | 2.0 |\n",
       "| 2.0 | 2.0 |\n",
       "| 2.0 | 2.0 |\n",
       "| 1.5 | 1.2 |\n",
       "| 2.4 | 2.6 |\n",
       "| 2.3 | 2.0 |\n",
       "| 1.4 | 2.0 |\n",
       "| 2.0 | 2.0 |\n",
       "| 1.0 | 2.3 |\n",
       "| 2.0 | 2.0 |\n",
       "| 2.2 | 1.6 |\n",
       "| 2.0 | 2.0 |\n",
       "| 2.0 | 1.8 |\n",
       "| 2.1 | 4.0 |\n",
       "| 1.1 | 1.2 |\n",
       "| 2.9 | 2.8 |\n",
       "| 1.7 | 1.9 |\n",
       "| 1.2 | 1.3 |\n",
       "| 2.0 | 2.1 |\n",
       "| 4.6 | 4.9 |\n",
       "| 1.8 | 1.8 |\n",
       "| 1.1 | 1.4 |\n",
       "| 2.0 | 2.5 |\n",
       "| 1.6 | 2.0 |\n",
       "| 1.3 | 1.6 |\n",
       "| 2.1 | 1.8 |\n",
       "| ... | ... |\n",
       "| 5.5 | 6.0 |\n",
       "| 5.0 | 5.0 |\n",
       "| 5.1 | 5.6 |\n",
       "| 5.6 | 5.6 |\n",
       "| 5.0 | 5.9 |\n",
       "| 4.7 | 3.0 |\n",
       "| 5.7 | 6.0 |\n",
       "| 6.0 | 6.0 |\n",
       "| 6.0 | 6.0 |\n",
       "| 6.0 | 6.0 |\n",
       "| 6.4 | 6.4 |\n",
       "| 5.0 | 5.4 |\n",
       "| 5.2 | 5.9 |\n",
       "| 6.0 | 6.0 |\n",
       "| 5.1 | 5.9 |\n",
       "| 5.3 | 5.6 |\n",
       "| 5.0 | 5.7 |\n",
       "| 4.3 | 5.2 |\n",
       "| 6.0 | 5.7 |\n",
       "| 4.8 | 5.2 |\n",
       "| 2.9 | 5.3 |\n",
       "| 6.0 | 6.0 |\n",
       "| 6.0 | 6.0 |\n",
       "| 5.0 | 6.0 |\n",
       "| 6.0 | 6.0 |\n",
       "| 6.0 | 6.0 |\n",
       "| 6.0 | 6.0 |\n",
       "| 5.7 | 6.4 |\n",
       "| 5.7 | 5.9 |\n",
       "| 5.5 | 5.4 |\n",
       "\n"
      ],
      "text/plain": [
       "     VQ  VU \n",
       "1    1.4 1.6\n",
       "2    1.2 4.6\n",
       "3    2.5 2.8\n",
       "4    2.0 2.0\n",
       "5    2.4 2.0\n",
       "6    2.0 2.0\n",
       "7    2.0 2.0\n",
       "8    1.5 1.2\n",
       "9    2.4 2.6\n",
       "10   2.3 2.0\n",
       "11   1.4 2.0\n",
       "12   2.0 2.0\n",
       "13   1.0 2.3\n",
       "14   2.0 2.0\n",
       "15   2.2 1.6\n",
       "16   2.0 2.0\n",
       "17   2.0 1.8\n",
       "18   2.1 4.0\n",
       "19   1.1 1.2\n",
       "20   2.9 2.8\n",
       "21   1.7 1.9\n",
       "22   1.2 1.3\n",
       "23   2.0 2.1\n",
       "24   4.6 4.9\n",
       "25   1.8 1.8\n",
       "26   1.1 1.4\n",
       "27   2.0 2.5\n",
       "28   1.6 2.0\n",
       "29   1.3 1.6\n",
       "30   2.1 1.8\n",
       "...  ... ...\n",
       "3355 5.5 6.0\n",
       "3356 5.0 5.0\n",
       "3357 5.1 5.6\n",
       "3358 5.6 5.6\n",
       "3359 5.0 5.9\n",
       "3360 4.7 3.0\n",
       "3361 5.7 6.0\n",
       "3362 6.0 6.0\n",
       "3363 6.0 6.0\n",
       "3364 6.0 6.0\n",
       "3365 6.4 6.4\n",
       "3366 5.0 5.4\n",
       "3367 5.2 5.9\n",
       "3368 6.0 6.0\n",
       "3369 5.1 5.9\n",
       "3370 5.3 5.6\n",
       "3371 5.0 5.7\n",
       "3372 4.3 5.2\n",
       "3373 6.0 5.7\n",
       "3374 4.8 5.2\n",
       "3375 2.9 5.3\n",
       "3376 6.0 6.0\n",
       "3377 6.0 6.0\n",
       "3378 5.0 6.0\n",
       "3379 6.0 6.0\n",
       "3380 6.0 6.0\n",
       "3381 6.0 6.0\n",
       "3382 5.7 6.4\n",
       "3383 5.7 5.9\n",
       "3384 5.5 5.4"
      ]
     },
     "metadata": {},
     "output_type": "display_data"
    }
   ],
   "source": [
    "# remove second item from data frame to increase Cronbach's alpha\n",
    "\n",
    "current_data <- get_updated_data(current_data, exclude_cols = c('VF'))\n",
    "current_data"
   ]
  },
  {
   "cell_type": "code",
   "execution_count": 14,
   "metadata": {},
   "outputs": [
    {
     "data": {
      "text/html": [
       "'Current Cronbach alpha (VQ, VU) : 0.85025 =&gt; good internal consistency'"
      ],
      "text/latex": [
       "'Current Cronbach alpha (VQ, VU) : 0.85025 => good internal consistency'"
      ],
      "text/markdown": [
       "'Current Cronbach alpha (VQ, VU) : 0.85025 =&gt; good internal consistency'"
      ],
      "text/plain": [
       "[1] \"Current Cronbach alpha (VQ, VU) : 0.85025 => good internal consistency\""
      ]
     },
     "metadata": {},
     "output_type": "display_data"
    },
    {
     "data": {
      "text/html": [
       "<table>\n",
       "<thead><tr><th></th><th scope=col>Cronbach_If_Scale_Dropped</th></tr></thead>\n",
       "<tbody>\n",
       "\t<tr><th scope=row>VQ</th><td>0.7460601</td></tr>\n",
       "\t<tr><th scope=row>VU</th><td>0.5566057</td></tr>\n",
       "</tbody>\n",
       "</table>\n"
      ],
      "text/latex": [
       "\\begin{tabular}{r|l}\n",
       "  & Cronbach\\_If\\_Scale\\_Dropped\\\\\n",
       "\\hline\n",
       "\tVQ & 0.7460601\\\\\n",
       "\tVU & 0.5566057\\\\\n",
       "\\end{tabular}\n"
      ],
      "text/markdown": [
       "\n",
       "| <!--/--> | Cronbach_If_Scale_Dropped |\n",
       "|---|---|\n",
       "| VQ | 0.7460601 |\n",
       "| VU | 0.5566057 |\n",
       "\n"
      ],
      "text/plain": [
       "   Cronbach_If_Scale_Dropped\n",
       "VQ 0.7460601                \n",
       "VU 0.5566057                "
      ]
     },
     "metadata": {},
     "output_type": "display_data"
    }
   ],
   "source": [
    "# print internal consistency analysis results for current scales\n",
    "\n",
    "print_current_results(current_data)\n",
    "print_results_if_scale_removed(current_data)"
   ]
  },
  {
   "cell_type": "markdown",
   "metadata": {},
   "source": [
    "#### Note: Removing any other attribute from the _current_ data set would diminish our reliability!"
   ]
  },
  {
   "cell_type": "markdown",
   "metadata": {},
   "source": [
    "# Just to be 100% certain: check if greedy approach yields greatest internal consistency"
   ]
  },
  {
   "cell_type": "code",
   "execution_count": 15,
   "metadata": {},
   "outputs": [
    {
     "data": {
      "text/html": [
       "'Current Cronbach alpha (VQ, VF, VU, VD) : 0.74212 =&gt; acceptable internal consistency'"
      ],
      "text/latex": [
       "'Current Cronbach alpha (VQ, VF, VU, VD) : 0.74212 => acceptable internal consistency'"
      ],
      "text/markdown": [
       "'Current Cronbach alpha (VQ, VF, VU, VD) : 0.74212 =&gt; acceptable internal consistency'"
      ],
      "text/plain": [
       "[1] \"Current Cronbach alpha (VQ, VF, VU, VD) : 0.74212 => acceptable internal consistency\""
      ]
     },
     "metadata": {},
     "output_type": "display_data"
    },
    {
     "data": {
      "text/html": [
       "'Current Cronbach alpha (VQ, VF, VU) : 0.82982 =&gt; good internal consistency'"
      ],
      "text/latex": [
       "'Current Cronbach alpha (VQ, VF, VU) : 0.82982 => good internal consistency'"
      ],
      "text/markdown": [
       "'Current Cronbach alpha (VQ, VF, VU) : 0.82982 =&gt; good internal consistency'"
      ],
      "text/plain": [
       "[1] \"Current Cronbach alpha (VQ, VF, VU) : 0.82982 => good internal consistency\""
      ]
     },
     "metadata": {},
     "output_type": "display_data"
    },
    {
     "data": {
      "text/html": [
       "'Current Cronbach alpha (VQ, VU, VD) : 0.656 =&gt; questionable internal consistency'"
      ],
      "text/latex": [
       "'Current Cronbach alpha (VQ, VU, VD) : 0.656 => questionable internal consistency'"
      ],
      "text/markdown": [
       "'Current Cronbach alpha (VQ, VU, VD) : 0.656 =&gt; questionable internal consistency'"
      ],
      "text/plain": [
       "[1] \"Current Cronbach alpha (VQ, VU, VD) : 0.656 => questionable internal consistency\""
      ]
     },
     "metadata": {},
     "output_type": "display_data"
    },
    {
     "data": {
      "text/html": [
       "'Current Cronbach alpha (VF, VU, VD) : 0.52537 =&gt; poor internal consistency'"
      ],
      "text/latex": [
       "'Current Cronbach alpha (VF, VU, VD) : 0.52537 => poor internal consistency'"
      ],
      "text/markdown": [
       "'Current Cronbach alpha (VF, VU, VD) : 0.52537 =&gt; poor internal consistency'"
      ],
      "text/plain": [
       "[1] \"Current Cronbach alpha (VF, VU, VD) : 0.52537 => poor internal consistency\""
      ]
     },
     "metadata": {},
     "output_type": "display_data"
    },
    {
     "data": {
      "text/html": [
       "'Current Cronbach alpha (VQ, VF, VD) : 0.65 =&gt; questionable internal consistency'"
      ],
      "text/latex": [
       "'Current Cronbach alpha (VQ, VF, VD) : 0.65 => questionable internal consistency'"
      ],
      "text/markdown": [
       "'Current Cronbach alpha (VQ, VF, VD) : 0.65 =&gt; questionable internal consistency'"
      ],
      "text/plain": [
       "[1] \"Current Cronbach alpha (VQ, VF, VD) : 0.65 => questionable internal consistency\""
      ]
     },
     "metadata": {},
     "output_type": "display_data"
    },
    {
     "data": {
      "text/html": [
       "'Current Cronbach alpha (VQ, VU) : 0.85025 =&gt; good internal consistency'"
      ],
      "text/latex": [
       "'Current Cronbach alpha (VQ, VU) : 0.85025 => good internal consistency'"
      ],
      "text/markdown": [
       "'Current Cronbach alpha (VQ, VU) : 0.85025 =&gt; good internal consistency'"
      ],
      "text/plain": [
       "[1] \"Current Cronbach alpha (VQ, VU) : 0.85025 => good internal consistency\""
      ]
     },
     "metadata": {},
     "output_type": "display_data"
    },
    {
     "data": {
      "text/html": [
       "'Current Cronbach alpha (VQ, VF) : 0.8247 =&gt; good internal consistency'"
      ],
      "text/latex": [
       "'Current Cronbach alpha (VQ, VF) : 0.8247 => good internal consistency'"
      ],
      "text/markdown": [
       "'Current Cronbach alpha (VQ, VF) : 0.8247 =&gt; good internal consistency'"
      ],
      "text/plain": [
       "[1] \"Current Cronbach alpha (VQ, VF) : 0.8247 => good internal consistency\""
      ]
     },
     "metadata": {},
     "output_type": "display_data"
    },
    {
     "data": {
      "text/html": [
       "'Current Cronbach alpha (VF, VU) : 0.61727 =&gt; questionable internal consistency'"
      ],
      "text/latex": [
       "'Current Cronbach alpha (VF, VU) : 0.61727 => questionable internal consistency'"
      ],
      "text/markdown": [
       "'Current Cronbach alpha (VF, VU) : 0.61727 =&gt; questionable internal consistency'"
      ],
      "text/plain": [
       "[1] \"Current Cronbach alpha (VF, VU) : 0.61727 => questionable internal consistency\""
      ]
     },
     "metadata": {},
     "output_type": "display_data"
    },
    {
     "data": {
      "text/html": [
       "'Current Cronbach alpha (VU, VD) : 0.2667 =&gt; unacceptable internal consistency'"
      ],
      "text/latex": [
       "'Current Cronbach alpha (VU, VD) : 0.2667 => unacceptable internal consistency'"
      ],
      "text/markdown": [
       "'Current Cronbach alpha (VU, VD) : 0.2667 =&gt; unacceptable internal consistency'"
      ],
      "text/plain": [
       "[1] \"Current Cronbach alpha (VU, VD) : 0.2667 => unacceptable internal consistency\""
      ]
     },
     "metadata": {},
     "output_type": "display_data"
    },
    {
     "data": {
      "text/html": [
       "'Current Cronbach alpha (VQ, VD) : 0.37315 =&gt; unacceptable internal consistency'"
      ],
      "text/latex": [
       "'Current Cronbach alpha (VQ, VD) : 0.37315 => unacceptable internal consistency'"
      ],
      "text/markdown": [
       "'Current Cronbach alpha (VQ, VD) : 0.37315 =&gt; unacceptable internal consistency'"
      ],
      "text/plain": [
       "[1] \"Current Cronbach alpha (VQ, VD) : 0.37315 => unacceptable internal consistency\""
      ]
     },
     "metadata": {},
     "output_type": "display_data"
    },
    {
     "data": {
      "text/html": [
       "'Current Cronbach alpha (VF, VD) : 0.28547 =&gt; unacceptable internal consistency'"
      ],
      "text/latex": [
       "'Current Cronbach alpha (VF, VD) : 0.28547 => unacceptable internal consistency'"
      ],
      "text/markdown": [
       "'Current Cronbach alpha (VF, VD) : 0.28547 =&gt; unacceptable internal consistency'"
      ],
      "text/plain": [
       "[1] \"Current Cronbach alpha (VF, VD) : 0.28547 => unacceptable internal consistency\""
      ]
     },
     "metadata": {},
     "output_type": "display_data"
    }
   ],
   "source": [
    "# Note: Cronbach Alpha would not be computable & desirable with only one item left!\n",
    "\n",
    "print_current_results(get_updated_data(data, exclude_cols = NULL))\n",
    "print_current_results(get_updated_data(data, exclude_cols = c('VD')))\n",
    "print_current_results(get_updated_data(data, exclude_cols = c('VF')))\n",
    "print_current_results(get_updated_data(data, exclude_cols = c('VQ')))\n",
    "print_current_results(get_updated_data(data, exclude_cols = c('VU')))\n",
    "print_current_results(get_updated_data(data, exclude_cols = c('VD', 'VF')))\n",
    "print_current_results(get_updated_data(data, exclude_cols = c('VD', 'VU')))\n",
    "print_current_results(get_updated_data(data, exclude_cols = c('VD', 'VQ')))\n",
    "print_current_results(get_updated_data(data, exclude_cols = c('VF', 'VQ')))\n",
    "print_current_results(get_updated_data(data, exclude_cols = c('VF', 'VU')))\n",
    "print_current_results(get_updated_data(data, exclude_cols = c('VQ', 'VU')))"
   ]
  },
  {
   "cell_type": "markdown",
   "metadata": {},
   "source": [
    "#### => Previously calculated scale combination of VQ, VU has greatest internal consistency: greedy approach indeed led to desired result!"
   ]
  }
 ],
 "metadata": {
  "kernelspec": {
   "display_name": "R",
   "language": "R",
   "name": "ir"
  },
  "language_info": {
   "codemirror_mode": "r",
   "file_extension": ".r",
   "mimetype": "text/x-r-source",
   "name": "R",
   "pygments_lexer": "r",
   "version": "3.6.1"
  }
 },
 "nbformat": 4,
 "nbformat_minor": 2
}
