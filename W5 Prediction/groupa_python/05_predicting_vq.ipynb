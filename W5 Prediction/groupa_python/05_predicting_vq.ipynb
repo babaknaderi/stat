{
 "cells": [
  {
   "cell_type": "code",
   "execution_count": 101,
   "metadata": {},
   "outputs": [],
   "source": [
    "import numpy as np\n",
    "import pandas as pd\n",
    "\n",
    "from sklearn import linear_model, metrics, preprocessing, pipeline  # pip3 install sklearn --user\n",
    "from scipy import optimize\n",
    "\n",
    "import matplotlib.pyplot as plt\n",
    "import seaborn as sns\n",
    "sns.set(style=\"whitegrid\", context=\"notebook\")\n",
    "\n",
    "FIGSIZE = 16,4"
   ]
  },
  {
   "cell_type": "code",
   "execution_count": 3,
   "metadata": {},
   "outputs": [],
   "source": [
    "dataset = pd.read_excel(\"../datasets/DB01_gaming_video_quality_dataset.xlsx\")"
   ]
  },
  {
   "cell_type": "markdown",
   "metadata": {},
   "source": [
    "### Task 1: Calculate MOS values"
   ]
  },
  {
   "cell_type": "code",
   "execution_count": 13,
   "metadata": {},
   "outputs": [
    {
     "data": {
      "text/html": [
       "<div>\n",
       "<style scoped>\n",
       "    .dataframe tbody tr th:only-of-type {\n",
       "        vertical-align: middle;\n",
       "    }\n",
       "\n",
       "    .dataframe tbody tr th {\n",
       "        vertical-align: top;\n",
       "    }\n",
       "\n",
       "    .dataframe thead th {\n",
       "        text-align: right;\n",
       "    }\n",
       "</style>\n",
       "<table border=\"1\" class=\"dataframe\">\n",
       "  <thead>\n",
       "    <tr style=\"text-align: right;\">\n",
       "      <th></th>\n",
       "      <th></th>\n",
       "      <th>PID</th>\n",
       "      <th>Resolution</th>\n",
       "      <th>Framerate</th>\n",
       "      <th>Bitrate</th>\n",
       "      <th>VQ</th>\n",
       "      <th>VF</th>\n",
       "      <th>VU</th>\n",
       "      <th>VD</th>\n",
       "      <th>AC</th>\n",
       "      <th>Age</th>\n",
       "      <th>Expertise</th>\n",
       "    </tr>\n",
       "    <tr>\n",
       "      <th>Game</th>\n",
       "      <th>Condition</th>\n",
       "      <th></th>\n",
       "      <th></th>\n",
       "      <th></th>\n",
       "      <th></th>\n",
       "      <th></th>\n",
       "      <th></th>\n",
       "      <th></th>\n",
       "      <th></th>\n",
       "      <th></th>\n",
       "      <th></th>\n",
       "      <th></th>\n",
       "    </tr>\n",
       "  </thead>\n",
       "  <tbody>\n",
       "    <tr>\n",
       "      <th rowspan=\"5\" valign=\"top\">Game1</th>\n",
       "      <th>4</th>\n",
       "      <td>13.0</td>\n",
       "      <td>720.0</td>\n",
       "      <td>30.0</td>\n",
       "      <td>1000.0</td>\n",
       "      <td>2.948000</td>\n",
       "      <td>2.796000</td>\n",
       "      <td>3.204000</td>\n",
       "      <td>4.840000</td>\n",
       "      <td>0.200000</td>\n",
       "      <td>23.875000</td>\n",
       "      <td>3.125000</td>\n",
       "    </tr>\n",
       "    <tr>\n",
       "      <th>5</th>\n",
       "      <td>13.0</td>\n",
       "      <td>1080.0</td>\n",
       "      <td>30.0</td>\n",
       "      <td>4000.0</td>\n",
       "      <td>4.112000</td>\n",
       "      <td>3.760000</td>\n",
       "      <td>4.392000</td>\n",
       "      <td>4.924000</td>\n",
       "      <td>0.640000</td>\n",
       "      <td>23.875000</td>\n",
       "      <td>3.125000</td>\n",
       "    </tr>\n",
       "    <tr>\n",
       "      <th>15</th>\n",
       "      <td>13.0</td>\n",
       "      <td>480.0</td>\n",
       "      <td>30.0</td>\n",
       "      <td>300.0</td>\n",
       "      <td>1.988000</td>\n",
       "      <td>2.232000</td>\n",
       "      <td>2.260000</td>\n",
       "      <td>5.092000</td>\n",
       "      <td>0.000000</td>\n",
       "      <td>23.875000</td>\n",
       "      <td>3.125000</td>\n",
       "    </tr>\n",
       "    <tr>\n",
       "      <th>19</th>\n",
       "      <td>13.0</td>\n",
       "      <td>480.0</td>\n",
       "      <td>60.0</td>\n",
       "      <td>2000.0</td>\n",
       "      <td>3.068000</td>\n",
       "      <td>3.724000</td>\n",
       "      <td>2.876000</td>\n",
       "      <td>5.092000</td>\n",
       "      <td>0.160000</td>\n",
       "      <td>23.875000</td>\n",
       "      <td>3.125000</td>\n",
       "    </tr>\n",
       "    <tr>\n",
       "      <th>25</th>\n",
       "      <td>13.0</td>\n",
       "      <td>720.0</td>\n",
       "      <td>60.0</td>\n",
       "      <td>50000.0</td>\n",
       "      <td>5.080000</td>\n",
       "      <td>5.340000</td>\n",
       "      <td>4.544000</td>\n",
       "      <td>5.536000</td>\n",
       "      <td>0.920000</td>\n",
       "      <td>23.875000</td>\n",
       "      <td>3.125000</td>\n",
       "    </tr>\n",
       "    <tr>\n",
       "      <th>...</th>\n",
       "      <th>...</th>\n",
       "      <td>...</td>\n",
       "      <td>...</td>\n",
       "      <td>...</td>\n",
       "      <td>...</td>\n",
       "      <td>...</td>\n",
       "      <td>...</td>\n",
       "      <td>...</td>\n",
       "      <td>...</td>\n",
       "      <td>...</td>\n",
       "      <td>...</td>\n",
       "      <td>...</td>\n",
       "    </tr>\n",
       "    <tr>\n",
       "      <th rowspan=\"5\" valign=\"top\">Game6</th>\n",
       "      <th>71</th>\n",
       "      <td>11.5</td>\n",
       "      <td>480.0</td>\n",
       "      <td>30.0</td>\n",
       "      <td>2000.0</td>\n",
       "      <td>3.377273</td>\n",
       "      <td>4.486364</td>\n",
       "      <td>3.027273</td>\n",
       "      <td>4.931818</td>\n",
       "      <td>0.181818</td>\n",
       "      <td>24.863636</td>\n",
       "      <td>3.181818</td>\n",
       "    </tr>\n",
       "    <tr>\n",
       "      <th>74</th>\n",
       "      <td>11.5</td>\n",
       "      <td>720.0</td>\n",
       "      <td>30.0</td>\n",
       "      <td>2000.0</td>\n",
       "      <td>3.777273</td>\n",
       "      <td>3.572727</td>\n",
       "      <td>3.877273</td>\n",
       "      <td>4.822727</td>\n",
       "      <td>0.500000</td>\n",
       "      <td>24.863636</td>\n",
       "      <td>3.181818</td>\n",
       "    </tr>\n",
       "    <tr>\n",
       "      <th>77</th>\n",
       "      <td>11.5</td>\n",
       "      <td>1080.0</td>\n",
       "      <td>30.0</td>\n",
       "      <td>50000.0</td>\n",
       "      <td>5.013636</td>\n",
       "      <td>5.204545</td>\n",
       "      <td>5.209091</td>\n",
       "      <td>4.936364</td>\n",
       "      <td>0.818182</td>\n",
       "      <td>24.863636</td>\n",
       "      <td>3.181818</td>\n",
       "    </tr>\n",
       "    <tr>\n",
       "      <th>78</th>\n",
       "      <td>11.5</td>\n",
       "      <td>1080.0</td>\n",
       "      <td>60.0</td>\n",
       "      <td>50000.0</td>\n",
       "      <td>5.450000</td>\n",
       "      <td>5.522727</td>\n",
       "      <td>5.818182</td>\n",
       "      <td>5.336364</td>\n",
       "      <td>0.909091</td>\n",
       "      <td>24.863636</td>\n",
       "      <td>3.181818</td>\n",
       "    </tr>\n",
       "    <tr>\n",
       "      <th>80</th>\n",
       "      <td>11.5</td>\n",
       "      <td>720.0</td>\n",
       "      <td>30.0</td>\n",
       "      <td>50000.0</td>\n",
       "      <td>4.840909</td>\n",
       "      <td>5.240909</td>\n",
       "      <td>5.100000</td>\n",
       "      <td>4.795455</td>\n",
       "      <td>0.681818</td>\n",
       "      <td>24.863636</td>\n",
       "      <td>3.181818</td>\n",
       "    </tr>\n",
       "  </tbody>\n",
       "</table>\n",
       "<p>144 rows × 11 columns</p>\n",
       "</div>"
      ],
      "text/plain": [
       "                  PID  Resolution  Framerate  Bitrate        VQ        VF  \\\n",
       "Game  Condition                                                             \n",
       "Game1 4          13.0       720.0       30.0   1000.0  2.948000  2.796000   \n",
       "      5          13.0      1080.0       30.0   4000.0  4.112000  3.760000   \n",
       "      15         13.0       480.0       30.0    300.0  1.988000  2.232000   \n",
       "      19         13.0       480.0       60.0   2000.0  3.068000  3.724000   \n",
       "      25         13.0       720.0       60.0  50000.0  5.080000  5.340000   \n",
       "...               ...         ...        ...      ...       ...       ...   \n",
       "Game6 71         11.5       480.0       30.0   2000.0  3.377273  4.486364   \n",
       "      74         11.5       720.0       30.0   2000.0  3.777273  3.572727   \n",
       "      77         11.5      1080.0       30.0  50000.0  5.013636  5.204545   \n",
       "      78         11.5      1080.0       60.0  50000.0  5.450000  5.522727   \n",
       "      80         11.5       720.0       30.0  50000.0  4.840909  5.240909   \n",
       "\n",
       "                       VU        VD        AC        Age  Expertise  \n",
       "Game  Condition                                                      \n",
       "Game1 4          3.204000  4.840000  0.200000  23.875000   3.125000  \n",
       "      5          4.392000  4.924000  0.640000  23.875000   3.125000  \n",
       "      15         2.260000  5.092000  0.000000  23.875000   3.125000  \n",
       "      19         2.876000  5.092000  0.160000  23.875000   3.125000  \n",
       "      25         4.544000  5.536000  0.920000  23.875000   3.125000  \n",
       "...                   ...       ...       ...        ...        ...  \n",
       "Game6 71         3.027273  4.931818  0.181818  24.863636   3.181818  \n",
       "      74         3.877273  4.822727  0.500000  24.863636   3.181818  \n",
       "      77         5.209091  4.936364  0.818182  24.863636   3.181818  \n",
       "      78         5.818182  5.336364  0.909091  24.863636   3.181818  \n",
       "      80         5.100000  4.795455  0.681818  24.863636   3.181818  \n",
       "\n",
       "[144 rows x 11 columns]"
      ]
     },
     "execution_count": 13,
     "metadata": {},
     "output_type": "execute_result"
    }
   ],
   "source": [
    "mos_by_game_condition = dataset.groupby([\"Game\", \"Condition\"]).mean()\n",
    "mos_by_game_condition"
   ]
  },
  {
   "cell_type": "markdown",
   "metadata": {},
   "source": [
    "### Task 2: Calculate a new parameter called bitperpixel"
   ]
  },
  {
   "cell_type": "code",
   "execution_count": 21,
   "metadata": {},
   "outputs": [],
   "source": [
    "num_pixels = {\n",
    "    480: 720 * 480,\n",
    "    720: 1280 * 720,\n",
    "    1080: 1920 * 1080\n",
    "}\n",
    "\n",
    "def count_pixels(resolution):\n",
    "    return num_pixels[int(resolution)]\n",
    "\n",
    "mos_by_game_condition[\"num_pixels\"] = mos_by_game_condition.Resolution.transform(count_pixels)\n",
    "mos_by_game_condition[\"bitperpixel\"] = mos_by_game_condition.Bitrate / mos_by_game_condition.num_pixels"
   ]
  },
  {
   "cell_type": "markdown",
   "metadata": {},
   "source": [
    "### Task 3: Multiple linear regression"
   ]
  },
  {
   "cell_type": "code",
   "execution_count": 68,
   "metadata": {},
   "outputs": [
    {
     "data": {
      "text/plain": [
       "LinearRegression(copy_X=True, fit_intercept=True, n_jobs=None, normalize=False)"
      ]
     },
     "execution_count": 68,
     "metadata": {},
     "output_type": "execute_result"
    }
   ],
   "source": [
    "X = mos_by_game_condition[[\"VF\", \"VU\", \"VD\"]].values\n",
    "y = mos_by_game_condition[[\"VQ\"]].values\n",
    "\n",
    "model = linear_model.LinearRegression()\n",
    "model.fit(X, y)"
   ]
  },
  {
   "cell_type": "code",
   "execution_count": 79,
   "metadata": {},
   "outputs": [
    {
     "name": "stdout",
     "output_type": "stream",
     "text": [
      "RMSE=0.15037739916835693\n",
      "R^2=0.9754794697815228\n"
     ]
    },
    {
     "data": {
      "image/png": "[encoded data removed]",
      "text/plain": [
       "<Figure size 1152x288 with 1 Axes>"
      ]
     },
     "metadata": {},
     "output_type": "display_data"
    }
   ],
   "source": [
    "prediction = model.predict(X)\n",
    "residuals = y - prediction\n",
    "\n",
    "# Residual plot\n",
    "\n",
    "fig, ax = plt.subplots(figsize=FIGSIZE)\n",
    "ax.scatter(y, residuals)\n",
    "\n",
    "padding = 0.2\n",
    "min_x = y.min() - padding\n",
    "max_x = y.max() + padding\n",
    "ax.hlines(0, min_x, max_x)\n",
    "ax.set_xlim([min_x, max_x])\n",
    "\n",
    "ax.set_title(\"Residual plot\")\n",
    "ax.set_ylabel(\"Residuals\")\n",
    "ax.set_xlabel(\"VQ\")\n",
    "\n",
    "# Report results\n",
    "\n",
    "MSE = (residuals ** 2).mean()\n",
    "RMSE = np.sqrt(MSE)\n",
    "print(f\"RMSE={RMSE}\")\n",
    "\n",
    "r2 = metrics.r2_score(y, prediction)\n",
    "print(f\"R^2={r_squared}\")"
   ]
  },
  {
   "cell_type": "markdown",
   "metadata": {},
   "source": [
    "### Task 4: Non-linear regressions"
   ]
  },
  {
   "cell_type": "code",
   "execution_count": 143,
   "metadata": {},
   "outputs": [
    {
     "name": "stdout",
     "output_type": "stream",
     "text": [
      "Fitted function: 7520.232533640273 * exp(--0.006079687647777501 * x) + -7516.537820364376\n"
     ]
    },
    {
     "data": {
      "text/plain": [
       "<matplotlib.legend.Legend at 0x7fbb93797748>"
      ]
     },
     "execution_count": 143,
     "metadata": {},
     "output_type": "execute_result"
    },
    {
     "data": {
      "image/png": "[encoded data removed]",
      "text/plain": [
       "<Figure size 1152x288 with 1 Axes>"
      ]
     },
     "metadata": {},
     "output_type": "display_data"
    }
   ],
   "source": [
    "X = mos_by_game_condition.bitperpixel.values\n",
    "y = mos_by_game_condition.VF.values\n",
    "\n",
    "def exponential(x, a, b, c):\n",
    "    \"\"\"From https://docs.scipy.org/doc/scipy/reference/generated/scipy.optimize.curve_fit.html\"\"\"\n",
    "    return a * np.exp(-b * x) + c\n",
    "\n",
    "popt, pcov = optimize.curve_fit(exponential, X, y)\n",
    "a, b, c = popt\n",
    "print(f\"Fitted function: {a} * exp(-{b} * x) + {c}\")\n",
    "\n",
    "X_predict = np.linspace(np.min(X), np.max(X))\n",
    "y_predict = exponential(X_predict, *popt)\n",
    "\n",
    "fig, ax = plt.subplots(figsize=FIGSIZE)\n",
    "ax.scatter(X, y, label=\"Training data\")\n",
    "ax.plot(X_predict, y_predict, c=\"C1\", label=\"Prediction\")\n",
    "ax.set_xlabel(\"Bits per pixel\")\n",
    "ax.set_ylabel(\"Mean VF\")\n",
    "ax.legend()"
   ]
  },
  {
   "cell_type": "code",
   "execution_count": 132,
   "metadata": {},
   "outputs": [
    {
     "data": {
      "text/plain": [
       "<matplotlib.legend.Legend at 0x7fbb93bc54e0>"
      ]
     },
     "execution_count": 132,
     "metadata": {},
     "output_type": "execute_result"
    },
    {
     "data": {
      "image/png": "[encoded data removed]",
      "text/plain": [
       "<Figure size 1152x288 with 1 Axes>"
      ]
     },
     "metadata": {},
     "output_type": "display_data"
    }
   ],
   "source": [
    "X = mos_by_game_condition[[\"bitperpixel\"]].values\n",
    "y = mos_by_game_condition[[\"VU\"]].values\n",
    "\n",
    "model = pipeline.make_pipeline(\n",
    "    preprocessing.PolynomialFeatures(degree=3), linear_model.LinearRegression()\n",
    ")\n",
    "model.fit(X, y)\n",
    "\n",
    "X_predict = np.linspace(np.min(X), np.max(X)).reshape(-1, 1)\n",
    "y_predict = model.predict(X_predict)\n",
    "\n",
    "fig, ax = plt.subplots(figsize=FIGSIZE)\n",
    "ax.scatter(X, y, label=\"Training data\")\n",
    "ax.plot(X_predict, y_predict, c=\"C1\", label=\"Prediction\")\n",
    "ax.set_xlabel(\"Bits per pixel\")\n",
    "ax.set_ylabel(\"Mean VU\")\n",
    "ax.legend()"
   ]
  },
  {
   "cell_type": "code",
   "execution_count": 150,
   "metadata": {},
   "outputs": [
    {
     "data": {
      "text/plain": [
       "<matplotlib.legend.Legend at 0x7fbb93660f28>"
      ]
     },
     "execution_count": 150,
     "metadata": {},
     "output_type": "execute_result"
    },
    {
     "data": {
      "image/png": "[encoded data removed]",
      "text/plain": [
       "<Figure size 1152x288 with 1 Axes>"
      ]
     },
     "metadata": {},
     "output_type": "display_data"
    }
   ],
   "source": [
    "X = mos_by_game_condition.Framerate.values.reshape(-1, 1)\n",
    "y = mos_by_game_condition.VD.values.reshape(-1, 1)\n",
    "\n",
    "model = linear_model.LinearRegression()\n",
    "model.fit(X, y)\n",
    "\n",
    "X_predict = np.array([30, 60]).reshape(-1, 1)\n",
    "y_predict = model.predict(X_predict)\n",
    "\n",
    "fig, ax = plt.subplots(figsize=FIGSIZE)\n",
    "ax.scatter(X, y, label=\"Training data\")\n",
    "ax.plot(X_predict, y_predict, c=\"C1\", label=\"Prediction\")\n",
    "ax.set_xlabel(\"Framerate\")\n",
    "ax.set_ylabel(\"Mean VD\")\n",
    "ax.legend()"
   ]
  }
 ],
 "metadata": {
  "kernelspec": {
   "display_name": "Python 3",
   "language": "python",
   "name": "python3"
  },
  "language_info": {
   "codemirror_mode": {
    "name": "ipython",
    "version": 3
   },
   "file_extension": ".py",
   "mimetype": "text/x-python",
   "name": "python",
   "nbconvert_exporter": "python",
   "pygments_lexer": "ipython3",
   "version": "3.6.5"
  }
 },
 "nbformat": 4,
 "nbformat_minor": 2
}
