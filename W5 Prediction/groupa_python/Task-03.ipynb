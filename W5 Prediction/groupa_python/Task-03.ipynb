{
 "cells": [
  {
   "cell_type": "markdown",
   "metadata": {},
   "source": [
    "# 5 Modelling - Task 3"
   ]
  },
  {
   "cell_type": "markdown",
   "metadata": {},
   "source": [
    "## Import and Initializing"
   ]
  },
  {
   "cell_type": "code",
   "execution_count": 1,
   "metadata": {},
   "outputs": [],
   "source": [
    "import numpy as np\n",
    "import pandas as pd\n",
    "\n",
    "from sklearn import linear_model, metrics, preprocessing, pipeline  # pip3 install sklearn --user\n",
    "from scipy import optimize\n",
    "from scipy.stats import spearmanr\n",
    "\n",
    "import matplotlib.pyplot as plt\n",
    "import seaborn as sns\n",
    "sns.set(style=\"whitegrid\", context=\"notebook\")\n",
    "\n",
    "FIGSIZE = (16,4)"
   ]
  },
  {
   "cell_type": "code",
   "execution_count": 2,
   "metadata": {},
   "outputs": [],
   "source": [
    "dataset = pd.read_excel(\"../datasets/DB01_gaming_video_quality_dataset.xlsx\")\n",
    "\n",
    "# calculate MOS\n",
    "mos_by_game_condition = dataset.groupby([\"Game\", \"Condition\"]).mean()\n",
    "\n",
    "#calculate bit per pixel\n",
    "num_pixels = {\n",
    "    480: 720 * 480,\n",
    "    720: 1280 * 720,\n",
    "    1080: 1920 * 1080\n",
    "}\n",
    "\n",
    "def count_pixels(resolution):\n",
    "    return num_pixels[int(resolution)]\n",
    "\n",
    "mos_by_game_condition[\"num_pixels\"] = mos_by_game_condition.Resolution.transform(count_pixels)\n",
    "mos_by_game_condition[\"bitperpixel\"] = mos_by_game_condition.Bitrate / mos_by_game_condition.num_pixels"
   ]
  },
  {
   "cell_type": "markdown",
   "metadata": {},
   "source": [
    "## Perform multiple linear regression"
   ]
  },
  {
   "cell_type": "code",
   "execution_count": 3,
   "metadata": {},
   "outputs": [],
   "source": [
    "X = mos_by_game_condition[[\"VF\", \"VU\", \"VD\"]].values\n",
    "y = mos_by_game_condition[[\"VQ\"]].values\n",
    "\n",
    "model = linear_model.LinearRegression()\n",
    "model.fit(X, y)\n",
    "None"
   ]
  },
  {
   "cell_type": "code",
   "execution_count": 4,
   "metadata": {},
   "outputs": [
    {
     "name": "stdout",
     "output_type": "stream",
     "text": [
      "RMSE=0.15037739916835693\n",
      "R^2=0.9754794697815229\n",
      "Spearman correlation: 0.9860842900194534\n"
     ]
    },
    {
     "data": {
      "image/png": "[encoded data removed]",
      "text/plain": [
       "<Figure size 1152x288 with 1 Axes>"
      ]
     },
     "metadata": {
      "needs_background": "light"
     },
     "output_type": "display_data"
    }
   ],
   "source": [
    "prediction = model.predict(X)\n",
    "residuals = y - prediction\n",
    "\n",
    "# Residual plot\n",
    "\n",
    "fig, ax = plt.subplots(figsize=FIGSIZE)\n",
    "ax.scatter(y, residuals)\n",
    "\n",
    "padding = 0.2\n",
    "min_x = y.min() - padding\n",
    "max_x = y.max() + padding\n",
    "ax.hlines(0, min_x, max_x)\n",
    "ax.set_xlim([min_x, max_x])\n",
    "\n",
    "ax.set_title(\"Residual plot\")\n",
    "ax.set_ylabel(\"Residuals\")\n",
    "ax.set_xlabel(\"VQ\")\n",
    "\n",
    "# Report results\n",
    "\n",
    "MSE = (residuals ** 2).mean()\n",
    "RMSE = np.sqrt(MSE)\n",
    "print(f\"RMSE={RMSE}\")\n",
    "\n",
    "r_squared = metrics.r2_score(y, prediction)\n",
    "print(f\"R^2={r_squared}\")\n",
    "\n",
    "spearman = spearmanr(prediction, mos_by_game_condition[[\"VQ\"]].values)\n",
    "print(f\"Spearman correlation: {spearman[0]}\")"
   ]
  }
 ],
 "metadata": {
  "kernelspec": {
   "display_name": "Python 3",
   "language": "python",
   "name": "python3"
  },
  "language_info": {
   "codemirror_mode": {
    "name": "ipython",
    "version": 3
   },
   "file_extension": ".py",
   "mimetype": "text/x-python",
   "name": "python",
   "nbconvert_exporter": "python",
   "pygments_lexer": "ipython3",
   "version": "3.6.5"
  }
 },
 "nbformat": 4,
 "nbformat_minor": 2
}
