{
 "cells": [
  {
   "cell_type": "markdown",
   "metadata": {},
   "source": [
    "# Task 1: Use all collected ratings to derive possible dimension and item loadings of interpersonal speaker characteristics. Note that also an inverse interpretation of the ratings is possible. Please split the data in male and female speakers before performing the factor analysis. File to use: likeability_dimension_ratings.csv"
   ]
  },
  {
   "cell_type": "markdown",
   "metadata": {},
   "source": [
    "### Step 1: Library imports and reading in data"
   ]
  },
  {
   "cell_type": "code",
   "execution_count": 1,
   "metadata": {},
   "outputs": [],
   "source": [
    "# install.packages('dplyr')      # processing \n",
    "# install.packages('gdata')      # file reading\n",
    "# install.packages('psych')      # KMO test and PCA prediction\n",
    "# install.packages('Hmisc')      # correlation matricies\n",
    "# install.packages('DMwR')       # imputing NA values\n",
    "# install.packages('ggfortify')  # PCA visualization"
   ]
  },
  {
   "cell_type": "code",
   "execution_count": 2,
   "metadata": {},
   "outputs": [
    {
     "name": "stderr",
     "output_type": "stream",
     "text": [
      "\n",
      "Attaching package: 'dplyr'\n",
      "\n",
      "The following objects are masked from 'package:stats':\n",
      "\n",
      "    filter, lag\n",
      "\n",
      "The following objects are masked from 'package:base':\n",
      "\n",
      "    intersect, setdiff, setequal, union\n",
      "\n",
      "Loading required package: lattice\n",
      "Loading required package: survival\n",
      "Loading required package: Formula\n",
      "Loading required package: ggplot2\n",
      "\n",
      "Attaching package: 'ggplot2'\n",
      "\n",
      "The following objects are masked from 'package:psych':\n",
      "\n",
      "    %+%, alpha\n",
      "\n",
      "\n",
      "Attaching package: 'Hmisc'\n",
      "\n",
      "The following object is masked from 'package:psych':\n",
      "\n",
      "    describe\n",
      "\n",
      "The following objects are masked from 'package:dplyr':\n",
      "\n",
      "    src, summarize\n",
      "\n",
      "The following objects are masked from 'package:base':\n",
      "\n",
      "    format.pval, units\n",
      "\n",
      "Loading required package: grid\n",
      "Registered S3 method overwritten by 'xts':\n",
      "  method     from\n",
      "  as.zoo.xts zoo \n",
      "Registered S3 method overwritten by 'quantmod':\n",
      "  method            from\n",
      "  as.zoo.data.frame zoo \n",
      "Warning message:\n",
      "\"package 'ggfortify' was built under R version 3.6.2\"\n",
      "Attaching package: 'ggfortify'\n",
      "\n",
      "The following object is masked from 'package:DMwR':\n",
      "\n",
      "    unscale\n",
      "\n"
     ]
    }
   ],
   "source": [
    "# include libraries\n",
    "library(dplyr)      # processing\n",
    "library(readxl)     # reading in data\n",
    "library(psych)      # KMO test and PCA prediction\n",
    "library(Hmisc)      # correlation matricies\n",
    "library(DMwR)       # imputing NA values\n",
    "library(ggfortify)  # PCA visualization"
   ]
  },
  {
   "cell_type": "code",
   "execution_count": 3,
   "metadata": {},
   "outputs": [
    {
     "data": {
      "text/html": [
       "<table>\n",
       "<thead><tr><th scope=col>unsympatisch</th><th scope=col>sicher</th><th scope=col>attraktiv</th><th scope=col>verstaendnislos</th><th scope=col>unentschieden</th><th scope=col>unaufdringlich</th><th scope=col>distanziert</th><th scope=col>gelangweilt</th><th scope=col>emotional</th><th scope=col>nicht.genervt</th><th scope=col>...</th><th scope=col>freundlich</th><th scope=col>maennlich</th><th scope=col>gehorsam</th><th scope=col>gleichgueltig</th><th scope=col>interessant</th><th scope=col>zynisch</th><th scope=col>aufgesetzt</th><th scope=col>intelligent</th><th scope=col>kindlich</th><th scope=col>bescheiden</th></tr></thead>\n",
       "<tbody>\n",
       "\t<tr><td> 18</td><td> 79</td><td> 83</td><td>86 </td><td>18 </td><td> 72</td><td>12 </td><td>18 </td><td>64 </td><td> 82</td><td>...</td><td> 78</td><td> 10</td><td> 67</td><td>75 </td><td> 76</td><td>26 </td><td>12 </td><td>87 </td><td>60 </td><td> 71</td></tr>\n",
       "\t<tr><td>  0</td><td>100</td><td>100</td><td> 0 </td><td> 0 </td><td>100</td><td> 0 </td><td> 0 </td><td>29 </td><td>100</td><td>...</td><td>100</td><td>100</td><td>100</td><td> 0 </td><td>100</td><td> 0 </td><td> 0 </td><td>83 </td><td>70 </td><td>100</td></tr>\n",
       "\t<tr><td> 19</td><td> 62</td><td> 43</td><td>19 </td><td>39 </td><td> 84</td><td>19 </td><td>33 </td><td>56 </td><td> 85</td><td>...</td><td> 81</td><td>  0</td><td> 86</td><td>42 </td><td> 53</td><td>16 </td><td>22 </td><td>67 </td><td>38 </td><td> 81</td></tr>\n",
       "\t<tr><td> 33</td><td> 56</td><td> 57</td><td>44 </td><td>34 </td><td> 30</td><td>41 </td><td>40 </td><td>56 </td><td> 86</td><td>...</td><td> 72</td><td>  5</td><td> 40</td><td>24 </td><td> 63</td><td>62 </td><td>29 </td><td>57 </td><td>30 </td><td> 47</td></tr>\n",
       "\t<tr><td>100</td><td> 32</td><td>  0</td><td>28 </td><td>81 </td><td> 87</td><td>76 </td><td>67 </td><td>16 </td><td> 31</td><td>...</td><td> 79</td><td> 28</td><td> 87</td><td>25 </td><td> 28</td><td>77 </td><td>79 </td><td>70 </td><td>74 </td><td> 83</td></tr>\n",
       "\t<tr><td>  3</td><td> 88</td><td> 87</td><td>15 </td><td> 9 </td><td> 86</td><td>19 </td><td>25 </td><td>75 </td><td> 68</td><td>...</td><td> 89</td><td> 13</td><td> 47</td><td>29 </td><td> 88</td><td>45 </td><td>17 </td><td>87 </td><td>17 </td><td> 54</td></tr>\n",
       "</tbody>\n",
       "</table>\n"
      ],
      "text/latex": [
       "\\begin{tabular}{r|llllllllllllllllllllllllllllllllll}\n",
       " unsympatisch & sicher & attraktiv & verstaendnislos & unentschieden & unaufdringlich & distanziert & gelangweilt & emotional & nicht.genervt & ... & freundlich & maennlich & gehorsam & gleichgueltig & interessant & zynisch & aufgesetzt & intelligent & kindlich & bescheiden\\\\\n",
       "\\hline\n",
       "\t  18 &  79 &  83 & 86  & 18  &  72 & 12  & 18  & 64  &  82 & ... &  78 &  10 &  67 & 75  &  76 & 26  & 12  & 87  & 60  &  71\\\\\n",
       "\t   0 & 100 & 100 &  0  &  0  & 100 &  0  &  0  & 29  & 100 & ... & 100 & 100 & 100 &  0  & 100 &  0  &  0  & 83  & 70  & 100\\\\\n",
       "\t  19 &  62 &  43 & 19  & 39  &  84 & 19  & 33  & 56  &  85 & ... &  81 &   0 &  86 & 42  &  53 & 16  & 22  & 67  & 38  &  81\\\\\n",
       "\t  33 &  56 &  57 & 44  & 34  &  30 & 41  & 40  & 56  &  86 & ... &  72 &   5 &  40 & 24  &  63 & 62  & 29  & 57  & 30  &  47\\\\\n",
       "\t 100 &  32 &   0 & 28  & 81  &  87 & 76  & 67  & 16  &  31 & ... &  79 &  28 &  87 & 25  &  28 & 77  & 79  & 70  & 74  &  83\\\\\n",
       "\t   3 &  88 &  87 & 15  &  9  &  86 & 19  & 25  & 75  &  68 & ... &  89 &  13 &  47 & 29  &  88 & 45  & 17  & 87  & 17  &  54\\\\\n",
       "\\end{tabular}\n"
      ],
      "text/markdown": [
       "\n",
       "| unsympatisch | sicher | attraktiv | verstaendnislos | unentschieden | unaufdringlich | distanziert | gelangweilt | emotional | nicht.genervt | ... | freundlich | maennlich | gehorsam | gleichgueltig | interessant | zynisch | aufgesetzt | intelligent | kindlich | bescheiden |\n",
       "|---|---|---|---|---|---|---|---|---|---|---|---|---|---|---|---|---|---|---|---|---|\n",
       "|  18 |  79 |  83 | 86  | 18  |  72 | 12  | 18  | 64  |  82 | ... |  78 |  10 |  67 | 75  |  76 | 26  | 12  | 87  | 60  |  71 |\n",
       "|   0 | 100 | 100 |  0  |  0  | 100 |  0  |  0  | 29  | 100 | ... | 100 | 100 | 100 |  0  | 100 |  0  |  0  | 83  | 70  | 100 |\n",
       "|  19 |  62 |  43 | 19  | 39  |  84 | 19  | 33  | 56  |  85 | ... |  81 |   0 |  86 | 42  |  53 | 16  | 22  | 67  | 38  |  81 |\n",
       "|  33 |  56 |  57 | 44  | 34  |  30 | 41  | 40  | 56  |  86 | ... |  72 |   5 |  40 | 24  |  63 | 62  | 29  | 57  | 30  |  47 |\n",
       "| 100 |  32 |   0 | 28  | 81  |  87 | 76  | 67  | 16  |  31 | ... |  79 |  28 |  87 | 25  |  28 | 77  | 79  | 70  | 74  |  83 |\n",
       "|   3 |  88 |  87 | 15  |  9  |  86 | 19  | 25  | 75  |  68 | ... |  89 |  13 |  47 | 29  |  88 | 45  | 17  | 87  | 17  |  54 |\n",
       "\n"
      ],
      "text/plain": [
       "  unsympatisch sicher attraktiv verstaendnislos unentschieden unaufdringlich\n",
       "1  18           79     83       86              18             72           \n",
       "2   0          100    100        0               0            100           \n",
       "3  19           62     43       19              39             84           \n",
       "4  33           56     57       44              34             30           \n",
       "5 100           32      0       28              81             87           \n",
       "6   3           88     87       15               9             86           \n",
       "  distanziert gelangweilt emotional nicht.genervt ... freundlich maennlich\n",
       "1 12          18          64         82           ...  78         10      \n",
       "2  0           0          29        100           ... 100        100      \n",
       "3 19          33          56         85           ...  81          0      \n",
       "4 41          40          56         86           ...  72          5      \n",
       "5 76          67          16         31           ...  79         28      \n",
       "6 19          25          75         68           ...  89         13      \n",
       "  gehorsam gleichgueltig interessant zynisch aufgesetzt intelligent kindlich\n",
       "1  67      75             76         26      12         87          60      \n",
       "2 100       0            100          0       0         83          70      \n",
       "3  86      42             53         16      22         67          38      \n",
       "4  40      24             63         62      29         57          30      \n",
       "5  87      25             28         77      79         70          74      \n",
       "6  47      29             88         45      17         87          17      \n",
       "  bescheiden\n",
       "1  71       \n",
       "2 100       \n",
       "3  81       \n",
       "4  47       \n",
       "5  83       \n",
       "6  54       "
      ]
     },
     "metadata": {},
     "output_type": "display_data"
    }
   ],
   "source": [
    "# read in data sets\n",
    "whole_data <- read.csv('datasets/DB02_speaker_likeability_dimension_ratings.csv')\n",
    "whole_data <- as.data.frame(knnImputation(whole_data)) \n",
    "\n",
    "male_data <- (whole_data %>% filter(speaker_gender == 'male'))[-c(1:9)]\n",
    "female_data <- (whole_data %>% filter(speaker_gender == 'female'))[-c(1:9)]\n",
    "whole_data <- whole_data[-c(1:9)]\n",
    "\n",
    "head(female_data)"
   ]
  },
  {
   "cell_type": "markdown",
   "metadata": {},
   "source": [
    "### Step 2: Checking if PCA can be applied directly => KMO test"
   ]
  },
  {
   "cell_type": "code",
   "execution_count": 4,
   "metadata": {},
   "outputs": [
    {
     "data": {
      "text/html": [
       "'KMO test for whole data set:'"
      ],
      "text/latex": [
       "'KMO test for whole data set:'"
      ],
      "text/markdown": [
       "'KMO test for whole data set:'"
      ],
      "text/plain": [
       "[1] \"KMO test for whole data set:\""
      ]
     },
     "metadata": {},
     "output_type": "display_data"
    },
    {
     "data": {
      "text/plain": [
       "Kaiser-Meyer-Olkin factor adequacy\n",
       "Call: KMO(r = whole_data)\n",
       "Overall MSA =  0.93\n",
       "MSA for each item = \n",
       "   unsympatisch          sicher       attraktiv verstaendnislos   unentschieden \n",
       "           0.96            0.87            0.93            0.96            0.86 \n",
       " unaufdringlich     distanziert     gelangweilt       emotional   nicht.genervt \n",
       "           0.91            0.96            0.95            0.95            0.97 \n",
       "          aktiv        angenehm    charakterlos        gesellig       entspannt \n",
       "           0.93            0.96            0.97            0.96            0.89 \n",
       "    mitfuehlend        dominant    unaffektiert        herzlich             alt \n",
       "           0.95            0.91            0.83            0.95            0.73 \n",
       "     unsachlich           ruhig     inkompetent       haesslich      freundlich \n",
       "           0.86            0.84            0.95            0.93            0.96 \n",
       "      maennlich        gehorsam   gleichgueltig     interessant         zynisch \n",
       "           0.65            0.83            0.95            0.96            0.85 \n",
       "     aufgesetzt     intelligent        kindlich      bescheiden \n",
       "           0.91            0.94            0.80            0.92 "
      ]
     },
     "metadata": {},
     "output_type": "display_data"
    },
    {
     "data": {
      "text/html": [
       "'KMO test for male speaker data set:'"
      ],
      "text/latex": [
       "'KMO test for male speaker data set:'"
      ],
      "text/markdown": [
       "'KMO test for male speaker data set:'"
      ],
      "text/plain": [
       "[1] \"KMO test for male speaker data set:\""
      ]
     },
     "metadata": {},
     "output_type": "display_data"
    },
    {
     "data": {
      "text/plain": [
       "Kaiser-Meyer-Olkin factor adequacy\n",
       "Call: KMO(r = male_data)\n",
       "Overall MSA =  0.92\n",
       "MSA for each item = \n",
       "   unsympatisch          sicher       attraktiv verstaendnislos   unentschieden \n",
       "           0.95            0.88            0.91            0.95            0.84 \n",
       " unaufdringlich     distanziert     gelangweilt       emotional   nicht.genervt \n",
       "           0.90            0.95            0.94            0.95            0.97 \n",
       "          aktiv        angenehm    charakterlos        gesellig       entspannt \n",
       "           0.93            0.96            0.97            0.96            0.89 \n",
       "    mitfuehlend        dominant    unaffektiert        herzlich             alt \n",
       "           0.93            0.92            0.86            0.94            0.68 \n",
       "     unsachlich           ruhig     inkompetent       haesslich      freundlich \n",
       "           0.85            0.83            0.95            0.92            0.95 \n",
       "      maennlich        gehorsam   gleichgueltig     interessant         zynisch \n",
       "           0.91            0.79            0.93            0.96            0.80 \n",
       "     aufgesetzt     intelligent        kindlich      bescheiden \n",
       "           0.88            0.94            0.82            0.89 "
      ]
     },
     "metadata": {},
     "output_type": "display_data"
    },
    {
     "data": {
      "text/html": [
       "'KMO test for female speaker data set:'"
      ],
      "text/latex": [
       "'KMO test for female speaker data set:'"
      ],
      "text/markdown": [
       "'KMO test for female speaker data set:'"
      ],
      "text/plain": [
       "[1] \"KMO test for female speaker data set:\""
      ]
     },
     "metadata": {},
     "output_type": "display_data"
    },
    {
     "data": {
      "text/plain": [
       "Kaiser-Meyer-Olkin factor adequacy\n",
       "Call: KMO(r = female_data)\n",
       "Overall MSA =  0.93\n",
       "MSA for each item = \n",
       "   unsympatisch          sicher       attraktiv verstaendnislos   unentschieden \n",
       "           0.96            0.87            0.94            0.96            0.87 \n",
       " unaufdringlich     distanziert     gelangweilt       emotional   nicht.genervt \n",
       "           0.92            0.96            0.95            0.95            0.97 \n",
       "          aktiv        angenehm    charakterlos        gesellig       entspannt \n",
       "           0.93            0.96            0.97            0.96            0.88 \n",
       "    mitfuehlend        dominant    unaffektiert        herzlich             alt \n",
       "           0.95            0.90            0.80            0.95            0.79 \n",
       "     unsachlich           ruhig     inkompetent       haesslich      freundlich \n",
       "           0.86            0.84            0.94            0.94            0.96 \n",
       "      maennlich        gehorsam   gleichgueltig     interessant         zynisch \n",
       "           0.79            0.85            0.95            0.96            0.87 \n",
       "     aufgesetzt     intelligent        kindlich      bescheiden \n",
       "           0.92            0.93            0.77            0.92 "
      ]
     },
     "metadata": {},
     "output_type": "display_data"
    }
   ],
   "source": [
    "# KMO test: PCA only fine if overall MSA > 0.5\n",
    "paste0('KMO test for whole data set:')\n",
    "KMO(whole_data)\n",
    "paste0('KMO test for male speaker data set:')\n",
    "KMO(male_data)\n",
    "paste0('KMO test for female speaker data set:')\n",
    "KMO(female_data)"
   ]
  },
  {
   "cell_type": "markdown",
   "metadata": {},
   "source": [
    "##### As Measure of Sampling Adequacy > 0.5 for every item & overall in every data set [even in whole data set] \n",
    "##### => PCA can be performed directly"
   ]
  },
  {
   "cell_type": "markdown",
   "metadata": {},
   "source": [
    "### Step 3: Compute correlation matricies and their eigenvalues\n",
    "#### Note: Look at high correlation pairs to presume factors"
   ]
  },
  {
   "cell_type": "code",
   "execution_count": 5,
   "metadata": {},
   "outputs": [],
   "source": [
    "# Not strictly linear relationships between the variables \n",
    "# Hence: Compute no Pearson but Spearman correlation matricies\n",
    "corr_data_spearman_male <- rcorr(as.matrix(male_data), type=c(\"spearman\"))\n",
    "corr_data_spearman_female <- rcorr(as.matrix(female_data), type=c(\"spearman\"))"
   ]
  },
  {
   "cell_type": "code",
   "execution_count": 6,
   "metadata": {
    "scrolled": false
   },
   "outputs": [
    {
     "data": {
      "text/html": [
       "'p value matrix of variables in male data set:'"
      ],
      "text/latex": [
       "'p value matrix of variables in male data set:'"
      ],
      "text/markdown": [
       "'p value matrix of variables in male data set:'"
      ],
      "text/plain": [
       "[1] \"p value matrix of variables in male data set:\""
      ]
     },
     "metadata": {},
     "output_type": "display_data"
    },
    {
     "data": {
      "text/html": [
       "<table>\n",
       "<thead><tr><th></th><th scope=col>unsympatisch</th><th scope=col>sicher</th><th scope=col>attraktiv</th><th scope=col>verstaendnislos</th><th scope=col>unentschieden</th><th scope=col>unaufdringlich</th><th scope=col>distanziert</th><th scope=col>gelangweilt</th><th scope=col>emotional</th><th scope=col>nicht.genervt</th><th scope=col>...</th><th scope=col>freundlich</th><th scope=col>maennlich</th><th scope=col>gehorsam</th><th scope=col>gleichgueltig</th><th scope=col>interessant</th><th scope=col>zynisch</th><th scope=col>aufgesetzt</th><th scope=col>intelligent</th><th scope=col>kindlich</th><th scope=col>bescheiden</th></tr></thead>\n",
       "<tbody>\n",
       "\t<tr><th scope=row>unsympatisch</th><td>          NA</td><td>0.00000000  </td><td>0.000000e+00</td><td>0.000000e+00</td><td>3.729368e-08</td><td>4.440892e-16</td><td>0.000000e+00</td><td>0.000000000 </td><td>0.000000e+00</td><td>0.000000e+00</td><td>...         </td><td>0.000000e+00</td><td>1.683731e-03</td><td>1.626422e-06</td><td>0.000000e+00</td><td>0.000000e+00</td><td>1.431402e-07</td><td>0.000000e+00</td><td>0.000000e+00</td><td>1.403809e-06</td><td>0.0000000000</td></tr>\n",
       "\t<tr><th scope=row>sicher</th><td>0.000000e+00</td><td>        NA  </td><td>0.000000e+00</td><td>0.000000e+00</td><td>0.000000e+00</td><td>1.134659e-02</td><td>1.989453e-09</td><td>0.000000000 </td><td>6.009907e-03</td><td>1.411268e-09</td><td>...         </td><td>0.000000e+00</td><td>0.000000e+00</td><td>0.000000e+00</td><td>1.310063e-14</td><td>0.000000e+00</td><td>2.498002e-13</td><td>3.602889e-10</td><td>0.000000e+00</td><td>0.000000e+00</td><td>0.0017030308</td></tr>\n",
       "\t<tr><th scope=row>attraktiv</th><td>0.000000e+00</td><td>0.00000000  </td><td>          NA</td><td>0.000000e+00</td><td>5.132774e-10</td><td>8.585796e-07</td><td>0.000000e+00</td><td>0.000000000 </td><td>0.000000e+00</td><td>0.000000e+00</td><td>...         </td><td>0.000000e+00</td><td>2.391826e-05</td><td>1.617538e-01</td><td>0.000000e+00</td><td>0.000000e+00</td><td>8.866997e-01</td><td>3.816947e-13</td><td>0.000000e+00</td><td>8.243352e-09</td><td>0.0008619528</td></tr>\n",
       "\t<tr><th scope=row>verstaendnislos</th><td>0.000000e+00</td><td>0.00000000  </td><td>0.000000e+00</td><td>          NA</td><td>6.661338e-16</td><td>0.000000e+00</td><td>0.000000e+00</td><td>0.000000000 </td><td>0.000000e+00</td><td>0.000000e+00</td><td>...         </td><td>0.000000e+00</td><td>8.349259e-08</td><td>3.862688e-12</td><td>0.000000e+00</td><td>0.000000e+00</td><td>8.881784e-16</td><td>2.398082e-14</td><td>0.000000e+00</td><td>7.329725e-05</td><td>0.0000000000</td></tr>\n",
       "\t<tr><th scope=row>unentschieden</th><td>3.729368e-08</td><td>0.00000000  </td><td>5.132774e-10</td><td>6.661338e-16</td><td>          NA</td><td>2.861063e-02</td><td>1.002144e-03</td><td>0.000000000 </td><td>7.990285e-01</td><td>1.276752e-08</td><td>...         </td><td>1.405542e-13</td><td>0.000000e+00</td><td>1.484191e-08</td><td>5.639933e-13</td><td>8.659740e-15</td><td>5.317311e-05</td><td>2.315920e-05</td><td>0.000000e+00</td><td>0.000000e+00</td><td>0.0238787027</td></tr>\n",
       "\t<tr><th scope=row>unaufdringlich</th><td>4.440892e-16</td><td>0.01134659  </td><td>8.585796e-07</td><td>0.000000e+00</td><td>2.861063e-02</td><td>          NA</td><td>3.230138e-04</td><td>0.001472286 </td><td>6.368832e-06</td><td>0.000000e+00</td><td>...         </td><td>0.000000e+00</td><td>0.000000e+00</td><td>0.000000e+00</td><td>4.780395e-01</td><td>1.166395e-02</td><td>0.000000e+00</td><td>0.000000e+00</td><td>4.440892e-16</td><td>6.632936e-08</td><td>0.0000000000</td></tr>\n",
       "</tbody>\n",
       "</table>\n"
      ],
      "text/latex": [
       "\\begin{tabular}{r|llllllllllllllllllllllllllllllllll}\n",
       "  & unsympatisch & sicher & attraktiv & verstaendnislos & unentschieden & unaufdringlich & distanziert & gelangweilt & emotional & nicht.genervt & ... & freundlich & maennlich & gehorsam & gleichgueltig & interessant & zynisch & aufgesetzt & intelligent & kindlich & bescheiden\\\\\n",
       "\\hline\n",
       "\tunsympatisch &           NA & 0.00000000   & 0.000000e+00 & 0.000000e+00 & 3.729368e-08 & 4.440892e-16 & 0.000000e+00 & 0.000000000  & 0.000000e+00 & 0.000000e+00 & ...          & 0.000000e+00 & 1.683731e-03 & 1.626422e-06 & 0.000000e+00 & 0.000000e+00 & 1.431402e-07 & 0.000000e+00 & 0.000000e+00 & 1.403809e-06 & 0.0000000000\\\\\n",
       "\tsicher & 0.000000e+00 &         NA   & 0.000000e+00 & 0.000000e+00 & 0.000000e+00 & 1.134659e-02 & 1.989453e-09 & 0.000000000  & 6.009907e-03 & 1.411268e-09 & ...          & 0.000000e+00 & 0.000000e+00 & 0.000000e+00 & 1.310063e-14 & 0.000000e+00 & 2.498002e-13 & 3.602889e-10 & 0.000000e+00 & 0.000000e+00 & 0.0017030308\\\\\n",
       "\tattraktiv & 0.000000e+00 & 0.00000000   &           NA & 0.000000e+00 & 5.132774e-10 & 8.585796e-07 & 0.000000e+00 & 0.000000000  & 0.000000e+00 & 0.000000e+00 & ...          & 0.000000e+00 & 2.391826e-05 & 1.617538e-01 & 0.000000e+00 & 0.000000e+00 & 8.866997e-01 & 3.816947e-13 & 0.000000e+00 & 8.243352e-09 & 0.0008619528\\\\\n",
       "\tverstaendnislos & 0.000000e+00 & 0.00000000   & 0.000000e+00 &           NA & 6.661338e-16 & 0.000000e+00 & 0.000000e+00 & 0.000000000  & 0.000000e+00 & 0.000000e+00 & ...          & 0.000000e+00 & 8.349259e-08 & 3.862688e-12 & 0.000000e+00 & 0.000000e+00 & 8.881784e-16 & 2.398082e-14 & 0.000000e+00 & 7.329725e-05 & 0.0000000000\\\\\n",
       "\tunentschieden & 3.729368e-08 & 0.00000000   & 5.132774e-10 & 6.661338e-16 &           NA & 2.861063e-02 & 1.002144e-03 & 0.000000000  & 7.990285e-01 & 1.276752e-08 & ...          & 1.405542e-13 & 0.000000e+00 & 1.484191e-08 & 5.639933e-13 & 8.659740e-15 & 5.317311e-05 & 2.315920e-05 & 0.000000e+00 & 0.000000e+00 & 0.0238787027\\\\\n",
       "\tunaufdringlich & 4.440892e-16 & 0.01134659   & 8.585796e-07 & 0.000000e+00 & 2.861063e-02 &           NA & 3.230138e-04 & 0.001472286  & 6.368832e-06 & 0.000000e+00 & ...          & 0.000000e+00 & 0.000000e+00 & 0.000000e+00 & 4.780395e-01 & 1.166395e-02 & 0.000000e+00 & 0.000000e+00 & 4.440892e-16 & 6.632936e-08 & 0.0000000000\\\\\n",
       "\\end{tabular}\n"
      ],
      "text/markdown": [
       "\n",
       "| <!--/--> | unsympatisch | sicher | attraktiv | verstaendnislos | unentschieden | unaufdringlich | distanziert | gelangweilt | emotional | nicht.genervt | ... | freundlich | maennlich | gehorsam | gleichgueltig | interessant | zynisch | aufgesetzt | intelligent | kindlich | bescheiden |\n",
       "|---|---|---|---|---|---|---|---|---|---|---|---|---|---|---|---|---|---|---|---|---|---|\n",
       "| unsympatisch |           NA | 0.00000000   | 0.000000e+00 | 0.000000e+00 | 3.729368e-08 | 4.440892e-16 | 0.000000e+00 | 0.000000000  | 0.000000e+00 | 0.000000e+00 | ...          | 0.000000e+00 | 1.683731e-03 | 1.626422e-06 | 0.000000e+00 | 0.000000e+00 | 1.431402e-07 | 0.000000e+00 | 0.000000e+00 | 1.403809e-06 | 0.0000000000 |\n",
       "| sicher | 0.000000e+00 |         NA   | 0.000000e+00 | 0.000000e+00 | 0.000000e+00 | 1.134659e-02 | 1.989453e-09 | 0.000000000  | 6.009907e-03 | 1.411268e-09 | ...          | 0.000000e+00 | 0.000000e+00 | 0.000000e+00 | 1.310063e-14 | 0.000000e+00 | 2.498002e-13 | 3.602889e-10 | 0.000000e+00 | 0.000000e+00 | 0.0017030308 |\n",
       "| attraktiv | 0.000000e+00 | 0.00000000   |           NA | 0.000000e+00 | 5.132774e-10 | 8.585796e-07 | 0.000000e+00 | 0.000000000  | 0.000000e+00 | 0.000000e+00 | ...          | 0.000000e+00 | 2.391826e-05 | 1.617538e-01 | 0.000000e+00 | 0.000000e+00 | 8.866997e-01 | 3.816947e-13 | 0.000000e+00 | 8.243352e-09 | 0.0008619528 |\n",
       "| verstaendnislos | 0.000000e+00 | 0.00000000   | 0.000000e+00 |           NA | 6.661338e-16 | 0.000000e+00 | 0.000000e+00 | 0.000000000  | 0.000000e+00 | 0.000000e+00 | ...          | 0.000000e+00 | 8.349259e-08 | 3.862688e-12 | 0.000000e+00 | 0.000000e+00 | 8.881784e-16 | 2.398082e-14 | 0.000000e+00 | 7.329725e-05 | 0.0000000000 |\n",
       "| unentschieden | 3.729368e-08 | 0.00000000   | 5.132774e-10 | 6.661338e-16 |           NA | 2.861063e-02 | 1.002144e-03 | 0.000000000  | 7.990285e-01 | 1.276752e-08 | ...          | 1.405542e-13 | 0.000000e+00 | 1.484191e-08 | 5.639933e-13 | 8.659740e-15 | 5.317311e-05 | 2.315920e-05 | 0.000000e+00 | 0.000000e+00 | 0.0238787027 |\n",
       "| unaufdringlich | 4.440892e-16 | 0.01134659   | 8.585796e-07 | 0.000000e+00 | 2.861063e-02 |           NA | 3.230138e-04 | 0.001472286  | 6.368832e-06 | 0.000000e+00 | ...          | 0.000000e+00 | 0.000000e+00 | 0.000000e+00 | 4.780395e-01 | 1.166395e-02 | 0.000000e+00 | 0.000000e+00 | 4.440892e-16 | 6.632936e-08 | 0.0000000000 |\n",
       "\n"
      ],
      "text/plain": [
       "                unsympatisch sicher     attraktiv    verstaendnislos\n",
       "unsympatisch              NA 0.00000000 0.000000e+00 0.000000e+00   \n",
       "sicher          0.000000e+00         NA 0.000000e+00 0.000000e+00   \n",
       "attraktiv       0.000000e+00 0.00000000           NA 0.000000e+00   \n",
       "verstaendnislos 0.000000e+00 0.00000000 0.000000e+00           NA   \n",
       "unentschieden   3.729368e-08 0.00000000 5.132774e-10 6.661338e-16   \n",
       "unaufdringlich  4.440892e-16 0.01134659 8.585796e-07 0.000000e+00   \n",
       "                unentschieden unaufdringlich distanziert  gelangweilt\n",
       "unsympatisch    3.729368e-08  4.440892e-16   0.000000e+00 0.000000000\n",
       "sicher          0.000000e+00  1.134659e-02   1.989453e-09 0.000000000\n",
       "attraktiv       5.132774e-10  8.585796e-07   0.000000e+00 0.000000000\n",
       "verstaendnislos 6.661338e-16  0.000000e+00   0.000000e+00 0.000000000\n",
       "unentschieden             NA  2.861063e-02   1.002144e-03 0.000000000\n",
       "unaufdringlich  2.861063e-02            NA   3.230138e-04 0.001472286\n",
       "                emotional    nicht.genervt ... freundlich   maennlich   \n",
       "unsympatisch    0.000000e+00 0.000000e+00  ... 0.000000e+00 1.683731e-03\n",
       "sicher          6.009907e-03 1.411268e-09  ... 0.000000e+00 0.000000e+00\n",
       "attraktiv       0.000000e+00 0.000000e+00  ... 0.000000e+00 2.391826e-05\n",
       "verstaendnislos 0.000000e+00 0.000000e+00  ... 0.000000e+00 8.349259e-08\n",
       "unentschieden   7.990285e-01 1.276752e-08  ... 1.405542e-13 0.000000e+00\n",
       "unaufdringlich  6.368832e-06 0.000000e+00  ... 0.000000e+00 0.000000e+00\n",
       "                gehorsam     gleichgueltig interessant  zynisch     \n",
       "unsympatisch    1.626422e-06 0.000000e+00  0.000000e+00 1.431402e-07\n",
       "sicher          0.000000e+00 1.310063e-14  0.000000e+00 2.498002e-13\n",
       "attraktiv       1.617538e-01 0.000000e+00  0.000000e+00 8.866997e-01\n",
       "verstaendnislos 3.862688e-12 0.000000e+00  0.000000e+00 8.881784e-16\n",
       "unentschieden   1.484191e-08 5.639933e-13  8.659740e-15 5.317311e-05\n",
       "unaufdringlich  0.000000e+00 4.780395e-01  1.166395e-02 0.000000e+00\n",
       "                aufgesetzt   intelligent  kindlich     bescheiden  \n",
       "unsympatisch    0.000000e+00 0.000000e+00 1.403809e-06 0.0000000000\n",
       "sicher          3.602889e-10 0.000000e+00 0.000000e+00 0.0017030308\n",
       "attraktiv       3.816947e-13 0.000000e+00 8.243352e-09 0.0008619528\n",
       "verstaendnislos 2.398082e-14 0.000000e+00 7.329725e-05 0.0000000000\n",
       "unentschieden   2.315920e-05 0.000000e+00 0.000000e+00 0.0238787027\n",
       "unaufdringlich  0.000000e+00 4.440892e-16 6.632936e-08 0.0000000000"
      ]
     },
     "metadata": {},
     "output_type": "display_data"
    },
    {
     "data": {
      "text/html": [
       "'p value matrix of variables in female data set:'"
      ],
      "text/latex": [
       "'p value matrix of variables in female data set:'"
      ],
      "text/markdown": [
       "'p value matrix of variables in female data set:'"
      ],
      "text/plain": [
       "[1] \"p value matrix of variables in female data set:\""
      ]
     },
     "metadata": {},
     "output_type": "display_data"
    },
    {
     "data": {
      "text/html": [
       "<table>\n",
       "<thead><tr><th></th><th scope=col>unsympatisch</th><th scope=col>sicher</th><th scope=col>attraktiv</th><th scope=col>verstaendnislos</th><th scope=col>unentschieden</th><th scope=col>unaufdringlich</th><th scope=col>distanziert</th><th scope=col>gelangweilt</th><th scope=col>emotional</th><th scope=col>nicht.genervt</th><th scope=col>...</th><th scope=col>freundlich</th><th scope=col>maennlich</th><th scope=col>gehorsam</th><th scope=col>gleichgueltig</th><th scope=col>interessant</th><th scope=col>zynisch</th><th scope=col>aufgesetzt</th><th scope=col>intelligent</th><th scope=col>kindlich</th><th scope=col>bescheiden</th></tr></thead>\n",
       "<tbody>\n",
       "\t<tr><th scope=row>unsympatisch</th><td>          NA</td><td>9.081180e-12</td><td>0.000000e+00</td><td>0.000000e+00</td><td>1.188604e-08</td><td>0.000000e+00</td><td>0.000000e+00</td><td>0.000000000 </td><td>0.000000e+00</td><td>0.000000e+00</td><td>...         </td><td>0.000000e+00</td><td>6.204415e-11</td><td>4.440892e-16</td><td>0.0000000   </td><td>0.000000e+00</td><td>0.000000e+00</td><td>0.000000e+00</td><td>0           </td><td>0.03287391  </td><td>0.000000e+00</td></tr>\n",
       "\t<tr><th scope=row>sicher</th><td>9.081180e-12</td><td>          NA</td><td>0.000000e+00</td><td>3.407186e-11</td><td>0.000000e+00</td><td>3.227831e-05</td><td>5.810349e-08</td><td>0.000000000 </td><td>5.417910e-07</td><td>3.730925e-06</td><td>...         </td><td>3.945667e-08</td><td>1.507324e-04</td><td>0.000000e+00</td><td>0.0000000   </td><td>0.000000e+00</td><td>0.000000e+00</td><td>1.383467e-09</td><td>0           </td><td>0.00000000  </td><td>0.000000e+00</td></tr>\n",
       "\t<tr><th scope=row>attraktiv</th><td>0.000000e+00</td><td>0.000000e+00</td><td>          NA</td><td>0.000000e+00</td><td>4.404646e-10</td><td>0.000000e+00</td><td>0.000000e+00</td><td>0.000000000 </td><td>0.000000e+00</td><td>0.000000e+00</td><td>...         </td><td>0.000000e+00</td><td>4.440892e-15</td><td>7.602943e-07</td><td>0.0000000   </td><td>0.000000e+00</td><td>4.987566e-12</td><td>0.000000e+00</td><td>0           </td><td>0.55215118  </td><td>2.011618e-08</td></tr>\n",
       "\t<tr><th scope=row>verstaendnislos</th><td>0.000000e+00</td><td>3.407186e-11</td><td>0.000000e+00</td><td>          NA</td><td>6.932233e-13</td><td>0.000000e+00</td><td>0.000000e+00</td><td>0.000000000 </td><td>0.000000e+00</td><td>0.000000e+00</td><td>...         </td><td>0.000000e+00</td><td>0.000000e+00</td><td>0.000000e+00</td><td>0.0000000   </td><td>0.000000e+00</td><td>0.000000e+00</td><td>0.000000e+00</td><td>0           </td><td>0.42728014  </td><td>0.000000e+00</td></tr>\n",
       "\t<tr><th scope=row>unentschieden</th><td>1.188604e-08</td><td>0.000000e+00</td><td>4.404646e-10</td><td>6.932233e-13</td><td>          NA</td><td>8.876081e-04</td><td>8.192236e-04</td><td>0.000000000 </td><td>3.078305e-02</td><td>1.556542e-06</td><td>...         </td><td>5.354779e-09</td><td>7.863737e-08</td><td>0.000000e+00</td><td>0.0000000   </td><td>0.000000e+00</td><td>9.414691e-14</td><td>2.336689e-08</td><td>0           </td><td>0.00000000  </td><td>5.839351e-07</td></tr>\n",
       "\t<tr><th scope=row>unaufdringlich</th><td>0.000000e+00</td><td>3.227831e-05</td><td>0.000000e+00</td><td>0.000000e+00</td><td>8.876081e-04</td><td>          NA</td><td>3.220686e-10</td><td>0.006509998 </td><td>1.529543e-01</td><td>0.000000e+00</td><td>...         </td><td>0.000000e+00</td><td>9.391932e-10</td><td>0.000000e+00</td><td>0.8646457   </td><td>8.723708e-05</td><td>0.000000e+00</td><td>0.000000e+00</td><td>0           </td><td>0.97217889  </td><td>0.000000e+00</td></tr>\n",
       "</tbody>\n",
       "</table>\n"
      ],
      "text/latex": [
       "\\begin{tabular}{r|llllllllllllllllllllllllllllllllll}\n",
       "  & unsympatisch & sicher & attraktiv & verstaendnislos & unentschieden & unaufdringlich & distanziert & gelangweilt & emotional & nicht.genervt & ... & freundlich & maennlich & gehorsam & gleichgueltig & interessant & zynisch & aufgesetzt & intelligent & kindlich & bescheiden\\\\\n",
       "\\hline\n",
       "\tunsympatisch &           NA & 9.081180e-12 & 0.000000e+00 & 0.000000e+00 & 1.188604e-08 & 0.000000e+00 & 0.000000e+00 & 0.000000000  & 0.000000e+00 & 0.000000e+00 & ...          & 0.000000e+00 & 6.204415e-11 & 4.440892e-16 & 0.0000000    & 0.000000e+00 & 0.000000e+00 & 0.000000e+00 & 0            & 0.03287391   & 0.000000e+00\\\\\n",
       "\tsicher & 9.081180e-12 &           NA & 0.000000e+00 & 3.407186e-11 & 0.000000e+00 & 3.227831e-05 & 5.810349e-08 & 0.000000000  & 5.417910e-07 & 3.730925e-06 & ...          & 3.945667e-08 & 1.507324e-04 & 0.000000e+00 & 0.0000000    & 0.000000e+00 & 0.000000e+00 & 1.383467e-09 & 0            & 0.00000000   & 0.000000e+00\\\\\n",
       "\tattraktiv & 0.000000e+00 & 0.000000e+00 &           NA & 0.000000e+00 & 4.404646e-10 & 0.000000e+00 & 0.000000e+00 & 0.000000000  & 0.000000e+00 & 0.000000e+00 & ...          & 0.000000e+00 & 4.440892e-15 & 7.602943e-07 & 0.0000000    & 0.000000e+00 & 4.987566e-12 & 0.000000e+00 & 0            & 0.55215118   & 2.011618e-08\\\\\n",
       "\tverstaendnislos & 0.000000e+00 & 3.407186e-11 & 0.000000e+00 &           NA & 6.932233e-13 & 0.000000e+00 & 0.000000e+00 & 0.000000000  & 0.000000e+00 & 0.000000e+00 & ...          & 0.000000e+00 & 0.000000e+00 & 0.000000e+00 & 0.0000000    & 0.000000e+00 & 0.000000e+00 & 0.000000e+00 & 0            & 0.42728014   & 0.000000e+00\\\\\n",
       "\tunentschieden & 1.188604e-08 & 0.000000e+00 & 4.404646e-10 & 6.932233e-13 &           NA & 8.876081e-04 & 8.192236e-04 & 0.000000000  & 3.078305e-02 & 1.556542e-06 & ...          & 5.354779e-09 & 7.863737e-08 & 0.000000e+00 & 0.0000000    & 0.000000e+00 & 9.414691e-14 & 2.336689e-08 & 0            & 0.00000000   & 5.839351e-07\\\\\n",
       "\tunaufdringlich & 0.000000e+00 & 3.227831e-05 & 0.000000e+00 & 0.000000e+00 & 8.876081e-04 &           NA & 3.220686e-10 & 0.006509998  & 1.529543e-01 & 0.000000e+00 & ...          & 0.000000e+00 & 9.391932e-10 & 0.000000e+00 & 0.8646457    & 8.723708e-05 & 0.000000e+00 & 0.000000e+00 & 0            & 0.97217889   & 0.000000e+00\\\\\n",
       "\\end{tabular}\n"
      ],
      "text/markdown": [
       "\n",
       "| <!--/--> | unsympatisch | sicher | attraktiv | verstaendnislos | unentschieden | unaufdringlich | distanziert | gelangweilt | emotional | nicht.genervt | ... | freundlich | maennlich | gehorsam | gleichgueltig | interessant | zynisch | aufgesetzt | intelligent | kindlich | bescheiden |\n",
       "|---|---|---|---|---|---|---|---|---|---|---|---|---|---|---|---|---|---|---|---|---|---|\n",
       "| unsympatisch |           NA | 9.081180e-12 | 0.000000e+00 | 0.000000e+00 | 1.188604e-08 | 0.000000e+00 | 0.000000e+00 | 0.000000000  | 0.000000e+00 | 0.000000e+00 | ...          | 0.000000e+00 | 6.204415e-11 | 4.440892e-16 | 0.0000000    | 0.000000e+00 | 0.000000e+00 | 0.000000e+00 | 0            | 0.03287391   | 0.000000e+00 |\n",
       "| sicher | 9.081180e-12 |           NA | 0.000000e+00 | 3.407186e-11 | 0.000000e+00 | 3.227831e-05 | 5.810349e-08 | 0.000000000  | 5.417910e-07 | 3.730925e-06 | ...          | 3.945667e-08 | 1.507324e-04 | 0.000000e+00 | 0.0000000    | 0.000000e+00 | 0.000000e+00 | 1.383467e-09 | 0            | 0.00000000   | 0.000000e+00 |\n",
       "| attraktiv | 0.000000e+00 | 0.000000e+00 |           NA | 0.000000e+00 | 4.404646e-10 | 0.000000e+00 | 0.000000e+00 | 0.000000000  | 0.000000e+00 | 0.000000e+00 | ...          | 0.000000e+00 | 4.440892e-15 | 7.602943e-07 | 0.0000000    | 0.000000e+00 | 4.987566e-12 | 0.000000e+00 | 0            | 0.55215118   | 2.011618e-08 |\n",
       "| verstaendnislos | 0.000000e+00 | 3.407186e-11 | 0.000000e+00 |           NA | 6.932233e-13 | 0.000000e+00 | 0.000000e+00 | 0.000000000  | 0.000000e+00 | 0.000000e+00 | ...          | 0.000000e+00 | 0.000000e+00 | 0.000000e+00 | 0.0000000    | 0.000000e+00 | 0.000000e+00 | 0.000000e+00 | 0            | 0.42728014   | 0.000000e+00 |\n",
       "| unentschieden | 1.188604e-08 | 0.000000e+00 | 4.404646e-10 | 6.932233e-13 |           NA | 8.876081e-04 | 8.192236e-04 | 0.000000000  | 3.078305e-02 | 1.556542e-06 | ...          | 5.354779e-09 | 7.863737e-08 | 0.000000e+00 | 0.0000000    | 0.000000e+00 | 9.414691e-14 | 2.336689e-08 | 0            | 0.00000000   | 5.839351e-07 |\n",
       "| unaufdringlich | 0.000000e+00 | 3.227831e-05 | 0.000000e+00 | 0.000000e+00 | 8.876081e-04 |           NA | 3.220686e-10 | 0.006509998  | 1.529543e-01 | 0.000000e+00 | ...          | 0.000000e+00 | 9.391932e-10 | 0.000000e+00 | 0.8646457    | 8.723708e-05 | 0.000000e+00 | 0.000000e+00 | 0            | 0.97217889   | 0.000000e+00 |\n",
       "\n"
      ],
      "text/plain": [
       "                unsympatisch sicher       attraktiv    verstaendnislos\n",
       "unsympatisch              NA 9.081180e-12 0.000000e+00 0.000000e+00   \n",
       "sicher          9.081180e-12           NA 0.000000e+00 3.407186e-11   \n",
       "attraktiv       0.000000e+00 0.000000e+00           NA 0.000000e+00   \n",
       "verstaendnislos 0.000000e+00 3.407186e-11 0.000000e+00           NA   \n",
       "unentschieden   1.188604e-08 0.000000e+00 4.404646e-10 6.932233e-13   \n",
       "unaufdringlich  0.000000e+00 3.227831e-05 0.000000e+00 0.000000e+00   \n",
       "                unentschieden unaufdringlich distanziert  gelangweilt\n",
       "unsympatisch    1.188604e-08  0.000000e+00   0.000000e+00 0.000000000\n",
       "sicher          0.000000e+00  3.227831e-05   5.810349e-08 0.000000000\n",
       "attraktiv       4.404646e-10  0.000000e+00   0.000000e+00 0.000000000\n",
       "verstaendnislos 6.932233e-13  0.000000e+00   0.000000e+00 0.000000000\n",
       "unentschieden             NA  8.876081e-04   8.192236e-04 0.000000000\n",
       "unaufdringlich  8.876081e-04            NA   3.220686e-10 0.006509998\n",
       "                emotional    nicht.genervt ... freundlich   maennlich   \n",
       "unsympatisch    0.000000e+00 0.000000e+00  ... 0.000000e+00 6.204415e-11\n",
       "sicher          5.417910e-07 3.730925e-06  ... 3.945667e-08 1.507324e-04\n",
       "attraktiv       0.000000e+00 0.000000e+00  ... 0.000000e+00 4.440892e-15\n",
       "verstaendnislos 0.000000e+00 0.000000e+00  ... 0.000000e+00 0.000000e+00\n",
       "unentschieden   3.078305e-02 1.556542e-06  ... 5.354779e-09 7.863737e-08\n",
       "unaufdringlich  1.529543e-01 0.000000e+00  ... 0.000000e+00 9.391932e-10\n",
       "                gehorsam     gleichgueltig interessant  zynisch     \n",
       "unsympatisch    4.440892e-16 0.0000000     0.000000e+00 0.000000e+00\n",
       "sicher          0.000000e+00 0.0000000     0.000000e+00 0.000000e+00\n",
       "attraktiv       7.602943e-07 0.0000000     0.000000e+00 4.987566e-12\n",
       "verstaendnislos 0.000000e+00 0.0000000     0.000000e+00 0.000000e+00\n",
       "unentschieden   0.000000e+00 0.0000000     0.000000e+00 9.414691e-14\n",
       "unaufdringlich  0.000000e+00 0.8646457     8.723708e-05 0.000000e+00\n",
       "                aufgesetzt   intelligent kindlich   bescheiden  \n",
       "unsympatisch    0.000000e+00 0           0.03287391 0.000000e+00\n",
       "sicher          1.383467e-09 0           0.00000000 0.000000e+00\n",
       "attraktiv       0.000000e+00 0           0.55215118 2.011618e-08\n",
       "verstaendnislos 0.000000e+00 0           0.42728014 0.000000e+00\n",
       "unentschieden   2.336689e-08 0           0.00000000 5.839351e-07\n",
       "unaufdringlich  0.000000e+00 0           0.97217889 0.000000e+00"
      ]
     },
     "metadata": {},
     "output_type": "display_data"
    }
   ],
   "source": [
    "# pro forma: display p values of variables in each data set\n",
    "paste0('p value matrix of variables in male data set:')\n",
    "head(as.data.frame(corr_data_spearman_male$P))\n",
    "paste0('p value matrix of variables in female data set:')\n",
    "head(as.data.frame(corr_data_spearman_female$P))"
   ]
  },
  {
   "cell_type": "code",
   "execution_count": 7,
   "metadata": {},
   "outputs": [
    {
     "data": {
      "text/html": [
       "'Correlation matrix of variables in male data set:'"
      ],
      "text/latex": [
       "'Correlation matrix of variables in male data set:'"
      ],
      "text/markdown": [
       "'Correlation matrix of variables in male data set:'"
      ],
      "text/plain": [
       "[1] \"Correlation matrix of variables in male data set:\""
      ]
     },
     "metadata": {},
     "output_type": "display_data"
    },
    {
     "data": {
      "text/html": [
       "<table>\n",
       "<thead><tr><th></th><th scope=col>unsympatisch</th><th scope=col>sicher</th><th scope=col>attraktiv</th><th scope=col>verstaendnislos</th><th scope=col>unentschieden</th><th scope=col>unaufdringlich</th><th scope=col>distanziert</th><th scope=col>gelangweilt</th><th scope=col>emotional</th><th scope=col>nicht.genervt</th><th scope=col>...</th><th scope=col>freundlich</th><th scope=col>maennlich</th><th scope=col>gehorsam</th><th scope=col>gleichgueltig</th><th scope=col>interessant</th><th scope=col>zynisch</th><th scope=col>aufgesetzt</th><th scope=col>intelligent</th><th scope=col>kindlich</th><th scope=col>bescheiden</th></tr></thead>\n",
       "<tbody>\n",
       "\t<tr><th scope=row>unsympatisch</th><td> 1.0000000  </td><td>-0.2002845  </td><td>-0.5098104  </td><td> 0.4953527  </td><td> 0.12673064 </td><td>-0.18580611 </td><td> 0.53257233 </td><td> 0.37746937 </td><td>-0.301882665</td><td>-0.3819654  </td><td>...         </td><td>-0.5305294  </td><td>-0.07252978 </td><td>-0.11052998 </td><td> 0.31181314 </td><td>-0.43875951 </td><td> 0.121198947</td><td> 0.22729222 </td><td>-0.3811620  </td><td> 0.1112040  </td><td>-0.20527001 </td></tr>\n",
       "\t<tr><th scope=row>sicher</th><td>-0.2002845  </td><td> 1.0000000  </td><td> 0.2817732  </td><td>-0.2001716  </td><td>-0.67046241 </td><td> 0.05849050 </td><td>-0.13803536 </td><td>-0.25731398 </td><td> 0.063457044</td><td> 0.1393006  </td><td>...         </td><td> 0.2171888  </td><td> 0.23398241 </td><td>-0.20146979 </td><td>-0.17673795 </td><td> 0.28106207 </td><td> 0.168024040</td><td>-0.14422253 </td><td> 0.3903626  </td><td>-0.3168505  </td><td>-0.07245287 </td></tr>\n",
       "\t<tr><th scope=row>attraktiv</th><td>-0.5098104  </td><td> 0.2817732  </td><td> 1.0000000  </td><td>-0.2483587  </td><td>-0.14296289 </td><td> 0.11342773 </td><td>-0.33971418 </td><td>-0.32292475 </td><td> 0.325125352</td><td> 0.2602324  </td><td>...         </td><td> 0.3332927  </td><td> 0.09745165 </td><td>-0.03234346 </td><td>-0.27302838 </td><td> 0.55374257 </td><td> 0.003294415</td><td>-0.16673111 </td><td> 0.4472319  </td><td>-0.1326707  </td><td> 0.07692972 </td></tr>\n",
       "\t<tr><th scope=row>verstaendnislos</th><td> 0.4953527  </td><td>-0.2001716  </td><td>-0.2483587  </td><td> 1.0000000  </td><td> 0.18533115 </td><td>-0.23247640 </td><td> 0.45685360 </td><td> 0.43597805 </td><td>-0.258304831</td><td>-0.4333352  </td><td>...         </td><td>-0.5603803  </td><td>-0.12344491 </td><td>-0.15948567 </td><td> 0.34727962 </td><td>-0.29640819 </td><td> 0.184646549</td><td> 0.17498625 </td><td>-0.3113973  </td><td> 0.0914929  </td><td>-0.24837718 </td></tr>\n",
       "\t<tr><th scope=row>unentschieden</th><td> 0.1267306  </td><td>-0.6704624  </td><td>-0.1429629  </td><td> 0.1853311  </td><td> 1.00000000 </td><td>-0.05057679 </td><td> 0.07595896 </td><td> 0.23335676 </td><td>-0.005886858</td><td>-0.1309762  </td><td>...         </td><td>-0.1697616  </td><td>-0.21288776 </td><td> 0.13038804 </td><td> 0.16553238 </td><td>-0.17792378 </td><td>-0.093236650</td><td> 0.09761825 </td><td>-0.3388327  </td><td> 0.2471988  </td><td> 0.05219822 </td></tr>\n",
       "\t<tr><th scope=row>unaufdringlich</th><td>-0.1858061  </td><td> 0.0584905  </td><td> 0.1134277  </td><td>-0.2324764  </td><td>-0.05057679 </td><td> 1.00000000 </td><td>-0.08300488 </td><td>-0.07343007 </td><td>-0.104082567</td><td> 0.2943672  </td><td>...         </td><td> 0.3270618  </td><td> 0.20541276 </td><td> 0.33700107 </td><td>-0.01640285 </td><td> 0.05826706 </td><td>-0.319370608</td><td>-0.29538728 </td><td> 0.1859880  </td><td>-0.1243917  </td><td> 0.35114096 </td></tr>\n",
       "</tbody>\n",
       "</table>\n"
      ],
      "text/latex": [
       "\\begin{tabular}{r|llllllllllllllllllllllllllllllllll}\n",
       "  & unsympatisch & sicher & attraktiv & verstaendnislos & unentschieden & unaufdringlich & distanziert & gelangweilt & emotional & nicht.genervt & ... & freundlich & maennlich & gehorsam & gleichgueltig & interessant & zynisch & aufgesetzt & intelligent & kindlich & bescheiden\\\\\n",
       "\\hline\n",
       "\tunsympatisch &  1.0000000   & -0.2002845   & -0.5098104   &  0.4953527   &  0.12673064  & -0.18580611  &  0.53257233  &  0.37746937  & -0.301882665 & -0.3819654   & ...          & -0.5305294   & -0.07252978  & -0.11052998  &  0.31181314  & -0.43875951  &  0.121198947 &  0.22729222  & -0.3811620   &  0.1112040   & -0.20527001 \\\\\n",
       "\tsicher & -0.2002845   &  1.0000000   &  0.2817732   & -0.2001716   & -0.67046241  &  0.05849050  & -0.13803536  & -0.25731398  &  0.063457044 &  0.1393006   & ...          &  0.2171888   &  0.23398241  & -0.20146979  & -0.17673795  &  0.28106207  &  0.168024040 & -0.14422253  &  0.3903626   & -0.3168505   & -0.07245287 \\\\\n",
       "\tattraktiv & -0.5098104   &  0.2817732   &  1.0000000   & -0.2483587   & -0.14296289  &  0.11342773  & -0.33971418  & -0.32292475  &  0.325125352 &  0.2602324   & ...          &  0.3332927   &  0.09745165  & -0.03234346  & -0.27302838  &  0.55374257  &  0.003294415 & -0.16673111  &  0.4472319   & -0.1326707   &  0.07692972 \\\\\n",
       "\tverstaendnislos &  0.4953527   & -0.2001716   & -0.2483587   &  1.0000000   &  0.18533115  & -0.23247640  &  0.45685360  &  0.43597805  & -0.258304831 & -0.4333352   & ...          & -0.5603803   & -0.12344491  & -0.15948567  &  0.34727962  & -0.29640819  &  0.184646549 &  0.17498625  & -0.3113973   &  0.0914929   & -0.24837718 \\\\\n",
       "\tunentschieden &  0.1267306   & -0.6704624   & -0.1429629   &  0.1853311   &  1.00000000  & -0.05057679  &  0.07595896  &  0.23335676  & -0.005886858 & -0.1309762   & ...          & -0.1697616   & -0.21288776  &  0.13038804  &  0.16553238  & -0.17792378  & -0.093236650 &  0.09761825  & -0.3388327   &  0.2471988   &  0.05219822 \\\\\n",
       "\tunaufdringlich & -0.1858061   &  0.0584905   &  0.1134277   & -0.2324764   & -0.05057679  &  1.00000000  & -0.08300488  & -0.07343007  & -0.104082567 &  0.2943672   & ...          &  0.3270618   &  0.20541276  &  0.33700107  & -0.01640285  &  0.05826706  & -0.319370608 & -0.29538728  &  0.1859880   & -0.1243917   &  0.35114096 \\\\\n",
       "\\end{tabular}\n"
      ],
      "text/markdown": [
       "\n",
       "| <!--/--> | unsympatisch | sicher | attraktiv | verstaendnislos | unentschieden | unaufdringlich | distanziert | gelangweilt | emotional | nicht.genervt | ... | freundlich | maennlich | gehorsam | gleichgueltig | interessant | zynisch | aufgesetzt | intelligent | kindlich | bescheiden |\n",
       "|---|---|---|---|---|---|---|---|---|---|---|---|---|---|---|---|---|---|---|---|---|---|\n",
       "| unsympatisch |  1.0000000   | -0.2002845   | -0.5098104   |  0.4953527   |  0.12673064  | -0.18580611  |  0.53257233  |  0.37746937  | -0.301882665 | -0.3819654   | ...          | -0.5305294   | -0.07252978  | -0.11052998  |  0.31181314  | -0.43875951  |  0.121198947 |  0.22729222  | -0.3811620   |  0.1112040   | -0.20527001  |\n",
       "| sicher | -0.2002845   |  1.0000000   |  0.2817732   | -0.2001716   | -0.67046241  |  0.05849050  | -0.13803536  | -0.25731398  |  0.063457044 |  0.1393006   | ...          |  0.2171888   |  0.23398241  | -0.20146979  | -0.17673795  |  0.28106207  |  0.168024040 | -0.14422253  |  0.3903626   | -0.3168505   | -0.07245287  |\n",
       "| attraktiv | -0.5098104   |  0.2817732   |  1.0000000   | -0.2483587   | -0.14296289  |  0.11342773  | -0.33971418  | -0.32292475  |  0.325125352 |  0.2602324   | ...          |  0.3332927   |  0.09745165  | -0.03234346  | -0.27302838  |  0.55374257  |  0.003294415 | -0.16673111  |  0.4472319   | -0.1326707   |  0.07692972  |\n",
       "| verstaendnislos |  0.4953527   | -0.2001716   | -0.2483587   |  1.0000000   |  0.18533115  | -0.23247640  |  0.45685360  |  0.43597805  | -0.258304831 | -0.4333352   | ...          | -0.5603803   | -0.12344491  | -0.15948567  |  0.34727962  | -0.29640819  |  0.184646549 |  0.17498625  | -0.3113973   |  0.0914929   | -0.24837718  |\n",
       "| unentschieden |  0.1267306   | -0.6704624   | -0.1429629   |  0.1853311   |  1.00000000  | -0.05057679  |  0.07595896  |  0.23335676  | -0.005886858 | -0.1309762   | ...          | -0.1697616   | -0.21288776  |  0.13038804  |  0.16553238  | -0.17792378  | -0.093236650 |  0.09761825  | -0.3388327   |  0.2471988   |  0.05219822  |\n",
       "| unaufdringlich | -0.1858061   |  0.0584905   |  0.1134277   | -0.2324764   | -0.05057679  |  1.00000000  | -0.08300488  | -0.07343007  | -0.104082567 |  0.2943672   | ...          |  0.3270618   |  0.20541276  |  0.33700107  | -0.01640285  |  0.05826706  | -0.319370608 | -0.29538728  |  0.1859880   | -0.1243917   |  0.35114096  |\n",
       "\n"
      ],
      "text/plain": [
       "                unsympatisch sicher     attraktiv  verstaendnislos\n",
       "unsympatisch     1.0000000   -0.2002845 -0.5098104  0.4953527     \n",
       "sicher          -0.2002845    1.0000000  0.2817732 -0.2001716     \n",
       "attraktiv       -0.5098104    0.2817732  1.0000000 -0.2483587     \n",
       "verstaendnislos  0.4953527   -0.2001716 -0.2483587  1.0000000     \n",
       "unentschieden    0.1267306   -0.6704624 -0.1429629  0.1853311     \n",
       "unaufdringlich  -0.1858061    0.0584905  0.1134277 -0.2324764     \n",
       "                unentschieden unaufdringlich distanziert gelangweilt\n",
       "unsympatisch     0.12673064   -0.18580611     0.53257233  0.37746937\n",
       "sicher          -0.67046241    0.05849050    -0.13803536 -0.25731398\n",
       "attraktiv       -0.14296289    0.11342773    -0.33971418 -0.32292475\n",
       "verstaendnislos  0.18533115   -0.23247640     0.45685360  0.43597805\n",
       "unentschieden    1.00000000   -0.05057679     0.07595896  0.23335676\n",
       "unaufdringlich  -0.05057679    1.00000000    -0.08300488 -0.07343007\n",
       "                emotional    nicht.genervt ... freundlich maennlich  \n",
       "unsympatisch    -0.301882665 -0.3819654    ... -0.5305294 -0.07252978\n",
       "sicher           0.063457044  0.1393006    ...  0.2171888  0.23398241\n",
       "attraktiv        0.325125352  0.2602324    ...  0.3332927  0.09745165\n",
       "verstaendnislos -0.258304831 -0.4333352    ... -0.5603803 -0.12344491\n",
       "unentschieden   -0.005886858 -0.1309762    ... -0.1697616 -0.21288776\n",
       "unaufdringlich  -0.104082567  0.2943672    ...  0.3270618  0.20541276\n",
       "                gehorsam    gleichgueltig interessant zynisch      aufgesetzt \n",
       "unsympatisch    -0.11052998  0.31181314   -0.43875951  0.121198947  0.22729222\n",
       "sicher          -0.20146979 -0.17673795    0.28106207  0.168024040 -0.14422253\n",
       "attraktiv       -0.03234346 -0.27302838    0.55374257  0.003294415 -0.16673111\n",
       "verstaendnislos -0.15948567  0.34727962   -0.29640819  0.184646549  0.17498625\n",
       "unentschieden    0.13038804  0.16553238   -0.17792378 -0.093236650  0.09761825\n",
       "unaufdringlich   0.33700107 -0.01640285    0.05826706 -0.319370608 -0.29538728\n",
       "                intelligent kindlich   bescheiden \n",
       "unsympatisch    -0.3811620   0.1112040 -0.20527001\n",
       "sicher           0.3903626  -0.3168505 -0.07245287\n",
       "attraktiv        0.4472319  -0.1326707  0.07692972\n",
       "verstaendnislos -0.3113973   0.0914929 -0.24837718\n",
       "unentschieden   -0.3388327   0.2471988  0.05219822\n",
       "unaufdringlich   0.1859880  -0.1243917  0.35114096"
      ]
     },
     "metadata": {},
     "output_type": "display_data"
    },
    {
     "data": {
      "text/html": [
       "'Correlation matrix of variables in female data set:'"
      ],
      "text/latex": [
       "'Correlation matrix of variables in female data set:'"
      ],
      "text/markdown": [
       "'Correlation matrix of variables in female data set:'"
      ],
      "text/plain": [
       "[1] \"Correlation matrix of variables in female data set:\""
      ]
     },
     "metadata": {},
     "output_type": "display_data"
    },
    {
     "data": {
      "text/html": [
       "<table>\n",
       "<thead><tr><th></th><th scope=col>unsympatisch</th><th scope=col>sicher</th><th scope=col>attraktiv</th><th scope=col>verstaendnislos</th><th scope=col>unentschieden</th><th scope=col>unaufdringlich</th><th scope=col>distanziert</th><th scope=col>gelangweilt</th><th scope=col>emotional</th><th scope=col>nicht.genervt</th><th scope=col>...</th><th scope=col>freundlich</th><th scope=col>maennlich</th><th scope=col>gehorsam</th><th scope=col>gleichgueltig</th><th scope=col>interessant</th><th scope=col>zynisch</th><th scope=col>aufgesetzt</th><th scope=col>intelligent</th><th scope=col>kindlich</th><th scope=col>bescheiden</th></tr></thead>\n",
       "<tbody>\n",
       "\t<tr><th scope=row>unsympatisch</th><td> 1.0000000  </td><td>-0.13207176 </td><td>-0.5720792  </td><td> 0.5306979  </td><td> 0.11054892 </td><td>-0.25272792 </td><td> 0.53037412 </td><td> 0.39407557 </td><td>-0.35471770 </td><td>-0.43738161 </td><td>...         </td><td>-0.5648421  </td><td> 0.12666305 </td><td>-0.15654415 </td><td> 0.343776834</td><td>-0.46996226 </td><td> 0.1986704  </td><td> 0.2902556  </td><td>-0.3763863  </td><td>-0.041480162</td><td>-0.2183574  </td></tr>\n",
       "\t<tr><th scope=row>sicher</th><td>-0.1320718  </td><td> 1.00000000 </td><td> 0.2071228  </td><td>-0.1283743  </td><td>-0.64299393 </td><td>-0.08071545 </td><td>-0.10521215 </td><td>-0.23059682 </td><td> 0.09722874 </td><td> 0.08978880 </td><td>...         </td><td> 0.1065376  </td><td>-0.07361118 </td><td>-0.26790394 </td><td>-0.173891326</td><td> 0.26836218 </td><td> 0.1915892  </td><td>-0.1174061  </td><td> 0.3578242  </td><td>-0.319706800</td><td>-0.1830216  </td></tr>\n",
       "\t<tr><th scope=row>attraktiv</th><td>-0.5720792  </td><td> 0.20712283 </td><td> 1.0000000  </td><td>-0.3751544  </td><td>-0.12090002 </td><td> 0.20493747 </td><td>-0.42411363 </td><td>-0.39785632 </td><td> 0.39859069 </td><td> 0.33564540 </td><td>...         </td><td> 0.4962961  </td><td>-0.15156964 </td><td> 0.09596186 </td><td>-0.341722423</td><td> 0.56917890 </td><td>-0.1337139  </td><td>-0.2266493  </td><td> 0.4807281  </td><td> 0.011563164</td><td> 0.1088075  </td></tr>\n",
       "\t<tr><th scope=row>verstaendnislos</th><td> 0.5306979  </td><td>-0.12837435 </td><td>-0.3751544  </td><td> 1.0000000  </td><td> 0.13898421 </td><td>-0.26318913 </td><td> 0.44531728 </td><td> 0.39415353 </td><td>-0.27197043 </td><td>-0.45886630 </td><td>...         </td><td>-0.5376145  </td><td> 0.16802733 </td><td>-0.17592235 </td><td> 0.332692786</td><td>-0.33051210 </td><td> 0.2588915  </td><td> 0.2542449  </td><td>-0.3195304  </td><td> 0.015439221</td><td>-0.2616089  </td></tr>\n",
       "\t<tr><th scope=row>unentschieden</th><td> 0.1105489  </td><td>-0.64299393 </td><td>-0.1209000  </td><td> 0.1389842  </td><td> 1.00000000 </td><td> 0.06458142 </td><td> 0.06501367 </td><td> 0.24919536 </td><td>-0.04198997 </td><td>-0.09322908 </td><td>...         </td><td>-0.1131384  </td><td> 0.10416446 </td><td> 0.20157295 </td><td> 0.195918313</td><td>-0.21404683 </td><td>-0.1441240  </td><td> 0.1083067  </td><td>-0.3053471  </td><td> 0.271800578</td><td> 0.0969500  </td></tr>\n",
       "\t<tr><th scope=row>unaufdringlich</th><td>-0.2527279  </td><td>-0.08071545 </td><td> 0.2049375  </td><td>-0.2631891  </td><td> 0.06458142 </td><td> 1.00000000 </td><td>-0.12183857 </td><td>-0.05288379 </td><td>-0.02779147 </td><td> 0.32111485 </td><td>...         </td><td> 0.3471530  </td><td>-0.11859981 </td><td> 0.45192338 </td><td> 0.003315434</td><td> 0.07620134 </td><td>-0.3959325  </td><td>-0.2841246  </td><td> 0.1811546  </td><td> 0.000678317</td><td> 0.4086074  </td></tr>\n",
       "</tbody>\n",
       "</table>\n"
      ],
      "text/latex": [
       "\\begin{tabular}{r|llllllllllllllllllllllllllllllllll}\n",
       "  & unsympatisch & sicher & attraktiv & verstaendnislos & unentschieden & unaufdringlich & distanziert & gelangweilt & emotional & nicht.genervt & ... & freundlich & maennlich & gehorsam & gleichgueltig & interessant & zynisch & aufgesetzt & intelligent & kindlich & bescheiden\\\\\n",
       "\\hline\n",
       "\tunsympatisch &  1.0000000   & -0.13207176  & -0.5720792   &  0.5306979   &  0.11054892  & -0.25272792  &  0.53037412  &  0.39407557  & -0.35471770  & -0.43738161  & ...          & -0.5648421   &  0.12666305  & -0.15654415  &  0.343776834 & -0.46996226  &  0.1986704   &  0.2902556   & -0.3763863   & -0.041480162 & -0.2183574  \\\\\n",
       "\tsicher & -0.1320718   &  1.00000000  &  0.2071228   & -0.1283743   & -0.64299393  & -0.08071545  & -0.10521215  & -0.23059682  &  0.09722874  &  0.08978880  & ...          &  0.1065376   & -0.07361118  & -0.26790394  & -0.173891326 &  0.26836218  &  0.1915892   & -0.1174061   &  0.3578242   & -0.319706800 & -0.1830216  \\\\\n",
       "\tattraktiv & -0.5720792   &  0.20712283  &  1.0000000   & -0.3751544   & -0.12090002  &  0.20493747  & -0.42411363  & -0.39785632  &  0.39859069  &  0.33564540  & ...          &  0.4962961   & -0.15156964  &  0.09596186  & -0.341722423 &  0.56917890  & -0.1337139   & -0.2266493   &  0.4807281   &  0.011563164 &  0.1088075  \\\\\n",
       "\tverstaendnislos &  0.5306979   & -0.12837435  & -0.3751544   &  1.0000000   &  0.13898421  & -0.26318913  &  0.44531728  &  0.39415353  & -0.27197043  & -0.45886630  & ...          & -0.5376145   &  0.16802733  & -0.17592235  &  0.332692786 & -0.33051210  &  0.2588915   &  0.2542449   & -0.3195304   &  0.015439221 & -0.2616089  \\\\\n",
       "\tunentschieden &  0.1105489   & -0.64299393  & -0.1209000   &  0.1389842   &  1.00000000  &  0.06458142  &  0.06501367  &  0.24919536  & -0.04198997  & -0.09322908  & ...          & -0.1131384   &  0.10416446  &  0.20157295  &  0.195918313 & -0.21404683  & -0.1441240   &  0.1083067   & -0.3053471   &  0.271800578 &  0.0969500  \\\\\n",
       "\tunaufdringlich & -0.2527279   & -0.08071545  &  0.2049375   & -0.2631891   &  0.06458142  &  1.00000000  & -0.12183857  & -0.05288379  & -0.02779147  &  0.32111485  & ...          &  0.3471530   & -0.11859981  &  0.45192338  &  0.003315434 &  0.07620134  & -0.3959325   & -0.2841246   &  0.1811546   &  0.000678317 &  0.4086074  \\\\\n",
       "\\end{tabular}\n"
      ],
      "text/markdown": [
       "\n",
       "| <!--/--> | unsympatisch | sicher | attraktiv | verstaendnislos | unentschieden | unaufdringlich | distanziert | gelangweilt | emotional | nicht.genervt | ... | freundlich | maennlich | gehorsam | gleichgueltig | interessant | zynisch | aufgesetzt | intelligent | kindlich | bescheiden |\n",
       "|---|---|---|---|---|---|---|---|---|---|---|---|---|---|---|---|---|---|---|---|---|---|\n",
       "| unsympatisch |  1.0000000   | -0.13207176  | -0.5720792   |  0.5306979   |  0.11054892  | -0.25272792  |  0.53037412  |  0.39407557  | -0.35471770  | -0.43738161  | ...          | -0.5648421   |  0.12666305  | -0.15654415  |  0.343776834 | -0.46996226  |  0.1986704   |  0.2902556   | -0.3763863   | -0.041480162 | -0.2183574   |\n",
       "| sicher | -0.1320718   |  1.00000000  |  0.2071228   | -0.1283743   | -0.64299393  | -0.08071545  | -0.10521215  | -0.23059682  |  0.09722874  |  0.08978880  | ...          |  0.1065376   | -0.07361118  | -0.26790394  | -0.173891326 |  0.26836218  |  0.1915892   | -0.1174061   |  0.3578242   | -0.319706800 | -0.1830216   |\n",
       "| attraktiv | -0.5720792   |  0.20712283  |  1.0000000   | -0.3751544   | -0.12090002  |  0.20493747  | -0.42411363  | -0.39785632  |  0.39859069  |  0.33564540  | ...          |  0.4962961   | -0.15156964  |  0.09596186  | -0.341722423 |  0.56917890  | -0.1337139   | -0.2266493   |  0.4807281   |  0.011563164 |  0.1088075   |\n",
       "| verstaendnislos |  0.5306979   | -0.12837435  | -0.3751544   |  1.0000000   |  0.13898421  | -0.26318913  |  0.44531728  |  0.39415353  | -0.27197043  | -0.45886630  | ...          | -0.5376145   |  0.16802733  | -0.17592235  |  0.332692786 | -0.33051210  |  0.2588915   |  0.2542449   | -0.3195304   |  0.015439221 | -0.2616089   |\n",
       "| unentschieden |  0.1105489   | -0.64299393  | -0.1209000   |  0.1389842   |  1.00000000  |  0.06458142  |  0.06501367  |  0.24919536  | -0.04198997  | -0.09322908  | ...          | -0.1131384   |  0.10416446  |  0.20157295  |  0.195918313 | -0.21404683  | -0.1441240   |  0.1083067   | -0.3053471   |  0.271800578 |  0.0969500   |\n",
       "| unaufdringlich | -0.2527279   | -0.08071545  |  0.2049375   | -0.2631891   |  0.06458142  |  1.00000000  | -0.12183857  | -0.05288379  | -0.02779147  |  0.32111485  | ...          |  0.3471530   | -0.11859981  |  0.45192338  |  0.003315434 |  0.07620134  | -0.3959325   | -0.2841246   |  0.1811546   |  0.000678317 |  0.4086074   |\n",
       "\n"
      ],
      "text/plain": [
       "                unsympatisch sicher      attraktiv  verstaendnislos\n",
       "unsympatisch     1.0000000   -0.13207176 -0.5720792  0.5306979     \n",
       "sicher          -0.1320718    1.00000000  0.2071228 -0.1283743     \n",
       "attraktiv       -0.5720792    0.20712283  1.0000000 -0.3751544     \n",
       "verstaendnislos  0.5306979   -0.12837435 -0.3751544  1.0000000     \n",
       "unentschieden    0.1105489   -0.64299393 -0.1209000  0.1389842     \n",
       "unaufdringlich  -0.2527279   -0.08071545  0.2049375 -0.2631891     \n",
       "                unentschieden unaufdringlich distanziert gelangweilt\n",
       "unsympatisch     0.11054892   -0.25272792     0.53037412  0.39407557\n",
       "sicher          -0.64299393   -0.08071545    -0.10521215 -0.23059682\n",
       "attraktiv       -0.12090002    0.20493747    -0.42411363 -0.39785632\n",
       "verstaendnislos  0.13898421   -0.26318913     0.44531728  0.39415353\n",
       "unentschieden    1.00000000    0.06458142     0.06501367  0.24919536\n",
       "unaufdringlich   0.06458142    1.00000000    -0.12183857 -0.05288379\n",
       "                emotional   nicht.genervt ... freundlich maennlich  \n",
       "unsympatisch    -0.35471770 -0.43738161   ... -0.5648421  0.12666305\n",
       "sicher           0.09722874  0.08978880   ...  0.1065376 -0.07361118\n",
       "attraktiv        0.39859069  0.33564540   ...  0.4962961 -0.15156964\n",
       "verstaendnislos -0.27197043 -0.45886630   ... -0.5376145  0.16802733\n",
       "unentschieden   -0.04198997 -0.09322908   ... -0.1131384  0.10416446\n",
       "unaufdringlich  -0.02779147  0.32111485   ...  0.3471530 -0.11859981\n",
       "                gehorsam    gleichgueltig interessant zynisch    aufgesetzt\n",
       "unsympatisch    -0.15654415  0.343776834  -0.46996226  0.1986704  0.2902556\n",
       "sicher          -0.26790394 -0.173891326   0.26836218  0.1915892 -0.1174061\n",
       "attraktiv        0.09596186 -0.341722423   0.56917890 -0.1337139 -0.2266493\n",
       "verstaendnislos -0.17592235  0.332692786  -0.33051210  0.2588915  0.2542449\n",
       "unentschieden    0.20157295  0.195918313  -0.21404683 -0.1441240  0.1083067\n",
       "unaufdringlich   0.45192338  0.003315434   0.07620134 -0.3959325 -0.2841246\n",
       "                intelligent kindlich     bescheiden\n",
       "unsympatisch    -0.3763863  -0.041480162 -0.2183574\n",
       "sicher           0.3578242  -0.319706800 -0.1830216\n",
       "attraktiv        0.4807281   0.011563164  0.1088075\n",
       "verstaendnislos -0.3195304   0.015439221 -0.2616089\n",
       "unentschieden   -0.3053471   0.271800578  0.0969500\n",
       "unaufdringlich   0.1811546   0.000678317  0.4086074"
      ]
     },
     "metadata": {},
     "output_type": "display_data"
    }
   ],
   "source": [
    "# Correlation matricies\n",
    "paste0('Correlation matrix of variables in male data set:')\n",
    "corr_data_spearman_male <- as.data.frame(corr_data_spearman_male$r)\n",
    "head(corr_data_spearman_male)\n",
    "paste0('Correlation matrix of variables in female data set:')\n",
    "corr_data_spearman_female <- as.data.frame(corr_data_spearman_female$r)\n",
    "head(corr_data_spearman_female)"
   ]
  },
  {
   "cell_type": "code",
   "execution_count": 8,
   "metadata": {},
   "outputs": [
    {
     "data": {
      "text/html": [
       "'Eigenvalues of male correlation matrix:'"
      ],
      "text/latex": [
       "'Eigenvalues of male correlation matrix:'"
      ],
      "text/markdown": [
       "'Eigenvalues of male correlation matrix:'"
      ],
      "text/plain": [
       "[1] \"Eigenvalues of male correlation matrix:\""
      ]
     },
     "metadata": {},
     "output_type": "display_data"
    },
    {
     "data": {
      "text/html": [
       "<ol class=list-inline>\n",
       "\t<li>9.05302088638967</li>\n",
       "\t<li>3.67748129828037</li>\n",
       "\t<li>3.27262691010818</li>\n",
       "\t<li>1.46592207320861</li>\n",
       "\t<li>1.3114395955695</li>\n",
       "\t<li>1.07010287761351</li>\n",
       "\t<li>0.991721905131051</li>\n",
       "\t<li>0.885055718705064</li>\n",
       "\t<li>0.835980847580006</li>\n",
       "\t<li>0.710035293138494</li>\n",
       "\t<li>0.690031312733774</li>\n",
       "\t<li>0.66769084698021</li>\n",
       "\t<li>0.609731606440292</li>\n",
       "\t<li>0.596452482155089</li>\n",
       "\t<li>0.572629808789924</li>\n",
       "\t<li>0.564745251773915</li>\n",
       "\t<li>0.544290698061605</li>\n",
       "\t<li>0.538235373195457</li>\n",
       "\t<li>0.496139100005831</li>\n",
       "\t<li>0.483447088942329</li>\n",
       "\t<li>0.462193036750417</li>\n",
       "\t<li>0.437520495648003</li>\n",
       "\t<li>0.423054090407781</li>\n",
       "\t<li>0.416956981664702</li>\n",
       "\t<li>0.406077065260282</li>\n",
       "\t<li>0.38177913649875</li>\n",
       "\t<li>0.361166681051057</li>\n",
       "\t<li>0.33861915165078</li>\n",
       "\t<li>0.332695209949971</li>\n",
       "\t<li>0.317945042108616</li>\n",
       "\t<li>0.295688103804884</li>\n",
       "\t<li>0.287106189609683</li>\n",
       "\t<li>0.263564382608766</li>\n",
       "\t<li>0.238853458183415</li>\n",
       "</ol>\n"
      ],
      "text/latex": [
       "\\begin{enumerate*}\n",
       "\\item 9.05302088638967\n",
       "\\item 3.67748129828037\n",
       "\\item 3.27262691010818\n",
       "\\item 1.46592207320861\n",
       "\\item 1.3114395955695\n",
       "\\item 1.07010287761351\n",
       "\\item 0.991721905131051\n",
       "\\item 0.885055718705064\n",
       "\\item 0.835980847580006\n",
       "\\item 0.710035293138494\n",
       "\\item 0.690031312733774\n",
       "\\item 0.66769084698021\n",
       "\\item 0.609731606440292\n",
       "\\item 0.596452482155089\n",
       "\\item 0.572629808789924\n",
       "\\item 0.564745251773915\n",
       "\\item 0.544290698061605\n",
       "\\item 0.538235373195457\n",
       "\\item 0.496139100005831\n",
       "\\item 0.483447088942329\n",
       "\\item 0.462193036750417\n",
       "\\item 0.437520495648003\n",
       "\\item 0.423054090407781\n",
       "\\item 0.416956981664702\n",
       "\\item 0.406077065260282\n",
       "\\item 0.38177913649875\n",
       "\\item 0.361166681051057\n",
       "\\item 0.33861915165078\n",
       "\\item 0.332695209949971\n",
       "\\item 0.317945042108616\n",
       "\\item 0.295688103804884\n",
       "\\item 0.287106189609683\n",
       "\\item 0.263564382608766\n",
       "\\item 0.238853458183415\n",
       "\\end{enumerate*}\n"
      ],
      "text/markdown": [
       "1. 9.05302088638967\n",
       "2. 3.67748129828037\n",
       "3. 3.27262691010818\n",
       "4. 1.46592207320861\n",
       "5. 1.3114395955695\n",
       "6. 1.07010287761351\n",
       "7. 0.991721905131051\n",
       "8. 0.885055718705064\n",
       "9. 0.835980847580006\n",
       "10. 0.710035293138494\n",
       "11. 0.690031312733774\n",
       "12. 0.66769084698021\n",
       "13. 0.609731606440292\n",
       "14. 0.596452482155089\n",
       "15. 0.572629808789924\n",
       "16. 0.564745251773915\n",
       "17. 0.544290698061605\n",
       "18. 0.538235373195457\n",
       "19. 0.496139100005831\n",
       "20. 0.483447088942329\n",
       "21. 0.462193036750417\n",
       "22. 0.437520495648003\n",
       "23. 0.423054090407781\n",
       "24. 0.416956981664702\n",
       "25. 0.406077065260282\n",
       "26. 0.38177913649875\n",
       "27. 0.361166681051057\n",
       "28. 0.33861915165078\n",
       "29. 0.332695209949971\n",
       "30. 0.317945042108616\n",
       "31. 0.295688103804884\n",
       "32. 0.287106189609683\n",
       "33. 0.263564382608766\n",
       "34. 0.238853458183415\n",
       "\n",
       "\n"
      ],
      "text/plain": [
       " [1] 9.0530209 3.6774813 3.2726269 1.4659221 1.3114396 1.0701029 0.9917219\n",
       " [8] 0.8850557 0.8359808 0.7100353 0.6900313 0.6676908 0.6097316 0.5964525\n",
       "[15] 0.5726298 0.5647453 0.5442907 0.5382354 0.4961391 0.4834471 0.4621930\n",
       "[22] 0.4375205 0.4230541 0.4169570 0.4060771 0.3817791 0.3611667 0.3386192\n",
       "[29] 0.3326952 0.3179450 0.2956881 0.2871062 0.2635644 0.2388535"
      ]
     },
     "metadata": {},
     "output_type": "display_data"
    },
    {
     "data": {
      "text/html": [
       "'Eigenvalues of female correlation matrix:'"
      ],
      "text/latex": [
       "'Eigenvalues of female correlation matrix:'"
      ],
      "text/markdown": [
       "'Eigenvalues of female correlation matrix:'"
      ],
      "text/plain": [
       "[1] \"Eigenvalues of female correlation matrix:\""
      ]
     },
     "metadata": {},
     "output_type": "display_data"
    },
    {
     "data": {
      "text/html": [
       "<ol class=list-inline>\n",
       "\t<li>9.30198541271329</li>\n",
       "\t<li>4.38203312167558</li>\n",
       "\t<li>3.03375852514306</li>\n",
       "\t<li>1.30332623623965</li>\n",
       "\t<li>1.20714725594713</li>\n",
       "\t<li>1.12557336682501</li>\n",
       "\t<li>0.988432070740855</li>\n",
       "\t<li>0.905515950850955</li>\n",
       "\t<li>0.808007817573638</li>\n",
       "\t<li>0.694816158698189</li>\n",
       "\t<li>0.646412021396005</li>\n",
       "\t<li>0.615597188802156</li>\n",
       "\t<li>0.595279648710825</li>\n",
       "\t<li>0.5767201110298</li>\n",
       "\t<li>0.555403102164428</li>\n",
       "\t<li>0.538742482618954</li>\n",
       "\t<li>0.51897783815191</li>\n",
       "\t<li>0.497252102443721</li>\n",
       "\t<li>0.47230535907454</li>\n",
       "\t<li>0.469811964939425</li>\n",
       "\t<li>0.447096278705276</li>\n",
       "\t<li>0.430358818030909</li>\n",
       "\t<li>0.405910343644301</li>\n",
       "\t<li>0.393875627445443</li>\n",
       "\t<li>0.377290215952074</li>\n",
       "\t<li>0.354655913577937</li>\n",
       "\t<li>0.350778238095597</li>\n",
       "\t<li>0.333480195373617</li>\n",
       "\t<li>0.322241148721169</li>\n",
       "\t<li>0.297357253026344</li>\n",
       "\t<li>0.287207183486907</li>\n",
       "\t<li>0.282009731941551</li>\n",
       "\t<li>0.250943004049481</li>\n",
       "\t<li>0.229698312210283</li>\n",
       "</ol>\n"
      ],
      "text/latex": [
       "\\begin{enumerate*}\n",
       "\\item 9.30198541271329\n",
       "\\item 4.38203312167558\n",
       "\\item 3.03375852514306\n",
       "\\item 1.30332623623965\n",
       "\\item 1.20714725594713\n",
       "\\item 1.12557336682501\n",
       "\\item 0.988432070740855\n",
       "\\item 0.905515950850955\n",
       "\\item 0.808007817573638\n",
       "\\item 0.694816158698189\n",
       "\\item 0.646412021396005\n",
       "\\item 0.615597188802156\n",
       "\\item 0.595279648710825\n",
       "\\item 0.5767201110298\n",
       "\\item 0.555403102164428\n",
       "\\item 0.538742482618954\n",
       "\\item 0.51897783815191\n",
       "\\item 0.497252102443721\n",
       "\\item 0.47230535907454\n",
       "\\item 0.469811964939425\n",
       "\\item 0.447096278705276\n",
       "\\item 0.430358818030909\n",
       "\\item 0.405910343644301\n",
       "\\item 0.393875627445443\n",
       "\\item 0.377290215952074\n",
       "\\item 0.354655913577937\n",
       "\\item 0.350778238095597\n",
       "\\item 0.333480195373617\n",
       "\\item 0.322241148721169\n",
       "\\item 0.297357253026344\n",
       "\\item 0.287207183486907\n",
       "\\item 0.282009731941551\n",
       "\\item 0.250943004049481\n",
       "\\item 0.229698312210283\n",
       "\\end{enumerate*}\n"
      ],
      "text/markdown": [
       "1. 9.30198541271329\n",
       "2. 4.38203312167558\n",
       "3. 3.03375852514306\n",
       "4. 1.30332623623965\n",
       "5. 1.20714725594713\n",
       "6. 1.12557336682501\n",
       "7. 0.988432070740855\n",
       "8. 0.905515950850955\n",
       "9. 0.808007817573638\n",
       "10. 0.694816158698189\n",
       "11. 0.646412021396005\n",
       "12. 0.615597188802156\n",
       "13. 0.595279648710825\n",
       "14. 0.5767201110298\n",
       "15. 0.555403102164428\n",
       "16. 0.538742482618954\n",
       "17. 0.51897783815191\n",
       "18. 0.497252102443721\n",
       "19. 0.47230535907454\n",
       "20. 0.469811964939425\n",
       "21. 0.447096278705276\n",
       "22. 0.430358818030909\n",
       "23. 0.405910343644301\n",
       "24. 0.393875627445443\n",
       "25. 0.377290215952074\n",
       "26. 0.354655913577937\n",
       "27. 0.350778238095597\n",
       "28. 0.333480195373617\n",
       "29. 0.322241148721169\n",
       "30. 0.297357253026344\n",
       "31. 0.287207183486907\n",
       "32. 0.282009731941551\n",
       "33. 0.250943004049481\n",
       "34. 0.229698312210283\n",
       "\n",
       "\n"
      ],
      "text/plain": [
       " [1] 9.3019854 4.3820331 3.0337585 1.3033262 1.2071473 1.1255734 0.9884321\n",
       " [8] 0.9055160 0.8080078 0.6948162 0.6464120 0.6155972 0.5952796 0.5767201\n",
       "[15] 0.5554031 0.5387425 0.5189778 0.4972521 0.4723054 0.4698120 0.4470963\n",
       "[22] 0.4303588 0.4059103 0.3938756 0.3772902 0.3546559 0.3507782 0.3334802\n",
       "[29] 0.3222411 0.2973573 0.2872072 0.2820097 0.2509430 0.2296983"
      ]
     },
     "metadata": {},
     "output_type": "display_data"
    }
   ],
   "source": [
    "# Compute eigenvalues for both data sets\n",
    "paste0('Eigenvalues of male correlation matrix:')\n",
    "male_eigenvalues <- eigen(as.matrix(corr_data_spearman_male))$values\n",
    "male_eigenvalues\n",
    "paste0('Eigenvalues of female correlation matrix:')\n",
    "female_eigenvalues <- eigen(as.matrix(corr_data_spearman_female))$values\n",
    "female_eigenvalues"
   ]
  },
  {
   "cell_type": "markdown",
   "metadata": {},
   "source": [
    "### Step 4: Decide on number of factors based on scree plot"
   ]
  },
  {
   "cell_type": "code",
   "execution_count": 9,
   "metadata": {},
   "outputs": [
    {
     "data": {
      "image/png": "[encoded data removed]",
      "text/plain": [
       "Plot with title \"Scree Plot for male speaker data set\""
      ]
     },
     "metadata": {},
     "output_type": "display_data"
    },
    {
     "data": {
      "image/png": "[encoded data removed]",
      "text/plain": [
       "Plot with title \"Scree Plot for male speaker data set\""
      ]
     },
     "metadata": {},
     "output_type": "display_data"
    }
   ],
   "source": [
    "# Display scree plots for both data sets\n",
    "plot(male_eigenvalues, main=\"Scree Plot for male speaker data set\", ylab=\"Eigenvalues\", xlab=\"Component Number\",type='b') # b: plot points AND lines\n",
    "abline(h=1, lty=2) # lty = line type (2 for dashed)\n",
    "plot(female_eigenvalues, main=\"Scree Plot for male speaker data set\", ylab=\"Eigenvalues\", xlab=\"Component Number\",type='b') # b: plot points AND lines\n",
    "abline(h=1, lty=2) # lty = line type (2 for dashed) "
   ]
  },
  {
   "cell_type": "markdown",
   "metadata": {},
   "source": [
    "#### Note: As the point of inflexion is located at Component number = 4 for both data sets (with eigenvalue >= 1), we set the number of retained factors to 4"
   ]
  },
  {
   "cell_type": "markdown",
   "metadata": {},
   "source": [
    "### Step 5: Conduct Principal Component Analysis based on previous steps"
   ]
  },
  {
   "cell_type": "markdown",
   "metadata": {},
   "source": [
    "#### As we see above and remember from previous computations on the data set, there are many significant correlations between the possible factors. Therefore, we also wish to be able to include correlation between the factors to mitigate information loss of orthogonal rotation => oblique rotation."
   ]
  },
  {
   "cell_type": "markdown",
   "metadata": {},
   "source": [
    "### a.) For male speakers data subset"
   ]
  },
  {
   "cell_type": "code",
   "execution_count": 10,
   "metadata": {},
   "outputs": [
    {
     "data": {
      "image/png": "[encoded data removed]",
      "text/plain": [
       "plot without title"
      ]
     },
     "metadata": {},
     "output_type": "display_data"
    }
   ],
   "source": [
    "# by plotting: visible that there is very much correlation between PCs => oblique rotation, e.g. promax\n",
    "autoplot(prcomp(male_data),\n",
    "         loadings = TRUE, loadings.colour = 'red',\n",
    "         loadings.label = TRUE, loadings.label.size = 4)"
   ]
  },
  {
   "cell_type": "code",
   "execution_count": 11,
   "metadata": {
    "scrolled": false
   },
   "outputs": [
    {
     "data": {
      "text/plain": [
       "Principal Components Analysis\n",
       "Call: principal(r = male_data, nfactors = 4, rotate = \"promax\", covar = FALSE, \n",
       "    impute = \"mean\")\n",
       "Standardized loadings (pattern matrix) based upon correlation matrix\n",
       "                  RC1   RC2   RC3   RC4   h2   u2 com\n",
       "unsympatisch    -0.47  0.09 -0.13 -0.45 0.55 0.45 2.2\n",
       "sicher           0.12  0.74 -0.24 -0.02 0.60 0.40 1.3\n",
       "attraktiv        0.26 -0.10 -0.15  0.76 0.67 0.33 1.4\n",
       "verstaendnislos -0.60 -0.17 -0.32  0.10 0.49 0.51 1.8\n",
       "unentschieden   -0.15 -0.80  0.12  0.29 0.55 0.45 1.4\n",
       "unaufdringlich  -0.07  0.10  0.61  0.16 0.48 0.52 1.2\n",
       "distanziert     -0.65  0.17 -0.07 -0.22 0.52 0.48 1.4\n",
       "gelangweilt     -0.75 -0.24 -0.02  0.16 0.60 0.40 1.3\n",
       "emotional        0.63 -0.28 -0.18  0.22 0.50 0.50 1.8\n",
       "nicht.genervt    0.49  0.07  0.43  0.01 0.47 0.53 2.0\n",
       "aktiv            0.54  0.40 -0.31 -0.04 0.57 0.43 2.5\n",
       "angenehm         0.32  0.03  0.16  0.58 0.65 0.35 1.7\n",
       "charakterlos    -0.46 -0.31  0.17 -0.17 0.48 0.52 2.4\n",
       "gesellig         0.63  0.01 -0.14  0.20 0.52 0.48 1.3\n",
       "entspannt       -0.11  0.44  0.01  0.39 0.48 0.52 2.1\n",
       "mitfuehlend      0.71 -0.17  0.15  0.19 0.61 0.39 1.4\n",
       "dominant         0.04  0.53 -0.55  0.14 0.59 0.41 2.1\n",
       "unaffektiert    -0.07  0.27  0.42  0.07 0.30 0.70 1.8\n",
       "herzlich         0.74 -0.10  0.17  0.17 0.66 0.34 1.3\n",
       "alt             -0.32  0.27 -0.10  0.26 0.22 0.78 3.1\n",
       "unsachlich       0.02 -0.74 -0.24  0.35 0.47 0.53 1.7\n",
       "ruhig           -0.27  0.43  0.10  0.34 0.46 0.54 2.8\n",
       "inkompetent     -0.22 -0.58  0.09 -0.13 0.53 0.47 1.5\n",
       "haesslich       -0.23  0.06  0.05 -0.72 0.61 0.39 1.2\n",
       "freundlich       0.60  0.09  0.40  0.09 0.64 0.36 1.9\n",
       "maennlich       -0.09  0.45  0.16 -0.02 0.23 0.77 1.4\n",
       "gehorsam         0.07 -0.16  0.77 -0.10 0.58 0.42 1.1\n",
       "gleichgueltig   -0.72 -0.19  0.05  0.21 0.53 0.47 1.3\n",
       "interessant      0.44  0.04 -0.19  0.49 0.58 0.42 2.3\n",
       "zynisch         -0.15  0.09 -0.76  0.18 0.56 0.44 1.2\n",
       "aufgesetzt       0.04 -0.14 -0.24 -0.31 0.25 0.75 2.3\n",
       "intelligent      0.21  0.42 -0.01  0.31 0.51 0.49 2.4\n",
       "kindlich         0.21 -0.55  0.01 -0.18 0.40 0.60 1.5\n",
       "bescheiden       0.06 -0.07  0.68  0.07 0.49 0.51 1.1\n",
       "\n",
       "                       RC1  RC2  RC3  RC4\n",
       "SS loadings           6.28 4.19 3.44 3.43\n",
       "Proportion Var        0.18 0.12 0.10 0.10\n",
       "Cumulative Var        0.18 0.31 0.41 0.51\n",
       "Proportion Explained  0.36 0.24 0.20 0.20\n",
       "Cumulative Proportion 0.36 0.60 0.80 1.00\n",
       "\n",
       " With component correlations of \n",
       "     RC1  RC2  RC3  RC4\n",
       "RC1 1.00 0.18 0.03 0.30\n",
       "RC2 0.18 1.00 0.10 0.48\n",
       "RC3 0.03 0.10 1.00 0.26\n",
       "RC4 0.30 0.48 0.26 1.00\n",
       "\n",
       "Mean item complexity =  1.7\n",
       "Test of the hypothesis that 4 components are sufficient.\n",
       "\n",
       "The root mean square of the residuals (RMSR) is  0.05 \n",
       " with the empirical chi square  4981.39  with prob <  0 \n",
       "\n",
       "Fit based upon off diagonal values = 0.97"
      ]
     },
     "metadata": {},
     "output_type": "display_data"
    }
   ],
   "source": [
    "# very powerful function: handles eigenvalue decomposition, loadings for correlation matrix\n",
    "pca_male <- principal(male_data, nfactor=4, covar=FALSE, impute='mean', rotate='promax')\n",
    "pca_male"
   ]
  },
  {
   "cell_type": "markdown",
   "metadata": {},
   "source": [
    "### For possible dimension / item loadings: Consider PCA results"
   ]
  },
  {
   "cell_type": "markdown",
   "metadata": {},
   "source": [
    "### Note: factor loading = association of input variable to latent variable (same interpretation as correlation coefficients)"
   ]
  },
  {
   "cell_type": "code",
   "execution_count": 12,
   "metadata": {},
   "outputs": [
    {
     "data": {
      "text/html": [
       "<table>\n",
       "<thead><tr><th scope=col>RC1</th><th scope=col>RC2</th><th scope=col>RC3</th><th scope=col>RC4</th></tr></thead>\n",
       "<tbody>\n",
       "\t<tr><td> 0.8723607 </td><td> 0.28493424</td><td>-1.1018252 </td><td> 0.3133423 </td></tr>\n",
       "\t<tr><td>-0.7306877 </td><td>-0.59923959</td><td>-0.3061567 </td><td>-0.4666251 </td></tr>\n",
       "\t<tr><td> 0.3507160 </td><td>-0.76582189</td><td>-0.3758988 </td><td>-0.1221638 </td></tr>\n",
       "\t<tr><td>-1.0757909 </td><td> 0.03949735</td><td>-0.1203502 </td><td>-0.3541822 </td></tr>\n",
       "\t<tr><td> 0.3874814 </td><td> 0.59389893</td><td>-0.9675972 </td><td> 0.2404673 </td></tr>\n",
       "\t<tr><td>-0.4240642 </td><td>-0.37586494</td><td>-0.1158139 </td><td>-0.5630560 </td></tr>\n",
       "</tbody>\n",
       "</table>\n"
      ],
      "text/latex": [
       "\\begin{tabular}{llll}\n",
       " RC1 & RC2 & RC3 & RC4\\\\\n",
       "\\hline\n",
       "\t  0.8723607  &  0.28493424 & -1.1018252  &  0.3133423 \\\\\n",
       "\t -0.7306877  & -0.59923959 & -0.3061567  & -0.4666251 \\\\\n",
       "\t  0.3507160  & -0.76582189 & -0.3758988  & -0.1221638 \\\\\n",
       "\t -1.0757909  &  0.03949735 & -0.1203502  & -0.3541822 \\\\\n",
       "\t  0.3874814  &  0.59389893 & -0.9675972  &  0.2404673 \\\\\n",
       "\t -0.4240642  & -0.37586494 & -0.1158139  & -0.5630560 \\\\\n",
       "\\end{tabular}\n"
      ],
      "text/markdown": [
       "\n",
       "| RC1 | RC2 | RC3 | RC4 |\n",
       "|---|---|---|---|\n",
       "|  0.8723607  |  0.28493424 | -1.1018252  |  0.3133423  |\n",
       "| -0.7306877  | -0.59923959 | -0.3061567  | -0.4666251  |\n",
       "|  0.3507160  | -0.76582189 | -0.3758988  | -0.1221638  |\n",
       "| -1.0757909  |  0.03949735 | -0.1203502  | -0.3541822  |\n",
       "|  0.3874814  |  0.59389893 | -0.9675972  |  0.2404673  |\n",
       "| -0.4240642  | -0.37586494 | -0.1158139  | -0.5630560  |\n",
       "\n"
      ],
      "text/plain": [
       "     RC1        RC2         RC3        RC4       \n",
       "[1,]  0.8723607  0.28493424 -1.1018252  0.3133423\n",
       "[2,] -0.7306877 -0.59923959 -0.3061567 -0.4666251\n",
       "[3,]  0.3507160 -0.76582189 -0.3758988 -0.1221638\n",
       "[4,] -1.0757909  0.03949735 -0.1203502 -0.3541822\n",
       "[5,]  0.3874814  0.59389893 -0.9675972  0.2404673\n",
       "[6,] -0.4240642 -0.37586494 -0.1158139 -0.5630560"
      ]
     },
     "metadata": {},
     "output_type": "display_data"
    }
   ],
   "source": [
    "# Compute predicted component scores based on previous PCA results\n",
    "reduced_male_data <- predict(pca_male, male_data)\n",
    "head(reduced_male_data)"
   ]
  },
  {
   "cell_type": "markdown",
   "metadata": {},
   "source": [
    "### b.) For female speakers data subset"
   ]
  },
  {
   "cell_type": "code",
   "execution_count": 13,
   "metadata": {},
   "outputs": [
    {
     "data": {
      "image/png": "[encoded data removed]",
      "text/plain": [
       "plot without title"
      ]
     },
     "metadata": {},
     "output_type": "display_data"
    }
   ],
   "source": [
    "# by plotting: visible that there is very much correlation between PCs => oblique rotation, e.g. promax\n",
    "autoplot(prcomp(female_data),\n",
    "         loadings = TRUE, loadings.colour = 'red',\n",
    "         loadings.label = TRUE, loadings.label.size = 4)"
   ]
  },
  {
   "cell_type": "code",
   "execution_count": 14,
   "metadata": {},
   "outputs": [
    {
     "data": {
      "text/plain": [
       "Principal Components Analysis\n",
       "Call: principal(r = female_data, nfactors = 4, rotate = \"promax\", covar = FALSE, \n",
       "    impute = \"mean\")\n",
       "Standardized loadings (pattern matrix) based upon correlation matrix\n",
       "                  RC1   RC2   RC4   RC3   h2   u2 com\n",
       "unsympatisch    -0.67 -0.05  0.04 -0.26 0.58 0.42 1.3\n",
       "sicher           0.11 -0.61  0.32  0.18 0.59 0.41 1.8\n",
       "attraktiv        0.68 -0.02  0.09  0.27 0.59 0.41 1.3\n",
       "verstaendnislos -0.50  0.09  0.25 -0.12 0.43 0.57 1.7\n",
       "unentschieden   -0.03  0.66 -0.12 -0.04 0.49 0.51 1.1\n",
       "unaufdringlich   0.03  0.04 -0.42  0.51 0.55 0.45 1.9\n",
       "distanziert     -0.76 -0.17 -0.03 -0.04 0.54 0.46 1.1\n",
       "gelangweilt     -0.68  0.23  0.16  0.31 0.64 0.36 1.8\n",
       "emotional        0.77  0.15  0.05 -0.26 0.54 0.46 1.3\n",
       "nicht.genervt    0.48 -0.04 -0.35  0.12 0.46 0.54 2.0\n",
       "aktiv            0.49 -0.41  0.16 -0.24 0.56 0.44 2.7\n",
       "angenehm         0.65 -0.04 -0.08  0.37 0.68 0.32 1.6\n",
       "charakterlos    -0.58  0.18 -0.19 -0.01 0.44 0.56 1.4\n",
       "gesellig         0.74  0.01  0.17 -0.10 0.52 0.48 1.1\n",
       "entspannt        0.07 -0.45  0.14  0.56 0.55 0.45 2.1\n",
       "mitfuehlend      0.81  0.18 -0.05  0.00 0.63 0.37 1.1\n",
       "dominant        -0.02 -0.51  0.53 -0.01 0.65 0.35 2.0\n",
       "unaffektiert    -0.07 -0.02 -0.11  0.49 0.27 0.73 1.2\n",
       "herzlich         0.82  0.18 -0.13  0.01 0.69 0.31 1.1\n",
       "alt             -0.41 -0.36  0.03  0.03 0.23 0.77 2.0\n",
       "unsachlich       0.27  0.70  0.30 -0.09 0.47 0.53 1.7\n",
       "ruhig           -0.17 -0.43 -0.04  0.62 0.53 0.47 2.0\n",
       "inkompetent     -0.25  0.61 -0.06 -0.18 0.56 0.44 1.5\n",
       "haesslich       -0.63  0.06  0.02 -0.27 0.56 0.44 1.4\n",
       "freundlich       0.65  0.01 -0.32  0.12 0.66 0.34 1.5\n",
       "maennlich       -0.06  0.29  0.43  0.19 0.24 0.76 2.2\n",
       "gehorsam         0.03  0.15 -0.73  0.11 0.64 0.36 1.1\n",
       "gleichgueltig   -0.67  0.14  0.05  0.35 0.55 0.45 1.6\n",
       "interessant      0.71 -0.15  0.18  0.07 0.60 0.40 1.2\n",
       "zynisch         -0.09 -0.05  0.76 -0.02 0.63 0.37 1.0\n",
       "aufgesetzt      -0.22  0.02  0.02 -0.46 0.31 0.69 1.5\n",
       "intelligent      0.32 -0.49 -0.02  0.28 0.53 0.47 2.4\n",
       "kindlich         0.32  0.69  0.09 -0.14 0.46 0.54 1.5\n",
       "bescheiden       0.00 -0.02 -0.70  0.17 0.56 0.44 1.1\n",
       "\n",
       "                       RC1  RC2  RC4  RC3\n",
       "SS loadings           8.39 3.79 3.19 2.57\n",
       "Proportion Var        0.25 0.11 0.09 0.08\n",
       "Cumulative Var        0.25 0.36 0.45 0.53\n",
       "Proportion Explained  0.47 0.21 0.18 0.14\n",
       "Cumulative Proportion 0.47 0.68 0.86 1.00\n",
       "\n",
       " With component correlations of \n",
       "      RC1   RC2   RC4   RC3\n",
       "RC1  1.00 -0.24 -0.17  0.18\n",
       "RC2 -0.24  1.00 -0.18  0.00\n",
       "RC4 -0.17 -0.18  1.00 -0.22\n",
       "RC3  0.18  0.00 -0.22  1.00\n",
       "\n",
       "Mean item complexity =  1.6\n",
       "Test of the hypothesis that 4 components are sufficient.\n",
       "\n",
       "The root mean square of the residuals (RMSR) is  0.05 \n",
       " with the empirical chi square  6843.1  with prob <  0 \n",
       "\n",
       "Fit based upon off diagonal values = 0.97"
      ]
     },
     "metadata": {},
     "output_type": "display_data"
    }
   ],
   "source": [
    "# very powerful function: handles eigenvalue decomposition, loadings for correlation matrix\n",
    "pca_female <- principal(female_data, nfactor=4, covar=FALSE, impute='mean', rotate='promax')\n",
    "pca_female"
   ]
  },
  {
   "cell_type": "markdown",
   "metadata": {},
   "source": [
    "### For possible dimension / item loadings: Consider PCA results"
   ]
  },
  {
   "cell_type": "markdown",
   "metadata": {},
   "source": [
    "### Note: factor loading = association of input variable to latent variable (same interpretation as correlation coefficients)"
   ]
  },
  {
   "cell_type": "code",
   "execution_count": 15,
   "metadata": {},
   "outputs": [
    {
     "data": {
      "text/html": [
       "<table>\n",
       "<thead><tr><th scope=col>RC1</th><th scope=col>RC2</th><th scope=col>RC4</th><th scope=col>RC3</th></tr></thead>\n",
       "<tbody>\n",
       "\t<tr><td> 1.0953176 </td><td>-0.5671277 </td><td> 0.52859205</td><td> 1.0794232 </td></tr>\n",
       "\t<tr><td> 2.8067730 </td><td>-1.4026051 </td><td>-0.84610245</td><td> 1.9730956 </td></tr>\n",
       "\t<tr><td> 0.9459072 </td><td>-0.5092572 </td><td>-1.71673060</td><td> 0.9823181 </td></tr>\n",
       "\t<tr><td> 0.8540802 </td><td>-0.2948597 </td><td> 0.77366139</td><td>-0.6174143 </td></tr>\n",
       "\t<tr><td>-1.0827079 </td><td> 1.4120424 </td><td>-0.35388859</td><td>-0.7574372 </td></tr>\n",
       "\t<tr><td> 1.6392220 </td><td>-1.3794229 </td><td> 0.04837387</td><td> 1.4666461 </td></tr>\n",
       "</tbody>\n",
       "</table>\n"
      ],
      "text/latex": [
       "\\begin{tabular}{llll}\n",
       " RC1 & RC2 & RC4 & RC3\\\\\n",
       "\\hline\n",
       "\t  1.0953176  & -0.5671277  &  0.52859205 &  1.0794232 \\\\\n",
       "\t  2.8067730  & -1.4026051  & -0.84610245 &  1.9730956 \\\\\n",
       "\t  0.9459072  & -0.5092572  & -1.71673060 &  0.9823181 \\\\\n",
       "\t  0.8540802  & -0.2948597  &  0.77366139 & -0.6174143 \\\\\n",
       "\t -1.0827079  &  1.4120424  & -0.35388859 & -0.7574372 \\\\\n",
       "\t  1.6392220  & -1.3794229  &  0.04837387 &  1.4666461 \\\\\n",
       "\\end{tabular}\n"
      ],
      "text/markdown": [
       "\n",
       "| RC1 | RC2 | RC4 | RC3 |\n",
       "|---|---|---|---|\n",
       "|  1.0953176  | -0.5671277  |  0.52859205 |  1.0794232  |\n",
       "|  2.8067730  | -1.4026051  | -0.84610245 |  1.9730956  |\n",
       "|  0.9459072  | -0.5092572  | -1.71673060 |  0.9823181  |\n",
       "|  0.8540802  | -0.2948597  |  0.77366139 | -0.6174143  |\n",
       "| -1.0827079  |  1.4120424  | -0.35388859 | -0.7574372  |\n",
       "|  1.6392220  | -1.3794229  |  0.04837387 |  1.4666461  |\n",
       "\n"
      ],
      "text/plain": [
       "     RC1        RC2        RC4         RC3       \n",
       "[1,]  1.0953176 -0.5671277  0.52859205  1.0794232\n",
       "[2,]  2.8067730 -1.4026051 -0.84610245  1.9730956\n",
       "[3,]  0.9459072 -0.5092572 -1.71673060  0.9823181\n",
       "[4,]  0.8540802 -0.2948597  0.77366139 -0.6174143\n",
       "[5,] -1.0827079  1.4120424 -0.35388859 -0.7574372\n",
       "[6,]  1.6392220 -1.3794229  0.04837387  1.4666461"
      ]
     },
     "metadata": {},
     "output_type": "display_data"
    }
   ],
   "source": [
    "# Compute predicted component scores based on previous PCA results\n",
    "reduced_female_data <- predict(pca_female, female_data)\n",
    "head(reduced_female_data)"
   ]
  },
  {
   "cell_type": "markdown",
   "metadata": {},
   "source": [
    "### Step 6: Compute Cronbach's Alpha for both data sets"
   ]
  },
  {
   "cell_type": "code",
   "execution_count": 16,
   "metadata": {},
   "outputs": [
    {
     "name": "stderr",
     "output_type": "stream",
     "text": [
      "Warning message in psych::alpha(female_data, check.keys = TRUE):\n",
      "\"Some items were negatively correlated with total scale and were automatically reversed.\n",
      " This is indicated by a negative sign for the variable name.\"Warning message in psych::alpha(reduced_female_data, check.keys = TRUE):\n",
      "\"Some items were negatively correlated with total scale and were automatically reversed.\n",
      " This is indicated by a negative sign for the variable name.\""
     ]
    },
    {
     "data": {
      "text/html": [
       "'Original Cronbach Alpha: 0.898 =&gt; Reduced Cronbach Alpha: 0.319'"
      ],
      "text/latex": [
       "'Original Cronbach Alpha: 0.898 => Reduced Cronbach Alpha: 0.319'"
      ],
      "text/markdown": [
       "'Original Cronbach Alpha: 0.898 =&gt; Reduced Cronbach Alpha: 0.319'"
      ],
      "text/plain": [
       "[1] \"Original Cronbach Alpha: 0.898 => Reduced Cronbach Alpha: 0.319\""
      ]
     },
     "metadata": {},
     "output_type": "display_data"
    }
   ],
   "source": [
    "# For female data set\n",
    "original_female_alpha <- psych::alpha(female_data, check.keys=TRUE)$total$raw_alpha\n",
    "reduced_female_alpha <- psych::alpha(reduced_female_data, check.keys=TRUE)$total$raw_alpha\n",
    "paste0('Original Cronbach Alpha: ', round(original_female_alpha, digits=3), ' => ', 'Reduced Cronbach Alpha: ', round(reduced_female_alpha, digits=3))"
   ]
  },
  {
   "cell_type": "code",
   "execution_count": 17,
   "metadata": {
    "scrolled": false
   },
   "outputs": [
    {
     "name": "stderr",
     "output_type": "stream",
     "text": [
      "Warning message in psych::alpha(male_data, check.keys = TRUE):\n",
      "\"Some items were negatively correlated with total scale and were automatically reversed.\n",
      " This is indicated by a negative sign for the variable name.\""
     ]
    },
    {
     "data": {
      "text/html": [
       "'Original Cronbach Alpha: 0.9 =&gt; Reduced Cronbach Alpha: 0.537'"
      ],
      "text/latex": [
       "'Original Cronbach Alpha: 0.9 => Reduced Cronbach Alpha: 0.537'"
      ],
      "text/markdown": [
       "'Original Cronbach Alpha: 0.9 =&gt; Reduced Cronbach Alpha: 0.537'"
      ],
      "text/plain": [
       "[1] \"Original Cronbach Alpha: 0.9 => Reduced Cronbach Alpha: 0.537\""
      ]
     },
     "metadata": {},
     "output_type": "display_data"
    }
   ],
   "source": [
    "# For male data set\n",
    "original_male_alpha <- psych::alpha(male_data, check.keys=TRUE)$total$raw_alpha\n",
    "reduced_male_alpha <- psych::alpha(reduced_male_data, check.keys=TRUE)$total$raw_alpha\n",
    "paste0('Original Cronbach Alpha: ', round(original_male_alpha, digits=3), ' => ', 'Reduced Cronbach Alpha: ', round(reduced_male_alpha, digits=3))"
   ]
  }
 ],
 "metadata": {
  "kernelspec": {
   "display_name": "R",
   "language": "R",
   "name": "ir"
  },
  "language_info": {
   "codemirror_mode": "r",
   "file_extension": ".r",
   "mimetype": "text/x-r-source",
   "name": "R",
   "pygments_lexer": "r",
   "version": "3.6.1"
  }
 },
 "nbformat": 4,
 "nbformat_minor": 2
}
