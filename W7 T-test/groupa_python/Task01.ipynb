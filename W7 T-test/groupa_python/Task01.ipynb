{
 "cells": [
  {
   "cell_type": "markdown",
   "metadata": {},
   "source": [
    "# 07  t-Tests - Task 1"
   ]
  },
  {
   "cell_type": "markdown",
   "metadata": {},
   "source": [
    "Provide a script and html file which calulates the suitable T-Tests to answer the following research questions (RQ). Please also test the requirements for each test, and, report the results in one sentence including the test statistic value with degree of freedom, significance value as well as effect size."
   ]
  },
  {
   "cell_type": "markdown",
   "metadata": {},
   "source": [
    "1.RQ (regarding DB01): Does increasing the bitrate (independent variable) from 2000 kbps to 6000 kbps for the first game using a resolution of 1080p and a framerate of 60 fps (conditions 36 and 50) significantly improve the video quality ratings (dependent variable). Use the ratings provided in the gaming video quality dataset. In case of an extreme outlier, the participant can be completely removed from the dataset."
   ]
  },
  {
   "cell_type": "markdown",
   "metadata": {},
   "source": [
    "## Import and Initializing"
   ]
  },
  {
   "cell_type": "code",
   "execution_count": 34,
   "metadata": {},
   "outputs": [],
   "source": [
    "import numpy as np\n",
    "import pandas as pd\n",
    "import scipy\n",
    "\n",
    "\n",
    "# !pip3 install factor_analyzer --user\n",
    "from factor_analyzer.utils import corr, impute_values, partial_correlations, smc\n",
    "from factor_analyzer.factor_analyzer import calculate_kmo\n",
    "\n",
    "import matplotlib.pyplot as plt\n",
    "import seaborn as sns\n",
    "sns.set(style=\"whitegrid\", context=\"talk\")\n",
    "\n",
    "FIGSIZE = (20,4)"
   ]
  },
  {
   "cell_type": "markdown",
   "metadata": {},
   "source": [
    "## Loading the data"
   ]
  },
  {
   "cell_type": "code",
   "execution_count": 55,
   "metadata": {},
   "outputs": [],
   "source": [
    "dataset = pd.read_excel(\"../datasets/DB01_gaming_video_quality_dataset.xlsx\", usecols=[\"PID\", \"Game\", \"Condition\", \"VQ\"]).dropna()\n",
    "\n",
    "mask = (dataset['Game'] == 'Game1') & ((dataset['Condition'] == 36) | (dataset['Condition'] == 50))\n",
    "dataset = dataset[mask]\n",
    "dataset = dataset.drop(columns='Game')"
   ]
  },
  {
   "cell_type": "markdown",
   "metadata": {},
   "source": [
    "## Check general requirements"
   ]
  },
  {
   "cell_type": "markdown",
   "metadata": {},
   "source": [
    "### Eliminate the outliers"
   ]
  },
  {
   "cell_type": "code",
   "execution_count": 56,
   "metadata": {},
   "outputs": [
    {
     "data": {
      "image/png": "[encoded data removed]",
      "text/plain": [
       "<Figure size 432x288 with 1 Axes>"
      ]
     },
     "metadata": {},
     "output_type": "display_data"
    }
   ],
   "source": [
    "ax = dataset.boxplot(column=\"VQ\", by=\"Condition\")\n",
    "ax.figure.tight_layout()"
   ]
  },
  {
   "cell_type": "code",
   "execution_count": 57,
   "metadata": {},
   "outputs": [],
   "source": [
    "# get every participant who causes outlier\n",
    "outliers = dataset.query(\"~((VQ <= 4 & Condition == 36) | Condition == 50)\")\n",
    "outlier_list = outliers['PID'].tolist()\n",
    "\n",
    "#delete every participant who causes outlier\n",
    "for outlier_pid in outlier_list:\n",
    "    dataset = dataset[dataset['PID']!=outlier_pid]"
   ]
  },
  {
   "cell_type": "markdown",
   "metadata": {},
   "source": [
    "### Measurement"
   ]
  },
  {
   "cell_type": "markdown",
   "metadata": {},
   "source": [
    "The dependent variable (VQ) is measured at the interval level."
   ]
  },
  {
   "cell_type": "markdown",
   "metadata": {},
   "source": [
    "## Check specific requirements for dependent t-test"
   ]
  },
  {
   "cell_type": "markdown",
   "metadata": {},
   "source": [
    "### The independent variable should consist of two categorical, related groups"
   ]
  },
  {
   "cell_type": "markdown",
   "metadata": {},
   "source": [
    "The bitrate consists of two categorical, related groups (2.000 kbps (Condition=36) and 6.000 kbps (Condition=50))."
   ]
  },
  {
   "cell_type": "markdown",
   "metadata": {},
   "source": [
    "### The distribution of the differences in the dependent variable between the two related groups should be approximately normally distributed"
   ]
  },
  {
   "cell_type": "code",
   "execution_count": 62,
   "metadata": {},
   "outputs": [],
   "source": [
    "group1 = dataset[dataset['Condition'] == 36]\n",
    "group2 = dataset[dataset['Condition'] == 50]\n",
    "\n",
    "group1 = group1.rename(columns={'VQ':'VQ-1'})\n",
    "group2 = group2.rename(columns={'VQ':'VQ-2'})\n",
    "\n",
    "group1=group1.set_index(\"PID\")\n",
    "group2=group2.set_index(\"PID\")\n",
    "\n",
    "group1 = group1.drop(columns=[\"Condition\"])\n",
    "group2 = group2.drop(columns=[\"Condition\"])\n",
    "\n",
    "vqs = pd.concat([group1, group2], axis=1)"
   ]
  },
  {
   "cell_type": "code",
   "execution_count": 63,
   "metadata": {},
   "outputs": [
    {
     "data": {
      "image/png": "[encoded data removed]",
      "text/plain": [
       "<Figure size 432x288 with 1 Axes>"
      ]
     },
     "metadata": {},
     "output_type": "display_data"
    }
   ],
   "source": [
    "ax = sns.scatterplot(vqs[\"VQ-1\"], vqs[\"VQ-2\"])\n",
    "plt.axis([1, 6, 1, 6])\n",
    "#ax.plot([1,6], [1, 6], color=\"red\")\n",
    "None"
   ]
  },
  {
   "cell_type": "markdown",
   "metadata": {},
   "source": [
    "## Dependent t-test"
   ]
  },
  {
   "cell_type": "code",
   "execution_count": 66,
   "metadata": {},
   "outputs": [
    {
     "name": "stdout",
     "output_type": "stream",
     "text": [
      "Dependent T-test\n",
      "\tt-statistic: -8.724897\n",
      "\tp-value: 0.0000000136\n"
     ]
    }
   ],
   "source": [
    "rel_ttest_result = scipy.stats.ttest_rel(vqs[\"VQ-1\"], vqs[\"VQ-2\"])\n",
    "\n",
    "print(\"Dependent T-test\")\n",
    "print(f\"\\tt-statistic: {rel_ttest_result.statistic:f}\")\n",
    "print(f\"\\tp-value: {rel_ttest_result.pvalue:.10f}\")"
   ]
  },
  {
   "cell_type": "markdown",
   "metadata": {},
   "source": [
    "The p-value is nearly null, so the null hypothesis (which says that the averages of both classes are close to each other) can be rejected. That means, that increasing the bitrate from 2.000 kbps to 6.000 kbps is significantly improving the video quality ratings.\n",
    "\n",
    "### Degrees of Freedom\n",
    "> #### Dependent t-test for paired samples\n",
    "> [...]\n",
    "> The degree of freedom used is $n − 1$, where $n$ represents the number of pairs. \n",
    "\n",
    "Source: https://en.wikipedia.org/wiki/Student's_t-test#Dependent_t-test_for_paired_samples"
   ]
  },
  {
   "cell_type": "code",
   "execution_count": 68,
   "metadata": {},
   "outputs": [
    {
     "name": "stdout",
     "output_type": "stream",
     "text": [
      "Degrees of freedom: 22\n"
     ]
    }
   ],
   "source": [
    "dof = vqs.shape[0] - 1\n",
    "print(f\"Degrees of freedom: {dof}\")"
   ]
  },
  {
   "cell_type": "markdown",
   "metadata": {},
   "source": [
    "### Effect Size Using Cohen's d\n",
    "$$d = \\frac{\\mu_{2000} - \\mu_{6000}}{s_p}$$\n",
    "where $\\mu_{2000}$ and $\\mu_{6000}$ are the averages of the respective conditions and $s_p$ refers to the pooled standard diviation:<br/>\n",
    "<br/>\n",
    "$$s_p = \\sqrt{\\frac{s^2_{2000} + s^2_{6000}}{2}}$$\n",
    "<br/>\n",
    "where $s^2_{2000}$ and $s^2_{6000}$ are the smaple variances of the respective conditions. Please be aware that the formular for the pooled standard diviation is simplified in this case since the degrees of freedom for both groups is equal and cancel each other out.\n",
    "\n",
    "Source: https://en.wikipedia.org/wiki/Effect_size#Cohen's_d"
   ]
  },
  {
   "cell_type": "code",
   "execution_count": 71,
   "metadata": {},
   "outputs": [
    {
     "name": "stdout",
     "output_type": "stream",
     "text": [
      "Cohen's d: -1.9977708546236204\n"
     ]
    }
   ],
   "source": [
    "mu_2000 = vqs[\"VQ-1\"].mean()\n",
    "mu_6000 = vqs[\"VQ-2\"].mean()\n",
    "\n",
    "s2_2000 = vqs[\"VQ-1\"].var()\n",
    "s2_6000 = vqs[\"VQ-2\"].var()\n",
    "\n",
    "s_p = np.sqrt((s2_2000 + s2_6000) / 2)\n",
    "\n",
    "d = (mu_2000 - mu_6000) / s_p\n",
    "\n",
    "print(f\"Cohen's d: {d}\")"
   ]
  },
  {
   "cell_type": "markdown",
   "metadata": {},
   "source": [
    "**Conclusion**: This corresponds to a _very large_ effect size."
   ]
  },
  {
   "cell_type": "code",
   "execution_count": null,
   "metadata": {},
   "outputs": [],
   "source": []
  }
 ],
 "metadata": {
  "kernelspec": {
   "display_name": "Python 3",
   "language": "python",
   "name": "python3"
  },
  "language_info": {
   "codemirror_mode": {
    "name": "ipython",
    "version": 3
   },
   "file_extension": ".py",
   "mimetype": "text/x-python",
   "name": "python",
   "nbconvert_exporter": "python",
   "pygments_lexer": "ipython3",
   "version": "3.6.5"
  }
 },
 "nbformat": 4,
 "nbformat_minor": 2
}
