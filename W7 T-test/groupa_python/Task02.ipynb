{
 "cells": [
  {
   "cell_type": "markdown",
   "metadata": {},
   "source": [
    "# 07 t-Test - Task 2"
   ]
  },
  {
   "cell_type": "markdown",
   "metadata": {},
   "source": [
    "Provide a script and html file which calulates the suitable T-Tests to answer the following research questions (RQ). Please also test the requirements for each test, and, report the results in one sentence including the test statistic value with degree of freedom, significance value as well as effect size."
   ]
  },
  {
   "cell_type": "markdown",
   "metadata": {},
   "source": [
    "2.RQ (regarding DB03): Does the test environment (independent variable), i.e. Lab (ID=1) or home (ID=0), have a significant influence on speech quality ratings (dependent variable). Use the quality ratings of condition 3 provided in the file (lab_crowd_speech_quality)."
   ]
  },
  {
   "cell_type": "markdown",
   "metadata": {},
   "source": [
    "## Import and Initializing"
   ]
  },
  {
   "cell_type": "code",
   "execution_count": 1,
   "metadata": {},
   "outputs": [],
   "source": [
    "import numpy as np\n",
    "import pandas as pd\n",
    "\n",
    "import scipy.stats\n",
    "\n",
    "import matplotlib.pyplot as plt\n",
    "import seaborn as sns\n",
    "sns.set(style=\"whitegrid\", context=\"talk\")\n",
    "\n",
    "FIGSIZE = (20,4)"
   ]
  },
  {
   "cell_type": "markdown",
   "metadata": {},
   "source": [
    "## Load and visualize dataset"
   ]
  },
  {
   "cell_type": "code",
   "execution_count": 2,
   "metadata": {},
   "outputs": [
    {
     "data": {
      "text/html": [
       "<div>\n",
       "<style scoped>\n",
       "    .dataframe tbody tr th:only-of-type {\n",
       "        vertical-align: middle;\n",
       "    }\n",
       "\n",
       "    .dataframe tbody tr th {\n",
       "        vertical-align: top;\n",
       "    }\n",
       "\n",
       "    .dataframe thead th {\n",
       "        text-align: right;\n",
       "    }\n",
       "</style>\n",
       "<table border=\"1\" class=\"dataframe\">\n",
       "  <thead>\n",
       "    <tr style=\"text-align: right;\">\n",
       "      <th></th>\n",
       "      <th>Environment</th>\n",
       "      <th>Quality</th>\n",
       "    </tr>\n",
       "  </thead>\n",
       "  <tbody>\n",
       "    <tr>\n",
       "      <th>0</th>\n",
       "      <td>0</td>\n",
       "      <td>4</td>\n",
       "    </tr>\n",
       "    <tr>\n",
       "      <th>1</th>\n",
       "      <td>0</td>\n",
       "      <td>3</td>\n",
       "    </tr>\n",
       "    <tr>\n",
       "      <th>2</th>\n",
       "      <td>0</td>\n",
       "      <td>4</td>\n",
       "    </tr>\n",
       "    <tr>\n",
       "      <th>3</th>\n",
       "      <td>0</td>\n",
       "      <td>4</td>\n",
       "    </tr>\n",
       "    <tr>\n",
       "      <th>4</th>\n",
       "      <td>0</td>\n",
       "      <td>4</td>\n",
       "    </tr>\n",
       "    <tr>\n",
       "      <th>...</th>\n",
       "      <td>...</td>\n",
       "      <td>...</td>\n",
       "    </tr>\n",
       "    <tr>\n",
       "      <th>400</th>\n",
       "      <td>1</td>\n",
       "      <td>2</td>\n",
       "    </tr>\n",
       "    <tr>\n",
       "      <th>401</th>\n",
       "      <td>1</td>\n",
       "      <td>2</td>\n",
       "    </tr>\n",
       "    <tr>\n",
       "      <th>402</th>\n",
       "      <td>1</td>\n",
       "      <td>3</td>\n",
       "    </tr>\n",
       "    <tr>\n",
       "      <th>403</th>\n",
       "      <td>1</td>\n",
       "      <td>1</td>\n",
       "    </tr>\n",
       "    <tr>\n",
       "      <th>404</th>\n",
       "      <td>1</td>\n",
       "      <td>1</td>\n",
       "    </tr>\n",
       "  </tbody>\n",
       "</table>\n",
       "<p>405 rows × 2 columns</p>\n",
       "</div>"
      ],
      "text/plain": [
       "     Environment  Quality\n",
       "0              0        4\n",
       "1              0        3\n",
       "2              0        4\n",
       "3              0        4\n",
       "4              0        4\n",
       "..           ...      ...\n",
       "400            1        2\n",
       "401            1        2\n",
       "402            1        3\n",
       "403            1        1\n",
       "404            1        1\n",
       "\n",
       "[405 rows x 2 columns]"
      ]
     },
     "execution_count": 2,
     "metadata": {},
     "output_type": "execute_result"
    }
   ],
   "source": [
    "dataset = pd.read_excel(\"../datasets/DB03_lab_crowd_speech_quality.xlsx\")\n",
    "dataset"
   ]
  },
  {
   "cell_type": "code",
   "execution_count": 3,
   "metadata": {},
   "outputs": [
    {
     "data": {
      "image/png": "[encoded data removed]",
      "text/plain": [
       "<Figure size 1440x288 with 1 Axes>"
      ]
     },
     "metadata": {
      "needs_background": "light"
     },
     "output_type": "display_data"
    }
   ],
   "source": [
    "fig, ax = plt.subplots(figsize=FIGSIZE)\n",
    "sns.countplot(x=\"Quality\",  hue=\"Environment\", data=dataset, ax=ax)\n",
    "None"
   ]
  },
  {
   "cell_type": "markdown",
   "metadata": {},
   "source": [
    "## Test Requirements\n",
    "### Measurement Level\n",
    "> dependent variable should be measured at the interval or ratio level (i.e., continuous)\n",
    "\n",
    "The provided quality values are measured on the _interval_ level. ✓\n",
    "### No significant outliers\n",
    "Check for outliers via boxplot:"
   ]
  },
  {
   "cell_type": "code",
   "execution_count": 4,
   "metadata": {},
   "outputs": [
    {
     "data": {
      "image/png": "[encoded data removed]",
      "text/plain": [
       "<Figure size 1152x288 with 2 Axes>"
      ]
     },
     "metadata": {
      "needs_background": "light"
     },
     "output_type": "display_data"
    }
   ],
   "source": [
    "g = sns.FacetGrid(dataset, col=\"Environment\", height=4, aspect=2)\n",
    "g.map_dataframe(sns.boxplot, \"Quality\")\n",
    "g.fig.tight_layout()"
   ]
  },
  {
   "cell_type": "code",
   "execution_count": 5,
   "metadata": {},
   "outputs": [
    {
     "data": {
      "image/png": "[encoded data removed]",
      "text/plain": [
       "<Figure size 1152x288 with 2 Axes>"
      ]
     },
     "metadata": {
      "needs_background": "light"
     },
     "output_type": "display_data"
    }
   ],
   "source": [
    "# Select mask with all outliers, and invert it to filter outliers\n",
    "outlier_mask = (dataset.Environment == 0) & (dataset.Quality == 1)\n",
    "dataset_no_outliers = dataset.loc[~outlier_mask]\n",
    "\n",
    "# Plot cleaned dataset\n",
    "g = sns.FacetGrid(dataset_no_outliers, col=\"Environment\", height=4, aspect=2)\n",
    "g.map_dataframe(sns.boxplot, \"Quality\")\n",
    "g.fig.tight_layout()"
   ]
  },
  {
   "cell_type": "markdown",
   "metadata": {},
   "source": [
    "Outliers removed ✓\n",
    "\n",
    "### Independent Groups\n",
    "> independent variable should consist of two categorical, independent groups\n",
    "\n",
    "Since data for each _Environment_ was measure using a disjoint group of subjects, the _Environment_ separates the data into two categorical, independent groups. ✓\n",
    "\n",
    "### Independence of Observations\n",
    "?\n",
    "\n",
    "### Approx. Normal Distribution\n",
    "> dependent variable should be approximately normally distributed for each group of the independent variable\n",
    "\n",
    "See histrogram at the top. ✓\n",
    "\n",
    "### Homogeneity of Variances\n",
    "\n",
    "> The Levene test tests the null hypothesis that all input samples are from populations with equal variances. [...]\n",
    "> Notes\n",
    "Three variations of Levene’s test are possible. The possibilities and their recommended usages are:\n",
    "- ‘median’ : Recommended for skewed (non-normal) distributions>\n",
    "- ‘mean’ : Recommended for symmetric, moderate-tailed distributions.\n",
    "- ‘trimmed’ : Recommended for heavy-tailed distributions.\n",
    "\n",
    "Source: https://docs.scipy.org/doc/scipy/reference/generated/scipy.stats.levene.html\n",
    "\n",
    "We assume an approximate normal distribution. Therefore, we use the `mean` approach."
   ]
  },
  {
   "cell_type": "code",
   "execution_count": 6,
   "metadata": {},
   "outputs": [
    {
     "name": "stdout",
     "output_type": "stream",
     "text": [
      "Levene p-value: 0.5180100399464473\n"
     ]
    }
   ],
   "source": [
    "home = dataset_no_outliers[dataset_no_outliers.Environment == 0].Quality\n",
    "lab = dataset_no_outliers[dataset_no_outliers.Environment == 1].Quality\n",
    "\n",
    "levene_result = scipy.stats.levene(home, lab, center=\"mean\")\n",
    "print(f\"Levene p-value: {levene_result.pvalue}\")\n",
    "has_equal_var = levene_result.pvalue > 0.05"
   ]
  },
  {
   "cell_type": "markdown",
   "metadata": {},
   "source": [
    "The resulting p-value is (much) larger than 0.05, therefore we cannot reject the null-hypothesis. The homogeneity of variances is given. ✓\n",
    "\n",
    "## Independent T-test\n",
    "\n",
    "> Calculate the T-test for the means of two independent samples of scores.<br/><br/>\n",
    "> This is a two-sided test for the null hypothesis that 2 independent samples have identical average (expected) values. This test assumes that the populations have identical variances by default."
   ]
  },
  {
   "cell_type": "code",
   "execution_count": 7,
   "metadata": {},
   "outputs": [
    {
     "name": "stdout",
     "output_type": "stream",
     "text": [
      "Independent T-test p-value: 0.000037\n"
     ]
    }
   ],
   "source": [
    "ind_ttest_result = scipy.stats.ttest_ind(home, lab, equal_var=has_equal_var)\n",
    "print(f\"Independent T-test p-value: {ind_ttest_result.pvalue:f}\")"
   ]
  },
  {
   "cell_type": "markdown",
   "metadata": {},
   "source": [
    "The p-value much lower than 0.01 (<1% false-positive rate). Therefore, we can _reject_ the null hypothesis that the two independent groups have _equal_ averages, i.e. **the test environment has a significant influence on speech quality ratings**."
   ]
  }
 ],
 "metadata": {
  "kernelspec": {
   "display_name": "Python 3",
   "language": "python",
   "name": "python3"
  },
  "language_info": {
   "codemirror_mode": {
    "name": "ipython",
    "version": 3
   },
   "file_extension": ".py",
   "mimetype": "text/x-python",
   "name": "python",
   "nbconvert_exporter": "python",
   "pygments_lexer": "ipython3",
   "version": "3.6.5"
  }
 },
 "nbformat": 4,
 "nbformat_minor": 2
}
