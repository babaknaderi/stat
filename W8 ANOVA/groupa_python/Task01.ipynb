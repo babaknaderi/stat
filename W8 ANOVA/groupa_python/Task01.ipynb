{
 "cells": [
  {
   "cell_type": "markdown",
   "metadata": {},
   "source": [
    "# 08 ANOVA - Task 1"
   ]
  },
  {
   "cell_type": "markdown",
   "metadata": {},
   "source": [
    "Provide a script and html file which calulates the suitable ANOVA to answer the\n",
    "following research questions (RQ). Please also report the results as a text\n",
    "conclusion including the test statistic value (F) with degree of freedom, significance\n",
    "value as well as pairwise comparisions."
   ]
  },
  {
   "cell_type": "markdown",
   "metadata": {},
   "source": [
    "Does increasing the bitrate or changing the game (independent variables)\n",
    "have a significant effect on the video quality (VQ) ratings (dependent variable).\n",
    "Please consider only ratings at a resolution of 1080p and a framerate of 60 fps\n",
    "(conditions 36 and 50). Use the ratings provided in the gaming video quality dataset."
   ]
  },
  {
   "cell_type": "markdown",
   "metadata": {},
   "source": [
    "## Import and Initializing"
   ]
  },
  {
   "cell_type": "code",
   "execution_count": 159,
   "metadata": {},
   "outputs": [],
   "source": [
    "import numpy as np\n",
    "import pandas as pd\n",
    "import scipy\n",
    "\n",
    "# pip install pingouin\n",
    "import pingouin as pg\n",
    "\n",
    "import matplotlib.pyplot as plt\n",
    "import seaborn as sns\n",
    "sns.set(style=\"whitegrid\", context=\"talk\")\n",
    "cm = sns.diverging_palette(127, 14, s=99, l=55, as_cmap=True)\n",
    "\n",
    "FIGSIZE = (20,4)"
   ]
  },
  {
   "cell_type": "markdown",
   "metadata": {},
   "source": [
    "## Loading the data"
   ]
  },
  {
   "cell_type": "code",
   "execution_count": 120,
   "metadata": {},
   "outputs": [
    {
     "name": "stdout",
     "output_type": "stream",
     "text": [
      "<class 'pandas.core.frame.DataFrame'>\n",
      "Int64Index: 94 entries, 2867 to 3242\n",
      "Data columns (total 4 columns):\n",
      " #   Column     Non-Null Count  Dtype  \n",
      "---  ------     --------------  -----  \n",
      " 0   PID        94 non-null     int64  \n",
      " 1   Game       94 non-null     object \n",
      " 2   Condition  94 non-null     object \n",
      " 3   VQ         94 non-null     float64\n",
      "dtypes: float64(1), int64(1), object(2)\n",
      "memory usage: 3.7+ KB\n"
     ]
    }
   ],
   "source": [
    "dataset = pd.read_excel(\n",
    "    \"../datasets/DB01_gaming_video_quality_dataset.xlsx\",\n",
    "    usecols=[\"PID\", \"Game\", \"Condition\", \"VQ\"],\n",
    "    dtype={\"Condition\": str},\n",
    ").dropna()\n",
    "\n",
    "mask = (dataset.Condition == \"36\") | (dataset.Condition == \"50\")\n",
    "dataset = dataset.loc[mask]\n",
    "dataset.info()"
   ]
  },
  {
   "cell_type": "markdown",
   "metadata": {},
   "source": [
    "## Check general requirements"
   ]
  },
  {
   "cell_type": "markdown",
   "metadata": {},
   "source": [
    "### Measurement"
   ]
  },
  {
   "cell_type": "markdown",
   "metadata": {},
   "source": [
    "Independent variables: `Condition` (encodes bitrate), `Game`.<br>\n",
    "The dependent variable (`VQ`) is measured at the interval level.\n",
    "\n",
    "### Balance\n",
    "Remove subjects who do not have measurements for both games."
   ]
  },
  {
   "cell_type": "code",
   "execution_count": 122,
   "metadata": {},
   "outputs": [],
   "source": [
    "value_counts = dataset.PID.value_counts()\n",
    "value_counts.loc[value_counts < 4] = pd.NA\n",
    "value_counts.dropna(inplace=True)\n",
    "dataset = dataset.loc[dataset.PID.isin(value_counts.index)]"
   ]
  },
  {
   "cell_type": "markdown",
   "metadata": {},
   "source": [
    "## Two-way Repeated Measure ANOVA"
   ]
  },
  {
   "cell_type": "code",
   "execution_count": 157,
   "metadata": {},
   "outputs": [
    {
     "data": {
      "text/html": [
       "<style  type=\"text/css\" >\n",
       "    #T_10af194e_43ae_11ea_95ae_aa0000b0ab3arow0_col6 {\n",
       "            background-color:  #169906;\n",
       "            color:  #000000;\n",
       "        }    #T_10af194e_43ae_11ea_95ae_aa0000b0ab3arow0_col7 {\n",
       "            background-color:  #169906;\n",
       "            color:  #000000;\n",
       "        }    #T_10af194e_43ae_11ea_95ae_aa0000b0ab3arow1_col6 {\n",
       "            background-color:  #fe2d07;\n",
       "            color:  #f1f1f1;\n",
       "        }    #T_10af194e_43ae_11ea_95ae_aa0000b0ab3arow1_col7 {\n",
       "            background-color:  #fe2d07;\n",
       "            color:  #f1f1f1;\n",
       "        }    #T_10af194e_43ae_11ea_95ae_aa0000b0ab3arow2_col6 {\n",
       "            background-color:  #fe694e;\n",
       "            color:  #000000;\n",
       "        }    #T_10af194e_43ae_11ea_95ae_aa0000b0ab3arow2_col7 {\n",
       "            background-color:  #fe694e;\n",
       "            color:  #000000;\n",
       "        }</style><table id=\"T_10af194e_43ae_11ea_95ae_aa0000b0ab3a\" ><thead>    <tr>        <th class=\"blank level0\" ></th>        <th class=\"col_heading level0 col0\" >Source</th>        <th class=\"col_heading level0 col1\" >SS</th>        <th class=\"col_heading level0 col2\" >ddof1</th>        <th class=\"col_heading level0 col3\" >ddof2</th>        <th class=\"col_heading level0 col4\" >MS</th>        <th class=\"col_heading level0 col5\" >F</th>        <th class=\"col_heading level0 col6\" >p-unc</th>        <th class=\"col_heading level0 col7\" >p-GG-corr</th>        <th class=\"col_heading level0 col8\" >np2</th>        <th class=\"col_heading level0 col9\" >eps</th>    </tr></thead><tbody>\n",
       "                <tr>\n",
       "                        <th id=\"T_10af194e_43ae_11ea_95ae_aa0000b0ab3alevel0_row0\" class=\"row_heading level0 row0\" >0</th>\n",
       "                        <td id=\"T_10af194e_43ae_11ea_95ae_aa0000b0ab3arow0_col0\" class=\"data row0 col0\" >Condition</td>\n",
       "                        <td id=\"T_10af194e_43ae_11ea_95ae_aa0000b0ab3arow0_col1\" class=\"data row0 col1\" >35.003000</td>\n",
       "                        <td id=\"T_10af194e_43ae_11ea_95ae_aa0000b0ab3arow0_col2\" class=\"data row0 col2\" >1</td>\n",
       "                        <td id=\"T_10af194e_43ae_11ea_95ae_aa0000b0ab3arow0_col3\" class=\"data row0 col3\" >21</td>\n",
       "                        <td id=\"T_10af194e_43ae_11ea_95ae_aa0000b0ab3arow0_col4\" class=\"data row0 col4\" >35.003000</td>\n",
       "                        <td id=\"T_10af194e_43ae_11ea_95ae_aa0000b0ab3arow0_col5\" class=\"data row0 col5\" >200.035000</td>\n",
       "                        <td id=\"T_10af194e_43ae_11ea_95ae_aa0000b0ab3arow0_col6\" class=\"data row0 col6\" >0.000000</td>\n",
       "                        <td id=\"T_10af194e_43ae_11ea_95ae_aa0000b0ab3arow0_col7\" class=\"data row0 col7\" >0.000000</td>\n",
       "                        <td id=\"T_10af194e_43ae_11ea_95ae_aa0000b0ab3arow0_col8\" class=\"data row0 col8\" >0.905000</td>\n",
       "                        <td id=\"T_10af194e_43ae_11ea_95ae_aa0000b0ab3arow0_col9\" class=\"data row0 col9\" >1.000000</td>\n",
       "            </tr>\n",
       "            <tr>\n",
       "                        <th id=\"T_10af194e_43ae_11ea_95ae_aa0000b0ab3alevel0_row1\" class=\"row_heading level0 row1\" >1</th>\n",
       "                        <td id=\"T_10af194e_43ae_11ea_95ae_aa0000b0ab3arow1_col0\" class=\"data row1 col0\" >Game</td>\n",
       "                        <td id=\"T_10af194e_43ae_11ea_95ae_aa0000b0ab3arow1_col1\" class=\"data row1 col1\" >0.003000</td>\n",
       "                        <td id=\"T_10af194e_43ae_11ea_95ae_aa0000b0ab3arow1_col2\" class=\"data row1 col2\" >1</td>\n",
       "                        <td id=\"T_10af194e_43ae_11ea_95ae_aa0000b0ab3arow1_col3\" class=\"data row1 col3\" >21</td>\n",
       "                        <td id=\"T_10af194e_43ae_11ea_95ae_aa0000b0ab3arow1_col4\" class=\"data row1 col4\" >0.003000</td>\n",
       "                        <td id=\"T_10af194e_43ae_11ea_95ae_aa0000b0ab3arow1_col5\" class=\"data row1 col5\" >0.004000</td>\n",
       "                        <td id=\"T_10af194e_43ae_11ea_95ae_aa0000b0ab3arow1_col6\" class=\"data row1 col6\" >0.947343</td>\n",
       "                        <td id=\"T_10af194e_43ae_11ea_95ae_aa0000b0ab3arow1_col7\" class=\"data row1 col7\" >0.947343</td>\n",
       "                        <td id=\"T_10af194e_43ae_11ea_95ae_aa0000b0ab3arow1_col8\" class=\"data row1 col8\" >0.000000</td>\n",
       "                        <td id=\"T_10af194e_43ae_11ea_95ae_aa0000b0ab3arow1_col9\" class=\"data row1 col9\" >1.000000</td>\n",
       "            </tr>\n",
       "            <tr>\n",
       "                        <th id=\"T_10af194e_43ae_11ea_95ae_aa0000b0ab3alevel0_row2\" class=\"row_heading level0 row2\" >2</th>\n",
       "                        <td id=\"T_10af194e_43ae_11ea_95ae_aa0000b0ab3arow2_col0\" class=\"data row2 col0\" >Condition * Game</td>\n",
       "                        <td id=\"T_10af194e_43ae_11ea_95ae_aa0000b0ab3arow2_col1\" class=\"data row2 col1\" >0.050000</td>\n",
       "                        <td id=\"T_10af194e_43ae_11ea_95ae_aa0000b0ab3arow2_col2\" class=\"data row2 col2\" >1</td>\n",
       "                        <td id=\"T_10af194e_43ae_11ea_95ae_aa0000b0ab3arow2_col3\" class=\"data row2 col3\" >21</td>\n",
       "                        <td id=\"T_10af194e_43ae_11ea_95ae_aa0000b0ab3arow2_col4\" class=\"data row2 col4\" >0.050000</td>\n",
       "                        <td id=\"T_10af194e_43ae_11ea_95ae_aa0000b0ab3arow2_col5\" class=\"data row2 col5\" >0.066000</td>\n",
       "                        <td id=\"T_10af194e_43ae_11ea_95ae_aa0000b0ab3arow2_col6\" class=\"data row2 col6\" >0.799766</td>\n",
       "                        <td id=\"T_10af194e_43ae_11ea_95ae_aa0000b0ab3arow2_col7\" class=\"data row2 col7\" >0.799766</td>\n",
       "                        <td id=\"T_10af194e_43ae_11ea_95ae_aa0000b0ab3arow2_col8\" class=\"data row2 col8\" >0.003000</td>\n",
       "                        <td id=\"T_10af194e_43ae_11ea_95ae_aa0000b0ab3arow2_col9\" class=\"data row2 col9\" >1.000000</td>\n",
       "            </tr>\n",
       "    </tbody></table>"
      ],
      "text/plain": [
       "<pandas.io.formats.style.Styler at 0x7f7cfcffcd68>"
      ]
     },
     "execution_count": 157,
     "metadata": {},
     "output_type": "execute_result"
    }
   ],
   "source": [
    "result = pg.rm_anova(dataset, dv=\"VQ\", subject=\"PID\", within=[\"Condition\", \"Game\"])\n",
    "result.style.background_gradient(cmap=cm, subset=[\"p-unc\", \"p-GG-corr\"])"
   ]
  },
  {
   "cell_type": "markdown",
   "metadata": {},
   "source": [
    "- `Source`: Name of the within-group factor\n",
    "- `ddof1`: Degrees of freedom (numerator)\n",
    "- `ddof2`: Degrees of freedom (denominator)\n",
    "- `F`: F-value\n",
    "- `p-unc`: Uncorrected p-value\n",
    "- `np2`: Partial eta-square effect size\n",
    "- `eps`: Greenhouse-Geisser epsilon factor (= index of sphericity)\n",
    "- `p-GG-corr`: Greenhouse-Geisser corrected p-value\n",
    "- `W-spher`: Sphericity test statistic\n",
    "- `p-spher`: p-value of the sphericity test\n",
    "- `sphericity`: sphericity of the data (boolean)\n",
    "\n",
    "> [...] The default for two-way design is to return both the uncorrected and Greenhouse-Geisser corrected p-values. Note that sphericity test for two-way design are not currently implemented in Pingouin.\n",
    "\n",
    "Source: https://pingouin-stats.org/generated/pingouin.rm_anova.html?highlight=rm_anova#pingouin.rm_anova"
   ]
  },
  {
   "cell_type": "code",
   "execution_count": 160,
   "metadata": {},
   "outputs": [
    {
     "data": {
      "text/html": [
       "<style  type=\"text/css\" >\n",
       "    #T_98a39a42_4420_11ea_95ae_aa0000b0ab3arow0_col9 {\n",
       "            background-color:  #169906;\n",
       "            color:  #000000;\n",
       "        }    #T_98a39a42_4420_11ea_95ae_aa0000b0ab3arow1_col9 {\n",
       "            background-color:  #fe2d07;\n",
       "            color:  #f1f1f1;\n",
       "        }    #T_98a39a42_4420_11ea_95ae_aa0000b0ab3arow2_col9 {\n",
       "            background-color:  #fe6043;\n",
       "            color:  #000000;\n",
       "        }    #T_98a39a42_4420_11ea_95ae_aa0000b0ab3arow3_col9 {\n",
       "            background-color:  #fe4725;\n",
       "            color:  #000000;\n",
       "        }</style><table id=\"T_98a39a42_4420_11ea_95ae_aa0000b0ab3a\" ><thead>    <tr>        <th class=\"blank level0\" ></th>        <th class=\"col_heading level0 col0\" >Contrast</th>        <th class=\"col_heading level0 col1\" >Condition</th>        <th class=\"col_heading level0 col2\" >A</th>        <th class=\"col_heading level0 col3\" >B</th>        <th class=\"col_heading level0 col4\" >Paired</th>        <th class=\"col_heading level0 col5\" >Parametric</th>        <th class=\"col_heading level0 col6\" >T</th>        <th class=\"col_heading level0 col7\" >dof</th>        <th class=\"col_heading level0 col8\" >Tail</th>        <th class=\"col_heading level0 col9\" >p-unc</th>        <th class=\"col_heading level0 col10\" >BF10</th>        <th class=\"col_heading level0 col11\" >hedges</th>    </tr></thead><tbody>\n",
       "                <tr>\n",
       "                        <th id=\"T_98a39a42_4420_11ea_95ae_aa0000b0ab3alevel0_row0\" class=\"row_heading level0 row0\" >0</th>\n",
       "                        <td id=\"T_98a39a42_4420_11ea_95ae_aa0000b0ab3arow0_col0\" class=\"data row0 col0\" >Condition</td>\n",
       "                        <td id=\"T_98a39a42_4420_11ea_95ae_aa0000b0ab3arow0_col1\" class=\"data row0 col1\" >-</td>\n",
       "                        <td id=\"T_98a39a42_4420_11ea_95ae_aa0000b0ab3arow0_col2\" class=\"data row0 col2\" >36</td>\n",
       "                        <td id=\"T_98a39a42_4420_11ea_95ae_aa0000b0ab3arow0_col3\" class=\"data row0 col3\" >50</td>\n",
       "                        <td id=\"T_98a39a42_4420_11ea_95ae_aa0000b0ab3arow0_col4\" class=\"data row0 col4\" >True</td>\n",
       "                        <td id=\"T_98a39a42_4420_11ea_95ae_aa0000b0ab3arow0_col5\" class=\"data row0 col5\" >True</td>\n",
       "                        <td id=\"T_98a39a42_4420_11ea_95ae_aa0000b0ab3arow0_col6\" class=\"data row0 col6\" >-14.143000</td>\n",
       "                        <td id=\"T_98a39a42_4420_11ea_95ae_aa0000b0ab3arow0_col7\" class=\"data row0 col7\" >21.000000</td>\n",
       "                        <td id=\"T_98a39a42_4420_11ea_95ae_aa0000b0ab3arow0_col8\" class=\"data row0 col8\" >two-sided</td>\n",
       "                        <td id=\"T_98a39a42_4420_11ea_95ae_aa0000b0ab3arow0_col9\" class=\"data row0 col9\" >0.000000</td>\n",
       "                        <td id=\"T_98a39a42_4420_11ea_95ae_aa0000b0ab3arow0_col10\" class=\"data row0 col10\" >2.328e+09</td>\n",
       "                        <td id=\"T_98a39a42_4420_11ea_95ae_aa0000b0ab3arow0_col11\" class=\"data row0 col11\" >-2.155000</td>\n",
       "            </tr>\n",
       "            <tr>\n",
       "                        <th id=\"T_98a39a42_4420_11ea_95ae_aa0000b0ab3alevel0_row1\" class=\"row_heading level0 row1\" >1</th>\n",
       "                        <td id=\"T_98a39a42_4420_11ea_95ae_aa0000b0ab3arow1_col0\" class=\"data row1 col0\" >Game</td>\n",
       "                        <td id=\"T_98a39a42_4420_11ea_95ae_aa0000b0ab3arow1_col1\" class=\"data row1 col1\" >-</td>\n",
       "                        <td id=\"T_98a39a42_4420_11ea_95ae_aa0000b0ab3arow1_col2\" class=\"data row1 col2\" >Game1</td>\n",
       "                        <td id=\"T_98a39a42_4420_11ea_95ae_aa0000b0ab3arow1_col3\" class=\"data row1 col3\" >Game6</td>\n",
       "                        <td id=\"T_98a39a42_4420_11ea_95ae_aa0000b0ab3arow1_col4\" class=\"data row1 col4\" >True</td>\n",
       "                        <td id=\"T_98a39a42_4420_11ea_95ae_aa0000b0ab3arow1_col5\" class=\"data row1 col5\" >True</td>\n",
       "                        <td id=\"T_98a39a42_4420_11ea_95ae_aa0000b0ab3arow1_col6\" class=\"data row1 col6\" >-0.067000</td>\n",
       "                        <td id=\"T_98a39a42_4420_11ea_95ae_aa0000b0ab3arow1_col7\" class=\"data row1 col7\" >21.000000</td>\n",
       "                        <td id=\"T_98a39a42_4420_11ea_95ae_aa0000b0ab3arow1_col8\" class=\"data row1 col8\" >two-sided</td>\n",
       "                        <td id=\"T_98a39a42_4420_11ea_95ae_aa0000b0ab3arow1_col9\" class=\"data row1 col9\" >0.947343</td>\n",
       "                        <td id=\"T_98a39a42_4420_11ea_95ae_aa0000b0ab3arow1_col10\" class=\"data row1 col10\" >0.223</td>\n",
       "                        <td id=\"T_98a39a42_4420_11ea_95ae_aa0000b0ab3arow1_col11\" class=\"data row1 col11\" >-0.017000</td>\n",
       "            </tr>\n",
       "            <tr>\n",
       "                        <th id=\"T_98a39a42_4420_11ea_95ae_aa0000b0ab3alevel0_row2\" class=\"row_heading level0 row2\" >2</th>\n",
       "                        <td id=\"T_98a39a42_4420_11ea_95ae_aa0000b0ab3arow2_col0\" class=\"data row2 col0\" >Condition * Game</td>\n",
       "                        <td id=\"T_98a39a42_4420_11ea_95ae_aa0000b0ab3arow2_col1\" class=\"data row2 col1\" >36</td>\n",
       "                        <td id=\"T_98a39a42_4420_11ea_95ae_aa0000b0ab3arow2_col2\" class=\"data row2 col2\" >Game1</td>\n",
       "                        <td id=\"T_98a39a42_4420_11ea_95ae_aa0000b0ab3arow2_col3\" class=\"data row2 col3\" >Game6</td>\n",
       "                        <td id=\"T_98a39a42_4420_11ea_95ae_aa0000b0ab3arow2_col4\" class=\"data row2 col4\" >True</td>\n",
       "                        <td id=\"T_98a39a42_4420_11ea_95ae_aa0000b0ab3arow2_col5\" class=\"data row2 col5\" >True</td>\n",
       "                        <td id=\"T_98a39a42_4420_11ea_95ae_aa0000b0ab3arow2_col6\" class=\"data row2 col6\" >-0.226000</td>\n",
       "                        <td id=\"T_98a39a42_4420_11ea_95ae_aa0000b0ab3arow2_col7\" class=\"data row2 col7\" >21.000000</td>\n",
       "                        <td id=\"T_98a39a42_4420_11ea_95ae_aa0000b0ab3arow2_col8\" class=\"data row2 col8\" >two-sided</td>\n",
       "                        <td id=\"T_98a39a42_4420_11ea_95ae_aa0000b0ab3arow2_col9\" class=\"data row2 col9\" >0.823686</td>\n",
       "                        <td id=\"T_98a39a42_4420_11ea_95ae_aa0000b0ab3arow2_col10\" class=\"data row2 col10\" >0.228</td>\n",
       "                        <td id=\"T_98a39a42_4420_11ea_95ae_aa0000b0ab3arow2_col11\" class=\"data row2 col11\" >-0.071000</td>\n",
       "            </tr>\n",
       "            <tr>\n",
       "                        <th id=\"T_98a39a42_4420_11ea_95ae_aa0000b0ab3alevel0_row3\" class=\"row_heading level0 row3\" >3</th>\n",
       "                        <td id=\"T_98a39a42_4420_11ea_95ae_aa0000b0ab3arow3_col0\" class=\"data row3 col0\" >Condition * Game</td>\n",
       "                        <td id=\"T_98a39a42_4420_11ea_95ae_aa0000b0ab3arow3_col1\" class=\"data row3 col1\" >50</td>\n",
       "                        <td id=\"T_98a39a42_4420_11ea_95ae_aa0000b0ab3arow3_col2\" class=\"data row3 col2\" >Game1</td>\n",
       "                        <td id=\"T_98a39a42_4420_11ea_95ae_aa0000b0ab3arow3_col3\" class=\"data row3 col3\" >Game6</td>\n",
       "                        <td id=\"T_98a39a42_4420_11ea_95ae_aa0000b0ab3arow3_col4\" class=\"data row3 col4\" >True</td>\n",
       "                        <td id=\"T_98a39a42_4420_11ea_95ae_aa0000b0ab3arow3_col5\" class=\"data row3 col5\" >True</td>\n",
       "                        <td id=\"T_98a39a42_4420_11ea_95ae_aa0000b0ab3arow3_col6\" class=\"data row3 col6\" >0.151000</td>\n",
       "                        <td id=\"T_98a39a42_4420_11ea_95ae_aa0000b0ab3arow3_col7\" class=\"data row3 col7\" >21.000000</td>\n",
       "                        <td id=\"T_98a39a42_4420_11ea_95ae_aa0000b0ab3arow3_col8\" class=\"data row3 col8\" >two-sided</td>\n",
       "                        <td id=\"T_98a39a42_4420_11ea_95ae_aa0000b0ab3arow3_col9\" class=\"data row3 col9\" >0.881675</td>\n",
       "                        <td id=\"T_98a39a42_4420_11ea_95ae_aa0000b0ab3arow3_col10\" class=\"data row3 col10\" >0.225</td>\n",
       "                        <td id=\"T_98a39a42_4420_11ea_95ae_aa0000b0ab3arow3_col11\" class=\"data row3 col11\" >0.043000</td>\n",
       "            </tr>\n",
       "    </tbody></table>"
      ],
      "text/plain": [
       "<pandas.io.formats.style.Styler at 0x7f7cfcffcd30>"
      ]
     },
     "execution_count": 160,
     "metadata": {},
     "output_type": "execute_result"
    }
   ],
   "source": [
    "result = pg.pairwise_ttests(dataset, dv=\"VQ\", subject=\"PID\", within=[\"Condition\", \"Game\"])\n",
    "result.style.background_gradient(cmap=cm, subset=[\"p-unc\"])"
   ]
  },
  {
   "cell_type": "code",
   "execution_count": null,
   "metadata": {},
   "outputs": [],
   "source": []
  }
 ],
 "metadata": {
  "kernelspec": {
   "display_name": "Python 3",
   "language": "python",
   "name": "python3"
  },
  "language_info": {
   "codemirror_mode": {
    "name": "ipython",
    "version": 3
   },
   "file_extension": ".py",
   "mimetype": "text/x-python",
   "name": "python",
   "nbconvert_exporter": "python",
   "pygments_lexer": "ipython3",
   "version": "3.6.5"
  }
 },
 "nbformat": 4,
 "nbformat_minor": 2
}
