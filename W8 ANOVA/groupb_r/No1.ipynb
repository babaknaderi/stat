{
 "cells": [
  {
   "cell_type": "markdown",
   "metadata": {},
   "source": [
    "# Task 1: Does increasing the bitrate or changing the game (independet variables) have a significant effect on the video quality (VQ) ratings (dependent variable)? Please consider ALL RATINGS at a resolution of 1080p and a framerate of 60 fps. Use the ratings provided in the gaming video quality data set."
   ]
  },
  {
   "cell_type": "markdown",
   "metadata": {},
   "source": [
    "### Step 1: Import libraries and read in data set"
   ]
  },
  {
   "cell_type": "code",
   "execution_count": 1,
   "metadata": {},
   "outputs": [],
   "source": [
    "# install.packages('dplyr')      # processing \n",
    "# install.packages('gdata')      # file reading\n",
    "# install.packages('car')        # homogenity of variances\n",
    "# install.packages('rstatix')    # Tukey's post hoc test\n",
    "# install.packages('ez')         # ANOVA table"
   ]
  },
  {
   "cell_type": "code",
   "execution_count": 2,
   "metadata": {},
   "outputs": [
    {
     "name": "stderr",
     "output_type": "stream",
     "text": [
      "Warning message:\n",
      "\"package 'dplyr' was built under R version 3.6.2\"\n",
      "Attaching package: 'dplyr'\n",
      "\n",
      "The following objects are masked from 'package:stats':\n",
      "\n",
      "    filter, lag\n",
      "\n",
      "The following objects are masked from 'package:base':\n",
      "\n",
      "    intersect, setdiff, setequal, union\n",
      "\n",
      "Warning message:\n",
      "\"package 'car' was built under R version 3.6.2\"Loading required package: carData\n",
      "\n",
      "Attaching package: 'car'\n",
      "\n",
      "The following object is masked from 'package:dplyr':\n",
      "\n",
      "    recode\n",
      "\n",
      "Warning message:\n",
      "\"package 'rstatix' was built under R version 3.6.2\"\n",
      "Attaching package: 'rstatix'\n",
      "\n",
      "The following object is masked from 'package:stats':\n",
      "\n",
      "    filter\n",
      "\n",
      "Warning message:\n",
      "\"package 'ez' was built under R version 3.6.2\"Registered S3 methods overwritten by 'lme4':\n",
      "  method                          from\n",
      "  cooks.distance.influence.merMod car \n",
      "  influence.merMod                car \n",
      "  dfbeta.influence.merMod         car \n",
      "  dfbetas.influence.merMod        car \n"
     ]
    }
   ],
   "source": [
    "library(dplyr)     # processing\n",
    "library(readxl)    # reading in data\n",
    "library(car)       # homogenity of variances\n",
    "library(rstatix)   # Tukey's post hoc test\n",
    "library(ez)        # ANOVA table"
   ]
  },
  {
   "cell_type": "code",
   "execution_count": 3,
   "metadata": {},
   "outputs": [
    {
     "data": {
      "text/html": [
       "<table>\n",
       "<thead><tr><th scope=col>PID</th><th scope=col>Bitrate</th><th scope=col>Game</th><th scope=col>VQ</th></tr></thead>\n",
       "<tbody>\n",
       "\t<tr><td>1    </td><td>2000 </td><td>Game2</td><td>2.9  </td></tr>\n",
       "\t<tr><td>1    </td><td>2000 </td><td>Game5</td><td>2.2  </td></tr>\n",
       "\t<tr><td>1    </td><td>2000 </td><td>Game1</td><td>2.9  </td></tr>\n",
       "\t<tr><td>1    </td><td>2000 </td><td>Game6</td><td>2.0  </td></tr>\n",
       "\t<tr><td>1    </td><td>2000 </td><td>Game3</td><td>3.4  </td></tr>\n",
       "\t<tr><td>1    </td><td>2000 </td><td>Game4</td><td>2.6  </td></tr>\n",
       "</tbody>\n",
       "</table>\n"
      ],
      "text/latex": [
       "\\begin{tabular}{r|llll}\n",
       " PID & Bitrate & Game & VQ\\\\\n",
       "\\hline\n",
       "\t 1     & 2000  & Game2 & 2.9  \\\\\n",
       "\t 1     & 2000  & Game5 & 2.2  \\\\\n",
       "\t 1     & 2000  & Game1 & 2.9  \\\\\n",
       "\t 1     & 2000  & Game6 & 2.0  \\\\\n",
       "\t 1     & 2000  & Game3 & 3.4  \\\\\n",
       "\t 1     & 2000  & Game4 & 2.6  \\\\\n",
       "\\end{tabular}\n"
      ],
      "text/markdown": [
       "\n",
       "| PID | Bitrate | Game | VQ |\n",
       "|---|---|---|---|\n",
       "| 1     | 2000  | Game2 | 2.9   |\n",
       "| 1     | 2000  | Game5 | 2.2   |\n",
       "| 1     | 2000  | Game1 | 2.9   |\n",
       "| 1     | 2000  | Game6 | 2.0   |\n",
       "| 1     | 2000  | Game3 | 3.4   |\n",
       "| 1     | 2000  | Game4 | 2.6   |\n",
       "\n"
      ],
      "text/plain": [
       "  PID Bitrate Game  VQ \n",
       "1 1   2000    Game2 2.9\n",
       "2 1   2000    Game5 2.2\n",
       "3 1   2000    Game1 2.9\n",
       "4 1   2000    Game6 2.0\n",
       "5 1   2000    Game3 3.4\n",
       "6 1   2000    Game4 2.6"
      ]
     },
     "metadata": {},
     "output_type": "display_data"
    }
   ],
   "source": [
    "# read in data sets\n",
    "get_gaming_data <- function() {\n",
    "    gaming_data <- read_excel(\"datasets/DB01_gaming_video_quality_dataset.xlsx\")\n",
    "    gaming_data <- gaming_data %>% dplyr::filter(Resolution == 1080, Framerate == 60) %>%\n",
    "                                    select(PID, Bitrate, Game, VQ) %>%\n",
    "                                    mutate(Bitrate = as.character(Bitrate), PID = as.factor(PID), Game = as.factor(Game)) %>%\n",
    "                                    arrange(PID)\n",
    "    \n",
    "    gaming_data\n",
    "}\n",
    "\n",
    "gaming_data <- get_gaming_data()\n",
    "head(gaming_data)"
   ]
  },
  {
   "cell_type": "markdown",
   "metadata": {},
   "source": [
    "### Step 2: Decide on which ANOVA test to use"
   ]
  },
  {
   "cell_type": "markdown",
   "metadata": {},
   "source": [
    "#### => 2 independent input variables (bitrate & game), 1 dependent variable, repeated measures for same subjects => two-way repeated measure ANOVA"
   ]
  },
  {
   "cell_type": "markdown",
   "metadata": {},
   "source": [
    "### Step 3: Check assumptions"
   ]
  },
  {
   "cell_type": "markdown",
   "metadata": {},
   "source": [
    "#### 1. Dependent variables on interval or ratio scale => check, because VQ is continuous\n",
    "#### 2. Independent variables with two or more groups => check, because Game1-6 for game, 2k,4k,6k,50k kbps for bitrate\n",
    "#### 3. Indepenence of observation => check, because participants are independent and within-subject independence is assumed\n",
    "#### 4. No significant outliers => don't know, need to check that in the next step!\n",
    "#### 5. Normally distributed population for every single group => don't know, need to check that in the next step!\n",
    "#### 6. Homogenity of variances => don't know, need to check that in the next step!"
   ]
  },
  {
   "cell_type": "markdown",
   "metadata": {},
   "source": [
    "### Step 3.1: Outlier detection"
   ]
  },
  {
   "cell_type": "code",
   "execution_count": 4,
   "metadata": {},
   "outputs": [
    {
     "data": {
      "text/html": [
       "<table>\n",
       "<thead><tr><th scope=col>VQ</th><th scope=col>Z_Score_VQ</th></tr></thead>\n",
       "<tbody>\n",
       "\t<tr><td>7.0     </td><td>2.334889</td></tr>\n",
       "\t<tr><td>6.7     </td><td>2.076914</td></tr>\n",
       "\t<tr><td>6.7     </td><td>2.076914</td></tr>\n",
       "\t<tr><td>6.6     </td><td>1.990922</td></tr>\n",
       "\t<tr><td>6.5     </td><td>1.904930</td></tr>\n",
       "\t<tr><td>6.4     </td><td>1.818938</td></tr>\n",
       "</tbody>\n",
       "</table>\n"
      ],
      "text/latex": [
       "\\begin{tabular}{r|ll}\n",
       " VQ & Z\\_Score\\_VQ\\\\\n",
       "\\hline\n",
       "\t 7.0      & 2.334889\\\\\n",
       "\t 6.7      & 2.076914\\\\\n",
       "\t 6.7      & 2.076914\\\\\n",
       "\t 6.6      & 1.990922\\\\\n",
       "\t 6.5      & 1.904930\\\\\n",
       "\t 6.4      & 1.818938\\\\\n",
       "\\end{tabular}\n"
      ],
      "text/markdown": [
       "\n",
       "| VQ | Z_Score_VQ |\n",
       "|---|---|\n",
       "| 7.0      | 2.334889 |\n",
       "| 6.7      | 2.076914 |\n",
       "| 6.7      | 2.076914 |\n",
       "| 6.6      | 1.990922 |\n",
       "| 6.5      | 1.904930 |\n",
       "| 6.4      | 1.818938 |\n",
       "\n"
      ],
      "text/plain": [
       "  VQ  Z_Score_VQ\n",
       "1 7.0 2.334889  \n",
       "2 6.7 2.076914  \n",
       "3 6.7 2.076914  \n",
       "4 6.6 1.990922  \n",
       "5 6.5 1.904930  \n",
       "6 6.4 1.818938  "
      ]
     },
     "metadata": {},
     "output_type": "display_data"
    }
   ],
   "source": [
    "# z score method\n",
    "head(\n",
    "    gaming_data %>% \n",
    "                mutate(Std_Dev_VQ = sd(VQ), \n",
    "                       Mean_VQ = mean(VQ)) %>%\n",
    "                mutate(Z_Score_VQ = (VQ - Mean_VQ) / Std_Dev_VQ) %>%\n",
    "                select(VQ, Z_Score_VQ) %>%\n",
    "                drop_na() %>%\n",
    "                arrange(desc(Z_Score_VQ))\n",
    ")"
   ]
  },
  {
   "cell_type": "markdown",
   "metadata": {},
   "source": [
    "#### Criterion checked: no significant outliers (no absolute z score greater than 3.29)"
   ]
  },
  {
   "cell_type": "markdown",
   "metadata": {},
   "source": [
    "### Step 3.2: Normally distributed population for every single group"
   ]
  },
  {
   "cell_type": "code",
   "execution_count": 5,
   "metadata": {},
   "outputs": [],
   "source": [
    "# normality checking for groups\n",
    "check_normality_for_group <- function(game, bitrate) {\n",
    "    data <- gaming_data %>% dplyr::filter(Game == game & Bitrate == bitrate) \n",
    "    test_result <- ks.test(data[['VQ']], \"pnorm\", mean=mean(data[['VQ']]), sd=sd(data[['VQ']]))\n",
    "    result_string <- paste0('Normality for ', game, ' & bitrate of ', bitrate, ' kbps: ')\n",
    "    test_result[['p.value']]\n",
    "    \n",
    "    if(test_result[['p.value']] < 0.05) {\n",
    "        result_string <- paste0(result_string, as.character(round(test_result[['p.value']], digits=3)), \n",
    "                                ' p-value (Kolmogrov-Smirnov) == NO, ')\n",
    "    } else {\n",
    "        result_string <- paste0(result_string, as.character(round(test_result[['p.value']], digits=3)), \n",
    "                                ' p-value (Kolmogrov-Smirnov) == YES, ')\n",
    "    }\n",
    "    \n",
    "    test_result <- shapiro.test(data[['VQ']])\n",
    "    if(test_result[['p.value']] < 0.05) {\n",
    "        result_string <- paste0(result_string, as.character(round(test_result[['p.value']], digits=3)), \n",
    "                                ' p-value (Shapiro-Wilk) == NO!')\n",
    "    } else {\n",
    "        result_string <- paste0(result_string, as.character(round(test_result[['p.value']], digits=3)), \n",
    "                                ' p-value (Shapiro-Wilk) == YES!')\n",
    "    }\n",
    "    \n",
    "    result_string\n",
    "}"
   ]
  },
  {
   "cell_type": "code",
   "execution_count": 6,
   "metadata": {},
   "outputs": [
    {
     "name": "stderr",
     "output_type": "stream",
     "text": [
      "Warning message in ks.test(data[[\"VQ\"]], \"pnorm\", mean = mean(data[[\"VQ\"]]), sd = sd(data[[\"VQ\"]])):\n",
      "\"ties should not be present for the Kolmogorov-Smirnov test\""
     ]
    },
    {
     "name": "stdout",
     "output_type": "stream",
     "text": [
      "Normality for Game1 & bitrate of 2000 kbps: 0.249 p-value (Kolmogrov-Smirnov) == YES, 0.04 p-value (Shapiro-Wilk) == NO!"
     ]
    },
    {
     "name": "stderr",
     "output_type": "stream",
     "text": [
      "Warning message in ks.test(data[[\"VQ\"]], \"pnorm\", mean = mean(data[[\"VQ\"]]), sd = sd(data[[\"VQ\"]])):\n",
      "\"ties should not be present for the Kolmogorov-Smirnov test\""
     ]
    },
    {
     "name": "stdout",
     "output_type": "stream",
     "text": [
      "Normality for Game1 & bitrate of 4000 kbps: 0.833 p-value (Kolmogrov-Smirnov) == YES, 0.211 p-value (Shapiro-Wilk) == YES!"
     ]
    },
    {
     "name": "stderr",
     "output_type": "stream",
     "text": [
      "Warning message in ks.test(data[[\"VQ\"]], \"pnorm\", mean = mean(data[[\"VQ\"]]), sd = sd(data[[\"VQ\"]])):\n",
      "\"ties should not be present for the Kolmogorov-Smirnov test\""
     ]
    },
    {
     "name": "stdout",
     "output_type": "stream",
     "text": [
      "Normality for Game1 & bitrate of 50000 kbps: 0.761 p-value (Kolmogrov-Smirnov) == YES, 0.355 p-value (Shapiro-Wilk) == YES!"
     ]
    },
    {
     "name": "stderr",
     "output_type": "stream",
     "text": [
      "Warning message in ks.test(data[[\"VQ\"]], \"pnorm\", mean = mean(data[[\"VQ\"]]), sd = sd(data[[\"VQ\"]])):\n",
      "\"ties should not be present for the Kolmogorov-Smirnov test\""
     ]
    },
    {
     "name": "stdout",
     "output_type": "stream",
     "text": [
      "Normality for Game1 & bitrate of 6000 kbps: 0.975 p-value (Kolmogrov-Smirnov) == YES, 0.308 p-value (Shapiro-Wilk) == YES!"
     ]
    },
    {
     "name": "stderr",
     "output_type": "stream",
     "text": [
      "Warning message in ks.test(data[[\"VQ\"]], \"pnorm\", mean = mean(data[[\"VQ\"]]), sd = sd(data[[\"VQ\"]])):\n",
      "\"ties should not be present for the Kolmogorov-Smirnov test\""
     ]
    },
    {
     "name": "stdout",
     "output_type": "stream",
     "text": [
      "Normality for Game2 & bitrate of 2000 kbps: 0.992 p-value (Kolmogrov-Smirnov) == YES, 0.551 p-value (Shapiro-Wilk) == YES!"
     ]
    },
    {
     "name": "stderr",
     "output_type": "stream",
     "text": [
      "Warning message in ks.test(data[[\"VQ\"]], \"pnorm\", mean = mean(data[[\"VQ\"]]), sd = sd(data[[\"VQ\"]])):\n",
      "\"ties should not be present for the Kolmogorov-Smirnov test\""
     ]
    },
    {
     "name": "stdout",
     "output_type": "stream",
     "text": [
      "Normality for Game2 & bitrate of 4000 kbps: 0.865 p-value (Kolmogrov-Smirnov) == YES, 0.456 p-value (Shapiro-Wilk) == YES!"
     ]
    },
    {
     "name": "stderr",
     "output_type": "stream",
     "text": [
      "Warning message in ks.test(data[[\"VQ\"]], \"pnorm\", mean = mean(data[[\"VQ\"]]), sd = sd(data[[\"VQ\"]])):\n",
      "\"ties should not be present for the Kolmogorov-Smirnov test\""
     ]
    },
    {
     "name": "stdout",
     "output_type": "stream",
     "text": [
      "Normality for Game2 & bitrate of 50000 kbps: 0.062 p-value (Kolmogrov-Smirnov) == YES, 0 p-value (Shapiro-Wilk) == NO!"
     ]
    },
    {
     "name": "stderr",
     "output_type": "stream",
     "text": [
      "Warning message in ks.test(data[[\"VQ\"]], \"pnorm\", mean = mean(data[[\"VQ\"]]), sd = sd(data[[\"VQ\"]])):\n",
      "\"ties should not be present for the Kolmogorov-Smirnov test\""
     ]
    },
    {
     "name": "stdout",
     "output_type": "stream",
     "text": [
      "Normality for Game2 & bitrate of 6000 kbps: 0.591 p-value (Kolmogrov-Smirnov) == YES, 0.085 p-value (Shapiro-Wilk) == YES!"
     ]
    },
    {
     "name": "stderr",
     "output_type": "stream",
     "text": [
      "Warning message in ks.test(data[[\"VQ\"]], \"pnorm\", mean = mean(data[[\"VQ\"]]), sd = sd(data[[\"VQ\"]])):\n",
      "\"ties should not be present for the Kolmogorov-Smirnov test\""
     ]
    },
    {
     "name": "stdout",
     "output_type": "stream",
     "text": [
      "Normality for Game3 & bitrate of 2000 kbps: 0.583 p-value (Kolmogrov-Smirnov) == YES, 0.045 p-value (Shapiro-Wilk) == NO!"
     ]
    },
    {
     "name": "stderr",
     "output_type": "stream",
     "text": [
      "Warning message in ks.test(data[[\"VQ\"]], \"pnorm\", mean = mean(data[[\"VQ\"]]), sd = sd(data[[\"VQ\"]])):\n",
      "\"ties should not be present for the Kolmogorov-Smirnov test\""
     ]
    },
    {
     "name": "stdout",
     "output_type": "stream",
     "text": [
      "Normality for Game3 & bitrate of 4000 kbps: 0.903 p-value (Kolmogrov-Smirnov) == YES, 0.104 p-value (Shapiro-Wilk) == YES!"
     ]
    },
    {
     "name": "stderr",
     "output_type": "stream",
     "text": [
      "Warning message in ks.test(data[[\"VQ\"]], \"pnorm\", mean = mean(data[[\"VQ\"]]), sd = sd(data[[\"VQ\"]])):\n",
      "\"ties should not be present for the Kolmogorov-Smirnov test\""
     ]
    },
    {
     "name": "stdout",
     "output_type": "stream",
     "text": [
      "Normality for Game3 & bitrate of 50000 kbps: 0.289 p-value (Kolmogrov-Smirnov) == YES, 0.055 p-value (Shapiro-Wilk) == YES!"
     ]
    },
    {
     "name": "stderr",
     "output_type": "stream",
     "text": [
      "Warning message in ks.test(data[[\"VQ\"]], \"pnorm\", mean = mean(data[[\"VQ\"]]), sd = sd(data[[\"VQ\"]])):\n",
      "\"ties should not be present for the Kolmogorov-Smirnov test\""
     ]
    },
    {
     "name": "stdout",
     "output_type": "stream",
     "text": [
      "Normality for Game3 & bitrate of 6000 kbps: 0.776 p-value (Kolmogrov-Smirnov) == YES, 0.431 p-value (Shapiro-Wilk) == YES!"
     ]
    },
    {
     "name": "stderr",
     "output_type": "stream",
     "text": [
      "Warning message in ks.test(data[[\"VQ\"]], \"pnorm\", mean = mean(data[[\"VQ\"]]), sd = sd(data[[\"VQ\"]])):\n",
      "\"ties should not be present for the Kolmogorov-Smirnov test\""
     ]
    },
    {
     "name": "stdout",
     "output_type": "stream",
     "text": [
      "Normality for Game4 & bitrate of 2000 kbps: 0.345 p-value (Kolmogrov-Smirnov) == YES, 0.006 p-value (Shapiro-Wilk) == NO!"
     ]
    },
    {
     "name": "stderr",
     "output_type": "stream",
     "text": [
      "Warning message in ks.test(data[[\"VQ\"]], \"pnorm\", mean = mean(data[[\"VQ\"]]), sd = sd(data[[\"VQ\"]])):\n",
      "\"ties should not be present for the Kolmogorov-Smirnov test\""
     ]
    },
    {
     "name": "stdout",
     "output_type": "stream",
     "text": [
      "Normality for Game4 & bitrate of 4000 kbps: 0.794 p-value (Kolmogrov-Smirnov) == YES, 0.871 p-value (Shapiro-Wilk) == YES!"
     ]
    },
    {
     "name": "stderr",
     "output_type": "stream",
     "text": [
      "Warning message in ks.test(data[[\"VQ\"]], \"pnorm\", mean = mean(data[[\"VQ\"]]), sd = sd(data[[\"VQ\"]])):\n",
      "\"ties should not be present for the Kolmogorov-Smirnov test\""
     ]
    },
    {
     "name": "stdout",
     "output_type": "stream",
     "text": [
      "Normality for Game4 & bitrate of 50000 kbps: 0.461 p-value (Kolmogrov-Smirnov) == YES, 0.011 p-value (Shapiro-Wilk) == NO!"
     ]
    },
    {
     "name": "stderr",
     "output_type": "stream",
     "text": [
      "Warning message in ks.test(data[[\"VQ\"]], \"pnorm\", mean = mean(data[[\"VQ\"]]), sd = sd(data[[\"VQ\"]])):\n",
      "\"ties should not be present for the Kolmogorov-Smirnov test\""
     ]
    },
    {
     "name": "stdout",
     "output_type": "stream",
     "text": [
      "Normality for Game4 & bitrate of 6000 kbps: 0.586 p-value (Kolmogrov-Smirnov) == YES, 0.335 p-value (Shapiro-Wilk) == YES!"
     ]
    },
    {
     "name": "stderr",
     "output_type": "stream",
     "text": [
      "Warning message in ks.test(data[[\"VQ\"]], \"pnorm\", mean = mean(data[[\"VQ\"]]), sd = sd(data[[\"VQ\"]])):\n",
      "\"ties should not be present for the Kolmogorov-Smirnov test\""
     ]
    },
    {
     "name": "stdout",
     "output_type": "stream",
     "text": [
      "Normality for Game5 & bitrate of 2000 kbps: 0.524 p-value (Kolmogrov-Smirnov) == YES, 0.284 p-value (Shapiro-Wilk) == YES!"
     ]
    },
    {
     "name": "stderr",
     "output_type": "stream",
     "text": [
      "Warning message in ks.test(data[[\"VQ\"]], \"pnorm\", mean = mean(data[[\"VQ\"]]), sd = sd(data[[\"VQ\"]])):\n",
      "\"ties should not be present for the Kolmogorov-Smirnov test\""
     ]
    },
    {
     "name": "stdout",
     "output_type": "stream",
     "text": [
      "Normality for Game5 & bitrate of 4000 kbps: 0.87 p-value (Kolmogrov-Smirnov) == YES, 0.439 p-value (Shapiro-Wilk) == YES!"
     ]
    },
    {
     "name": "stderr",
     "output_type": "stream",
     "text": [
      "Warning message in ks.test(data[[\"VQ\"]], \"pnorm\", mean = mean(data[[\"VQ\"]]), sd = sd(data[[\"VQ\"]])):\n",
      "\"ties should not be present for the Kolmogorov-Smirnov test\""
     ]
    },
    {
     "name": "stdout",
     "output_type": "stream",
     "text": [
      "Normality for Game5 & bitrate of 50000 kbps: 0.554 p-value (Kolmogrov-Smirnov) == YES, 0.088 p-value (Shapiro-Wilk) == YES!"
     ]
    },
    {
     "name": "stderr",
     "output_type": "stream",
     "text": [
      "Warning message in ks.test(data[[\"VQ\"]], \"pnorm\", mean = mean(data[[\"VQ\"]]), sd = sd(data[[\"VQ\"]])):\n",
      "\"ties should not be present for the Kolmogorov-Smirnov test\""
     ]
    },
    {
     "name": "stdout",
     "output_type": "stream",
     "text": [
      "Normality for Game5 & bitrate of 6000 kbps: 0.411 p-value (Kolmogrov-Smirnov) == YES, 0.051 p-value (Shapiro-Wilk) == YES!"
     ]
    },
    {
     "name": "stderr",
     "output_type": "stream",
     "text": [
      "Warning message in ks.test(data[[\"VQ\"]], \"pnorm\", mean = mean(data[[\"VQ\"]]), sd = sd(data[[\"VQ\"]])):\n",
      "\"ties should not be present for the Kolmogorov-Smirnov test\""
     ]
    },
    {
     "name": "stdout",
     "output_type": "stream",
     "text": [
      "Normality for Game6 & bitrate of 2000 kbps: 0.48 p-value (Kolmogrov-Smirnov) == YES, 0.039 p-value (Shapiro-Wilk) == NO!"
     ]
    },
    {
     "name": "stderr",
     "output_type": "stream",
     "text": [
      "Warning message in ks.test(data[[\"VQ\"]], \"pnorm\", mean = mean(data[[\"VQ\"]]), sd = sd(data[[\"VQ\"]])):\n",
      "\"ties should not be present for the Kolmogorov-Smirnov test\""
     ]
    },
    {
     "name": "stdout",
     "output_type": "stream",
     "text": [
      "Normality for Game6 & bitrate of 4000 kbps: 0.673 p-value (Kolmogrov-Smirnov) == YES, 0.051 p-value (Shapiro-Wilk) == YES!"
     ]
    },
    {
     "name": "stderr",
     "output_type": "stream",
     "text": [
      "Warning message in ks.test(data[[\"VQ\"]], \"pnorm\", mean = mean(data[[\"VQ\"]]), sd = sd(data[[\"VQ\"]])):\n",
      "\"ties should not be present for the Kolmogorov-Smirnov test\""
     ]
    },
    {
     "name": "stdout",
     "output_type": "stream",
     "text": [
      "Normality for Game6 & bitrate of 50000 kbps: 0.267 p-value (Kolmogrov-Smirnov) == YES, 0.001 p-value (Shapiro-Wilk) == NO!"
     ]
    },
    {
     "name": "stderr",
     "output_type": "stream",
     "text": [
      "Warning message in ks.test(data[[\"VQ\"]], \"pnorm\", mean = mean(data[[\"VQ\"]]), sd = sd(data[[\"VQ\"]])):\n",
      "\"ties should not be present for the Kolmogorov-Smirnov test\""
     ]
    },
    {
     "name": "stdout",
     "output_type": "stream",
     "text": [
      "Normality for Game6 & bitrate of 6000 kbps: 0.515 p-value (Kolmogrov-Smirnov) == YES, 0.119 p-value (Shapiro-Wilk) == YES!"
     ]
    }
   ],
   "source": [
    "# print normality tests\n",
    "games <- (gaming_data %>% distinct(Game) %>% arrange(Game))[['Game']]\n",
    "bitrates <- (gaming_data %>% distinct(Bitrate) %>% arrange(Bitrate))[['Bitrate']]\n",
    "\n",
    "for (game in games) {\n",
    "    for (bitrate in bitrates) {\n",
    "        cat(check_normality_for_group(game, bitrate))\n",
    "    }  \n",
    "}"
   ]
  },
  {
   "cell_type": "markdown",
   "metadata": {},
   "source": [
    "#### Normality is likely to not exist within all groups - we are still going to continue though."
   ]
  },
  {
   "cell_type": "markdown",
   "metadata": {},
   "source": [
    "### Step 3.3: Homogenity of variances"
   ]
  },
  {
   "cell_type": "code",
   "execution_count": 7,
   "metadata": {},
   "outputs": [
    {
     "name": "stdout",
     "output_type": "stream",
     "text": [
      "F(df_{Game Game1, 2000 kbps bitrate} = 24, \n",
      "df_{Game Game1, 4000 kbps bitrate} = 24, \n",
      "df_{Game Game1, 50000 kbps bitrate} = 24, \n",
      "df_{Game Game1, 6000 kbps bitrate} = 24, \n",
      "df_{Game Game2, 2000 kbps bitrate} = 24, \n",
      "df_{Game Game2, 4000 kbps bitrate} = 24, \n",
      "df_{Game Game2, 50000 kbps bitrate} = 24, \n",
      "df_{Game Game2, 6000 kbps bitrate} = 24, \n",
      "df_{Game Game3, 2000 kbps bitrate} = 24, \n",
      "df_{Game Game3, 4000 kbps bitrate} = 24, \n",
      "df_{Game Game3, 50000 kbps bitrate} = 24, \n",
      "df_{Game Game3, 6000 kbps bitrate} = 24, \n",
      "df_{Game Game4, 2000 kbps bitrate} = 21, \n",
      "df_{Game Game4, 4000 kbps bitrate} = 21, \n",
      "df_{Game Game4, 50000 kbps bitrate} = 21, \n",
      "df_{Game Game4, 6000 kbps bitrate} = 21, \n",
      "df_{Game Game5, 2000 kbps bitrate} = 21, \n",
      "df_{Game Game5, 4000 kbps bitrate} = 21, \n",
      "df_{Game Game5, 50000 kbps bitrate} = 21, \n",
      "df_{Game Game5, 6000 kbps bitrate} = 21, \n",
      "df_{Game Game6, 2000 kbps bitrate} = 21, \n",
      "df_{Game Game6, 4000 kbps bitrate} = 21, \n",
      "df_{Game Game6, 50000 kbps bitrate} = 21, \n",
      "df_{Game Game6, 6000 kbps bitrate} = 21) = 1.784 | p-value = 0.014 => homogenity of variance CANNOT be assumed"
     ]
    }
   ],
   "source": [
    "# Check for homogenity of groups' VQ ratings\n",
    "get_levene_test_results <- function() {\n",
    "\n",
    "    test_results <- leveneTest(VQ ~ Game*Bitrate, data = gaming_data %>% mutate(Bitrate = as.character(Bitrate)), center = mean)\n",
    "\n",
    "    games <- (gaming_data %>% distinct(Game) %>% arrange(Game))[['Game']]\n",
    "    bitrates <- (gaming_data %>% distinct(Bitrate) %>% arrange(Bitrate))[['Bitrate']]\n",
    "    result <- 'F('\n",
    "    for (game in games) {\n",
    "        for (bitrate in bitrates) {\n",
    "            df <- (gaming_data %>% dplyr::filter(Game == game & Bitrate == bitrate) %>% mutate(df = n() - 1))[1,][['df']]\n",
    "            result <- paste0(result, 'df_{Game ', game, ', ', bitrate, ' kbps bitrate} = ', df, ', \\n')\n",
    "        }  \n",
    "    }\n",
    "    result <- paste0(substr(result,1,nchar(result)-3), ') = ', \n",
    "                     round(test_results[1,2], digits=3), \n",
    "                     ' | p-value = ', \n",
    "                     round(test_results[1,3], digits=3))\n",
    "    \n",
    "    if(test_results[1,3] > 0.05) {\n",
    "        result <- paste0(result, ' => homogenity of variance CAN be assumed')\n",
    "    } else {\n",
    "        result <- paste0(result, ' => homogenity of variance CANNOT be assumed')\n",
    "    }\n",
    "    \n",
    "    cat(result)\n",
    "}\n",
    "\n",
    "get_levene_test_results()"
   ]
  },
  {
   "cell_type": "markdown",
   "metadata": {},
   "source": [
    "#### Therefore, homogenity of variances cannot be assumed - we are still going to continue though."
   ]
  },
  {
   "cell_type": "markdown",
   "metadata": {},
   "source": [
    "### Step 4: Conduct two-way repeated measure ANOVA"
   ]
  },
  {
   "cell_type": "code",
   "execution_count": 8,
   "metadata": {
    "scrolled": false
   },
   "outputs": [
    {
     "data": {
      "text/html": [
       "<table>\n",
       "<thead><tr><th scope=col>PID</th><th scope=col>Bitrate</th><th scope=col>Game</th><th scope=col>VQ</th></tr></thead>\n",
       "<tbody>\n",
       "\t<tr><td>1    </td><td>2000 </td><td>Game2</td><td>2.9  </td></tr>\n",
       "\t<tr><td>1    </td><td>2000 </td><td>Game5</td><td>2.2  </td></tr>\n",
       "\t<tr><td>1    </td><td>2000 </td><td>Game1</td><td>2.9  </td></tr>\n",
       "\t<tr><td>1    </td><td>2000 </td><td>Game6</td><td>2.0  </td></tr>\n",
       "\t<tr><td>1    </td><td>2000 </td><td>Game3</td><td>3.4  </td></tr>\n",
       "\t<tr><td>1    </td><td>2000 </td><td>Game4</td><td>2.6  </td></tr>\n",
       "</tbody>\n",
       "</table>\n"
      ],
      "text/latex": [
       "\\begin{tabular}{r|llll}\n",
       " PID & Bitrate & Game & VQ\\\\\n",
       "\\hline\n",
       "\t 1     & 2000  & Game2 & 2.9  \\\\\n",
       "\t 1     & 2000  & Game5 & 2.2  \\\\\n",
       "\t 1     & 2000  & Game1 & 2.9  \\\\\n",
       "\t 1     & 2000  & Game6 & 2.0  \\\\\n",
       "\t 1     & 2000  & Game3 & 3.4  \\\\\n",
       "\t 1     & 2000  & Game4 & 2.6  \\\\\n",
       "\\end{tabular}\n"
      ],
      "text/markdown": [
       "\n",
       "| PID | Bitrate | Game | VQ |\n",
       "|---|---|---|---|\n",
       "| 1     | 2000  | Game2 | 2.9   |\n",
       "| 1     | 2000  | Game5 | 2.2   |\n",
       "| 1     | 2000  | Game1 | 2.9   |\n",
       "| 1     | 2000  | Game6 | 2.0   |\n",
       "| 1     | 2000  | Game3 | 3.4   |\n",
       "| 1     | 2000  | Game4 | 2.6   |\n",
       "\n"
      ],
      "text/plain": [
       "  PID Bitrate Game  VQ \n",
       "1 1   2000    Game2 2.9\n",
       "2 1   2000    Game5 2.2\n",
       "3 1   2000    Game1 2.9\n",
       "4 1   2000    Game6 2.0\n",
       "5 1   2000    Game3 3.4\n",
       "6 1   2000    Game4 2.6"
      ]
     },
     "metadata": {},
     "output_type": "display_data"
    },
    {
     "name": "stderr",
     "output_type": "stream",
     "text": [
      "Warning message:\n",
      "\"You have removed one or more Ss from the analysis. Refactoring \"PID\" for ANOVA.\""
     ]
    },
    {
     "data": {
      "text/html": [
       "<dl>\n",
       "\t<dt>$ANOVA</dt>\n",
       "\t\t<dd><table>\n",
       "<thead><tr><th></th><th scope=col>Effect</th><th scope=col>DFn</th><th scope=col>DFd</th><th scope=col>F</th><th scope=col>p</th><th scope=col>p&lt;.05</th><th scope=col>ges</th></tr></thead>\n",
       "<tbody>\n",
       "\t<tr><th scope=row>2</th><td>Bitrate     </td><td> 3          </td><td> 63         </td><td>278.877001  </td><td>2.616145e-36</td><td>*           </td><td>0.58848880  </td></tr>\n",
       "\t<tr><th scope=row>3</th><td>Game        </td><td> 5          </td><td>105         </td><td>  3.388669  </td><td>7.052760e-03</td><td>*           </td><td>0.04209685  </td></tr>\n",
       "\t<tr><th scope=row>4</th><td>Bitrate:Game</td><td>15          </td><td>315         </td><td>  2.078991  </td><td>1.074579e-02</td><td>*           </td><td>0.03757574  </td></tr>\n",
       "</tbody>\n",
       "</table>\n",
       "</dd>\n",
       "\t<dt>$`Mauchly's Test for Sphericity`</dt>\n",
       "\t\t<dd><table>\n",
       "<thead><tr><th></th><th scope=col>Effect</th><th scope=col>W</th><th scope=col>p</th><th scope=col>p&lt;.05</th></tr></thead>\n",
       "<tbody>\n",
       "\t<tr><th scope=row>2</th><td>Bitrate     </td><td>7.873053e-01</td><td>0.45220179  </td><td>            </td></tr>\n",
       "\t<tr><th scope=row>3</th><td>Game        </td><td>2.833088e-01</td><td>0.04632612  </td><td>*           </td></tr>\n",
       "\t<tr><th scope=row>4</th><td>Bitrate:Game</td><td>6.014363e-05</td><td>0.03972042  </td><td>*           </td></tr>\n",
       "</tbody>\n",
       "</table>\n",
       "</dd>\n",
       "\t<dt>$`Sphericity Corrections`</dt>\n",
       "\t\t<dd><table>\n",
       "<thead><tr><th></th><th scope=col>Effect</th><th scope=col>GGe</th><th scope=col>p[GG]</th><th scope=col>p[GG]&lt;.05</th><th scope=col>HFe</th><th scope=col>p[HF]</th><th scope=col>p[HF]&lt;.05</th></tr></thead>\n",
       "<tbody>\n",
       "\t<tr><th scope=row>2</th><td>Bitrate     </td><td>0.8609659   </td><td>1.385466e-31</td><td>*           </td><td>0.9922616   </td><td>4.791737e-36</td><td>*           </td></tr>\n",
       "\t<tr><th scope=row>3</th><td>Game        </td><td>0.7173209   </td><td>1.636462e-02</td><td>*           </td><td>0.8832890   </td><td>9.960099e-03</td><td>*           </td></tr>\n",
       "\t<tr><th scope=row>4</th><td>Bitrate:Game</td><td>0.4598203   </td><td>5.027964e-02</td><td>            </td><td>0.7078586   </td><td>2.438876e-02</td><td>*           </td></tr>\n",
       "</tbody>\n",
       "</table>\n",
       "</dd>\n",
       "</dl>\n"
      ],
      "text/latex": [
       "\\begin{description}\n",
       "\\item[\\$ANOVA] \\begin{tabular}{r|lllllll}\n",
       "  & Effect & DFn & DFd & F & p & p<.05 & ges\\\\\n",
       "\\hline\n",
       "\t2 & Bitrate      &  3           &  63          & 278.877001   & 2.616145e-36 & *            & 0.58848880  \\\\\n",
       "\t3 & Game         &  5           & 105          &   3.388669   & 7.052760e-03 & *            & 0.04209685  \\\\\n",
       "\t4 & Bitrate:Game & 15           & 315          &   2.078991   & 1.074579e-02 & *            & 0.03757574  \\\\\n",
       "\\end{tabular}\n",
       "\n",
       "\\item[\\$`Mauchly's Test for Sphericity`] \\begin{tabular}{r|llll}\n",
       "  & Effect & W & p & p<.05\\\\\n",
       "\\hline\n",
       "\t2 & Bitrate      & 7.873053e-01 & 0.45220179   &             \\\\\n",
       "\t3 & Game         & 2.833088e-01 & 0.04632612   & *           \\\\\n",
       "\t4 & Bitrate:Game & 6.014363e-05 & 0.03972042   & *           \\\\\n",
       "\\end{tabular}\n",
       "\n",
       "\\item[\\$`Sphericity Corrections`] \\begin{tabular}{r|lllllll}\n",
       "  & Effect & GGe & p{[}GG{]} & p{[}GG{]}<.05 & HFe & p{[}HF{]} & p{[}HF{]}<.05\\\\\n",
       "\\hline\n",
       "\t2 & Bitrate      & 0.8609659    & 1.385466e-31 & *            & 0.9922616    & 4.791737e-36 & *           \\\\\n",
       "\t3 & Game         & 0.7173209    & 1.636462e-02 & *            & 0.8832890    & 9.960099e-03 & *           \\\\\n",
       "\t4 & Bitrate:Game & 0.4598203    & 5.027964e-02 &              & 0.7078586    & 2.438876e-02 & *           \\\\\n",
       "\\end{tabular}\n",
       "\n",
       "\\end{description}\n"
      ],
      "text/markdown": [
       "$ANOVA\n",
       ":   \n",
       "| <!--/--> | Effect | DFn | DFd | F | p | p<.05 | ges |\n",
       "|---|---|---|---|---|---|---|---|\n",
       "| 2 | Bitrate      |  3           |  63          | 278.877001   | 2.616145e-36 | *            | 0.58848880   |\n",
       "| 3 | Game         |  5           | 105          |   3.388669   | 7.052760e-03 | *            | 0.04209685   |\n",
       "| 4 | Bitrate:Game | 15           | 315          |   2.078991   | 1.074579e-02 | *            | 0.03757574   |\n",
       "\n",
       "\n",
       "$`Mauchly's Test for Sphericity`\n",
       ":   \n",
       "| <!--/--> | Effect | W | p | p<.05 |\n",
       "|---|---|---|---|---|\n",
       "| 2 | Bitrate      | 7.873053e-01 | 0.45220179   |              |\n",
       "| 3 | Game         | 2.833088e-01 | 0.04632612   | *            |\n",
       "| 4 | Bitrate:Game | 6.014363e-05 | 0.03972042   | *            |\n",
       "\n",
       "\n",
       "$`Sphericity Corrections`\n",
       ":   \n",
       "| <!--/--> | Effect | GGe | p[GG] | p[GG]<.05 | HFe | p[HF] | p[HF]<.05 |\n",
       "|---|---|---|---|---|---|---|---|\n",
       "| 2 | Bitrate      | 0.8609659    | 1.385466e-31 | *            | 0.9922616    | 4.791737e-36 | *            |\n",
       "| 3 | Game         | 0.7173209    | 1.636462e-02 | *            | 0.8832890    | 9.960099e-03 | *            |\n",
       "| 4 | Bitrate:Game | 0.4598203    | 5.027964e-02 |              | 0.7078586    | 2.438876e-02 | *            |\n",
       "\n",
       "\n",
       "\n",
       "\n"
      ],
      "text/plain": [
       "$ANOVA\n",
       "        Effect DFn DFd          F            p p<.05        ges\n",
       "2      Bitrate   3  63 278.877001 2.616145e-36     * 0.58848880\n",
       "3         Game   5 105   3.388669 7.052760e-03     * 0.04209685\n",
       "4 Bitrate:Game  15 315   2.078991 1.074579e-02     * 0.03757574\n",
       "\n",
       "$`Mauchly's Test for Sphericity`\n",
       "        Effect            W          p p<.05\n",
       "2      Bitrate 7.873053e-01 0.45220179      \n",
       "3         Game 2.833088e-01 0.04632612     *\n",
       "4 Bitrate:Game 6.014363e-05 0.03972042     *\n",
       "\n",
       "$`Sphericity Corrections`\n",
       "        Effect       GGe        p[GG] p[GG]<.05       HFe        p[HF]\n",
       "2      Bitrate 0.8609659 1.385466e-31         * 0.9922616 4.791737e-36\n",
       "3         Game 0.7173209 1.636462e-02         * 0.8832890 9.960099e-03\n",
       "4 Bitrate:Game 0.4598203 5.027964e-02           0.7078586 2.438876e-02\n",
       "  p[HF]<.05\n",
       "2         *\n",
       "3         *\n",
       "4         *\n"
      ]
     },
     "metadata": {},
     "output_type": "display_data"
    }
   ],
   "source": [
    "# conduct two-way repeated measure ANOVA\n",
    "# subjects that we cannot use here, as each subject must give ratings for 4 bitrates & 6 games to be included\n",
    "\n",
    "PIDs_included <- (gaming_data %>% group_by(PID) %>% summarize(ratings = n()) %>% filter(ratings == 6*4))[['PID']]\n",
    "ezANOVA_data <- gaming_data %>% filter(PID %in% PIDs_included) %>% mutate(Bitrate = as.factor(as.character(Bitrate)))\n",
    "\n",
    "head(ezANOVA_data)\n",
    "\n",
    "anova_res = ezANOVA(\n",
    "    data = ezANOVA_data, \n",
    "    dv = .(VQ), \n",
    "    wid = .(PID), \n",
    "    within = .(Bitrate, Game)\n",
    ")\n",
    "\n",
    "anova_res"
   ]
  },
  {
   "cell_type": "markdown",
   "metadata": {},
   "source": [
    "#### Based on Mauchly's sphericity test results: p values of game main effect & game-bitrate interaction effect smaller than 0.05: correction needed here, sphericity assumed for bitrate main effect (as p value > 0.05)\n",
    "#### => Bitrate main effect p value around 0 < 0.05 (sphericity assumed) => significant impact of bitrate on video quality (VQ) ratings\n",
    "#### => Game main effect p value (after Greenhouse-Geisser correction) around 0.0164 < 0.05 => significant impact of game on video quality (VQ) ratings\n",
    "#### => Bitrate-Game interaction effect p value (after Greenhouse-Geisser correction) around 0.0503 > 0.05 => No significant interaction effect between bitrate & game"
   ]
  },
  {
   "cell_type": "markdown",
   "metadata": {},
   "source": [
    "### Step 5: Pairwise comparison / post hoc test"
   ]
  },
  {
   "cell_type": "code",
   "execution_count": 9,
   "metadata": {
    "scrolled": false
   },
   "outputs": [
    {
     "data": {
      "text/plain": [
       "  Tukey multiple comparisons of means\n",
       "    95% family-wise confidence level\n",
       "\n",
       "Fit: aov(formula = VQ ~ Bitrate * Game, data = gaming_data)\n",
       "\n",
       "$Bitrate\n",
       "                 diff        lwr        upr    p adj\n",
       "4000-2000   1.0531915  0.8223278  1.2840552 0.00e+00\n",
       "50000-2000  2.4340426  2.2031789  2.6649062 0.00e+00\n",
       "6000-2000   1.4787234  1.2478597  1.7095871 0.00e+00\n",
       "50000-4000  1.3808511  1.1499874  1.6117147 0.00e+00\n",
       "6000-4000   0.4255319  0.1946682  0.6563956 1.55e-05\n",
       "6000-50000 -0.9553191 -1.1861828 -0.7244555 0.00e+00\n",
       "\n",
       "$Game\n",
       "                   diff         lwr         upr     p adj\n",
       "Game2-Game1  0.41500000  0.11076727  0.71923273 0.0015007\n",
       "Game3-Game1  0.21400000 -0.09023273  0.51823273 0.3369045\n",
       "Game4-Game1  0.36854545  0.05411216  0.68297875 0.0110397\n",
       "Game5-Game1  0.12309091 -0.19134238  0.43752420 0.8732262\n",
       "Game6-Game1  0.06740909 -0.24702420  0.38184238 0.9900762\n",
       "Game3-Game2 -0.20100000 -0.50523273  0.10323273 0.4096916\n",
       "Game4-Game2 -0.04645455 -0.36088784  0.26797875 0.9982808\n",
       "Game5-Game2 -0.29190909 -0.60634238  0.02252420 0.0862342\n",
       "Game6-Game2 -0.34759091 -0.66202420 -0.03315762 0.0204717\n",
       "Game4-Game3  0.15454545 -0.15988784  0.46897875 0.7236230\n",
       "Game5-Game3 -0.09090909 -0.40534238  0.22352420 0.9624999\n",
       "Game6-Game3 -0.14659091 -0.46102420  0.16784238 0.7663457\n",
       "Game5-Game4 -0.24545455 -0.56976772  0.07885863 0.2562322\n",
       "Game6-Game4 -0.30113636 -0.62544954  0.02317681 0.0861280\n",
       "Game6-Game5 -0.05568182 -0.37999500  0.26863136 0.9964798\n",
       "\n",
       "$`Bitrate:Game`\n",
       "                                diff          lwr         upr     p adj\n",
       "4000:Game1-2000:Game1    0.776000000 -0.001908467  1.55390847 0.0514782\n",
       "50000:Game1-2000:Game1   2.396000000  1.618091533  3.17390847 0.0000000\n",
       "6000:Game1-2000:Game1    1.316000000  0.538091533  2.09390847 0.0000003\n",
       "2000:Game2-2000:Game1   -0.072000000 -0.849908467  0.70590847 1.0000000\n",
       "4000:Game2-2000:Game1    1.444000000  0.666091533  2.22190847 0.0000000\n",
       "50000:Game2-2000:Game1   2.760000000  1.982091533  3.53790847 0.0000000\n",
       "6000:Game2-2000:Game1    2.016000000  1.238091533  2.79390847 0.0000000\n",
       "2000:Game3-2000:Game1    0.304000000 -0.473908467  1.08190847 0.9992879\n",
       "4000:Game3-2000:Game1    1.016000000  0.238091533  1.79390847 0.0005802\n",
       "50000:Game3-2000:Game1   2.468000000  1.690091533  3.24590847 0.0000000\n",
       "6000:Game3-2000:Game1    1.556000000  0.778091533  2.33390847 0.0000000\n",
       "2000:Game4-2000:Game1    0.349636364 -0.454354455  1.15362718 0.9965812\n",
       "4000:Game4-2000:Game1    1.467818182  0.663827363  2.27180900 0.0000000\n",
       "50000:Game4-2000:Game1   2.445090909  1.641100090  3.24908173 0.0000000\n",
       "6000:Game4-2000:Game1    1.699636364  0.895645545  2.50362718 0.0000000\n",
       "2000:Game5-2000:Game1   -0.145818182 -0.949809001  0.65817264 1.0000000\n",
       "4000:Game5-2000:Game1    1.136000000  0.332009181  1.93999082 0.0000881\n",
       "50000:Game5-2000:Game1   2.513272727  1.709281908  3.31726355 0.0000000\n",
       "6000:Game5-2000:Game1    1.476909091  0.672918272  2.28089991 0.0000000\n",
       "2000:Game6-2000:Game1    0.040545455 -0.763445364  0.84453627 1.0000000\n",
       "4000:Game6-2000:Game1    0.976909091  0.172918272  1.78089991 0.0025499\n",
       "50000:Game6-2000:Game1   2.486000000  1.682009181  3.28999082 0.0000000\n",
       "6000:Game6-2000:Game1    1.254181818  0.450190999  2.05817264 0.0000052\n",
       "50000:Game1-4000:Game1   1.620000000  0.842091533  2.39790847 0.0000000\n",
       "6000:Game1-4000:Game1    0.540000000 -0.237908467  1.31790847 0.6461130\n",
       "2000:Game2-4000:Game1   -0.848000000 -1.625908467 -0.07009153 0.0158412\n",
       "4000:Game2-4000:Game1    0.668000000 -0.109908467  1.44590847 0.2170935\n",
       "50000:Game2-4000:Game1   1.984000000  1.206091533  2.76190847 0.0000000\n",
       "6000:Game2-4000:Game1    1.240000000  0.462091533  2.01790847 0.0000026\n",
       "2000:Game3-4000:Game1   -0.472000000 -1.249908467  0.30590847 0.8594221\n",
       "4000:Game3-4000:Game1    0.240000000 -0.537908467  1.01790847 0.9999865\n",
       "50000:Game3-4000:Game1   1.692000000  0.914091533  2.46990847 0.0000000\n",
       "6000:Game3-4000:Game1    0.780000000  0.002091533  1.55790847 0.0484221\n",
       "2000:Game4-4000:Game1   -0.426363636 -1.230354455  0.37762718 0.9604457\n",
       "4000:Game4-4000:Game1    0.691818182 -0.112172637  1.49580900 0.2137450\n",
       "50000:Game4-4000:Game1   1.669090909  0.865100090  2.47308173 0.0000000\n",
       "6000:Game4-4000:Game1    0.923636364  0.119645545  1.72762718 0.0069313\n",
       "2000:Game5-4000:Game1   -0.921818182 -1.725809001 -0.11782736 0.0071631\n",
       "4000:Game5-4000:Game1    0.360000000 -0.443990819  1.16399082 0.9948987\n",
       "50000:Game5-4000:Game1   1.737272727  0.933281908  2.54126355 0.0000000\n",
       "6000:Game5-4000:Game1    0.700909091 -0.103081728  1.50489991 0.1931626\n",
       "2000:Game6-4000:Game1   -0.735454545 -1.539445364  0.06853627 0.1278846\n",
       "4000:Game6-4000:Game1    0.200909091 -0.603081728  1.00489991 0.9999997\n",
       "50000:Game6-4000:Game1   1.710000000  0.906009181  2.51399082 0.0000000\n",
       "6000:Game6-4000:Game1    0.478181818 -0.325809001  1.28217264 0.8809847\n",
       "6000:Game1-50000:Game1  -1.080000000 -1.857908467 -0.30209153 0.0001378\n",
       "2000:Game2-50000:Game1  -2.468000000 -3.245908467 -1.69009153 0.0000000\n",
       "4000:Game2-50000:Game1  -0.952000000 -1.729908467 -0.17409153 0.0022243\n",
       "50000:Game2-50000:Game1  0.364000000 -0.413908467  1.14190847 0.9909033\n",
       "6000:Game2-50000:Game1  -0.380000000 -1.157908467  0.39790847 0.9844665\n",
       "2000:Game3-50000:Game1  -2.092000000 -2.869908467 -1.31409153 0.0000000\n",
       "4000:Game3-50000:Game1  -1.380000000 -2.157908467 -0.60209153 0.0000001\n",
       "50000:Game3-50000:Game1  0.072000000 -0.705908467  0.84990847 1.0000000\n",
       "6000:Game3-50000:Game1  -0.840000000 -1.617908467 -0.06209153 0.0181982\n",
       "2000:Game4-50000:Game1  -2.046363636 -2.850354455 -1.24237282 0.0000000\n",
       "4000:Game4-50000:Game1  -0.928181818 -1.732172637 -0.12419100 0.0063816\n",
       "50000:Game4-50000:Game1  0.049090909 -0.754899910  0.85308173 1.0000000\n",
       "6000:Game4-50000:Game1  -0.696363636 -1.500354455  0.10762718 0.2032722\n",
       "2000:Game5-50000:Game1  -2.541818182 -3.345809001 -1.73782736 0.0000000\n",
       "4000:Game5-50000:Game1  -1.260000000 -2.063990819 -0.45600918 0.0000045\n",
       "50000:Game5-50000:Game1  0.117272727 -0.686718092  0.92126355 1.0000000\n",
       "6000:Game5-50000:Game1  -0.919090909 -1.723081728 -0.11510009 0.0075243\n",
       "2000:Game6-50000:Game1  -2.355454545 -3.159445364 -1.55146373 0.0000000\n",
       "4000:Game6-50000:Game1  -1.419090909 -2.223081728 -0.61510009 0.0000001\n",
       "50000:Game6-50000:Game1  0.090000000 -0.713990819  0.89399082 1.0000000\n",
       "6000:Game6-50000:Game1  -1.141818182 -1.945809001 -0.33782736 0.0000772\n",
       "2000:Game2-6000:Game1   -1.388000000 -2.165908467 -0.61009153 0.0000000\n",
       "4000:Game2-6000:Game1    0.128000000 -0.649908467  0.90590847 1.0000000\n",
       "50000:Game2-6000:Game1   1.444000000  0.666091533  2.22190847 0.0000000\n",
       "6000:Game2-6000:Game1    0.700000000 -0.077908467  1.47790847 0.1482740\n",
       "2000:Game3-6000:Game1   -1.012000000 -1.789908467 -0.23409153 0.0006329\n",
       "4000:Game3-6000:Game1   -0.300000000 -1.077908467  0.47790847 0.9994199\n",
       "50000:Game3-6000:Game1   1.152000000  0.374091533  1.92990847 0.0000247\n",
       "6000:Game3-6000:Game1    0.240000000 -0.537908467  1.01790847 0.9999865\n",
       "2000:Game4-6000:Game1   -0.966363636 -1.770354455 -0.16237282 0.0031249\n",
       "4000:Game4-6000:Game1    0.151818182 -0.652172637  0.95580900 1.0000000\n",
       "50000:Game4-6000:Game1   1.129090909  0.325100090  1.93308173 0.0001031\n",
       "6000:Game4-6000:Game1    0.383636364 -0.420354455  1.18762718 0.9883535\n",
       "2000:Game5-6000:Game1   -1.461818182 -2.265809001 -0.65782736 0.0000000\n",
       "4000:Game5-6000:Game1   -0.180000000 -0.983990819  0.62399082 1.0000000\n",
       "50000:Game5-6000:Game1   1.197272727  0.393281908  2.00126355 0.0000210\n",
       "6000:Game5-6000:Game1    0.160909091 -0.643081728  0.96489991 1.0000000\n",
       "2000:Game6-6000:Game1   -1.275454545 -2.079445364 -0.47146373 0.0000031\n",
       "4000:Game6-6000:Game1   -0.339090909 -1.143081728  0.46489991 0.9977830\n",
       "50000:Game6-6000:Game1   1.170000000  0.366009181  1.97399082 0.0000401\n",
       "6000:Game6-6000:Game1   -0.061818182 -0.865809001  0.74217264 1.0000000\n",
       "4000:Game2-2000:Game2    1.516000000  0.738091533  2.29390847 0.0000000\n",
       "50000:Game2-2000:Game2   2.832000000  2.054091533  3.60990847 0.0000000\n",
       "6000:Game2-2000:Game2    2.088000000  1.310091533  2.86590847 0.0000000\n",
       "2000:Game3-2000:Game2    0.376000000 -0.401908467  1.15390847 0.9863438\n",
       "4000:Game3-2000:Game2    1.088000000  0.310091533  1.86590847 0.0001145\n",
       "50000:Game3-2000:Game2   2.540000000  1.762091533  3.31790847 0.0000000\n",
       "6000:Game3-2000:Game2    1.628000000  0.850091533  2.40590847 0.0000000\n",
       "2000:Game4-2000:Game2    0.421636364 -0.382354455  1.22562718 0.9649163\n",
       "4000:Game4-2000:Game2    1.539818182  0.735827363  2.34380900 0.0000000\n",
       "50000:Game4-2000:Game2   2.517090909  1.713100090  3.32108173 0.0000000\n",
       "6000:Game4-2000:Game2    1.771636364  0.967645545  2.57562718 0.0000000\n",
       "2000:Game5-2000:Game2   -0.073818182 -0.877809001  0.73017264 1.0000000\n",
       "4000:Game5-2000:Game2    1.208000000  0.404009181  2.01199082 0.0000162\n",
       "50000:Game5-2000:Game2   2.585272727  1.781281908  3.38926355 0.0000000\n",
       "6000:Game5-2000:Game2    1.548909091  0.744918272  2.35289991 0.0000000\n",
       "2000:Game6-2000:Game2    0.112545455 -0.691445364  0.91653627 1.0000000\n",
       "4000:Game6-2000:Game2    1.048909091  0.244918272  1.85289991 0.0005945\n",
       "50000:Game6-2000:Game2   2.558000000  1.754009181  3.36199082 0.0000000\n",
       "6000:Game6-2000:Game2    1.326181818  0.522190999  2.13017264 0.0000008\n",
       "50000:Game2-4000:Game2   1.316000000  0.538091533  2.09390847 0.0000003\n",
       "6000:Game2-4000:Game2    0.572000000 -0.205908467  1.34990847 0.5267600\n",
       "2000:Game3-4000:Game2   -1.140000000 -1.917908467 -0.36209153 0.0000331\n",
       "4000:Game3-4000:Game2   -0.428000000 -1.205908467  0.34990847 0.9421578\n",
       "50000:Game3-4000:Game2   1.024000000  0.246091533  1.80190847 0.0004872\n",
       "6000:Game3-4000:Game2    0.112000000 -0.665908467  0.88990847 1.0000000\n",
       "2000:Game4-4000:Game2   -1.094363636 -1.898354455 -0.29037282 0.0002238\n",
       "4000:Game4-4000:Game2    0.023818182 -0.780172637  0.82780900 1.0000000\n",
       "50000:Game4-4000:Game2   1.001090909  0.197100090  1.80508173 0.0015841\n",
       "6000:Game4-4000:Game2    0.255636364 -0.548354455  1.05962718 0.9999768\n",
       "2000:Game5-4000:Game2   -1.589818182 -2.393809001 -0.78582736 0.0000000\n",
       "4000:Game5-4000:Game2   -0.308000000 -1.111990819  0.49599082 0.9994772\n",
       "50000:Game5-4000:Game2   1.069272727  0.265281908  1.87326355 0.0003858\n",
       "6000:Game5-4000:Game2    0.032909091 -0.771081728  0.83689991 1.0000000\n",
       "2000:Game6-4000:Game2   -1.403454545 -2.207445364 -0.59946373 0.0000001\n",
       "4000:Game6-4000:Game2   -0.467090909 -1.271081728  0.33689991 0.9030826\n",
       "50000:Game6-4000:Game2   1.042000000  0.238009181  1.84599082 0.0006871\n",
       "6000:Game6-4000:Game2   -0.189818182 -0.993809001  0.61417264 0.9999999\n",
       "6000:Game2-50000:Game2  -0.744000000 -1.521908467  0.03390847 0.0823898\n",
       "2000:Game3-50000:Game2  -2.456000000 -3.233908467 -1.67809153 0.0000000\n",
       "4000:Game3-50000:Game2  -1.744000000 -2.521908467 -0.96609153 0.0000000\n",
       "50000:Game3-50000:Game2 -0.292000000 -1.069908467  0.48590847 0.9996209\n",
       "6000:Game3-50000:Game2  -1.204000000 -1.981908467 -0.42609153 0.0000067\n",
       "2000:Game4-50000:Game2  -2.410363636 -3.214354455 -1.60637282 0.0000000\n",
       "4000:Game4-50000:Game2  -1.292181818 -2.096172637 -0.48819100 0.0000020\n",
       "50000:Game4-50000:Game2 -0.314909091 -1.118899910  0.48908173 0.9992625\n",
       "6000:Game4-50000:Game2  -1.060363636 -1.864354455 -0.25637282 0.0004667\n",
       "2000:Game5-50000:Game2  -2.905818182 -3.709809001 -2.10182736 0.0000000\n",
       "4000:Game5-50000:Game2  -1.624000000 -2.427990819 -0.82000918 0.0000000\n",
       "50000:Game5-50000:Game2 -0.246727273 -1.050718092  0.55726355 0.9999877\n",
       "6000:Game5-50000:Game2  -1.283090909 -2.087081728 -0.47910009 0.0000025\n",
       "2000:Game6-50000:Game2  -2.719454545 -3.523445364 -1.91546373 0.0000000\n",
       "4000:Game6-50000:Game2  -1.783090909 -2.587081728 -0.97910009 0.0000000\n",
       "50000:Game6-50000:Game2 -0.274000000 -1.077990819  0.52999082 0.9999228\n",
       "6000:Game6-50000:Game2  -1.505818182 -2.309809001 -0.70182736 0.0000000\n",
       "2000:Game3-6000:Game2   -1.712000000 -2.489908467 -0.93409153 0.0000000\n",
       "4000:Game3-6000:Game2   -1.000000000 -1.777908467 -0.22209153 0.0008193\n",
       "50000:Game3-6000:Game2   0.452000000 -0.325908467  1.22990847 0.9029631\n",
       "6000:Game3-6000:Game2   -0.460000000 -1.237908467  0.31790847 0.8867514\n",
       "2000:Game4-6000:Game2   -1.666363636 -2.470354455 -0.86237282 0.0000000\n",
       "4000:Game4-6000:Game2   -0.548181818 -1.352172637  0.25580900 0.6807881\n",
       "50000:Game4-6000:Game2   0.429090909 -0.374899910  1.23308173 0.9576799\n",
       "6000:Game4-6000:Game2   -0.316363636 -1.120354455  0.48762718 0.9992084\n",
       "2000:Game5-6000:Game2   -2.161818182 -2.965809001 -1.35782736 0.0000000\n",
       "4000:Game5-6000:Game2   -0.880000000 -1.683990819 -0.07600918 0.0149124\n",
       "50000:Game5-6000:Game2   0.497272727 -0.306718092  1.30126355 0.8362184\n",
       "6000:Game5-6000:Game2   -0.539090909 -1.343081728  0.26489991 0.7116247\n",
       "2000:Game6-6000:Game2   -1.975454545 -2.779445364 -1.17146373 0.0000000\n",
       "4000:Game6-6000:Game2   -1.039090909 -1.843081728 -0.23510009 0.0007300\n",
       "50000:Game6-6000:Game2   0.470000000 -0.333990819  1.27399082 0.8975663\n",
       "6000:Game6-6000:Game2   -0.761818182 -1.565809001  0.04217264 0.0907574\n",
       "4000:Game3-2000:Game3    0.712000000 -0.065908467  1.48990847 0.1272149\n",
       "50000:Game3-2000:Game3   2.164000000  1.386091533  2.94190847 0.0000000\n",
       "6000:Game3-2000:Game3    1.252000000  0.474091533  2.02990847 0.0000019\n",
       "2000:Game4-2000:Game3    0.045636364 -0.758354455  0.84962718 1.0000000\n",
       "4000:Game4-2000:Game3    1.163818182  0.359827363  1.96780900 0.0000464\n",
       "50000:Game4-2000:Game3   2.141090909  1.337100090  2.94508173 0.0000000\n",
       "6000:Game4-2000:Game3    1.395636364  0.591645545  2.19962718 0.0000001\n",
       "2000:Game5-2000:Game3   -0.449818182 -1.253809001  0.35417264 0.9318055\n",
       "4000:Game5-2000:Game3    0.832000000  0.028009181  1.63599082 0.0326424\n",
       "50000:Game5-2000:Game3   2.209272727  1.405281908  3.01326355 0.0000000\n",
       "6000:Game5-2000:Game3    1.172909091  0.368918272  1.97689991 0.0000375\n",
       "2000:Game6-2000:Game3   -0.263454545 -1.067445364  0.54053627 0.9999607\n",
       "4000:Game6-2000:Game3    0.672909091 -0.131081728  1.47689991 0.2612063\n",
       "50000:Game6-2000:Game3   2.182000000  1.378009181  2.98599082 0.0000000\n",
       "6000:Game6-2000:Game3    0.950181818  0.146190999  1.75417264 0.0042475\n",
       "50000:Game3-4000:Game3   1.452000000  0.674091533  2.22990847 0.0000000\n",
       "6000:Game3-4000:Game3    0.540000000 -0.237908467  1.31790847 0.6461130\n",
       "2000:Game4-4000:Game3   -0.666363636 -1.470354455  0.13762718 0.2790780\n",
       "4000:Game4-4000:Game3    0.451818182 -0.352172637  1.25580900 0.9288261\n",
       "50000:Game4-4000:Game3   1.429090909  0.625100090  2.23308173 0.0000001\n",
       "6000:Game4-4000:Game3    0.683636364 -0.120354455  1.48762718 0.2335128\n",
       "2000:Game5-4000:Game3   -1.161818182 -1.965809001 -0.35782736 0.0000486\n",
       "4000:Game5-4000:Game3    0.120000000 -0.683990819  0.92399082 1.0000000\n",
       "50000:Game5-4000:Game3   1.497272727  0.693281908  2.30126355 0.0000000\n",
       "6000:Game5-4000:Game3    0.460909091 -0.343081728  1.26489991 0.9141486\n",
       "2000:Game6-4000:Game3   -0.975454545 -1.779445364 -0.17146373 0.0026229\n",
       "4000:Game6-4000:Game3   -0.039090909 -0.843081728  0.76489991 1.0000000\n",
       "50000:Game6-4000:Game3   1.470000000  0.666009181  2.27399082 0.0000000\n",
       "6000:Game6-4000:Game3    0.238181818 -0.565809001  1.04217264 0.9999935\n",
       "6000:Game3-50000:Game3  -0.912000000 -1.689908467 -0.13409153 0.0048958\n",
       "2000:Game4-50000:Game3  -2.118363636 -2.922354455 -1.31437282 0.0000000\n",
       "4000:Game4-50000:Game3  -1.000181818 -1.804172637 -0.19619100 0.0016131\n",
       "50000:Game4-50000:Game3 -0.022909091 -0.826899910  0.78108173 1.0000000\n",
       "6000:Game4-50000:Game3  -0.768363636 -1.572354455  0.03562718 0.0830481\n",
       "2000:Game5-50000:Game3  -2.613818182 -3.417809001 -1.80982736 0.0000000\n",
       "4000:Game5-50000:Game3  -1.332000000 -2.135990819 -0.52800918 0.0000007\n",
       "50000:Game5-50000:Game3  0.045272727 -0.758718092  0.84926355 1.0000000\n",
       "6000:Game5-50000:Game3  -0.991090909 -1.795081728 -0.18710009 0.0019319\n",
       "2000:Game6-50000:Game3  -2.427454545 -3.231445364 -1.62346373 0.0000000\n",
       "4000:Game6-50000:Game3  -1.491090909 -2.295081728 -0.68710009 0.0000000\n",
       "50000:Game6-50000:Game3  0.018000000 -0.785990819  0.82199082 1.0000000\n",
       "6000:Game6-50000:Game3  -1.213818182 -2.017809001 -0.40982736 0.0000141\n",
       "2000:Game4-6000:Game3   -1.206363636 -2.010354455 -0.40237282 0.0000169\n",
       "4000:Game4-6000:Game3   -0.088181818 -0.892172637  0.71580900 1.0000000\n",
       "50000:Game4-6000:Game3   0.889090909  0.085100090  1.69308173 0.0127648\n",
       "6000:Game4-6000:Game3    0.143636364 -0.660354455  0.94762718 1.0000000\n",
       "2000:Game5-6000:Game3   -1.701818182 -2.505809001 -0.89782736 0.0000000\n",
       "4000:Game5-6000:Game3   -0.420000000 -1.223990819  0.38399082 0.9663711\n",
       "50000:Game5-6000:Game3   0.957272727  0.153281908  1.76126355 0.0037159\n",
       "6000:Game5-6000:Game3   -0.079090909 -0.883081728  0.72489991 1.0000000\n",
       "2000:Game6-6000:Game3   -1.515454545 -2.319445364 -0.71146373 0.0000000\n",
       "4000:Game6-6000:Game3   -0.579090909 -1.383081728  0.22489991 0.5706460\n",
       "50000:Game6-6000:Game3   0.930000000  0.126009181  1.73399082 0.0061733\n",
       "6000:Game6-6000:Game3   -0.301818182 -1.105809001  0.50217264 0.9996204\n",
       "4000:Game4-2000:Game4    1.118181818  0.288928606  1.94743503 0.0002800\n",
       "50000:Game4-2000:Game4   2.095454545  1.266201333  2.92470776 0.0000000\n",
       "6000:Game4-2000:Game4    1.350000000  0.520746788  2.17925321 0.0000013\n",
       "2000:Game5-2000:Game4   -0.495454545 -1.324707758  0.33379867 0.8763026\n",
       "4000:Game5-2000:Game4    0.786363636 -0.042889576  1.61561685 0.0900397\n",
       "50000:Game5-2000:Game4   2.163636364  1.334383151  2.99288958 0.0000000\n",
       "6000:Game5-2000:Game4    1.127272727  0.298019515  1.95652594 0.0002310\n",
       "2000:Game6-2000:Game4   -0.309090909 -1.138344122  0.52016230 0.9996612\n",
       "4000:Game6-2000:Game4    0.627272727 -0.201980485  1.45652594 0.4658287\n",
       "50000:Game6-2000:Game4   2.136363636  1.307110424  2.96561685 0.0000000\n",
       "6000:Game6-2000:Game4    0.904545455  0.075292242  1.73379867 0.0156929\n",
       "50000:Game4-4000:Game4   0.977272727  0.148019515  1.80652594 0.0044664\n",
       "6000:Game4-4000:Game4    0.231818182 -0.597435031  1.06107139 0.9999978\n",
       "2000:Game5-4000:Game4   -1.613636364 -2.442889576 -0.78438315 0.0000000\n",
       "4000:Game5-4000:Game4   -0.331818182 -1.161071394  0.49743503 0.9989788\n",
       "50000:Game5-4000:Game4   1.045454545  0.216201333  1.87470776 0.0012317\n",
       "6000:Game5-4000:Game4    0.009090909 -0.820162303  0.83834412 1.0000000\n",
       "2000:Game6-4000:Game4   -1.427272727 -2.256525940 -0.59801951 0.0000002\n",
       "4000:Game6-4000:Game4   -0.490909091 -1.320162303  0.33834412 0.8856557\n",
       "50000:Game6-4000:Game4   1.018181818  0.188928606  1.84743503 0.0020872\n",
       "6000:Game6-4000:Game4   -0.213636364 -1.042889576  0.61561685 0.9999995\n",
       "6000:Game4-50000:Game4  -0.745454545 -1.574707758  0.08379867 0.1495828\n",
       "2000:Game5-50000:Game4  -2.590909091 -3.420162303 -1.76165588 0.0000000\n",
       "4000:Game5-50000:Game4  -1.309090909 -2.138344122 -0.47983770 0.0000036\n",
       "50000:Game5-50000:Game4  0.068181818 -0.761071394  0.89743503 1.0000000\n",
       "6000:Game5-50000:Game4  -0.968181818 -1.797435031 -0.13892861 0.0052621\n",
       "2000:Game6-50000:Game4  -2.404545455 -3.233798667 -1.57529224 0.0000000\n",
       "4000:Game6-50000:Game4  -1.468181818 -2.297435031 -0.63892861 0.0000001\n",
       "50000:Game6-50000:Game4  0.040909091 -0.788344122  0.87016230 1.0000000\n",
       "6000:Game6-50000:Game4  -1.190909091 -2.020162303 -0.36165588 0.0000574\n",
       "2000:Game5-6000:Game4   -1.845454545 -2.674707758 -1.01620133 0.0000000\n",
       "4000:Game5-6000:Game4   -0.563636364 -1.392889576  0.26561685 0.6866844\n",
       "50000:Game5-6000:Game4   0.813636364 -0.015616849  1.64288958 0.0623383\n",
       "6000:Game5-6000:Game4   -0.222727273 -1.051980485  0.60652594 0.9999990\n",
       "2000:Game6-6000:Game4   -1.659090909 -2.488344122 -0.82983770 0.0000000\n",
       "4000:Game6-6000:Game4   -0.722727273 -1.551980485  0.10652594 0.1935976\n",
       "50000:Game6-6000:Game4   0.786363636 -0.042889576  1.61561685 0.0900397\n",
       "6000:Game6-6000:Game4   -0.445454545 -1.274707758  0.38379867 0.9547007\n",
       "4000:Game5-2000:Game5    1.281818182  0.452564969  2.11107139 0.0000069\n",
       "50000:Game5-2000:Game5   2.659090909  1.829837697  3.48834412 0.0000000\n",
       "6000:Game5-2000:Game5    1.622727273  0.793474060  2.45198049 0.0000000\n",
       "2000:Game6-2000:Game5    0.186363636 -0.642889576  1.01561685 1.0000000\n",
       "4000:Game6-2000:Game5    1.122727273  0.293474060  1.95198049 0.0002544\n",
       "50000:Game6-2000:Game5   2.631818182  1.802564969  3.46107139 0.0000000\n",
       "6000:Game6-2000:Game5    1.400000000  0.570746788  2.22925321 0.0000004\n",
       "50000:Game5-4000:Game5   1.377272727  0.548019515  2.20652594 0.0000006\n",
       "6000:Game5-4000:Game5    0.340909091 -0.488344122  1.17016230 0.9984720\n",
       "2000:Game6-4000:Game5   -1.095454545 -1.924707758 -0.26620133 0.0004499\n",
       "4000:Game6-4000:Game5   -0.159090909 -0.988344122  0.67016230 1.0000000\n",
       "50000:Game6-4000:Game5   1.350000000  0.520746788  2.17925321 0.0000013\n",
       "6000:Game6-4000:Game5    0.118181818 -0.711071394  0.94743503 1.0000000\n",
       "6000:Game5-50000:Game5  -1.036363636 -1.865616849 -0.20711042 0.0014710\n",
       "2000:Game6-50000:Game5  -2.472727273 -3.301980485 -1.64347406 0.0000000\n",
       "4000:Game6-50000:Game5  -1.536363636 -2.365616849 -0.70711042 0.0000000\n",
       "50000:Game6-50000:Game5 -0.027272727 -0.856525940  0.80198049 1.0000000\n",
       "6000:Game6-50000:Game5  -1.259090909 -2.088344122 -0.42983770 0.0000119\n",
       "2000:Game6-6000:Game5   -1.436363636 -2.265616849 -0.60711042 0.0000001\n",
       "4000:Game6-6000:Game5   -0.500000000 -1.329253212  0.32925321 0.8664937\n",
       "50000:Game6-6000:Game5   1.009090909  0.179837697  1.83834412 0.0024795\n",
       "6000:Game6-6000:Game5   -0.222727273 -1.051980485  0.60652594 0.9999990\n",
       "4000:Game6-2000:Game6    0.936363636  0.107110424  1.76561685 0.0091992\n",
       "50000:Game6-2000:Game6   2.445454545  1.616201333  3.27470776 0.0000000\n",
       "6000:Game6-2000:Game6    1.213636364  0.384383151  2.04288958 0.0000343\n",
       "50000:Game6-4000:Game6   1.509090909  0.679837697  2.33834412 0.0000000\n",
       "6000:Game6-4000:Game6    0.277272727 -0.551980485  1.10652594 0.9999443\n",
       "6000:Game6-50000:Game6  -1.231818182 -2.061071394 -0.40256497 0.0000226\n"
      ]
     },
     "metadata": {},
     "output_type": "display_data"
    }
   ],
   "source": [
    "# as equal sample sizes (22) and Tukey most widely used: Tukey [\"Cramming Sam's tips\" for post hoc tests (from lecture)]\n",
    "tukey_results <- TukeyHSD(aov(VQ ~ Bitrate * Game, data = gaming_data))\n",
    "tukey_results"
   ]
  },
  {
   "cell_type": "markdown",
   "metadata": {},
   "source": [
    "#### Many results here, however, based on the ratio of p values smaller than 0.05 for the respective effects, switching bitrates seems to have an even larger effect on the VQ ratings than switching games."
   ]
  },
  {
   "cell_type": "markdown",
   "metadata": {},
   "source": [
    "### Step 6: Interpretation"
   ]
  },
  {
   "cell_type": "code",
   "execution_count": 10,
   "metadata": {},
   "outputs": [
    {
     "name": "stdout",
     "output_type": "stream",
     "text": [
      "df_{Game Game1, 2000 kbps bitrate} = 21\n",
      "df_{Game Game1, 4000 kbps bitrate} = 21\n",
      "df_{Game Game1, 50000 kbps bitrate} = 21\n",
      "df_{Game Game1, 6000 kbps bitrate} = 21\n",
      "df_{Game Game2, 2000 kbps bitrate} = 21\n",
      "df_{Game Game2, 4000 kbps bitrate} = 21\n",
      "df_{Game Game2, 50000 kbps bitrate} = 21\n",
      "df_{Game Game2, 6000 kbps bitrate} = 21\n",
      "df_{Game Game3, 2000 kbps bitrate} = 21\n",
      "df_{Game Game3, 4000 kbps bitrate} = 21\n",
      "df_{Game Game3, 50000 kbps bitrate} = 21\n",
      "df_{Game Game3, 6000 kbps bitrate} = 21\n",
      "df_{Game Game4, 2000 kbps bitrate} = 21\n",
      "df_{Game Game4, 4000 kbps bitrate} = 21\n",
      "df_{Game Game4, 50000 kbps bitrate} = 21\n",
      "df_{Game Game4, 6000 kbps bitrate} = 21\n",
      "df_{Game Game5, 2000 kbps bitrate} = 21\n",
      "df_{Game Game5, 4000 kbps bitrate} = 21\n",
      "df_{Game Game5, 50000 kbps bitrate} = 21\n",
      "df_{Game Game5, 6000 kbps bitrate} = 21\n",
      "df_{Game Game6, 2000 kbps bitrate} = 21\n",
      "df_{Game Game6, 4000 kbps bitrate} = 21\n",
      "df_{Game Game6, 50000 kbps bitrate} = 21\n",
      "df_{Game Game6, 6000 kbps bitrate} = 21\n",
      "\n",
      "df_total = 527"
     ]
    }
   ],
   "source": [
    "# compute individual degrees of freedom for groups\n",
    "print_degrees_of_freedom <- function() {\n",
    "    result <- ''\n",
    "    \n",
    "    for (game in games) {\n",
    "        for (bitrate in bitrates) {\n",
    "            df <- (ezANOVA_data %>% dplyr::filter(Game == game & Bitrate == bitrate) %>% mutate(df = n() - 1))[1,][['df']]\n",
    "            result <- paste0(result, 'df_{Game ', game, ', ', bitrate, ' kbps bitrate} = ', df, '\\n')\n",
    "        }  \n",
    "    }\n",
    "    \n",
    "    # pretty print\n",
    "    result <- paste0(result, '\\ndf_total = ', nrow(ezANOVA_data) - 1)\n",
    "    cat(result)\n",
    "}\n",
    "\n",
    "print_degrees_of_freedom()"
   ]
  },
  {
   "cell_type": "code",
   "execution_count": 11,
   "metadata": {},
   "outputs": [
    {
     "name": "stdout",
     "output_type": "stream",
     "text": [
      "Mean of 2000 kbps bitrate = 3.04326, standard deviation = 0.76963\n",
      "Mean of 4000 kbps bitrate = 4.09645, standard deviation = 0.8355\n",
      "Mean of 50000 kbps bitrate = 5.4773, standard deviation = 0.65448\n",
      "Mean of 6000 kbps bitrate = 4.52199, standard deviation = 0.80161\n",
      "Mean of Game1 = 4.086, standard deviation = 1.17284\n",
      "Mean of Game2 = 4.501, standard deviation = 1.17297\n",
      "Mean of Game3 = 4.3, standard deviation = 1.11137\n",
      "Mean of Game4 = 4.45455, standard deviation = 1.09428\n",
      "Mean of Game5 = 4.20909, standard deviation = 1.21245\n",
      "Mean of Game6 = 4.15341, standard deviation = 1.18136\n"
     ]
    }
   ],
   "source": [
    "# compute statistics for independent variables' values\n",
    "get_statistics <- function(for_bitrate=TRUE) {\n",
    "    result_string <- ''\n",
    "    \n",
    "    if(for_bitrate) { \n",
    "        for (bitrate in bitrates) {\n",
    "            data <- gaming_data %>% \n",
    "                        filter(Bitrate == bitrate) %>% \n",
    "                        group_by(Bitrate) %>% \n",
    "                        summarize(mean = round(mean(VQ), digits=5), sd = round(sd(VQ), digits=5))\n",
    "            result_string <- paste0(result_string, 'Mean of ', bitrate, ' kbps bitrate = ', data['mean'], ', standard deviation = ', data['sd'], '\\n')\n",
    "        }  \n",
    "    } else {\n",
    "        for (game in games) {\n",
    "            data <- gaming_data %>% \n",
    "                        filter(Game == game) %>% \n",
    "                        group_by(Game) %>% \n",
    "                        summarize(mean = round(mean(VQ), digits=5), sd = round(sd(VQ), digits=5))\n",
    "            result_string <- paste0(result_string, 'Mean of ', game, ' = ', data['mean'], ', standard deviation = ', data['sd'], '\\n')\n",
    "        }\n",
    "    }\n",
    "    \n",
    "    result_string\n",
    "}\n",
    "\n",
    "# pretty print\n",
    "cat(get_statistics(for_bitrate=TRUE))\n",
    "cat(get_statistics(for_bitrate=FALSE))"
   ]
  },
  {
   "cell_type": "markdown",
   "metadata": {},
   "source": [
    "#### Altering the bitrate or the game does indeed have a significant effect on the video quality (VQ) ratings (with selected alpha of  0.05): \n",
    "#### There is no significantly noticable interaction effect between bitrate & game (F statistic value of around 2.079, Greenhouse-Geisser corrected p-value of around 0.0503 with eta² effect size of around 0.0376), BUT a significantly noticable main effect of the played game on the video quality (VQ) ratings (F statistic value of around 3.389, Greenhouse-Geisser corrected p-value of around 0.0164 with eta² effect size of around 0.0421), AND a significant rather large main effect of the bitrate on the video quality (VQ) ratings (F statistic value of around 278.877, p-value of around 0 (sphericity assumed) with eta² effect size of around 0.5885). \n",
    "#### The total degrees of freedom are the amount of total observations in ANOVA - 1 => 528 - 1 = 527 [for more specific degrees of freedom and statistics of the individual groups, see above].\n",
    "#### Regarding pairwise comparisons / post hoc tests (Tukey's HSD), there is a statistically significant difference of video quality (VQ) ratings when switching between Game2 & Game1, between Game4 & Game1 and between Game6 & Game2. Also, altering the bitrate has a statistically significant impact on the VQ ratings in all tested cases. More more information on the post hoc results, please see above."
   ]
  }
 ],
 "metadata": {
  "kernelspec": {
   "display_name": "R",
   "language": "R",
   "name": "ir"
  },
  "language_info": {
   "codemirror_mode": "r",
   "file_extension": ".r",
   "mimetype": "text/x-r-source",
   "name": "R",
   "pygments_lexer": "r",
   "version": "3.6.1"
  }
 },
 "nbformat": 4,
 "nbformat_minor": 2
}
