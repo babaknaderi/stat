{
 "cells": [
  {
   "cell_type": "markdown",
   "metadata": {},
   "source": [
    "# Task 1: Does increasing the bitrate or changing the game (independet variables) have a significant effect on the video quality (VQ) ratings (dependent variable)? Please consider only ratings at a resolution of 1080p and a framerate of 60 fps (conditions 36 & 50). Use the ratings provided in the gaming video quality data set."
   ]
  },
  {
   "cell_type": "markdown",
   "metadata": {},
   "source": [
    "### Step 1: Import libraries and read in data set"
   ]
  },
  {
   "cell_type": "code",
   "execution_count": 1,
   "metadata": {},
   "outputs": [],
   "source": [
    "# install.packages('dplyr')      # processing \n",
    "# install.packages('gdata')      # file reading\n",
    "# install.packages('car')        # homogenity of variances\n",
    "# install.packages('rstatix')    # Tukey's post hoc test\n",
    "# install.packages('ez')         # ANOVA table"
   ]
  },
  {
   "cell_type": "code",
   "execution_count": 2,
   "metadata": {},
   "outputs": [
    {
     "name": "stderr",
     "output_type": "stream",
     "text": [
      "Warning message:\n",
      "\"package 'dplyr' was built under R version 3.6.2\"\n",
      "Attaching package: 'dplyr'\n",
      "\n",
      "The following objects are masked from 'package:stats':\n",
      "\n",
      "    filter, lag\n",
      "\n",
      "The following objects are masked from 'package:base':\n",
      "\n",
      "    intersect, setdiff, setequal, union\n",
      "\n",
      "Warning message:\n",
      "\"package 'car' was built under R version 3.6.2\"Loading required package: carData\n",
      "\n",
      "Attaching package: 'car'\n",
      "\n",
      "The following object is masked from 'package:dplyr':\n",
      "\n",
      "    recode\n",
      "\n",
      "Warning message:\n",
      "\"package 'rstatix' was built under R version 3.6.2\"\n",
      "Attaching package: 'rstatix'\n",
      "\n",
      "The following object is masked from 'package:stats':\n",
      "\n",
      "    filter\n",
      "\n",
      "Warning message:\n",
      "\"package 'ez' was built under R version 3.6.2\"Registered S3 methods overwritten by 'lme4':\n",
      "  method                          from\n",
      "  cooks.distance.influence.merMod car \n",
      "  influence.merMod                car \n",
      "  dfbeta.influence.merMod         car \n",
      "  dfbetas.influence.merMod        car \n",
      "Warning message:\n",
      "\"package 'omics' was built under R version 3.6.2\""
     ]
    }
   ],
   "source": [
    "library(dplyr)     # processing\n",
    "library(readxl)    # reading in data\n",
    "library(car)       # homogenity of variances\n",
    "library(rstatix)   # Tukey's post hoc test\n",
    "library(ez)        # ANOVA table"
   ]
  },
  {
   "cell_type": "code",
   "execution_count": 3,
   "metadata": {},
   "outputs": [
    {
     "data": {
      "text/html": [
       "<table>\n",
       "<thead><tr><th scope=col>PID</th><th scope=col>Bitrate</th><th scope=col>Game</th><th scope=col>VQ</th></tr></thead>\n",
       "<tbody>\n",
       "\t<tr><td>1    </td><td>2000 </td><td>Game1</td><td>2.9  </td></tr>\n",
       "\t<tr><td>1    </td><td>2000 </td><td>Game6</td><td>2.0  </td></tr>\n",
       "\t<tr><td>1    </td><td>6000 </td><td>Game1</td><td>4.5  </td></tr>\n",
       "\t<tr><td>1    </td><td>6000 </td><td>Game6</td><td>2.6  </td></tr>\n",
       "\t<tr><td>2    </td><td>2000 </td><td>Game1</td><td>4.6  </td></tr>\n",
       "\t<tr><td>2    </td><td>2000 </td><td>Game6</td><td>2.6  </td></tr>\n",
       "</tbody>\n",
       "</table>\n"
      ],
      "text/latex": [
       "\\begin{tabular}{r|llll}\n",
       " PID & Bitrate & Game & VQ\\\\\n",
       "\\hline\n",
       "\t 1     & 2000  & Game1 & 2.9  \\\\\n",
       "\t 1     & 2000  & Game6 & 2.0  \\\\\n",
       "\t 1     & 6000  & Game1 & 4.5  \\\\\n",
       "\t 1     & 6000  & Game6 & 2.6  \\\\\n",
       "\t 2     & 2000  & Game1 & 4.6  \\\\\n",
       "\t 2     & 2000  & Game6 & 2.6  \\\\\n",
       "\\end{tabular}\n"
      ],
      "text/markdown": [
       "\n",
       "| PID | Bitrate | Game | VQ |\n",
       "|---|---|---|---|\n",
       "| 1     | 2000  | Game1 | 2.9   |\n",
       "| 1     | 2000  | Game6 | 2.0   |\n",
       "| 1     | 6000  | Game1 | 4.5   |\n",
       "| 1     | 6000  | Game6 | 2.6   |\n",
       "| 2     | 2000  | Game1 | 4.6   |\n",
       "| 2     | 2000  | Game6 | 2.6   |\n",
       "\n"
      ],
      "text/plain": [
       "  PID Bitrate Game  VQ \n",
       "1 1   2000    Game1 2.9\n",
       "2 1   2000    Game6 2.0\n",
       "3 1   6000    Game1 4.5\n",
       "4 1   6000    Game6 2.6\n",
       "5 2   2000    Game1 4.6\n",
       "6 2   2000    Game6 2.6"
      ]
     },
     "metadata": {},
     "output_type": "display_data"
    }
   ],
   "source": [
    "# read in data sets\n",
    "get_gaming_data <- function() {\n",
    "    gaming_data <- read_excel(\"datasets/DB01_gaming_video_quality_dataset.xlsx\")\n",
    "    gaming_data <- gaming_data %>% dplyr::filter(Resolution == 1080, \n",
    "                                      Framerate == 60, \n",
    "                                      (Condition == 36 | Condition == 50)) %>%\n",
    "                                    select(PID, Bitrate, Game, VQ) %>%\n",
    "                                    mutate(Bitrate = as.character(Bitrate), PID = as.factor(PID), Game = as.factor(Game)) %>%\n",
    "                                    arrange(PID)\n",
    "    \n",
    "    gaming_data\n",
    "}\n",
    "\n",
    "gaming_data <- get_gaming_data()\n",
    "head(gaming_data)"
   ]
  },
  {
   "cell_type": "markdown",
   "metadata": {},
   "source": [
    "### Step 2: Decide on which ANOVA test to use"
   ]
  },
  {
   "cell_type": "markdown",
   "metadata": {},
   "source": [
    "#### => 2 independent input variables (bitrate & game), 1 dependent variable, repeated measures for same subjects => two-way repeated measure ANOVA"
   ]
  },
  {
   "cell_type": "markdown",
   "metadata": {},
   "source": [
    "### Step 3: Check assumptions"
   ]
  },
  {
   "cell_type": "markdown",
   "metadata": {},
   "source": [
    "#### 1. Dependent variables on interval or ratio scale => check, because VQ is continuous\n",
    "#### 2. Independent variables with two or more groups => check, because Game1 & Game6 for game, 2000 & 6000 kbps for bitrate\n",
    "#### 3. Indepenence of observation => check, because participants are independent and within-subject independence is assumed\n",
    "#### 4. No significant outliers => don't know, need to check that in the next step!\n",
    "#### 5. Normally distributed population for every single group => don't know, need to check that in the next step!\n",
    "#### 6. Homogenity of variances => don't know, need to check that in the next step!"
   ]
  },
  {
   "cell_type": "markdown",
   "metadata": {},
   "source": [
    "### Step 3.1: Outlier detection"
   ]
  },
  {
   "cell_type": "code",
   "execution_count": 4,
   "metadata": {},
   "outputs": [
    {
     "data": {
      "text/html": [
       "<table>\n",
       "<thead><tr><th scope=col>VQ</th><th scope=col>Z_Score_VQ</th></tr></thead>\n",
       "<tbody>\n",
       "\t<tr><td>5.7     </td><td>2.002825</td></tr>\n",
       "\t<tr><td>5.7     </td><td>2.002825</td></tr>\n",
       "\t<tr><td>5.7     </td><td>2.002825</td></tr>\n",
       "\t<tr><td>5.6     </td><td>1.906673</td></tr>\n",
       "\t<tr><td>5.6     </td><td>1.906673</td></tr>\n",
       "\t<tr><td>5.2     </td><td>1.522065</td></tr>\n",
       "</tbody>\n",
       "</table>\n"
      ],
      "text/latex": [
       "\\begin{tabular}{r|ll}\n",
       " VQ & Z\\_Score\\_VQ\\\\\n",
       "\\hline\n",
       "\t 5.7      & 2.002825\\\\\n",
       "\t 5.7      & 2.002825\\\\\n",
       "\t 5.7      & 2.002825\\\\\n",
       "\t 5.6      & 1.906673\\\\\n",
       "\t 5.6      & 1.906673\\\\\n",
       "\t 5.2      & 1.522065\\\\\n",
       "\\end{tabular}\n"
      ],
      "text/markdown": [
       "\n",
       "| VQ | Z_Score_VQ |\n",
       "|---|---|\n",
       "| 5.7      | 2.002825 |\n",
       "| 5.7      | 2.002825 |\n",
       "| 5.7      | 2.002825 |\n",
       "| 5.6      | 1.906673 |\n",
       "| 5.6      | 1.906673 |\n",
       "| 5.2      | 1.522065 |\n",
       "\n"
      ],
      "text/plain": [
       "  VQ  Z_Score_VQ\n",
       "1 5.7 2.002825  \n",
       "2 5.7 2.002825  \n",
       "3 5.7 2.002825  \n",
       "4 5.6 1.906673  \n",
       "5 5.6 1.906673  \n",
       "6 5.2 1.522065  "
      ]
     },
     "metadata": {},
     "output_type": "display_data"
    }
   ],
   "source": [
    "# z score method\n",
    "head(\n",
    "    gaming_data %>% \n",
    "                mutate(Std_Dev_VQ = sd(VQ), \n",
    "                       Mean_VQ = mean(VQ)) %>%\n",
    "                mutate(Z_Score_VQ = (VQ - Mean_VQ) / Std_Dev_VQ) %>%\n",
    "                select(VQ, Z_Score_VQ) %>%\n",
    "                drop_na() %>%\n",
    "                arrange(desc(Z_Score_VQ))\n",
    ")"
   ]
  },
  {
   "cell_type": "markdown",
   "metadata": {},
   "source": [
    "#### Criterion checked: no significant outliers (no absolute z score greater than 3.29)"
   ]
  },
  {
   "cell_type": "markdown",
   "metadata": {},
   "source": [
    "### Step 3.2: Normally distributed population for every single group"
   ]
  },
  {
   "cell_type": "code",
   "execution_count": 5,
   "metadata": {},
   "outputs": [],
   "source": [
    "# normality checking for groups\n",
    "check_normality_for_group <- function(game, bitrate) {\n",
    "    data <- gaming_data %>% dplyr::filter(Game == game & Bitrate == bitrate) \n",
    "    test_result <- ks.test(data[['VQ']], \"pnorm\", mean=mean(data[['VQ']]), sd=sd(data[['VQ']]))\n",
    "    result_string <- paste0('Normality for ', game, ' & bitrate of ', bitrate, ' kbps: ')\n",
    "    test_result[['p.value']]\n",
    "    \n",
    "    if(test_result[['p.value']] < 0.05) {\n",
    "        result_string <- paste0(result_string, as.character(round(test_result[['p.value']], digits=3)), \n",
    "                                ' p-value (Kolmogrov-Smirnov) == NO, ')\n",
    "    } else {\n",
    "        result_string <- paste0(result_string, as.character(round(test_result[['p.value']], digits=3)), \n",
    "                                ' p-value (Kolmogrov-Smirnov) == YES, ')\n",
    "    }\n",
    "    \n",
    "    test_result <- shapiro.test(data[['VQ']])\n",
    "    if(test_result[['p.value']] < 0.05) {\n",
    "        result_string <- paste0(result_string, as.character(round(test_result[['p.value']], digits=3)), \n",
    "                                ' p-value (Shapiro-Wilk) == NO!')\n",
    "    } else {\n",
    "        result_string <- paste0(result_string, as.character(round(test_result[['p.value']], digits=3)), \n",
    "                                ' p-value (Kolmogrov-Smirnov) == YES!')\n",
    "    }\n",
    "    \n",
    "    result_string\n",
    "}"
   ]
  },
  {
   "cell_type": "code",
   "execution_count": 6,
   "metadata": {},
   "outputs": [
    {
     "name": "stderr",
     "output_type": "stream",
     "text": [
      "Warning message in ks.test(data[[\"VQ\"]], \"pnorm\", mean = mean(data[[\"VQ\"]]), sd = sd(data[[\"VQ\"]])):\n",
      "\"ties should not be present for the Kolmogorov-Smirnov test\""
     ]
    },
    {
     "name": "stdout",
     "output_type": "stream",
     "text": [
      "[1] \"Normality for Game1 & bitrate of 2000 kbps: 0.249 p-value (Kolmogrov-Smirnov) == YES, 0.04 p-value (Shapiro-Wilk) == NO!\"\n"
     ]
    },
    {
     "name": "stderr",
     "output_type": "stream",
     "text": [
      "Warning message in ks.test(data[[\"VQ\"]], \"pnorm\", mean = mean(data[[\"VQ\"]]), sd = sd(data[[\"VQ\"]])):\n",
      "\"ties should not be present for the Kolmogorov-Smirnov test\""
     ]
    },
    {
     "name": "stdout",
     "output_type": "stream",
     "text": [
      "[1] \"Normality for Game1 & bitrate of 6000 kbps: 0.975 p-value (Kolmogrov-Smirnov) == YES, 0.308 p-value (Kolmogrov-Smirnov) == YES!\"\n"
     ]
    },
    {
     "name": "stderr",
     "output_type": "stream",
     "text": [
      "Warning message in ks.test(data[[\"VQ\"]], \"pnorm\", mean = mean(data[[\"VQ\"]]), sd = sd(data[[\"VQ\"]])):\n",
      "\"ties should not be present for the Kolmogorov-Smirnov test\""
     ]
    },
    {
     "name": "stdout",
     "output_type": "stream",
     "text": [
      "[1] \"Normality for Game6 & bitrate of 2000 kbps: 0.48 p-value (Kolmogrov-Smirnov) == YES, 0.039 p-value (Shapiro-Wilk) == NO!\"\n"
     ]
    },
    {
     "name": "stderr",
     "output_type": "stream",
     "text": [
      "Warning message in ks.test(data[[\"VQ\"]], \"pnorm\", mean = mean(data[[\"VQ\"]]), sd = sd(data[[\"VQ\"]])):\n",
      "\"ties should not be present for the Kolmogorov-Smirnov test\""
     ]
    },
    {
     "name": "stdout",
     "output_type": "stream",
     "text": [
      "[1] \"Normality for Game6 & bitrate of 6000 kbps: 0.515 p-value (Kolmogrov-Smirnov) == YES, 0.119 p-value (Kolmogrov-Smirnov) == YES!\"\n"
     ]
    }
   ],
   "source": [
    "# print normality tests\n",
    "games <- (gaming_data %>% distinct(Game))[['Game']]\n",
    "bitrates <- (gaming_data %>% distinct(Bitrate))[['Bitrate']]\n",
    "\n",
    "for (game in games) {\n",
    "    for (bitrate in bitrates) {\n",
    "        print(check_normality_for_group(game, bitrate))\n",
    "    }  \n",
    "}"
   ]
  },
  {
   "cell_type": "markdown",
   "metadata": {},
   "source": [
    "#### Normality is hence likely to not exist within all groups - we are still going to continue though."
   ]
  },
  {
   "cell_type": "markdown",
   "metadata": {},
   "source": [
    "### Step 3.3: Homogenity of variances"
   ]
  },
  {
   "cell_type": "code",
   "execution_count": 7,
   "metadata": {},
   "outputs": [
    {
     "data": {
      "text/html": [
       "'F(df_{Game1, 2000 kbps bitrate} = 24, df_{Game1, 6000 kbps bitrate} = 24, df_{Game6, 2000 kbps bitrate} = 21, df_{Game6, 6000 kbps bitrate} = 21) = 1.273 | p-value = 0.289 =&gt; homogenity of variance CAN be assumed'"
      ],
      "text/latex": [
       "'F(df\\_\\{Game1, 2000 kbps bitrate\\} = 24, df\\_\\{Game1, 6000 kbps bitrate\\} = 24, df\\_\\{Game6, 2000 kbps bitrate\\} = 21, df\\_\\{Game6, 6000 kbps bitrate\\} = 21) = 1.273 \\textbar{} p-value = 0.289 => homogenity of variance CAN be assumed'"
      ],
      "text/markdown": [
       "'F(df_{Game1, 2000 kbps bitrate} = 24, df_{Game1, 6000 kbps bitrate} = 24, df_{Game6, 2000 kbps bitrate} = 21, df_{Game6, 6000 kbps bitrate} = 21) = 1.273 | p-value = 0.289 =&gt; homogenity of variance CAN be assumed'"
      ],
      "text/plain": [
       "[1] \"F(df_{Game1, 2000 kbps bitrate} = 24, df_{Game1, 6000 kbps bitrate} = 24, df_{Game6, 2000 kbps bitrate} = 21, df_{Game6, 6000 kbps bitrate} = 21) = 1.273 | p-value = 0.289 => homogenity of variance CAN be assumed\""
      ]
     },
     "metadata": {},
     "output_type": "display_data"
    }
   ],
   "source": [
    "# Check for homogenity of groups' VQ ratings\n",
    "get_levene_test_results <- function() {\n",
    "\n",
    "    test_results <- leveneTest(VQ ~ Game*Bitrate, data = gaming_data %>% mutate(Bitrate = as.character(Bitrate)), center = mean)\n",
    "    test_results\n",
    "    n_game1_2000kbps <- (gaming_data %>% dplyr::filter(Game == 'Game1' & Bitrate == 2000) %>% mutate(df = n() - 1))[1,][['df']]\n",
    "    n_game1_6000kbps <- (gaming_data %>% dplyr::filter(Game == 'Game1' & Bitrate == 6000) %>% mutate(df = n() - 1))[1,][['df']]\n",
    "    n_game6_2000kbps <- (gaming_data %>% dplyr::filter(Game == 'Game6' & Bitrate == 2000) %>% mutate(df = n() - 1))[1,][['df']]\n",
    "    n_game6_6000kbps <- (gaming_data %>% dplyr::filter(Game == 'Game6' & Bitrate == 6000) %>% mutate(df = n() - 1))[1,][['df']]\n",
    "\n",
    "    result <- paste0('F(df_{Game1, 2000 kbps bitrate} = ', n_game1_2000kbps, \n",
    "                     ', df_{Game1, 6000 kbps bitrate} = ', n_game1_6000kbps, \n",
    "                     ', df_{Game6, 2000 kbps bitrate} = ', n_game6_2000kbps, \n",
    "                     ', df_{Game6, 6000 kbps bitrate} = ', n_game6_6000kbps, ') = ',\n",
    "               round(test_results[1,2], digits=3), \n",
    "               ' | p-value = ', \n",
    "               round(test_results[1,3], digits=3))\n",
    "    \n",
    "    if(test_results[1,3] > 0.05) {\n",
    "        result <- paste0(result, ' => homogenity of variance CAN be assumed')\n",
    "    } else {\n",
    "        result <- paste0(result, ' => homogenity of variance CANNOT be assumed')\n",
    "    }\n",
    "    \n",
    "    result\n",
    "}\n",
    "\n",
    "get_levene_test_results()"
   ]
  },
  {
   "cell_type": "markdown",
   "metadata": {},
   "source": [
    "#### Therefore, homogenity of variances can be assumed."
   ]
  },
  {
   "cell_type": "markdown",
   "metadata": {},
   "source": [
    "### Step 4: Conduct two-way repeated measure ANOVA"
   ]
  },
  {
   "cell_type": "code",
   "execution_count": 8,
   "metadata": {
    "scrolled": false
   },
   "outputs": [
    {
     "name": "stderr",
     "output_type": "stream",
     "text": [
      "Warning message:\n",
      "\"You have removed one or more Ss from the analysis. Refactoring \"PID\" for ANOVA.\""
     ]
    },
    {
     "data": {
      "text/html": [
       "<table>\n",
       "<thead><tr><th></th><th scope=col>Effect</th><th scope=col>DFn</th><th scope=col>DFd</th><th scope=col>F</th><th scope=col>p</th><th scope=col>p&lt;.05</th><th scope=col>ges</th></tr></thead>\n",
       "<tbody>\n",
       "\t<tr><th scope=row>2</th><td>Bitrate     </td><td>1           </td><td>21          </td><td>2.000348e+02</td><td>3.325397e-12</td><td>*           </td><td>3.799115e-01</td></tr>\n",
       "\t<tr><th scope=row>3</th><td>Game        </td><td>1           </td><td>21          </td><td>4.467287e-03</td><td>9.473431e-01</td><td>            </td><td>4.972344e-05</td></tr>\n",
       "\t<tr><th scope=row>4</th><td>Bitrate:Game</td><td>1           </td><td>21          </td><td>6.599115e-02</td><td>7.997658e-01</td><td>            </td><td>8.763963e-04</td></tr>\n",
       "</tbody>\n",
       "</table>\n"
      ],
      "text/latex": [
       "\\begin{tabular}{r|lllllll}\n",
       "  & Effect & DFn & DFd & F & p & p<.05 & ges\\\\\n",
       "\\hline\n",
       "\t2 & Bitrate      & 1            & 21           & 2.000348e+02 & 3.325397e-12 & *            & 3.799115e-01\\\\\n",
       "\t3 & Game         & 1            & 21           & 4.467287e-03 & 9.473431e-01 &              & 4.972344e-05\\\\\n",
       "\t4 & Bitrate:Game & 1            & 21           & 6.599115e-02 & 7.997658e-01 &              & 8.763963e-04\\\\\n",
       "\\end{tabular}\n"
      ],
      "text/markdown": [
       "\n",
       "| <!--/--> | Effect | DFn | DFd | F | p | p<.05 | ges |\n",
       "|---|---|---|---|---|---|---|---|\n",
       "| 2 | Bitrate      | 1            | 21           | 2.000348e+02 | 3.325397e-12 | *            | 3.799115e-01 |\n",
       "| 3 | Game         | 1            | 21           | 4.467287e-03 | 9.473431e-01 |              | 4.972344e-05 |\n",
       "| 4 | Bitrate:Game | 1            | 21           | 6.599115e-02 | 7.997658e-01 |              | 8.763963e-04 |\n",
       "\n"
      ],
      "text/plain": [
       "  Effect       DFn DFd F            p            p<.05 ges         \n",
       "2 Bitrate      1   21  2.000348e+02 3.325397e-12 *     3.799115e-01\n",
       "3 Game         1   21  4.467287e-03 9.473431e-01       4.972344e-05\n",
       "4 Bitrate:Game 1   21  6.599115e-02 7.997658e-01       8.763963e-04"
      ]
     },
     "metadata": {},
     "output_type": "display_data"
    }
   ],
   "source": [
    "# conduct two-way repeated measure ANOVA\n",
    "# NOTE here: ezANOVA requires participants to have VQ ratings for all 4 bitrate-game combinations\n",
    "# => Therefore we need to exclude participants with PID 23, 24, 25 as they only have VQ ratings for 2 conditions\n",
    "\n",
    "# Also note: \"Mauchly's Test for Sphericity: If any within-Ss variables with >2 levels are present, \n",
    "# a data frame containing the results of Mauchly's test for Sphericity. Only reported for effects \n",
    "# >2 levels because sphericity necessarily holds for effects with only 2 levels\" [https://www.rdocumentation.org/packages/ez/versions/3.0-1/topics/ezANOVA]\n",
    "\n",
    "ezANOVA_data <- gaming_data %>% mutate(Bitrate = as.factor(as.character(Bitrate))) %>% \n",
    "                    filter(PID != '23',PID != '24',PID != '25')\n",
    "\n",
    "anova_res = ezANOVA(\n",
    "    data = ezANOVA_data, \n",
    "    dv = .(VQ), \n",
    "    wid = .(PID), \n",
    "    within = .(Bitrate, Game)\n",
    ")\n",
    "\n",
    "anova_res$ANOVA "
   ]
  },
  {
   "cell_type": "markdown",
   "metadata": {},
   "source": [
    "### Step 5: Pairwise comparison / post hoc test"
   ]
  },
  {
   "cell_type": "code",
   "execution_count": 9,
   "metadata": {},
   "outputs": [],
   "source": [
    "print_bonferroni_results <- function(check_for_bitrate=TRUE) {\n",
    "    \n",
    "    if(check_for_bitrate) {\n",
    "        interpretation <- paste0('Bonferroni p value for effect of bitrate on video quality (VQ) ratings: ')\n",
    "        p_val <- pairwise.t.test(gaming_data$VQ, gaming_data$Bitrate, p.adj=\"bonferroni\")[['p.value']][1,1]\n",
    "        interpretation <- paste0(interpretation, p_val)\n",
    "    } else{\n",
    "        interpretation <- paste0('Bonferroni p value for effect of game on video quality (VQ) ratings: ')\n",
    "        p_val <- pairwise.t.test(gaming_data$VQ, gaming_data$Game, p.adj=\"bonferroni\")[['p.value']][1,1]\n",
    "        interpretation <- paste0(interpretation, p_val)\n",
    "    }\n",
    "    \n",
    "    if(p_val < 0.05) {\n",
    "        interpretation <- paste0(interpretation, ' => p value < 0.05: significant mean difference')\n",
    "    } else {\n",
    "        interpretation <- paste0(interpretation, ' => p value >= 0.05: NO significant mean difference')\n",
    "    }\n",
    "    \n",
    "    interpretation\n",
    "}"
   ]
  },
  {
   "cell_type": "code",
   "execution_count": 10,
   "metadata": {},
   "outputs": [
    {
     "data": {
      "text/html": [
       "'Bonferroni p value for effect of bitrate on video quality (VQ) ratings: 5.1687571014263e-11 =&gt; p value &lt; 0.05: significant mean difference'"
      ],
      "text/latex": [
       "'Bonferroni p value for effect of bitrate on video quality (VQ) ratings: 5.1687571014263e-11 => p value < 0.05: significant mean difference'"
      ],
      "text/markdown": [
       "'Bonferroni p value for effect of bitrate on video quality (VQ) ratings: 5.1687571014263e-11 =&gt; p value &lt; 0.05: significant mean difference'"
      ],
      "text/plain": [
       "[1] \"Bonferroni p value for effect of bitrate on video quality (VQ) ratings: 5.1687571014263e-11 => p value < 0.05: significant mean difference\""
      ]
     },
     "metadata": {},
     "output_type": "display_data"
    },
    {
     "data": {
      "text/html": [
       "'Bonferroni p value for effect of game on video quality (VQ) ratings: 0.960858305715019 =&gt; p value &gt;= 0.05: NO significant mean difference'"
      ],
      "text/latex": [
       "'Bonferroni p value for effect of game on video quality (VQ) ratings: 0.960858305715019 => p value >= 0.05: NO significant mean difference'"
      ],
      "text/markdown": [
       "'Bonferroni p value for effect of game on video quality (VQ) ratings: 0.960858305715019 =&gt; p value &gt;= 0.05: NO significant mean difference'"
      ],
      "text/plain": [
       "[1] \"Bonferroni p value for effect of game on video quality (VQ) ratings: 0.960858305715019 => p value >= 0.05: NO significant mean difference\""
      ]
     },
     "metadata": {},
     "output_type": "display_data"
    },
    {
     "data": {
      "text/plain": [
       "  Tukey multiple comparisons of means\n",
       "    95% family-wise confidence level\n",
       "\n",
       "Fit: aov(formula = VQ ~ Bitrate * Game, data = gaming_data)\n",
       "\n",
       "$Bitrate\n",
       "              diff      lwr      upr p adj\n",
       "6000-2000 1.268085 0.925914 1.610256     0\n",
       "\n",
       "$Game\n",
       "                   diff        lwr       upr     p adj\n",
       "Game6-Game1 -0.01063636 -0.3535067 0.3322339 0.9509944\n",
       "\n",
       "$`Bitrate:Game`\n",
       "                             diff        lwr        upr     p adj\n",
       "6000:Game1-2000:Game1  1.31600000  0.6978224  1.9341776 0.0000015\n",
       "2000:Game6-2000:Game1  0.04054545 -0.5983589  0.6794498 0.9983574\n",
       "6000:Game6-2000:Game1  1.25418182  0.6152774  1.8930862 0.0000094\n",
       "2000:Game6-6000:Game1 -1.27545455 -1.9143589 -0.6365502 0.0000066\n",
       "6000:Game6-6000:Game1 -0.06181818 -0.7007226  0.5770862 0.9942598\n",
       "6000:Game6-2000:Game6  1.21363636  0.5546568  1.8726159 0.0000339\n"
      ]
     },
     "metadata": {},
     "output_type": "display_data"
    }
   ],
   "source": [
    "# as almost equal sample sizes and Tukey most widely used: Tukey [\"Cramming Sam's tips\" for post hoc tests (from lecture)]\n",
    "# almost equal sample sizes and Bonferroni conservative / widely used: Bonferroni :)\n",
    "print_bonferroni_results(check_for_bitrate=TRUE)\n",
    "print_bonferroni_results(check_for_bitrate=FALSE)\n",
    "\n",
    "# BONUS: almost equal sample sizes and Tukey most widely used: Tukey [\"Cramming Sam's tips\" for post hoc tests (from lecture)]\n",
    "TukeyHSD(aov(VQ ~ Bitrate * Game, data = gaming_data))"
   ]
  },
  {
   "cell_type": "markdown",
   "metadata": {},
   "source": [
    "#### Interaction effect: adjusted p value < 0.05 for (6000 kbps bitrate:Game1)-(2000 kbps bitrate:Game1), (2000 kbps bitrate:Game6)-(6000 kbps bitrate:Game1), (6000 kbps bitrate:Game6)-(2000 kbps bitrate:Game6) \n",
    "#### Main effect: adjusted p value < 0.05 for 2000 & 6000 kbps bitrate (changing bitrate), NOT for Game1 & Game6 (switching games)\n",
    "#### => More: see interpretation"
   ]
  },
  {
   "cell_type": "markdown",
   "metadata": {},
   "source": [
    "### Step 6: Interpretation"
   ]
  },
  {
   "cell_type": "code",
   "execution_count": 11,
   "metadata": {},
   "outputs": [
    {
     "name": "stdout",
     "output_type": "stream",
     "text": [
      "[1] \"df_{Game1, 2000 kbps bitrate} = 24\"\n",
      "[1] \"df_{Game1, 6000 kbps bitrate} = 24\"\n",
      "[1] \"df_{Game6, 2000 kbps bitrate} = 21\"\n",
      "[1] \"df_{Game6, 6000 kbps bitrate} = 21\"\n"
     ]
    }
   ],
   "source": [
    "# compute individual degrees of freedom for groups\n",
    "get_df_of <- function(game, bitrate) {\n",
    "    paste0('df_{', game, ', ', bitrate, ' kbps bitrate} = ', \n",
    "           nrow(gaming_data %>% filter(Game == game & Bitrate == bitrate)) - 1)\n",
    "}\n",
    "\n",
    "for (game in games) {\n",
    "    for (bitrate in bitrates) {\n",
    "        print(get_df_of(game, bitrate))\n",
    "    }  \n",
    "}"
   ]
  },
  {
   "cell_type": "code",
   "execution_count": 12,
   "metadata": {},
   "outputs": [
    {
     "data": {
      "text/html": [
       "<table>\n",
       "<thead><tr><th scope=col>Bitrate</th><th scope=col>mean</th><th scope=col>sd</th></tr></thead>\n",
       "<tbody>\n",
       "\t<tr><td>2000     </td><td>2.982979 </td><td>0.8036112</td></tr>\n",
       "</tbody>\n",
       "</table>\n"
      ],
      "text/latex": [
       "\\begin{tabular}{r|lll}\n",
       " Bitrate & mean & sd\\\\\n",
       "\\hline\n",
       "\t 2000      & 2.982979  & 0.8036112\\\\\n",
       "\\end{tabular}\n"
      ],
      "text/markdown": [
       "\n",
       "| Bitrate | mean | sd |\n",
       "|---|---|---|\n",
       "| 2000      | 2.982979  | 0.8036112 |\n",
       "\n"
      ],
      "text/plain": [
       "  Bitrate mean     sd       \n",
       "1 2000    2.982979 0.8036112"
      ]
     },
     "metadata": {},
     "output_type": "display_data"
    },
    {
     "data": {
      "text/html": [
       "<table>\n",
       "<thead><tr><th scope=col>Bitrate</th><th scope=col>mean</th><th scope=col>sd</th></tr></thead>\n",
       "<tbody>\n",
       "\t<tr><td>6000     </td><td>4.251064 </td><td>0.8482392</td></tr>\n",
       "</tbody>\n",
       "</table>\n"
      ],
      "text/latex": [
       "\\begin{tabular}{r|lll}\n",
       " Bitrate & mean & sd\\\\\n",
       "\\hline\n",
       "\t 6000      & 4.251064  & 0.8482392\\\\\n",
       "\\end{tabular}\n"
      ],
      "text/markdown": [
       "\n",
       "| Bitrate | mean | sd |\n",
       "|---|---|---|\n",
       "| 6000      | 4.251064  | 0.8482392 |\n",
       "\n"
      ],
      "text/plain": [
       "  Bitrate mean     sd       \n",
       "1 6000    4.251064 0.8482392"
      ]
     },
     "metadata": {},
     "output_type": "display_data"
    },
    {
     "data": {
      "text/html": [
       "<table>\n",
       "<thead><tr><th scope=col>Game</th><th scope=col>mean</th><th scope=col>sd</th></tr></thead>\n",
       "<tbody>\n",
       "\t<tr><td>Game1   </td><td>3.622   </td><td>1.088022</td></tr>\n",
       "</tbody>\n",
       "</table>\n"
      ],
      "text/latex": [
       "\\begin{tabular}{r|lll}\n",
       " Game & mean & sd\\\\\n",
       "\\hline\n",
       "\t Game1    & 3.622    & 1.088022\\\\\n",
       "\\end{tabular}\n"
      ],
      "text/markdown": [
       "\n",
       "| Game | mean | sd |\n",
       "|---|---|---|\n",
       "| Game1    | 3.622    | 1.088022 |\n",
       "\n"
      ],
      "text/plain": [
       "  Game  mean  sd      \n",
       "1 Game1 3.622 1.088022"
      ]
     },
     "metadata": {},
     "output_type": "display_data"
    },
    {
     "data": {
      "text/html": [
       "<table>\n",
       "<thead><tr><th scope=col>Game</th><th scope=col>mean</th><th scope=col>sd</th></tr></thead>\n",
       "<tbody>\n",
       "\t<tr><td>Game6    </td><td>3.611364 </td><td>0.9951548</td></tr>\n",
       "</tbody>\n",
       "</table>\n"
      ],
      "text/latex": [
       "\\begin{tabular}{r|lll}\n",
       " Game & mean & sd\\\\\n",
       "\\hline\n",
       "\t Game6     & 3.611364  & 0.9951548\\\\\n",
       "\\end{tabular}\n"
      ],
      "text/markdown": [
       "\n",
       "| Game | mean | sd |\n",
       "|---|---|---|\n",
       "| Game6     | 3.611364  | 0.9951548 |\n",
       "\n"
      ],
      "text/plain": [
       "  Game  mean     sd       \n",
       "1 Game6 3.611364 0.9951548"
      ]
     },
     "metadata": {},
     "output_type": "display_data"
    }
   ],
   "source": [
    "# compute statistics for independent variables' values\n",
    "gaming_data %>% \n",
    "                filter(Bitrate == 2000) %>% \n",
    "                group_by(Bitrate) %>% \n",
    "                summarize(mean = mean(VQ), sd = sd(VQ))\n",
    "\n",
    "gaming_data %>% \n",
    "                filter(Bitrate == 6000) %>% \n",
    "                group_by(Bitrate) %>% \n",
    "                summarize(mean = mean(VQ), sd = sd(VQ))\n",
    "\n",
    "gaming_data %>% \n",
    "                filter(Game == 'Game1') %>% \n",
    "                group_by(Game) %>% \n",
    "                summarize(mean = mean(VQ), sd = sd(VQ))\n",
    "\n",
    "gaming_data %>% \n",
    "                filter(Game == 'Game6') %>% \n",
    "                group_by(Game) %>% \n",
    "                summarize(mean = mean(VQ), sd = sd(VQ))"
   ]
  },
  {
   "cell_type": "markdown",
   "metadata": {},
   "source": [
    "#### Altering the bitrate or the game does have a significant effect on the video quality (VQ) ratings (alpha significance value = 0.05): \n",
    "#### There is no significantly noticable interaction effect between bitrate & game (F statistic value of around 6.6e-02, p-value of around 0.8 with eta² effect size of around 8.76e-04), no significantly noticable main effect of the played game on the video quality (VQ) ratings (F statistic value of around 4.47e-03, p-value of around 0.995 with eta² effect size of around 4.97e-05), BUT a significant rather large main effect of the bitrate on the video quality (VQ) ratings (F statistic value of around 200.00, p-value of around 3.33e-12 with eta² effect size of around 0.38). \n",
    "#### The total degrees of freedom are the amount of total observations - 1 => 94 - 1 = 93 [df_{Game1, 2000 kbps bitrate} = 24, df_{Game1, 6000 kbps bitrate} = 24, df_{Game6, 2000 kbps bitrate} = 21, df_{Game6, 6000 kbps bitrate} = 21]. \n",
    "#### Regarding pairwise comparisons / post hoc tests, there is a significant statistical difference of ratings between 2000 kbps (mean VQ rating around 2.98, standard deviation around 0.8) & 6000 kbps (mean VQ rating around 4.25, standard deviation around 0.85) bitrate (p-value around 0), but none for the game (p-value around 0.95 > 0.05, where mean VQ rating for Game1 around 3.6 (standard deviation around 1.09), for Game6 around 3.61 (standard deviation around 1.00)) [source: TukeysHSD]. Also, the Bonferroni post hoc test confirms this: bitrate-VQ p value of around 0, game-VQ p value of around 0.96."
   ]
  }
 ],
 "metadata": {
  "kernelspec": {
   "display_name": "R",
   "language": "R",
   "name": "ir"
  },
  "language_info": {
   "codemirror_mode": "r",
   "file_extension": ".r",
   "mimetype": "text/x-r-source",
   "name": "R",
   "pygments_lexer": "r",
   "version": "3.6.1"
  }
 },
 "nbformat": 4,
 "nbformat_minor": 2
}
