{
 "cells": [
  {
   "cell_type": "markdown",
   "metadata": {},
   "source": [
    "# Task 2: Does the test Stimulus (independent variable) have a significant influence on speech quality ratings (dependent variable)? If yes, for which cases? Please assume that each of the six files was assessed by a different set of participants AND ONLY USE RATINGS OF THE FIRST REPETITION (repetition = 1). Use the quality ratings provided in the data set speech_quality_repetition_dataset."
   ]
  },
  {
   "cell_type": "markdown",
   "metadata": {},
   "source": [
    "### Step 1: Import libraries and read in data set"
   ]
  },
  {
   "cell_type": "code",
   "execution_count": 1,
   "metadata": {},
   "outputs": [],
   "source": [
    "# install.packages('dplyr')      # processing \n",
    "# install.packages('gdata')      # file reading\n",
    "# install.packages('car')        # homogenity of variances\n",
    "# install.packages('rstatix')    # ANOVA\n",
    "# install.packages('lsr')        # effect size"
   ]
  },
  {
   "cell_type": "code",
   "execution_count": 2,
   "metadata": {},
   "outputs": [
    {
     "name": "stderr",
     "output_type": "stream",
     "text": [
      "Warning message:\n",
      "\"package 'dplyr' was built under R version 3.6.2\"\n",
      "Attaching package: 'dplyr'\n",
      "\n",
      "The following objects are masked from 'package:stats':\n",
      "\n",
      "    filter, lag\n",
      "\n",
      "The following objects are masked from 'package:base':\n",
      "\n",
      "    intersect, setdiff, setequal, union\n",
      "\n",
      "Warning message:\n",
      "\"package 'car' was built under R version 3.6.2\"Loading required package: carData\n",
      "\n",
      "Attaching package: 'car'\n",
      "\n",
      "The following object is masked from 'package:dplyr':\n",
      "\n",
      "    recode\n",
      "\n",
      "Warning message:\n",
      "\"package 'rstatix' was built under R version 3.6.2\"\n",
      "Attaching package: 'rstatix'\n",
      "\n",
      "The following object is masked from 'package:stats':\n",
      "\n",
      "    filter\n",
      "\n"
     ]
    }
   ],
   "source": [
    "library(dplyr)     # processing\n",
    "library(readxl)    # reading in data\n",
    "library(car)       # homogenity of variances\n",
    "library(rstatix)   # ANOVA\n",
    "library(lsr)       # effect size"
   ]
  },
  {
   "cell_type": "code",
   "execution_count": 3,
   "metadata": {},
   "outputs": [
    {
     "data": {
      "text/html": [
       "<table>\n",
       "<thead><tr><th scope=col>Subject</th><th scope=col>Stimulus</th><th scope=col>Rating</th></tr></thead>\n",
       "<tbody>\n",
       "\t<tr><td>vp01                               </td><td>haus_m_700_bpf_200_2800_normAsl_-26</td><td>2                                  </td></tr>\n",
       "\t<tr><td>vp01                               </td><td>haus_m_700_mnru_Q_14_normAsl_-26   </td><td>3                                  </td></tr>\n",
       "\t<tr><td>vp01                               </td><td>haus_m_700_normAsl_-26             </td><td>4                                  </td></tr>\n",
       "\t<tr><td>vp01                               </td><td>maus_m_700_bpf_200_2800_normAsl_-26</td><td>2                                  </td></tr>\n",
       "\t<tr><td>vp01                               </td><td>maus_m_700_mnru_Q_14_normAsl_-26   </td><td>3                                  </td></tr>\n",
       "\t<tr><td>vp01                               </td><td>maus_m_700_normAsl_-26             </td><td>5                                  </td></tr>\n",
       "</tbody>\n",
       "</table>\n"
      ],
      "text/latex": [
       "\\begin{tabular}{r|lll}\n",
       " Subject & Stimulus & Rating\\\\\n",
       "\\hline\n",
       "\t vp01                                              & haus\\_m\\_700\\_bpf\\_200\\_2800\\_normAsl\\_-26 & 2                                                \\\\\n",
       "\t vp01                                              & haus\\_m\\_700\\_mnru\\_Q\\_14\\_normAsl\\_-26    & 3                                                \\\\\n",
       "\t vp01                                        & haus\\_m\\_700\\_normAsl\\_-26              & 4                                          \\\\\n",
       "\t vp01                                              & maus\\_m\\_700\\_bpf\\_200\\_2800\\_normAsl\\_-26 & 2                                                \\\\\n",
       "\t vp01                                              & maus\\_m\\_700\\_mnru\\_Q\\_14\\_normAsl\\_-26    & 3                                                \\\\\n",
       "\t vp01                                        & maus\\_m\\_700\\_normAsl\\_-26              & 5                                          \\\\\n",
       "\\end{tabular}\n"
      ],
      "text/markdown": [
       "\n",
       "| Subject | Stimulus | Rating |\n",
       "|---|---|---|\n",
       "| vp01                                | haus_m_700_bpf_200_2800_normAsl_-26 | 2                                   |\n",
       "| vp01                                | haus_m_700_mnru_Q_14_normAsl_-26    | 3                                   |\n",
       "| vp01                                | haus_m_700_normAsl_-26              | 4                                   |\n",
       "| vp01                                | maus_m_700_bpf_200_2800_normAsl_-26 | 2                                   |\n",
       "| vp01                                | maus_m_700_mnru_Q_14_normAsl_-26    | 3                                   |\n",
       "| vp01                                | maus_m_700_normAsl_-26              | 5                                   |\n",
       "\n"
      ],
      "text/plain": [
       "  Subject Stimulus                            Rating\n",
       "1 vp01    haus_m_700_bpf_200_2800_normAsl_-26 2     \n",
       "2 vp01    haus_m_700_mnru_Q_14_normAsl_-26    3     \n",
       "3 vp01    haus_m_700_normAsl_-26              4     \n",
       "4 vp01    maus_m_700_bpf_200_2800_normAsl_-26 2     \n",
       "5 vp01    maus_m_700_mnru_Q_14_normAsl_-26    3     \n",
       "6 vp01    maus_m_700_normAsl_-26              5     "
      ]
     },
     "metadata": {},
     "output_type": "display_data"
    }
   ],
   "source": [
    "# read in data set\n",
    "get_quality_data <- function() {\n",
    "    quality_data <- read.csv(\"datasets/DB03_speech_quality_repetition_dataset.csv\")\n",
    "    # use mean here as indicator of given rating per participant\n",
    "    quality_data <- quality_data %>% \n",
    "                        filter(repetition == 1) %>%\n",
    "                        rename(Subject = subjectCode, Stimulus = testStimulus, Rating = rating) %>%\n",
    "                        select(Subject, Stimulus, Rating) %>% \n",
    "                        arrange(Subject, Stimulus) \n",
    "    \n",
    "    quality_data\n",
    "}\n",
    "\n",
    "quality_data <- get_quality_data()\n",
    "head(quality_data)"
   ]
  },
  {
   "cell_type": "markdown",
   "metadata": {},
   "source": [
    "### Step 2: Decide on which ANOVA test to use"
   ]
  },
  {
   "cell_type": "markdown",
   "metadata": {},
   "source": [
    "#### => 1 independent input variables (testStimulus), 1 dependent variable (testStimulus), NOT repeated measures but independent ratings => one-way independent measure ANOVA"
   ]
  },
  {
   "cell_type": "markdown",
   "metadata": {},
   "source": [
    "### Step 3: Check assumptions"
   ]
  },
  {
   "cell_type": "markdown",
   "metadata": {},
   "source": [
    "#### 1. Dependent variables on interval or ratio scale => check, because rating is discrete & on interval scale\n",
    "#### 2. Independent variables with two or more groups => check, because testStimulus has multiple different values (6 in total)\n",
    "#### 3. Indepenence of observation => check, because observations come from different people in different conditions, i.e. stimuli, therefore independence can be assumed\n",
    "#### 4. No significant outliers => don't know, need to check that in the next step!\n",
    "#### 5. Normally distributed population for every single group => don't know, need to check that in the next step!\n",
    "#### 6. Homogenity of variances => don't know, need to check that in the next step!"
   ]
  },
  {
   "cell_type": "markdown",
   "metadata": {},
   "source": [
    "### Step 3.1: Outlier detection"
   ]
  },
  {
   "cell_type": "code",
   "execution_count": 4,
   "metadata": {},
   "outputs": [
    {
     "data": {
      "text/html": [
       "<table>\n",
       "<thead><tr><th scope=col>Subject</th><th scope=col>Stimulus</th><th scope=col>Rating</th><th scope=col>Z_Score_Rating</th></tr></thead>\n",
       "<tbody>\n",
       "\t<tr><td>vp01                  </td><td>maus_m_700_normAsl_-26</td><td>5                     </td><td>1.435227              </td></tr>\n",
       "\t<tr><td>vp02                  </td><td>maus_m_700_normAsl_-26</td><td>5                     </td><td>1.435227              </td></tr>\n",
       "\t<tr><td>vp03                  </td><td>haus_m_700_normAsl_-26</td><td>5                     </td><td>1.435227              </td></tr>\n",
       "\t<tr><td>vp03                  </td><td>maus_m_700_normAsl_-26</td><td>5                     </td><td>1.435227              </td></tr>\n",
       "\t<tr><td>vp04                  </td><td>haus_m_700_normAsl_-26</td><td>5                     </td><td>1.435227              </td></tr>\n",
       "\t<tr><td>vp04                  </td><td>maus_m_700_normAsl_-26</td><td>5                     </td><td>1.435227              </td></tr>\n",
       "</tbody>\n",
       "</table>\n"
      ],
      "text/latex": [
       "\\begin{tabular}{r|llll}\n",
       " Subject & Stimulus & Rating & Z\\_Score\\_Rating\\\\\n",
       "\\hline\n",
       "\t vp01                           & maus\\_m\\_700\\_normAsl\\_-26 & 5                              & 1.435227                      \\\\\n",
       "\t vp02                           & maus\\_m\\_700\\_normAsl\\_-26 & 5                              & 1.435227                      \\\\\n",
       "\t vp03                           & haus\\_m\\_700\\_normAsl\\_-26 & 5                              & 1.435227                      \\\\\n",
       "\t vp03                           & maus\\_m\\_700\\_normAsl\\_-26 & 5                              & 1.435227                      \\\\\n",
       "\t vp04                           & haus\\_m\\_700\\_normAsl\\_-26 & 5                              & 1.435227                      \\\\\n",
       "\t vp04                           & maus\\_m\\_700\\_normAsl\\_-26 & 5                              & 1.435227                      \\\\\n",
       "\\end{tabular}\n"
      ],
      "text/markdown": [
       "\n",
       "| Subject | Stimulus | Rating | Z_Score_Rating |\n",
       "|---|---|---|---|\n",
       "| vp01                   | maus_m_700_normAsl_-26 | 5                      | 1.435227               |\n",
       "| vp02                   | maus_m_700_normAsl_-26 | 5                      | 1.435227               |\n",
       "| vp03                   | haus_m_700_normAsl_-26 | 5                      | 1.435227               |\n",
       "| vp03                   | maus_m_700_normAsl_-26 | 5                      | 1.435227               |\n",
       "| vp04                   | haus_m_700_normAsl_-26 | 5                      | 1.435227               |\n",
       "| vp04                   | maus_m_700_normAsl_-26 | 5                      | 1.435227               |\n",
       "\n"
      ],
      "text/plain": [
       "  Subject Stimulus               Rating Z_Score_Rating\n",
       "1 vp01    maus_m_700_normAsl_-26 5      1.435227      \n",
       "2 vp02    maus_m_700_normAsl_-26 5      1.435227      \n",
       "3 vp03    haus_m_700_normAsl_-26 5      1.435227      \n",
       "4 vp03    maus_m_700_normAsl_-26 5      1.435227      \n",
       "5 vp04    haus_m_700_normAsl_-26 5      1.435227      \n",
       "6 vp04    maus_m_700_normAsl_-26 5      1.435227      "
      ]
     },
     "metadata": {},
     "output_type": "display_data"
    }
   ],
   "source": [
    "# z score method\n",
    "z_scores <- quality_data %>% \n",
    "                    mutate(Std_Dev_Rating = sd(Rating), \n",
    "                           Mean_Rating = mean(Rating)) %>%\n",
    "                    mutate(Z_Score_Rating = (Rating - Mean_Rating) / Std_Dev_Rating) %>%\n",
    "                    select(Subject, Stimulus, Rating, Z_Score_Rating) %>%\n",
    "                    arrange(desc(Z_Score_Rating))\n",
    "\n",
    "head(z_scores)"
   ]
  },
  {
   "cell_type": "markdown",
   "metadata": {},
   "source": [
    "#### Criterion checked: no significant outliers (no absolute z score greater than 3.29)"
   ]
  },
  {
   "cell_type": "markdown",
   "metadata": {},
   "source": [
    "### Step 3.2: Normally distributed population for every single group"
   ]
  },
  {
   "cell_type": "code",
   "execution_count": 5,
   "metadata": {},
   "outputs": [],
   "source": [
    "# normality checking for groups\n",
    "check_normality_for_group <- function(stimulus) {\n",
    "    data <- quality_data %>% dplyr::filter(Stimulus == stimulus) \n",
    "    test_result <- ks.test(data[['Rating']], \"pnorm\", mean=mean(data[['Rating']]), sd=sd(data[['Rating']]))\n",
    "    result_string <- paste0('Normality for Stimulus ', stimulus, ': ')\n",
    "    \n",
    "    if(test_result[['p.value']] < 0.05) {\n",
    "        result_string <- paste0(result_string, as.character(round(test_result[['p.value']], digits=7)), \n",
    "                                ' p-value (Kolmogrov-Smirnov) == NO, ')\n",
    "    } else {\n",
    "        result_string <- paste0(result_string, as.character(round(test_result[['p.value']], digits=7)), \n",
    "                                ' p-value (Kolmogrov-Smirnov) == YES, ')\n",
    "    }\n",
    "    \n",
    "    test_result <- shapiro.test(data[['Rating']])\n",
    "    if(test_result[['p.value']] < 0.05) {\n",
    "        result_string <- paste0(result_string, as.character(round(test_result[['p.value']], digits=7)), \n",
    "                                ' p-value (Shapiro-Wilk) == NO!')\n",
    "    } else {\n",
    "        result_string <- paste0(result_string, as.character(round(test_result[['p.value']], digits=7)), \n",
    "                                ' p-value (Kolmogrov-Smirnov) == YES!')\n",
    "    }\n",
    "    \n",
    "    # print\n",
    "    cat(result_string)\n",
    "}"
   ]
  },
  {
   "cell_type": "code",
   "execution_count": 6,
   "metadata": {},
   "outputs": [
    {
     "name": "stderr",
     "output_type": "stream",
     "text": [
      "Warning message in ks.test(data[[\"Rating\"]], \"pnorm\", mean = mean(data[[\"Rating\"]]), :\n",
      "\"ties should not be present for the Kolmogorov-Smirnov test\""
     ]
    },
    {
     "name": "stdout",
     "output_type": "stream",
     "text": [
      "Normality for Stimulus haus_m_700_bpf_200_2800_normAsl_-26: 0.0657124 p-value (Kolmogrov-Smirnov) == YES, 0.0013676 p-value (Shapiro-Wilk) == NO!"
     ]
    },
    {
     "name": "stderr",
     "output_type": "stream",
     "text": [
      "Warning message in ks.test(data[[\"Rating\"]], \"pnorm\", mean = mean(data[[\"Rating\"]]), :\n",
      "\"ties should not be present for the Kolmogorov-Smirnov test\""
     ]
    },
    {
     "name": "stdout",
     "output_type": "stream",
     "text": [
      "Normality for Stimulus haus_m_700_mnru_Q_14_normAsl_-26: 0.0028569 p-value (Kolmogrov-Smirnov) == NO, 0.0001636 p-value (Shapiro-Wilk) == NO!"
     ]
    },
    {
     "name": "stderr",
     "output_type": "stream",
     "text": [
      "Warning message in ks.test(data[[\"Rating\"]], \"pnorm\", mean = mean(data[[\"Rating\"]]), :\n",
      "\"ties should not be present for the Kolmogorov-Smirnov test\""
     ]
    },
    {
     "name": "stdout",
     "output_type": "stream",
     "text": [
      "Normality for Stimulus haus_m_700_normAsl_-26: 0.0002495 p-value (Kolmogrov-Smirnov) == NO, 2e-07 p-value (Shapiro-Wilk) == NO!"
     ]
    },
    {
     "name": "stderr",
     "output_type": "stream",
     "text": [
      "Warning message in ks.test(data[[\"Rating\"]], \"pnorm\", mean = mean(data[[\"Rating\"]]), :\n",
      "\"ties should not be present for the Kolmogorov-Smirnov test\""
     ]
    },
    {
     "name": "stdout",
     "output_type": "stream",
     "text": [
      "Normality for Stimulus maus_m_700_bpf_200_2800_normAsl_-26: 0.0406415 p-value (Kolmogrov-Smirnov) == NO, 0.0002901 p-value (Shapiro-Wilk) == NO!"
     ]
    },
    {
     "name": "stderr",
     "output_type": "stream",
     "text": [
      "Warning message in ks.test(data[[\"Rating\"]], \"pnorm\", mean = mean(data[[\"Rating\"]]), :\n",
      "\"ties should not be present for the Kolmogorov-Smirnov test\""
     ]
    },
    {
     "name": "stdout",
     "output_type": "stream",
     "text": [
      "Normality for Stimulus maus_m_700_mnru_Q_14_normAsl_-26: 0.0052889 p-value (Kolmogrov-Smirnov) == NO, 0.0001113 p-value (Shapiro-Wilk) == NO!"
     ]
    },
    {
     "name": "stderr",
     "output_type": "stream",
     "text": [
      "Warning message in ks.test(data[[\"Rating\"]], \"pnorm\", mean = mean(data[[\"Rating\"]]), :\n",
      "\"ties should not be present for the Kolmogorov-Smirnov test\""
     ]
    },
    {
     "name": "stdout",
     "output_type": "stream",
     "text": [
      "Normality for Stimulus maus_m_700_normAsl_-26: 0.0001038 p-value (Kolmogrov-Smirnov) == NO, 0 p-value (Shapiro-Wilk) == NO!"
     ]
    }
   ],
   "source": [
    "# print normality tests\n",
    "stimuli <- (quality_data %>% distinct(Stimulus))[['Stimulus']]\n",
    "\n",
    "for (stimulus in stimuli) {\n",
    "    check_normality_for_group(stimulus)\n",
    "}"
   ]
  },
  {
   "cell_type": "markdown",
   "metadata": {},
   "source": [
    "#### Normality does NOT exist within all groups - we are still going to continue though."
   ]
  },
  {
   "cell_type": "markdown",
   "metadata": {},
   "source": [
    "### Step 3.3: Homogenity of variances"
   ]
  },
  {
   "cell_type": "code",
   "execution_count": 7,
   "metadata": {},
   "outputs": [
    {
     "name": "stdout",
     "output_type": "stream",
     "text": [
      "F( df_{haus_m_700_bpf_200_2800_normAsl_-26} = 36;\n",
      " df_{haus_m_700_mnru_Q_14_normAsl_-26} = 36;\n",
      " df_{haus_m_700_normAsl_-26} = 36;\n",
      " df_{maus_m_700_bpf_200_2800_normAsl_-26} = 36;\n",
      " df_{maus_m_700_mnru_Q_14_normAsl_-26} = 36;\n",
      " df_{maus_m_700_normAsl_-26} = 36 ) = 1.5042309 | p-value = 0.1896423 => homogenity of variance CAN be assumed"
     ]
    }
   ],
   "source": [
    "# Check for homogenity of groups' VQ ratings\n",
    "get_levene_test_results <- function() {\n",
    "\n",
    "    test_results <- leveneTest(Rating ~ Stimulus, data = quality_data, center = mean)\n",
    "    test_results\n",
    "\n",
    "    stimuli <- (quality_data %>% distinct(Stimulus))[['Stimulus']]\n",
    "    result <- 'F('\n",
    "    for (stimulus in stimuli) {\n",
    "        df <- (quality_data %>% dplyr::filter(Stimulus == stimulus) %>% \n",
    "               mutate(df = n() - 1))[1,][['df']]\n",
    "        result <- paste0(result, ' df_{', stimulus, '} = ', df, ';\\n')\n",
    "    }\n",
    "    result <- paste0(substr(result,1,nchar(result)-2), ' ) = ', \n",
    "                     round(test_results[1,2], digits=7), \n",
    "                ' | p-value = ', \n",
    "                round(test_results[1,3], digits=7))\n",
    "    \n",
    "    if(test_results[1,3] > 0.05) {\n",
    "        result <- paste0(result, ' => homogenity of variance CAN be assumed')\n",
    "    } else {\n",
    "        result <- paste0(result, ' => homogenity of variance CANNOT be assumed')\n",
    "    }\n",
    "    \n",
    "    # print\n",
    "    cat(result)\n",
    "}\n",
    "\n",
    "get_levene_test_results()"
   ]
  },
  {
   "cell_type": "markdown",
   "metadata": {},
   "source": [
    "#### As Levene's test delivers p-value > 0.05 => homogenity of variances CAN be assumed!"
   ]
  },
  {
   "cell_type": "markdown",
   "metadata": {},
   "source": [
    "### Step 4: Conduct one-way independent measure ANOVA"
   ]
  },
  {
   "cell_type": "code",
   "execution_count": 8,
   "metadata": {},
   "outputs": [
    {
     "data": {
      "text/plain": [
       "             Df Sum Sq Mean Sq F value Pr(>F)    \n",
       "Stimulus      5  231.8   46.35   66.55 <2e-16 ***\n",
       "Residuals   216  150.4    0.70                   \n",
       "---\n",
       "Signif. codes:  0 '***' 0.001 '**' 0.01 '*' 0.05 '.' 0.1 ' ' 1"
      ]
     },
     "metadata": {},
     "output_type": "display_data"
    },
    {
     "data": {
      "text/html": [
       "<table>\n",
       "<thead><tr><th></th><th scope=col>eta.sq</th><th scope=col>eta.sq.part</th><th scope=col>SS</th><th scope=col>df</th><th scope=col>MS</th><th scope=col>F</th><th scope=col>p</th></tr></thead>\n",
       "<tbody>\n",
       "\t<tr><th scope=row>Stimulus</th><td>0.6063881 </td><td>0.6063881 </td><td>231.7523  </td><td>  5       </td><td>46.3504505</td><td>66.55278  </td><td> 0        </td></tr>\n",
       "\t<tr><th scope=row>Residuals</th><td>0.3936119 </td><td>       NA </td><td>150.4324  </td><td>216       </td><td> 0.6964464</td><td>      NA  </td><td>NA        </td></tr>\n",
       "</tbody>\n",
       "</table>\n"
      ],
      "text/latex": [
       "\\begin{tabular}{r|lllllll}\n",
       "  & eta.sq & eta.sq.part & SS & df & MS & F & p\\\\\n",
       "\\hline\n",
       "\tStimulus & 0.6063881  & 0.6063881  & 231.7523   &   5        & 46.3504505 & 66.55278   &  0        \\\\\n",
       "\tResiduals & 0.3936119  &        NA  & 150.4324   & 216        &  0.6964464 &       NA   & NA        \\\\\n",
       "\\end{tabular}\n"
      ],
      "text/markdown": [
       "\n",
       "| <!--/--> | eta.sq | eta.sq.part | SS | df | MS | F | p |\n",
       "|---|---|---|---|---|---|---|---|\n",
       "| Stimulus | 0.6063881  | 0.6063881  | 231.7523   |   5        | 46.3504505 | 66.55278   |  0         |\n",
       "| Residuals | 0.3936119  |        NA  | 150.4324   | 216        |  0.6964464 |       NA   | NA         |\n",
       "\n"
      ],
      "text/plain": [
       "          eta.sq    eta.sq.part SS       df  MS         F        p \n",
       "Stimulus  0.6063881 0.6063881   231.7523   5 46.3504505 66.55278  0\n",
       "Residuals 0.3936119        NA   150.4324 216  0.6964464       NA NA"
      ]
     },
     "metadata": {},
     "output_type": "display_data"
    }
   ],
   "source": [
    "# conduct one-way independent measure ANOVA\n",
    "anova_results <- aov(Rating~Stimulus, data = quality_data)\n",
    "summary(anova_results)\n",
    "\n",
    "# compute effect size\n",
    "etaSquared(anova_results, anova=TRUE)"
   ]
  },
  {
   "cell_type": "markdown",
   "metadata": {},
   "source": [
    "#### Based on the results: Stimulus has significant effect on speech quality ratings with p value of around 0 (more on that later)!"
   ]
  },
  {
   "cell_type": "markdown",
   "metadata": {},
   "source": [
    "### Step 5: Pairwise comparison / post hoc test"
   ]
  },
  {
   "cell_type": "code",
   "execution_count": 9,
   "metadata": {},
   "outputs": [
    {
     "data": {
      "text/html": [
       "<table>\n",
       "<thead><tr><th scope=col>Compared Stimuli</th><th scope=col>diff</th><th scope=col>lwr</th><th scope=col>upr</th><th scope=col>p adj</th></tr></thead>\n",
       "<tbody>\n",
       "\t<tr><td>maus_m_700_normAsl_-26-haus_m_700_normAsl_-26                          </td><td> 0.02702703                                                            </td><td>-0.5308884                                                             </td><td> 0.584942486                                                           </td><td>0.99999261                                                             </td></tr>\n",
       "\t<tr><td>maus_m_700_bpf_200_2800_normAsl_-26-haus_m_700_bpf_200_2800_normAsl_-26</td><td> 0.05405405                                                            </td><td>-0.5038614                                                             </td><td> 0.611969513                                                           </td><td>0.99977121                                                             </td></tr>\n",
       "\t<tr><td>maus_m_700_mnru_Q_14_normAsl_-26-haus_m_700_mnru_Q_14_normAsl_-26      </td><td>-0.21621622                                                            </td><td>-0.7741317                                                             </td><td> 0.341699242                                                           </td><td>0.87505663                                                             </td></tr>\n",
       "\t<tr><td>haus_m_700_mnru_Q_14_normAsl_-26-haus_m_700_bpf_200_2800_normAsl_-26   </td><td>-0.35135135                                                            </td><td>-0.9092668                                                             </td><td> 0.206564107                                                           </td><td>0.46094084                                                             </td></tr>\n",
       "\t<tr><td>maus_m_700_bpf_200_2800_normAsl_-26-haus_m_700_mnru_Q_14_normAsl_-26   </td><td> 0.40540541                                                            </td><td>-0.1525101                                                             </td><td> 0.963320864                                                           </td><td>0.29669465                                                             </td></tr>\n",
       "\t<tr><td>maus_m_700_mnru_Q_14_normAsl_-26-haus_m_700_bpf_200_2800_normAsl_-26   </td><td>-0.56756757                                                            </td><td>-1.1254830                                                             </td><td>-0.009652109                                                           </td><td>0.04358349                                                             </td></tr>\n",
       "\t<tr><td>maus_m_700_mnru_Q_14_normAsl_-26-maus_m_700_bpf_200_2800_normAsl_-26   </td><td>-0.62162162                                                            </td><td>-1.1795371                                                             </td><td>-0.063706163                                                           </td><td>0.01921988                                                             </td></tr>\n",
       "\t<tr><td>haus_m_700_normAsl_-26-haus_m_700_bpf_200_2800_normAsl_-26             </td><td> 1.89189189                                                            </td><td> 1.3339764                                                             </td><td> 2.449807351                                                           </td><td>0.00000000                                                             </td></tr>\n",
       "\t<tr><td>maus_m_700_normAsl_-26-haus_m_700_bpf_200_2800_normAsl_-26             </td><td> 1.91891892                                                            </td><td> 1.3610035                                                             </td><td> 2.476834378                                                           </td><td>0.00000000                                                             </td></tr>\n",
       "\t<tr><td>haus_m_700_normAsl_-26-haus_m_700_mnru_Q_14_normAsl_-26                </td><td> 2.24324324                                                            </td><td> 1.6853278                                                             </td><td> 2.801158702                                                           </td><td>0.00000000                                                             </td></tr>\n",
       "\t<tr><td>maus_m_700_normAsl_-26-haus_m_700_mnru_Q_14_normAsl_-26                </td><td> 2.27027027                                                            </td><td> 1.7123548                                                             </td><td> 2.828185729                                                           </td><td>0.00000000                                                             </td></tr>\n",
       "\t<tr><td>maus_m_700_bpf_200_2800_normAsl_-26-haus_m_700_normAsl_-26             </td><td>-1.83783784                                                            </td><td>-2.3957533                                                             </td><td>-1.279922379                                                           </td><td>0.00000000                                                             </td></tr>\n",
       "\t<tr><td>maus_m_700_mnru_Q_14_normAsl_-26-haus_m_700_normAsl_-26                </td><td>-2.45945946                                                            </td><td>-3.0173749                                                             </td><td>-1.901544001                                                           </td><td>0.00000000                                                             </td></tr>\n",
       "\t<tr><td>maus_m_700_normAsl_-26-maus_m_700_bpf_200_2800_normAsl_-26             </td><td> 1.86486486                                                            </td><td> 1.3069494                                                             </td><td> 2.422780324                                                           </td><td>0.00000000                                                             </td></tr>\n",
       "\t<tr><td>maus_m_700_normAsl_-26-maus_m_700_mnru_Q_14_normAsl_-26                </td><td> 2.48648649                                                            </td><td> 1.9285710                                                             </td><td> 3.044401945                                                           </td><td>0.00000000                                                             </td></tr>\n",
       "</tbody>\n",
       "</table>\n"
      ],
      "text/latex": [
       "\\begin{tabular}{r|lllll}\n",
       " Compared Stimuli & diff & lwr & upr & p adj\\\\\n",
       "\\hline\n",
       "\t maus\\_m\\_700\\_normAsl\\_-26-haus\\_m\\_700\\_normAsl\\_-26                           &  0.02702703                                                                             & -0.5308884                                                                              &  0.584942486                                                                            & 0.99999261                                                                             \\\\\n",
       "\t maus\\_m\\_700\\_bpf\\_200\\_2800\\_normAsl\\_-26-haus\\_m\\_700\\_bpf\\_200\\_2800\\_normAsl\\_-26 &  0.05405405                                                                                         & -0.5038614                                                                                          &  0.611969513                                                                                        & 0.99977121                                                                                         \\\\\n",
       "\t maus\\_m\\_700\\_mnru\\_Q\\_14\\_normAsl\\_-26-haus\\_m\\_700\\_mnru\\_Q\\_14\\_normAsl\\_-26       & -0.21621622                                                                                         & -0.7741317                                                                                          &  0.341699242                                                                                        & 0.87505663                                                                                         \\\\\n",
       "\t haus\\_m\\_700\\_mnru\\_Q\\_14\\_normAsl\\_-26-haus\\_m\\_700\\_bpf\\_200\\_2800\\_normAsl\\_-26    & -0.35135135                                                                                         & -0.9092668                                                                                          &  0.206564107                                                                                        & 0.46094084                                                                                         \\\\\n",
       "\t maus\\_m\\_700\\_bpf\\_200\\_2800\\_normAsl\\_-26-haus\\_m\\_700\\_mnru\\_Q\\_14\\_normAsl\\_-26    &  0.40540541                                                                                         & -0.1525101                                                                                          &  0.963320864                                                                                        & 0.29669465                                                                                         \\\\\n",
       "\t maus\\_m\\_700\\_mnru\\_Q\\_14\\_normAsl\\_-26-haus\\_m\\_700\\_bpf\\_200\\_2800\\_normAsl\\_-26    & -0.56756757                                                                                         & -1.1254830                                                                                          & -0.009652109                                                                                        & 0.04358349                                                                                         \\\\\n",
       "\t maus\\_m\\_700\\_mnru\\_Q\\_14\\_normAsl\\_-26-maus\\_m\\_700\\_bpf\\_200\\_2800\\_normAsl\\_-26    & -0.62162162                                                                                         & -1.1795371                                                                                          & -0.063706163                                                                                        & 0.01921988                                                                                         \\\\\n",
       "\t haus\\_m\\_700\\_normAsl\\_-26-haus\\_m\\_700\\_bpf\\_200\\_2800\\_normAsl\\_-26              &  1.89189189                                                                                   &  1.3339764                                                                                    &  2.449807351                                                                                  & 0.00000000                                                                                   \\\\\n",
       "\t maus\\_m\\_700\\_normAsl\\_-26-haus\\_m\\_700\\_bpf\\_200\\_2800\\_normAsl\\_-26              &  1.91891892                                                                                   &  1.3610035                                                                                    &  2.476834378                                                                                  & 0.00000000                                                                                   \\\\\n",
       "\t haus\\_m\\_700\\_normAsl\\_-26-haus\\_m\\_700\\_mnru\\_Q\\_14\\_normAsl\\_-26                 &  2.24324324                                                                                   &  1.6853278                                                                                    &  2.801158702                                                                                  & 0.00000000                                                                                   \\\\\n",
       "\t maus\\_m\\_700\\_normAsl\\_-26-haus\\_m\\_700\\_mnru\\_Q\\_14\\_normAsl\\_-26                 &  2.27027027                                                                                   &  1.7123548                                                                                    &  2.828185729                                                                                  & 0.00000000                                                                                   \\\\\n",
       "\t maus\\_m\\_700\\_bpf\\_200\\_2800\\_normAsl\\_-26-haus\\_m\\_700\\_normAsl\\_-26              & -1.83783784                                                                                   & -2.3957533                                                                                    & -1.279922379                                                                                  & 0.00000000                                                                                   \\\\\n",
       "\t maus\\_m\\_700\\_mnru\\_Q\\_14\\_normAsl\\_-26-haus\\_m\\_700\\_normAsl\\_-26                 & -2.45945946                                                                                   & -3.0173749                                                                                    & -1.901544001                                                                                  & 0.00000000                                                                                   \\\\\n",
       "\t maus\\_m\\_700\\_normAsl\\_-26-maus\\_m\\_700\\_bpf\\_200\\_2800\\_normAsl\\_-26              &  1.86486486                                                                                   &  1.3069494                                                                                    &  2.422780324                                                                                  & 0.00000000                                                                                   \\\\\n",
       "\t maus\\_m\\_700\\_normAsl\\_-26-maus\\_m\\_700\\_mnru\\_Q\\_14\\_normAsl\\_-26                 &  2.48648649                                                                                   &  1.9285710                                                                                    &  3.044401945                                                                                  & 0.00000000                                                                                   \\\\\n",
       "\\end{tabular}\n"
      ],
      "text/markdown": [
       "\n",
       "| Compared Stimuli | diff | lwr | upr | p adj |\n",
       "|---|---|---|---|---|\n",
       "| maus_m_700_normAsl_-26-haus_m_700_normAsl_-26                           |  0.02702703                                                             | -0.5308884                                                              |  0.584942486                                                            | 0.99999261                                                              |\n",
       "| maus_m_700_bpf_200_2800_normAsl_-26-haus_m_700_bpf_200_2800_normAsl_-26 |  0.05405405                                                             | -0.5038614                                                              |  0.611969513                                                            | 0.99977121                                                              |\n",
       "| maus_m_700_mnru_Q_14_normAsl_-26-haus_m_700_mnru_Q_14_normAsl_-26       | -0.21621622                                                             | -0.7741317                                                              |  0.341699242                                                            | 0.87505663                                                              |\n",
       "| haus_m_700_mnru_Q_14_normAsl_-26-haus_m_700_bpf_200_2800_normAsl_-26    | -0.35135135                                                             | -0.9092668                                                              |  0.206564107                                                            | 0.46094084                                                              |\n",
       "| maus_m_700_bpf_200_2800_normAsl_-26-haus_m_700_mnru_Q_14_normAsl_-26    |  0.40540541                                                             | -0.1525101                                                              |  0.963320864                                                            | 0.29669465                                                              |\n",
       "| maus_m_700_mnru_Q_14_normAsl_-26-haus_m_700_bpf_200_2800_normAsl_-26    | -0.56756757                                                             | -1.1254830                                                              | -0.009652109                                                            | 0.04358349                                                              |\n",
       "| maus_m_700_mnru_Q_14_normAsl_-26-maus_m_700_bpf_200_2800_normAsl_-26    | -0.62162162                                                             | -1.1795371                                                              | -0.063706163                                                            | 0.01921988                                                              |\n",
       "| haus_m_700_normAsl_-26-haus_m_700_bpf_200_2800_normAsl_-26              |  1.89189189                                                             |  1.3339764                                                              |  2.449807351                                                            | 0.00000000                                                              |\n",
       "| maus_m_700_normAsl_-26-haus_m_700_bpf_200_2800_normAsl_-26              |  1.91891892                                                             |  1.3610035                                                              |  2.476834378                                                            | 0.00000000                                                              |\n",
       "| haus_m_700_normAsl_-26-haus_m_700_mnru_Q_14_normAsl_-26                 |  2.24324324                                                             |  1.6853278                                                              |  2.801158702                                                            | 0.00000000                                                              |\n",
       "| maus_m_700_normAsl_-26-haus_m_700_mnru_Q_14_normAsl_-26                 |  2.27027027                                                             |  1.7123548                                                              |  2.828185729                                                            | 0.00000000                                                              |\n",
       "| maus_m_700_bpf_200_2800_normAsl_-26-haus_m_700_normAsl_-26              | -1.83783784                                                             | -2.3957533                                                              | -1.279922379                                                            | 0.00000000                                                              |\n",
       "| maus_m_700_mnru_Q_14_normAsl_-26-haus_m_700_normAsl_-26                 | -2.45945946                                                             | -3.0173749                                                              | -1.901544001                                                            | 0.00000000                                                              |\n",
       "| maus_m_700_normAsl_-26-maus_m_700_bpf_200_2800_normAsl_-26              |  1.86486486                                                             |  1.3069494                                                              |  2.422780324                                                            | 0.00000000                                                              |\n",
       "| maus_m_700_normAsl_-26-maus_m_700_mnru_Q_14_normAsl_-26                 |  2.48648649                                                             |  1.9285710                                                              |  3.044401945                                                            | 0.00000000                                                              |\n",
       "\n"
      ],
      "text/plain": [
       "   Compared Stimuli                                                       \n",
       "1  maus_m_700_normAsl_-26-haus_m_700_normAsl_-26                          \n",
       "2  maus_m_700_bpf_200_2800_normAsl_-26-haus_m_700_bpf_200_2800_normAsl_-26\n",
       "3  maus_m_700_mnru_Q_14_normAsl_-26-haus_m_700_mnru_Q_14_normAsl_-26      \n",
       "4  haus_m_700_mnru_Q_14_normAsl_-26-haus_m_700_bpf_200_2800_normAsl_-26   \n",
       "5  maus_m_700_bpf_200_2800_normAsl_-26-haus_m_700_mnru_Q_14_normAsl_-26   \n",
       "6  maus_m_700_mnru_Q_14_normAsl_-26-haus_m_700_bpf_200_2800_normAsl_-26   \n",
       "7  maus_m_700_mnru_Q_14_normAsl_-26-maus_m_700_bpf_200_2800_normAsl_-26   \n",
       "8  haus_m_700_normAsl_-26-haus_m_700_bpf_200_2800_normAsl_-26             \n",
       "9  maus_m_700_normAsl_-26-haus_m_700_bpf_200_2800_normAsl_-26             \n",
       "10 haus_m_700_normAsl_-26-haus_m_700_mnru_Q_14_normAsl_-26                \n",
       "11 maus_m_700_normAsl_-26-haus_m_700_mnru_Q_14_normAsl_-26                \n",
       "12 maus_m_700_bpf_200_2800_normAsl_-26-haus_m_700_normAsl_-26             \n",
       "13 maus_m_700_mnru_Q_14_normAsl_-26-haus_m_700_normAsl_-26                \n",
       "14 maus_m_700_normAsl_-26-maus_m_700_bpf_200_2800_normAsl_-26             \n",
       "15 maus_m_700_normAsl_-26-maus_m_700_mnru_Q_14_normAsl_-26                \n",
       "   diff        lwr        upr          p adj     \n",
       "1   0.02702703 -0.5308884  0.584942486 0.99999261\n",
       "2   0.05405405 -0.5038614  0.611969513 0.99977121\n",
       "3  -0.21621622 -0.7741317  0.341699242 0.87505663\n",
       "4  -0.35135135 -0.9092668  0.206564107 0.46094084\n",
       "5   0.40540541 -0.1525101  0.963320864 0.29669465\n",
       "6  -0.56756757 -1.1254830 -0.009652109 0.04358349\n",
       "7  -0.62162162 -1.1795371 -0.063706163 0.01921988\n",
       "8   1.89189189  1.3339764  2.449807351 0.00000000\n",
       "9   1.91891892  1.3610035  2.476834378 0.00000000\n",
       "10  2.24324324  1.6853278  2.801158702 0.00000000\n",
       "11  2.27027027  1.7123548  2.828185729 0.00000000\n",
       "12 -1.83783784 -2.3957533 -1.279922379 0.00000000\n",
       "13 -2.45945946 -3.0173749 -1.901544001 0.00000000\n",
       "14  1.86486486  1.3069494  2.422780324 0.00000000\n",
       "15  2.48648649  1.9285710  3.044401945 0.00000000"
      ]
     },
     "metadata": {},
     "output_type": "display_data"
    }
   ],
   "source": [
    "# as equal sample sizes (each n=148) and Tukey most widely used: Tukey [\"Cramming Sam's tips\" for post hoc tests (from lecture)]\n",
    "post_hoc <- TukeyHSD(anova_results)\n",
    "tibble::rownames_to_column(as.data.frame(post_hoc$Stimulus), 'Compared Stimuli') %>% arrange(desc(`p adj`))"
   ]
  },
  {
   "cell_type": "markdown",
   "metadata": {},
   "source": [
    "#### => More: see interpretation"
   ]
  },
  {
   "cell_type": "markdown",
   "metadata": {},
   "source": [
    "### Step 6: Interpretation"
   ]
  },
  {
   "cell_type": "code",
   "execution_count": 10,
   "metadata": {},
   "outputs": [
    {
     "name": "stdout",
     "output_type": "stream",
     "text": [
      "Total amount of samples: 222"
     ]
    }
   ],
   "source": [
    "# compute individual degrees of freedom for groups\n",
    "get_df_of <- function(stimulus) {\n",
    "    df <- (quality_data %>% dplyr::filter(Stimulus == stimulus) %>% \n",
    "            mutate(df = n() - 1))[1,][['df']]\n",
    "    \n",
    "    # print\n",
    "    paste0('df_{', stimulus, '} = ', df)\n",
    "}\n",
    "\n",
    "cat(paste0('Total amount of samples: ', nrow(quality_data)))"
   ]
  },
  {
   "cell_type": "code",
   "execution_count": 11,
   "metadata": {},
   "outputs": [
    {
     "name": "stdout",
     "output_type": "stream",
     "text": [
      "haus_m_700_bpf_200_2800_normAsl_-26 (df_{haus_m_700_bpf_200_2800_normAsl_-26} = 36): mean around 2.622, standard deviation around 0.982\n",
      "haus_m_700_mnru_Q_14_normAsl_-26 (df_{haus_m_700_mnru_Q_14_normAsl_-26} = 36): mean around 2.27, standard deviation around 0.871\n",
      "haus_m_700_normAsl_-26 (df_{haus_m_700_normAsl_-26} = 36): mean around 4.514, standard deviation around 0.559\n",
      "maus_m_700_bpf_200_2800_normAsl_-26 (df_{maus_m_700_bpf_200_2800_normAsl_-26} = 36): mean around 2.676, standard deviation around 0.915\n",
      "maus_m_700_mnru_Q_14_normAsl_-26 (df_{maus_m_700_mnru_Q_14_normAsl_-26} = 36): mean around 2.054, standard deviation around 0.815\n",
      "maus_m_700_normAsl_-26 (df_{maus_m_700_normAsl_-26} = 36): mean around 4.541, standard deviation around 0.803\n"
     ]
    }
   ],
   "source": [
    "# compute statistics for independent variables' values\n",
    "for (stimulus in stimuli) {\n",
    "    statistics <- quality_data %>% \n",
    "                    filter(Stimulus == stimulus) %>%\n",
    "                    group_by(Stimulus) %>%\n",
    "                    summarize(mean = mean(Rating), sd = sd(Rating))\n",
    "    cat(paste0(stimulus, ' (', get_df_of(stimulus), '): mean around ', round(statistics[['mean']], digits=3), ', standard deviation around ', round(statistics[['sd']], digits=3), '\\n'))\n",
    "}"
   ]
  },
  {
   "cell_type": "markdown",
   "metadata": {},
   "source": [
    "#### Altering the testStimulus aka condition does have a significant effect on the speech quality ratings: \n",
    "#### There is a significant (alpha = 0.05) and rather large main effect of the testStimulus on the speech quality ratings (F statistic value of around 66.5529, p-value of around 0 with eta² effect size of around 0.6064). \n",
    "#### The total degrees of freedom are the amount of total observations - 1 => 222 - 1 = 221 [37 samples & 36 df for each distinct testStimulus]. \n",
    "#### Regarding pairwise comparisons / post hoc tests (Tukey's HSD), a statistically significant difference of ratings occurs each time we alter the testStimulus, EXCEPT for the following five cases (in descending order of p values):\n",
    "#### 1. Switching between maus_m_700_normAsl_-26 & haus_m_700_normAsl_-26\n",
    "#### 2. Switching between maus_m_700_bpf_200_2800_normAsl_-26 & haus_m_700_bpf_200_2800_normAsl_-26\t\n",
    "#### 3. Switching between maus_m_700_mnru_Q_14_normAsl_-26 & haus_m_700_mnru_Q_14_normAsl_-26\n",
    "#### 4. Switching between haus_m_700_mnru_Q_14_normAsl_-26 & haus_m_700_bpf_200_2800_normAsl_-26\n",
    "#### 5. Switching between maus_m_700_bpf_200_2800_normAsl_-26 & haus_m_700_mnru_Q_14_normAsl_-26\n",
    "#### All other alterings of the testStimulus lead to a significant difference in speech quality ratings."
   ]
  }
 ],
 "metadata": {
  "kernelspec": {
   "display_name": "R",
   "language": "R",
   "name": "ir"
  },
  "language_info": {
   "codemirror_mode": "r",
   "file_extension": ".r",
   "mimetype": "text/x-r-source",
   "name": "R",
   "pygments_lexer": "r",
   "version": "3.6.1"
  }
 },
 "nbformat": 4,
 "nbformat_minor": 2
}
