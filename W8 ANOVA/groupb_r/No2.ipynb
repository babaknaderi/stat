{
 "cells": [
  {
   "cell_type": "markdown",
   "metadata": {},
   "source": [
    "# Task 2: Does the test Stimulus (independent variable) have a significant influence on speech quality ratings (dependent variable)? If yes, for which cases? Please assume that each of the six files was assessed by a different set of participants. Use the quality ratings provided in. the data set speech_quality_repetition_dataset"
   ]
  },
  {
   "cell_type": "markdown",
   "metadata": {},
   "source": [
    "### Step 1: Import libraries and read in data set"
   ]
  },
  {
   "cell_type": "code",
   "execution_count": 1,
   "metadata": {},
   "outputs": [],
   "source": [
    "# install.packages('dplyr')      # processing \n",
    "# install.packages('gdata')      # file reading\n",
    "# install.packages('car')        # homogenity of variances\n",
    "# install.packages('rstatix')    # ANOVA"
   ]
  },
  {
   "cell_type": "code",
   "execution_count": 2,
   "metadata": {},
   "outputs": [
    {
     "name": "stderr",
     "output_type": "stream",
     "text": [
      "Warning message:\n",
      "\"package 'dplyr' was built under R version 3.6.2\"\n",
      "Attaching package: 'dplyr'\n",
      "\n",
      "The following objects are masked from 'package:stats':\n",
      "\n",
      "    filter, lag\n",
      "\n",
      "The following objects are masked from 'package:base':\n",
      "\n",
      "    intersect, setdiff, setequal, union\n",
      "\n",
      "Warning message:\n",
      "\"package 'car' was built under R version 3.6.2\"Loading required package: carData\n",
      "\n",
      "Attaching package: 'car'\n",
      "\n",
      "The following object is masked from 'package:dplyr':\n",
      "\n",
      "    recode\n",
      "\n",
      "Warning message:\n",
      "\"package 'rstatix' was built under R version 3.6.2\"\n",
      "Attaching package: 'rstatix'\n",
      "\n",
      "The following object is masked from 'package:stats':\n",
      "\n",
      "    filter\n",
      "\n"
     ]
    }
   ],
   "source": [
    "library(dplyr)     # processing\n",
    "library(readxl)    # reading in data\n",
    "library(car)       # homogenity of variances\n",
    "library(rstatix)   # ANOVA"
   ]
  },
  {
   "cell_type": "code",
   "execution_count": 3,
   "metadata": {},
   "outputs": [],
   "source": [
    "use_ratings_mean <- TRUE"
   ]
  },
  {
   "cell_type": "code",
   "execution_count": 4,
   "metadata": {},
   "outputs": [
    {
     "data": {
      "text/html": [
       "<table>\n",
       "<thead><tr><th scope=col>testStimulus</th><th scope=col>Rating</th></tr></thead>\n",
       "<tbody>\n",
       "\t<tr><td>haus_m_700_bpf_200_2800_normAsl_-26</td><td>2.00                               </td></tr>\n",
       "\t<tr><td>haus_m_700_bpf_200_2800_normAsl_-26</td><td>2.50                               </td></tr>\n",
       "\t<tr><td>haus_m_700_bpf_200_2800_normAsl_-26</td><td>2.50                               </td></tr>\n",
       "\t<tr><td>haus_m_700_bpf_200_2800_normAsl_-26</td><td>3.75                               </td></tr>\n",
       "\t<tr><td>haus_m_700_bpf_200_2800_normAsl_-26</td><td>2.00                               </td></tr>\n",
       "\t<tr><td>haus_m_700_bpf_200_2800_normAsl_-26</td><td>1.00                               </td></tr>\n",
       "</tbody>\n",
       "</table>\n"
      ],
      "text/latex": [
       "\\begin{tabular}{r|ll}\n",
       " testStimulus & Rating\\\\\n",
       "\\hline\n",
       "\t haus\\_m\\_700\\_bpf\\_200\\_2800\\_normAsl\\_-26 & 2.00                                             \\\\\n",
       "\t haus\\_m\\_700\\_bpf\\_200\\_2800\\_normAsl\\_-26 & 2.50                                             \\\\\n",
       "\t haus\\_m\\_700\\_bpf\\_200\\_2800\\_normAsl\\_-26 & 2.50                                             \\\\\n",
       "\t haus\\_m\\_700\\_bpf\\_200\\_2800\\_normAsl\\_-26 & 3.75                                             \\\\\n",
       "\t haus\\_m\\_700\\_bpf\\_200\\_2800\\_normAsl\\_-26 & 2.00                                             \\\\\n",
       "\t haus\\_m\\_700\\_bpf\\_200\\_2800\\_normAsl\\_-26 & 1.00                                             \\\\\n",
       "\\end{tabular}\n"
      ],
      "text/markdown": [
       "\n",
       "| testStimulus | Rating |\n",
       "|---|---|\n",
       "| haus_m_700_bpf_200_2800_normAsl_-26 | 2.00                                |\n",
       "| haus_m_700_bpf_200_2800_normAsl_-26 | 2.50                                |\n",
       "| haus_m_700_bpf_200_2800_normAsl_-26 | 2.50                                |\n",
       "| haus_m_700_bpf_200_2800_normAsl_-26 | 3.75                                |\n",
       "| haus_m_700_bpf_200_2800_normAsl_-26 | 2.00                                |\n",
       "| haus_m_700_bpf_200_2800_normAsl_-26 | 1.00                                |\n",
       "\n"
      ],
      "text/plain": [
       "  testStimulus                        Rating\n",
       "1 haus_m_700_bpf_200_2800_normAsl_-26 2.00  \n",
       "2 haus_m_700_bpf_200_2800_normAsl_-26 2.50  \n",
       "3 haus_m_700_bpf_200_2800_normAsl_-26 2.50  \n",
       "4 haus_m_700_bpf_200_2800_normAsl_-26 3.75  \n",
       "5 haus_m_700_bpf_200_2800_normAsl_-26 2.00  \n",
       "6 haus_m_700_bpf_200_2800_normAsl_-26 1.00  "
      ]
     },
     "metadata": {},
     "output_type": "display_data"
    }
   ],
   "source": [
    "# read in data sets\n",
    "get_quality_data <- function() {\n",
    "    quality_data <- read.csv(\"datasets/DB03_speech_quality_repetition_dataset.csv\")\n",
    "    # use mean here as indicator of given rating per participant\n",
    "    if(use_ratings_mean) {\n",
    "        quality_data <- quality_data %>% \n",
    "                        rename(Rating = rating) %>%\n",
    "                        select(subjectCode, testStimulus, Rating, repetition) %>%\n",
    "                        group_by(testStimulus, subjectCode) %>%\n",
    "                        summarize(Rating = mean(Rating)) %>%\n",
    "                        select(testStimulus, Rating)\n",
    "    } else {\n",
    "        quality_data <- quality_data %>% \n",
    "                        rename(Rating = rating) %>%\n",
    "                        select(subjectCode, testStimulus, Rating) \n",
    "    }\n",
    "    \n",
    "    quality_data\n",
    "}\n",
    "\n",
    "quality_data <- get_quality_data()\n",
    "head(quality_data)"
   ]
  },
  {
   "cell_type": "markdown",
   "metadata": {},
   "source": [
    "### Step 2: Decide on which ANOVA test to use"
   ]
  },
  {
   "cell_type": "markdown",
   "metadata": {},
   "source": [
    "#### => 1 independent input variables (testStimulus), 1 dependent variable, NOT repeated measures / independent => one-way independent measure ANOVA"
   ]
  },
  {
   "cell_type": "markdown",
   "metadata": {},
   "source": [
    "### Step 3: Check assumptions"
   ]
  },
  {
   "cell_type": "markdown",
   "metadata": {},
   "source": [
    "#### 1. Dependent variables on interval or ratio scale => check, because rating is discrete & on interval scale\n",
    "#### 2. Independent variables with two or more groups => check, because testStimulus has multiple different values \n",
    "#### 3. Indepenence of observation => check, because observations come from different people, therefore independence can be assumed\n",
    "#### 4. No significant outliers => don't know, need to check that in the next step!\n",
    "#### 5. Normally distributed population for every single group => don't know, need to check that in the next step!\n",
    "#### 6. Homogenity of variances => don't know, need to check that in the next step!"
   ]
  },
  {
   "cell_type": "markdown",
   "metadata": {},
   "source": [
    "### Step 3.1: Outlier detection"
   ]
  },
  {
   "cell_type": "code",
   "execution_count": 5,
   "metadata": {},
   "outputs": [
    {
     "data": {
      "text/html": [
       "<table>\n",
       "<thead><tr><th scope=col>testStimulus</th><th scope=col>Rating</th><th scope=col>Z_Score_Rating</th></tr></thead>\n",
       "<tbody>\n",
       "\t<tr><td>maus_m_700_bpf_200_2800_normAsl_-26</td><td>5.00                               </td><td>2.710246                           </td></tr>\n",
       "\t<tr><td>haus_m_700_bpf_200_2800_normAsl_-26</td><td>5.00                               </td><td>2.472542                           </td></tr>\n",
       "\t<tr><td>maus_m_700_bpf_200_2800_normAsl_-26</td><td>4.75                               </td><td>2.419582                           </td></tr>\n",
       "\t<tr><td>haus_m_700_bpf_200_2800_normAsl_-26</td><td>4.75                               </td><td>2.209657                           </td></tr>\n",
       "\t<tr><td>haus_m_700_mnru_Q_14_normAsl_-26   </td><td>3.75                               </td><td>2.159806                           </td></tr>\n",
       "\t<tr><td>maus_m_700_mnru_Q_14_normAsl_-26   </td><td>3.50                               </td><td>2.068097                           </td></tr>\n",
       "</tbody>\n",
       "</table>\n"
      ],
      "text/latex": [
       "\\begin{tabular}{r|lll}\n",
       " testStimulus & Rating & Z\\_Score\\_Rating\\\\\n",
       "\\hline\n",
       "\t maus\\_m\\_700\\_bpf\\_200\\_2800\\_normAsl\\_-26 & 5.00                                              & 2.710246                                         \\\\\n",
       "\t haus\\_m\\_700\\_bpf\\_200\\_2800\\_normAsl\\_-26 & 5.00                                              & 2.472542                                         \\\\\n",
       "\t maus\\_m\\_700\\_bpf\\_200\\_2800\\_normAsl\\_-26 & 4.75                                              & 2.419582                                         \\\\\n",
       "\t haus\\_m\\_700\\_bpf\\_200\\_2800\\_normAsl\\_-26 & 4.75                                              & 2.209657                                         \\\\\n",
       "\t haus\\_m\\_700\\_mnru\\_Q\\_14\\_normAsl\\_-26    & 3.75                                              & 2.159806                                         \\\\\n",
       "\t maus\\_m\\_700\\_mnru\\_Q\\_14\\_normAsl\\_-26    & 3.50                                              & 2.068097                                         \\\\\n",
       "\\end{tabular}\n"
      ],
      "text/markdown": [
       "\n",
       "| testStimulus | Rating | Z_Score_Rating |\n",
       "|---|---|---|\n",
       "| maus_m_700_bpf_200_2800_normAsl_-26 | 5.00                                | 2.710246                            |\n",
       "| haus_m_700_bpf_200_2800_normAsl_-26 | 5.00                                | 2.472542                            |\n",
       "| maus_m_700_bpf_200_2800_normAsl_-26 | 4.75                                | 2.419582                            |\n",
       "| haus_m_700_bpf_200_2800_normAsl_-26 | 4.75                                | 2.209657                            |\n",
       "| haus_m_700_mnru_Q_14_normAsl_-26    | 3.75                                | 2.159806                            |\n",
       "| maus_m_700_mnru_Q_14_normAsl_-26    | 3.50                                | 2.068097                            |\n",
       "\n"
      ],
      "text/plain": [
       "  testStimulus                        Rating Z_Score_Rating\n",
       "1 maus_m_700_bpf_200_2800_normAsl_-26 5.00   2.710246      \n",
       "2 haus_m_700_bpf_200_2800_normAsl_-26 5.00   2.472542      \n",
       "3 maus_m_700_bpf_200_2800_normAsl_-26 4.75   2.419582      \n",
       "4 haus_m_700_bpf_200_2800_normAsl_-26 4.75   2.209657      \n",
       "5 haus_m_700_mnru_Q_14_normAsl_-26    3.75   2.159806      \n",
       "6 maus_m_700_mnru_Q_14_normAsl_-26    3.50   2.068097      "
      ]
     },
     "metadata": {},
     "output_type": "display_data"
    }
   ],
   "source": [
    "# z score method\n",
    "if(use_ratings_mean) {\n",
    "    z_scores <- quality_data %>% \n",
    "                    mutate(Std_Dev_Rating = sd(Rating), \n",
    "                           Mean_Rating = mean(Rating)) %>%\n",
    "                    mutate(Z_Score_Rating = (Rating - Mean_Rating) / Std_Dev_Rating) %>%\n",
    "                    select(testStimulus, Rating, Z_Score_Rating) %>%\n",
    "                    drop_na() %>%\n",
    "                    arrange(desc(Z_Score_Rating))\n",
    "} else {\n",
    "    z_scores <- merge(\n",
    "                    quality_data %>% \n",
    "                                group_by(testStimulus) %>%\n",
    "                                summarize(Std_Dev_Rating = sd(Rating), \n",
    "                                       Mean_Rating = mean(Rating)), \n",
    "                     (quality_data %>% select(testStimulus, Rating))) %>%\n",
    "                drop_na() %>%\n",
    "                mutate(Z_Score_Rating = (Rating - Mean_Rating) / Std_Dev_Rating) %>%\n",
    "                arrange(desc(Z_Score_Rating))\n",
    "}\n",
    "\n",
    "head(z_scores)"
   ]
  },
  {
   "cell_type": "markdown",
   "metadata": {},
   "source": [
    "#### Criterion checked: no significant outliers (no absolute z score greater than 3.29)"
   ]
  },
  {
   "cell_type": "markdown",
   "metadata": {},
   "source": [
    "### Step 3.2: Normally distributed population for every single group"
   ]
  },
  {
   "cell_type": "code",
   "execution_count": 6,
   "metadata": {},
   "outputs": [],
   "source": [
    "# normality checking for groups\n",
    "check_normality_for_group <- function(stimulus) {\n",
    "    data <- quality_data %>% dplyr::filter(testStimulus == stimulus) \n",
    "    test_result <- ks.test(data[['Rating']], \"pnorm\", mean=mean(data[['Rating']]), sd=sd(data[['Rating']]))\n",
    "    result_string <- paste0('Normality for testStimulus ', stimulus, ': ')\n",
    "    test_result[['p.value']]\n",
    "    \n",
    "    if(test_result[['p.value']] < 0.05) {\n",
    "        result_string <- paste0(result_string, as.character(round(test_result[['p.value']], digits=7)), \n",
    "                                ' p-value (Kolmogrov-Smirnov) == NO, ')\n",
    "    } else {\n",
    "        result_string <- paste0(result_string, as.character(round(test_result[['p.value']], digits=7)), \n",
    "                                ' p-value (Kolmogrov-Smirnov) == YES, ')\n",
    "    }\n",
    "    \n",
    "    test_result <- shapiro.test(data[['Rating']])\n",
    "    if(test_result[['p.value']] < 0.05) {\n",
    "        result_string <- paste0(result_string, as.character(round(test_result[['p.value']], digits=7)), \n",
    "                                ' p-value (Shapiro-Wilk) == NO!')\n",
    "    } else {\n",
    "        result_string <- paste0(result_string, as.character(round(test_result[['p.value']], digits=7)), \n",
    "                                ' p-value (Kolmogrov-Smirnov) == YES!')\n",
    "    }\n",
    "    \n",
    "    result_string\n",
    "}"
   ]
  },
  {
   "cell_type": "code",
   "execution_count": 7,
   "metadata": {},
   "outputs": [
    {
     "name": "stderr",
     "output_type": "stream",
     "text": [
      "Warning message in ks.test(data[[\"Rating\"]], \"pnorm\", mean = mean(data[[\"Rating\"]]), :\n",
      "\"ties should not be present for the Kolmogorov-Smirnov test\""
     ]
    },
    {
     "name": "stdout",
     "output_type": "stream",
     "text": [
      "[1] \"Normality for testStimulus haus_m_700_bpf_200_2800_normAsl_-26: 0.7356822 p-value (Kolmogrov-Smirnov) == YES, 0.2041441 p-value (Kolmogrov-Smirnov) == YES!\"\n"
     ]
    },
    {
     "name": "stderr",
     "output_type": "stream",
     "text": [
      "Warning message in ks.test(data[[\"Rating\"]], \"pnorm\", mean = mean(data[[\"Rating\"]]), :\n",
      "\"ties should not be present for the Kolmogorov-Smirnov test\""
     ]
    },
    {
     "name": "stdout",
     "output_type": "stream",
     "text": [
      "[1] \"Normality for testStimulus haus_m_700_mnru_Q_14_normAsl_-26: 0.2304167 p-value (Kolmogrov-Smirnov) == YES, 0.084306 p-value (Kolmogrov-Smirnov) == YES!\"\n"
     ]
    },
    {
     "name": "stderr",
     "output_type": "stream",
     "text": [
      "Warning message in ks.test(data[[\"Rating\"]], \"pnorm\", mean = mean(data[[\"Rating\"]]), :\n",
      "\"ties should not be present for the Kolmogorov-Smirnov test\""
     ]
    },
    {
     "name": "stdout",
     "output_type": "stream",
     "text": [
      "[1] \"Normality for testStimulus haus_m_700_normAsl_-26: 0.072033 p-value (Kolmogrov-Smirnov) == YES, 0.000147 p-value (Shapiro-Wilk) == NO!\"\n"
     ]
    },
    {
     "name": "stderr",
     "output_type": "stream",
     "text": [
      "Warning message in ks.test(data[[\"Rating\"]], \"pnorm\", mean = mean(data[[\"Rating\"]]), :\n",
      "\"ties should not be present for the Kolmogorov-Smirnov test\""
     ]
    },
    {
     "name": "stdout",
     "output_type": "stream",
     "text": [
      "[1] \"Normality for testStimulus maus_m_700_bpf_200_2800_normAsl_-26: 0.5205064 p-value (Kolmogrov-Smirnov) == YES, 0.0851928 p-value (Kolmogrov-Smirnov) == YES!\"\n"
     ]
    },
    {
     "name": "stderr",
     "output_type": "stream",
     "text": [
      "Warning message in ks.test(data[[\"Rating\"]], \"pnorm\", mean = mean(data[[\"Rating\"]]), :\n",
      "\"ties should not be present for the Kolmogorov-Smirnov test\""
     ]
    },
    {
     "name": "stdout",
     "output_type": "stream",
     "text": [
      "[1] \"Normality for testStimulus maus_m_700_mnru_Q_14_normAsl_-26: 0.1511504 p-value (Kolmogrov-Smirnov) == YES, 0.0208674 p-value (Shapiro-Wilk) == NO!\"\n"
     ]
    },
    {
     "name": "stderr",
     "output_type": "stream",
     "text": [
      "Warning message in ks.test(data[[\"Rating\"]], \"pnorm\", mean = mean(data[[\"Rating\"]]), :\n",
      "\"ties should not be present for the Kolmogorov-Smirnov test\""
     ]
    },
    {
     "name": "stdout",
     "output_type": "stream",
     "text": [
      "[1] \"Normality for testStimulus maus_m_700_normAsl_-26: 0.0280163 p-value (Kolmogrov-Smirnov) == NO, 2e-07 p-value (Shapiro-Wilk) == NO!\"\n"
     ]
    }
   ],
   "source": [
    "# print normality tests\n",
    "stimuli <- (quality_data %>% distinct(testStimulus))[['testStimulus']]\n",
    "\n",
    "for (stimulus in stimuli) {\n",
    "    print(check_normality_for_group(stimulus))\n",
    "}"
   ]
  },
  {
   "cell_type": "markdown",
   "metadata": {},
   "source": [
    "#### Normality is hence likely to not exist within all groups - we are still going to continue though."
   ]
  },
  {
   "cell_type": "markdown",
   "metadata": {},
   "source": [
    "### Step 3.3: Homogenity of variances"
   ]
  },
  {
   "cell_type": "code",
   "execution_count": 8,
   "metadata": {},
   "outputs": [
    {
     "data": {
      "text/html": [
       "'F( df_{haus_m_700_bpf_200_2800_normAsl_-26} = 36; df_{haus_m_700_mnru_Q_14_normAsl_-26} = 36; df_{haus_m_700_normAsl_-26} = 36; df_{maus_m_700_bpf_200_2800_normAsl_-26} = 36; df_{maus_m_700_mnru_Q_14_normAsl_-26} = 36; df_{maus_m_700_normAsl_-26} = 36; ) = 2.7341014 | p-value = 0.0203379 =&gt; homogenity of variance CANNOT be assumed'"
      ],
      "text/latex": [
       "'F( df\\_\\{haus\\_m\\_700\\_bpf\\_200\\_2800\\_normAsl\\_-26\\} = 36; df\\_\\{haus\\_m\\_700\\_mnru\\_Q\\_14\\_normAsl\\_-26\\} = 36; df\\_\\{haus\\_m\\_700\\_normAsl\\_-26\\} = 36; df\\_\\{maus\\_m\\_700\\_bpf\\_200\\_2800\\_normAsl\\_-26\\} = 36; df\\_\\{maus\\_m\\_700\\_mnru\\_Q\\_14\\_normAsl\\_-26\\} = 36; df\\_\\{maus\\_m\\_700\\_normAsl\\_-26\\} = 36; ) = 2.7341014 \\textbar{} p-value = 0.0203379 => homogenity of variance CANNOT be assumed'"
      ],
      "text/markdown": [
       "'F( df_{haus_m_700_bpf_200_2800_normAsl_-26} = 36; df_{haus_m_700_mnru_Q_14_normAsl_-26} = 36; df_{haus_m_700_normAsl_-26} = 36; df_{maus_m_700_bpf_200_2800_normAsl_-26} = 36; df_{maus_m_700_mnru_Q_14_normAsl_-26} = 36; df_{maus_m_700_normAsl_-26} = 36; ) = 2.7341014 | p-value = 0.0203379 =&gt; homogenity of variance CANNOT be assumed'"
      ],
      "text/plain": [
       "[1] \"F( df_{haus_m_700_bpf_200_2800_normAsl_-26} = 36; df_{haus_m_700_mnru_Q_14_normAsl_-26} = 36; df_{haus_m_700_normAsl_-26} = 36; df_{maus_m_700_bpf_200_2800_normAsl_-26} = 36; df_{maus_m_700_mnru_Q_14_normAsl_-26} = 36; df_{maus_m_700_normAsl_-26} = 36; ) = 2.7341014 | p-value = 0.0203379 => homogenity of variance CANNOT be assumed\""
      ]
     },
     "metadata": {},
     "output_type": "display_data"
    }
   ],
   "source": [
    "# Check for homogenity of groups' VQ ratings\n",
    "get_levene_test_results <- function() {\n",
    "\n",
    "    test_results <- leveneTest(Rating ~ testStimulus, data = quality_data, center = mean)\n",
    "    test_results\n",
    "\n",
    "    stimuli <- (quality_data %>% distinct(testStimulus))[['testStimulus']]\n",
    "    result <- 'F('\n",
    "    for (stimulus in stimuli) {\n",
    "        df <- (quality_data %>% dplyr::filter(testStimulus == stimulus) %>% \n",
    "               mutate(df = n() - 1))[1,][['df']]\n",
    "        result <- paste0(result, ' df_{', stimulus, '} = ', df, ';')\n",
    "    }\n",
    "    result <- paste0(result, ' ) = ', \n",
    "                     round(test_results[1,2], digits=7), \n",
    "                ' | p-value = ', \n",
    "                round(test_results[1,3], digits=7))\n",
    "    \n",
    "    if(test_results[1,3] > 0.05) {\n",
    "        result <- paste0(result, ' => homogenity of variance CAN be assumed')\n",
    "    } else {\n",
    "        result <- paste0(result, ' => homogenity of variance CANNOT be assumed')\n",
    "    }\n",
    "    \n",
    "    result\n",
    "}\n",
    "\n",
    "get_levene_test_results()"
   ]
  },
  {
   "cell_type": "markdown",
   "metadata": {},
   "source": [
    "#### As Levene's test delivers p-value < 0.05 => homogenity of variance can NOT be assumed, but we are going to continue anyways!"
   ]
  },
  {
   "cell_type": "markdown",
   "metadata": {},
   "source": [
    "### Step 4: Conduct one-way independent measure ANOVA"
   ]
  },
  {
   "cell_type": "code",
   "execution_count": 9,
   "metadata": {},
   "outputs": [
    {
     "data": {
      "text/plain": [
       "Call:\n",
       "   aov(formula = Rating ~ testStimulus, data = quality_data)\n",
       "\n",
       "Terms:\n",
       "                testStimulus Residuals\n",
       "Sum of Squares      235.6737  117.5980\n",
       "Deg. of Freedom            5       216\n",
       "\n",
       "Residual standard error: 0.7378584\n",
       "Estimated effects may be unbalanced"
      ]
     },
     "metadata": {},
     "output_type": "display_data"
    },
    {
     "data": {
      "text/html": [
       "<table>\n",
       "<thead><tr><th scope=col>Effect</th><th scope=col>DFn</th><th scope=col>DFd</th><th scope=col>SSn</th><th scope=col>SSd</th><th scope=col>F</th><th scope=col>p</th><th scope=col>p&lt;.05</th><th scope=col>ges</th></tr></thead>\n",
       "<tbody>\n",
       "\t<tr><td>testStimulus</td><td>5           </td><td>216         </td><td>235.674     </td><td>117.598     </td><td>86.576      </td><td>1.2e-49     </td><td>*           </td><td>0.667       </td></tr>\n",
       "</tbody>\n",
       "</table>\n"
      ],
      "text/latex": [
       "\\begin{tabular}{r|lllllllll}\n",
       " Effect & DFn & DFd & SSn & SSd & F & p & p<.05 & ges\\\\\n",
       "\\hline\n",
       "\t testStimulus & 5            & 216          & 235.674      & 117.598      & 86.576       & 1.2e-49      & *            & 0.667       \\\\\n",
       "\\end{tabular}\n"
      ],
      "text/markdown": [
       "\n",
       "| Effect | DFn | DFd | SSn | SSd | F | p | p<.05 | ges |\n",
       "|---|---|---|---|---|---|---|---|---|\n",
       "| testStimulus | 5            | 216          | 235.674      | 117.598      | 86.576       | 1.2e-49      | *            | 0.667        |\n",
       "\n"
      ],
      "text/plain": [
       "  Effect       DFn DFd SSn     SSd     F      p       p<.05 ges  \n",
       "1 testStimulus 5   216 235.674 117.598 86.576 1.2e-49 *     0.667"
      ]
     },
     "metadata": {},
     "output_type": "display_data"
    }
   ],
   "source": [
    "# conduct one-way independent measure ANOVA\n",
    "anova_res <- aov(Rating ~ testStimulus, data = quality_data)\n",
    "anova_res\n",
    "\n",
    "anova_summarized <- anova_summary(anova_res, detailed = TRUE)\n",
    "anova_summarized"
   ]
  },
  {
   "cell_type": "markdown",
   "metadata": {},
   "source": [
    "#### Note: testStimulus has significant effect on speech quality ratings (more on that later)"
   ]
  },
  {
   "cell_type": "markdown",
   "metadata": {},
   "source": [
    "### Step 5: Pairwise comparison / post hoc test"
   ]
  },
  {
   "cell_type": "code",
   "execution_count": 10,
   "metadata": {},
   "outputs": [
    {
     "data": {
      "text/html": [
       "'Tukey:'"
      ],
      "text/latex": [
       "'Tukey:'"
      ],
      "text/markdown": [
       "'Tukey:'"
      ],
      "text/plain": [
       "[1] \"Tukey:\""
      ]
     },
     "metadata": {},
     "output_type": "display_data"
    },
    {
     "data": {
      "text/html": [
       "<table>\n",
       "<thead><tr><th scope=col>pairwise comparison</th><th scope=col>p adj</th></tr></thead>\n",
       "<tbody>\n",
       "\t<tr><td>maus_m_700_bpf_200_2800_normAsl_-26-haus_m_700_bpf_200_2800_normAsl_-26</td><td>0.999996745                                                            </td></tr>\n",
       "\t<tr><td>maus_m_700_normAsl_-26-haus_m_700_normAsl_-26                          </td><td>0.985074924                                                            </td></tr>\n",
       "\t<tr><td>maus_m_700_mnru_Q_14_normAsl_-26-haus_m_700_mnru_Q_14_normAsl_-26      </td><td>0.985074924                                                            </td></tr>\n",
       "\t<tr><td>haus_m_700_mnru_Q_14_normAsl_-26-haus_m_700_bpf_200_2800_normAsl_-26   </td><td>0.083836735                                                            </td></tr>\n",
       "\t<tr><td>maus_m_700_bpf_200_2800_normAsl_-26-haus_m_700_mnru_Q_14_normAsl_-26   </td><td>0.061835383                                                            </td></tr>\n",
       "\t<tr><td>maus_m_700_mnru_Q_14_normAsl_-26-haus_m_700_bpf_200_2800_normAsl_-26   </td><td>0.012192289                                                            </td></tr>\n",
       "\t<tr><td>maus_m_700_mnru_Q_14_normAsl_-26-maus_m_700_bpf_200_2800_normAsl_-26   </td><td>0.008264769                                                            </td></tr>\n",
       "\t<tr><td>haus_m_700_normAsl_-26-haus_m_700_bpf_200_2800_normAsl_-26             </td><td>0.000000000                                                            </td></tr>\n",
       "\t<tr><td>maus_m_700_normAsl_-26-haus_m_700_bpf_200_2800_normAsl_-26             </td><td>0.000000000                                                            </td></tr>\n",
       "\t<tr><td>haus_m_700_normAsl_-26-haus_m_700_mnru_Q_14_normAsl_-26                </td><td>0.000000000                                                            </td></tr>\n",
       "\t<tr><td>maus_m_700_normAsl_-26-haus_m_700_mnru_Q_14_normAsl_-26                </td><td>0.000000000                                                            </td></tr>\n",
       "\t<tr><td>maus_m_700_bpf_200_2800_normAsl_-26-haus_m_700_normAsl_-26             </td><td>0.000000000                                                            </td></tr>\n",
       "\t<tr><td>maus_m_700_mnru_Q_14_normAsl_-26-haus_m_700_normAsl_-26                </td><td>0.000000000                                                            </td></tr>\n",
       "\t<tr><td>maus_m_700_normAsl_-26-maus_m_700_bpf_200_2800_normAsl_-26             </td><td>0.000000000                                                            </td></tr>\n",
       "\t<tr><td>maus_m_700_normAsl_-26-maus_m_700_mnru_Q_14_normAsl_-26                </td><td>0.000000000                                                            </td></tr>\n",
       "</tbody>\n",
       "</table>\n"
      ],
      "text/latex": [
       "\\begin{tabular}{r|ll}\n",
       " pairwise comparison & p adj\\\\\n",
       "\\hline\n",
       "\t maus\\_m\\_700\\_bpf\\_200\\_2800\\_normAsl\\_-26-haus\\_m\\_700\\_bpf\\_200\\_2800\\_normAsl\\_-26 & 0.999996745                                                                                        \\\\\n",
       "\t maus\\_m\\_700\\_normAsl\\_-26-haus\\_m\\_700\\_normAsl\\_-26                           & 0.985074924                                                                            \\\\\n",
       "\t maus\\_m\\_700\\_mnru\\_Q\\_14\\_normAsl\\_-26-haus\\_m\\_700\\_mnru\\_Q\\_14\\_normAsl\\_-26       & 0.985074924                                                                                        \\\\\n",
       "\t haus\\_m\\_700\\_mnru\\_Q\\_14\\_normAsl\\_-26-haus\\_m\\_700\\_bpf\\_200\\_2800\\_normAsl\\_-26    & 0.083836735                                                                                        \\\\\n",
       "\t maus\\_m\\_700\\_bpf\\_200\\_2800\\_normAsl\\_-26-haus\\_m\\_700\\_mnru\\_Q\\_14\\_normAsl\\_-26    & 0.061835383                                                                                        \\\\\n",
       "\t maus\\_m\\_700\\_mnru\\_Q\\_14\\_normAsl\\_-26-haus\\_m\\_700\\_bpf\\_200\\_2800\\_normAsl\\_-26    & 0.012192289                                                                                        \\\\\n",
       "\t maus\\_m\\_700\\_mnru\\_Q\\_14\\_normAsl\\_-26-maus\\_m\\_700\\_bpf\\_200\\_2800\\_normAsl\\_-26    & 0.008264769                                                                                        \\\\\n",
       "\t haus\\_m\\_700\\_normAsl\\_-26-haus\\_m\\_700\\_bpf\\_200\\_2800\\_normAsl\\_-26              & 0.000000000                                                                                  \\\\\n",
       "\t maus\\_m\\_700\\_normAsl\\_-26-haus\\_m\\_700\\_bpf\\_200\\_2800\\_normAsl\\_-26              & 0.000000000                                                                                  \\\\\n",
       "\t haus\\_m\\_700\\_normAsl\\_-26-haus\\_m\\_700\\_mnru\\_Q\\_14\\_normAsl\\_-26                 & 0.000000000                                                                                  \\\\\n",
       "\t maus\\_m\\_700\\_normAsl\\_-26-haus\\_m\\_700\\_mnru\\_Q\\_14\\_normAsl\\_-26                 & 0.000000000                                                                                  \\\\\n",
       "\t maus\\_m\\_700\\_bpf\\_200\\_2800\\_normAsl\\_-26-haus\\_m\\_700\\_normAsl\\_-26              & 0.000000000                                                                                  \\\\\n",
       "\t maus\\_m\\_700\\_mnru\\_Q\\_14\\_normAsl\\_-26-haus\\_m\\_700\\_normAsl\\_-26                 & 0.000000000                                                                                  \\\\\n",
       "\t maus\\_m\\_700\\_normAsl\\_-26-maus\\_m\\_700\\_bpf\\_200\\_2800\\_normAsl\\_-26              & 0.000000000                                                                                  \\\\\n",
       "\t maus\\_m\\_700\\_normAsl\\_-26-maus\\_m\\_700\\_mnru\\_Q\\_14\\_normAsl\\_-26                 & 0.000000000                                                                                  \\\\\n",
       "\\end{tabular}\n"
      ],
      "text/markdown": [
       "\n",
       "| pairwise comparison | p adj |\n",
       "|---|---|\n",
       "| maus_m_700_bpf_200_2800_normAsl_-26-haus_m_700_bpf_200_2800_normAsl_-26 | 0.999996745                                                             |\n",
       "| maus_m_700_normAsl_-26-haus_m_700_normAsl_-26                           | 0.985074924                                                             |\n",
       "| maus_m_700_mnru_Q_14_normAsl_-26-haus_m_700_mnru_Q_14_normAsl_-26       | 0.985074924                                                             |\n",
       "| haus_m_700_mnru_Q_14_normAsl_-26-haus_m_700_bpf_200_2800_normAsl_-26    | 0.083836735                                                             |\n",
       "| maus_m_700_bpf_200_2800_normAsl_-26-haus_m_700_mnru_Q_14_normAsl_-26    | 0.061835383                                                             |\n",
       "| maus_m_700_mnru_Q_14_normAsl_-26-haus_m_700_bpf_200_2800_normAsl_-26    | 0.012192289                                                             |\n",
       "| maus_m_700_mnru_Q_14_normAsl_-26-maus_m_700_bpf_200_2800_normAsl_-26    | 0.008264769                                                             |\n",
       "| haus_m_700_normAsl_-26-haus_m_700_bpf_200_2800_normAsl_-26              | 0.000000000                                                             |\n",
       "| maus_m_700_normAsl_-26-haus_m_700_bpf_200_2800_normAsl_-26              | 0.000000000                                                             |\n",
       "| haus_m_700_normAsl_-26-haus_m_700_mnru_Q_14_normAsl_-26                 | 0.000000000                                                             |\n",
       "| maus_m_700_normAsl_-26-haus_m_700_mnru_Q_14_normAsl_-26                 | 0.000000000                                                             |\n",
       "| maus_m_700_bpf_200_2800_normAsl_-26-haus_m_700_normAsl_-26              | 0.000000000                                                             |\n",
       "| maus_m_700_mnru_Q_14_normAsl_-26-haus_m_700_normAsl_-26                 | 0.000000000                                                             |\n",
       "| maus_m_700_normAsl_-26-maus_m_700_bpf_200_2800_normAsl_-26              | 0.000000000                                                             |\n",
       "| maus_m_700_normAsl_-26-maus_m_700_mnru_Q_14_normAsl_-26                 | 0.000000000                                                             |\n",
       "\n"
      ],
      "text/plain": [
       "   pairwise comparison                                                    \n",
       "1  maus_m_700_bpf_200_2800_normAsl_-26-haus_m_700_bpf_200_2800_normAsl_-26\n",
       "2  maus_m_700_normAsl_-26-haus_m_700_normAsl_-26                          \n",
       "3  maus_m_700_mnru_Q_14_normAsl_-26-haus_m_700_mnru_Q_14_normAsl_-26      \n",
       "4  haus_m_700_mnru_Q_14_normAsl_-26-haus_m_700_bpf_200_2800_normAsl_-26   \n",
       "5  maus_m_700_bpf_200_2800_normAsl_-26-haus_m_700_mnru_Q_14_normAsl_-26   \n",
       "6  maus_m_700_mnru_Q_14_normAsl_-26-haus_m_700_bpf_200_2800_normAsl_-26   \n",
       "7  maus_m_700_mnru_Q_14_normAsl_-26-maus_m_700_bpf_200_2800_normAsl_-26   \n",
       "8  haus_m_700_normAsl_-26-haus_m_700_bpf_200_2800_normAsl_-26             \n",
       "9  maus_m_700_normAsl_-26-haus_m_700_bpf_200_2800_normAsl_-26             \n",
       "10 haus_m_700_normAsl_-26-haus_m_700_mnru_Q_14_normAsl_-26                \n",
       "11 maus_m_700_normAsl_-26-haus_m_700_mnru_Q_14_normAsl_-26                \n",
       "12 maus_m_700_bpf_200_2800_normAsl_-26-haus_m_700_normAsl_-26             \n",
       "13 maus_m_700_mnru_Q_14_normAsl_-26-haus_m_700_normAsl_-26                \n",
       "14 maus_m_700_normAsl_-26-maus_m_700_bpf_200_2800_normAsl_-26             \n",
       "15 maus_m_700_normAsl_-26-maus_m_700_mnru_Q_14_normAsl_-26                \n",
       "   p adj      \n",
       "1  0.999996745\n",
       "2  0.985074924\n",
       "3  0.985074924\n",
       "4  0.083836735\n",
       "5  0.061835383\n",
       "6  0.012192289\n",
       "7  0.008264769\n",
       "8  0.000000000\n",
       "9  0.000000000\n",
       "10 0.000000000\n",
       "11 0.000000000\n",
       "12 0.000000000\n",
       "13 0.000000000\n",
       "14 0.000000000\n",
       "15 0.000000000"
      ]
     },
     "metadata": {},
     "output_type": "display_data"
    },
    {
     "data": {
      "text/html": [
       "'Bonferroni (bonus):'"
      ],
      "text/latex": [
       "'Bonferroni (bonus):'"
      ],
      "text/markdown": [
       "'Bonferroni (bonus):'"
      ],
      "text/plain": [
       "[1] \"Bonferroni (bonus):\""
      ]
     },
     "metadata": {},
     "output_type": "display_data"
    },
    {
     "data": {
      "text/html": [
       "<table>\n",
       "<thead><tr><th></th><th scope=col>haus_m_700_bpf_200_2800_normAsl_-26</th><th scope=col>haus_m_700_mnru_Q_14_normAsl_-26</th><th scope=col>haus_m_700_normAsl_-26</th><th scope=col>maus_m_700_bpf_200_2800_normAsl_-26</th><th scope=col>maus_m_700_mnru_Q_14_normAsl_-26</th></tr></thead>\n",
       "<tbody>\n",
       "\t<tr><th scope=row>haus_m_700_mnru_Q_14_normAsl_-26</th><td>1.195297e-01</td><td>          NA</td><td>          NA</td><td>          NA</td><td>          NA</td></tr>\n",
       "\t<tr><th scope=row>haus_m_700_normAsl_-26</th><td>2.450942e-20</td><td>9.554508e-29</td><td>          NA</td><td>          NA</td><td>          NA</td></tr>\n",
       "\t<tr><th scope=row>maus_m_700_bpf_200_2800_normAsl_-26</th><td>1.000000e+00</td><td>8.448747e-02</td><td>5.623455e-20</td><td>          NA</td><td>          NA</td></tr>\n",
       "\t<tr><th scope=row>maus_m_700_mnru_Q_14_normAsl_-26</th><td>1.440882e-02</td><td>1.000000e+00</td><td>6.889294e-31</td><td>9.556395e-03</td><td>          NA</td></tr>\n",
       "\t<tr><th scope=row>maus_m_700_normAsl_-26</th><td>2.110953e-22</td><td>6.889294e-31</td><td>1.000000e+00</td><td>4.912038e-22</td><td>4.920252e-33</td></tr>\n",
       "</tbody>\n",
       "</table>\n"
      ],
      "text/latex": [
       "\\begin{tabular}{r|lllll}\n",
       "  & haus\\_m\\_700\\_bpf\\_200\\_2800\\_normAsl\\_-26 & haus\\_m\\_700\\_mnru\\_Q\\_14\\_normAsl\\_-26 & haus\\_m\\_700\\_normAsl\\_-26 & maus\\_m\\_700\\_bpf\\_200\\_2800\\_normAsl\\_-26 & maus\\_m\\_700\\_mnru\\_Q\\_14\\_normAsl\\_-26\\\\\n",
       "\\hline\n",
       "\thaus\\_m\\_700\\_mnru\\_Q\\_14\\_normAsl\\_-26 & 1.195297e-01 &           NA &           NA &           NA &           NA\\\\\n",
       "\thaus\\_m\\_700\\_normAsl\\_-26 & 2.450942e-20 & 9.554508e-29 &           NA &           NA &           NA\\\\\n",
       "\tmaus\\_m\\_700\\_bpf\\_200\\_2800\\_normAsl\\_-26 & 1.000000e+00 & 8.448747e-02 & 5.623455e-20 &           NA &           NA\\\\\n",
       "\tmaus\\_m\\_700\\_mnru\\_Q\\_14\\_normAsl\\_-26 & 1.440882e-02 & 1.000000e+00 & 6.889294e-31 & 9.556395e-03 &           NA\\\\\n",
       "\tmaus\\_m\\_700\\_normAsl\\_-26 & 2.110953e-22 & 6.889294e-31 & 1.000000e+00 & 4.912038e-22 & 4.920252e-33\\\\\n",
       "\\end{tabular}\n"
      ],
      "text/markdown": [
       "\n",
       "| <!--/--> | haus_m_700_bpf_200_2800_normAsl_-26 | haus_m_700_mnru_Q_14_normAsl_-26 | haus_m_700_normAsl_-26 | maus_m_700_bpf_200_2800_normAsl_-26 | maus_m_700_mnru_Q_14_normAsl_-26 |\n",
       "|---|---|---|---|---|---|\n",
       "| haus_m_700_mnru_Q_14_normAsl_-26 | 1.195297e-01 |           NA |           NA |           NA |           NA |\n",
       "| haus_m_700_normAsl_-26 | 2.450942e-20 | 9.554508e-29 |           NA |           NA |           NA |\n",
       "| maus_m_700_bpf_200_2800_normAsl_-26 | 1.000000e+00 | 8.448747e-02 | 5.623455e-20 |           NA |           NA |\n",
       "| maus_m_700_mnru_Q_14_normAsl_-26 | 1.440882e-02 | 1.000000e+00 | 6.889294e-31 | 9.556395e-03 |           NA |\n",
       "| maus_m_700_normAsl_-26 | 2.110953e-22 | 6.889294e-31 | 1.000000e+00 | 4.912038e-22 | 4.920252e-33 |\n",
       "\n"
      ],
      "text/plain": [
       "                                    haus_m_700_bpf_200_2800_normAsl_-26\n",
       "haus_m_700_mnru_Q_14_normAsl_-26    1.195297e-01                       \n",
       "haus_m_700_normAsl_-26              2.450942e-20                       \n",
       "maus_m_700_bpf_200_2800_normAsl_-26 1.000000e+00                       \n",
       "maus_m_700_mnru_Q_14_normAsl_-26    1.440882e-02                       \n",
       "maus_m_700_normAsl_-26              2.110953e-22                       \n",
       "                                    haus_m_700_mnru_Q_14_normAsl_-26\n",
       "haus_m_700_mnru_Q_14_normAsl_-26              NA                    \n",
       "haus_m_700_normAsl_-26              9.554508e-29                    \n",
       "maus_m_700_bpf_200_2800_normAsl_-26 8.448747e-02                    \n",
       "maus_m_700_mnru_Q_14_normAsl_-26    1.000000e+00                    \n",
       "maus_m_700_normAsl_-26              6.889294e-31                    \n",
       "                                    haus_m_700_normAsl_-26\n",
       "haus_m_700_mnru_Q_14_normAsl_-26              NA          \n",
       "haus_m_700_normAsl_-26                        NA          \n",
       "maus_m_700_bpf_200_2800_normAsl_-26 5.623455e-20          \n",
       "maus_m_700_mnru_Q_14_normAsl_-26    6.889294e-31          \n",
       "maus_m_700_normAsl_-26              1.000000e+00          \n",
       "                                    maus_m_700_bpf_200_2800_normAsl_-26\n",
       "haus_m_700_mnru_Q_14_normAsl_-26              NA                       \n",
       "haus_m_700_normAsl_-26                        NA                       \n",
       "maus_m_700_bpf_200_2800_normAsl_-26           NA                       \n",
       "maus_m_700_mnru_Q_14_normAsl_-26    9.556395e-03                       \n",
       "maus_m_700_normAsl_-26              4.912038e-22                       \n",
       "                                    maus_m_700_mnru_Q_14_normAsl_-26\n",
       "haus_m_700_mnru_Q_14_normAsl_-26              NA                    \n",
       "haus_m_700_normAsl_-26                        NA                    \n",
       "maus_m_700_bpf_200_2800_normAsl_-26           NA                    \n",
       "maus_m_700_mnru_Q_14_normAsl_-26              NA                    \n",
       "maus_m_700_normAsl_-26              4.920252e-33                    "
      ]
     },
     "metadata": {},
     "output_type": "display_data"
    }
   ],
   "source": [
    "# as equal sample sizes (each n=148) and Tukey most widely used: Tukey [\"Cramming Sam's tips\" for post hoc tests (from lecture)]\n",
    "post_hoc <- TukeyHSD(anova_res)\n",
    "comparisons <- tibble::rownames_to_column(as.data.frame(post_hoc$testStimulus), \"pairwise comparison\") %>% \n",
    "                select(`pairwise comparison`, `p adj`) %>%\n",
    "                arrange(desc(`p adj`))\n",
    "paste0('Tukey:')\n",
    "comparisons\n",
    "\n",
    "# BONUS: Bonferroni because we want to control Type I error\n",
    "paste0('Bonferroni (bonus):')\n",
    "x <- pairwise.t.test(quality_data$Rating, quality_data$testStimulus, p.adj=\"bonferroni\")\n",
    "x$p.value"
   ]
  },
  {
   "cell_type": "markdown",
   "metadata": {},
   "source": [
    "#### => More: see interpretation"
   ]
  },
  {
   "cell_type": "markdown",
   "metadata": {},
   "source": [
    "### Step 6: Interpretation"
   ]
  },
  {
   "cell_type": "code",
   "execution_count": 11,
   "metadata": {},
   "outputs": [
    {
     "data": {
      "text/html": [
       "'Total amount of samples: 222'"
      ],
      "text/latex": [
       "'Total amount of samples: 222'"
      ],
      "text/markdown": [
       "'Total amount of samples: 222'"
      ],
      "text/plain": [
       "[1] \"Total amount of samples: 222\""
      ]
     },
     "metadata": {},
     "output_type": "display_data"
    }
   ],
   "source": [
    "# compute individual degrees of freedom for groups\n",
    "get_df_of <- function(stimulus) {\n",
    "    df <- (quality_data %>% dplyr::filter(testStimulus == stimulus) %>% \n",
    "            mutate(df = n() - 1))[1,][['df']]\n",
    "    paste0('df_{', stimulus, '} = ', df, '; ')\n",
    "}\n",
    "\n",
    "paste0('Total amount of samples: ', nrow(quality_data))"
   ]
  },
  {
   "cell_type": "code",
   "execution_count": 12,
   "metadata": {},
   "outputs": [
    {
     "name": "stdout",
     "output_type": "stream",
     "text": [
      "[1] \"haus_m_700_bpf_200_2800_normAsl_-26 (df_{haus_m_700_bpf_200_2800_normAsl_-26} = 36; ): mean around 2.649, standard deviation around 0.951\"\n",
      "[1] \"haus_m_700_mnru_Q_14_normAsl_-26 (df_{haus_m_700_mnru_Q_14_normAsl_-26} = 36; ): mean around 2.189, standard deviation around 0.723\"\n",
      "[1] \"haus_m_700_normAsl_-26 (df_{haus_m_700_normAsl_-26} = 36; ): mean around 4.473, standard deviation around 0.533\"\n",
      "[1] \"maus_m_700_bpf_200_2800_normAsl_-26 (df_{maus_m_700_bpf_200_2800_normAsl_-26} = 36; ): mean around 2.669, standard deviation around 0.86\"\n",
      "[1] \"maus_m_700_mnru_Q_14_normAsl_-26 (df_{maus_m_700_mnru_Q_14_normAsl_-26} = 36; ): mean around 2.074, standard deviation around 0.689\"\n",
      "[1] \"maus_m_700_normAsl_-26 (df_{maus_m_700_normAsl_-26} = 36; ): mean around 4.588, standard deviation around 0.584\"\n"
     ]
    }
   ],
   "source": [
    "# compute statistics for independent variables' values\n",
    "for (stimulus in stimuli) {\n",
    "    statistics <- quality_data %>% \n",
    "                    filter(testStimulus == stimulus) %>%\n",
    "                    group_by(testStimulus) %>%\n",
    "                    summarize(mean = mean(Rating), sd = sd(Rating))\n",
    "    print(paste0(stimulus, ' (', get_df_of(stimulus), '): mean around ', round(statistics[['mean']], digits=3), ', standard deviation around ', round(statistics[['sd']], digits=3)))\n",
    "}"
   ]
  },
  {
   "cell_type": "markdown",
   "metadata": {},
   "source": [
    "#### Altering the testStimulus does have a significant effect on the speech quality ratings: \n",
    "#### There is a significant (alpha value = 0.05) and rather large main effect of the testStimulus on the speech quality ratings (F statistic value of around 86.576, p-value of around 1.2e-49 with eta² effect size of around 0.667). \n",
    "#### Overall residual standard error around 0.738 with sum of squares around 117.6.\n",
    "#### The total degrees of freedom are the amount of total observations - 1 => 222 - 1 = 221 [37 samples & 36 df for each distinct testStimulus]. \n",
    "#### Regarding pairwise comparisons / post hoc tests, there is a significant statistical difference of ratings [with p-value < 0.05] between every pair of different testStimuli except for 5 cases: \n",
    "#### maus_m_700_bpf_200_2800_normAsl_-26 to haus_m_700_bpf_200_2800_normAsl_-26\n",
    "#### maus_m_700_normAsl_-26 to haus_m_700_normAsl_-26\n",
    "#### maus_m_700_mnru_Q_14_normAsl_-26 to haus_m_700_mnru_Q_14_normAsl_-26\n",
    "#### haus_m_700_mnru_Q_14_normAsl_-26 to haus_m_700_bpf_200_2800_normAsl_-26\n",
    "#### maus_m_700_bpf_200_2800_normAsl_-26 to haus_m_700_mnru_Q_14_normAsl_-26"
   ]
  }
 ],
 "metadata": {
  "kernelspec": {
   "display_name": "R",
   "language": "R",
   "name": "ir"
  },
  "language_info": {
   "codemirror_mode": "r",
   "file_extension": ".r",
   "mimetype": "text/x-r-source",
   "name": "R",
   "pygments_lexer": "r",
   "version": "3.6.1"
  }
 },
 "nbformat": 4,
 "nbformat_minor": 2
}
