{
 "cells": [
  {
   "cell_type": "markdown",
   "metadata": {},
   "source": [
    "# 09 Non-Parametric Tests - Task 1"
   ]
  },
  {
   "cell_type": "markdown",
   "metadata": {},
   "source": [
    "Provide a script and html file which calulates the suitable **non-parametric test** to answer the\n",
    "following research questions (RQ). Please also report the results as a text\n",
    "conclusion including the test statistic value (F) with degree of freedom, significance\n",
    "value as well as pairwise comparisions."
   ]
  },
  {
   "cell_type": "markdown",
   "metadata": {},
   "source": [
    "Does changing the bitrate (independent variable: 2000, 4000, 6000, 50000 kbps) have a\n",
    "significant effect on the video quality (VQ) ratings (dependent variable).\n",
    "Please consider all ratings at\n",
    "a resolution of 1080p and framerate of 60 fps for the first game. Use the ratings provided in the\n",
    "gaming video quality dataset."
   ]
  },
  {
   "cell_type": "markdown",
   "metadata": {},
   "source": [
    "## Import and Initializing"
   ]
  },
  {
   "cell_type": "code",
   "execution_count": 106,
   "metadata": {},
   "outputs": [],
   "source": [
    "import numpy as np\n",
    "import pandas as pd\n",
    "import scipy\n",
    "\n",
    "#! pip install pingouin\n",
    "import pingouin as pg\n",
    "\n",
    "import matplotlib.pyplot as plt\n",
    "import seaborn as sns\n",
    "sns.set(style=\"whitegrid\", context=\"talk\")\n",
    "cm = sns.diverging_palette(127, 14, s=99, l=55, as_cmap=True)\n",
    "\n",
    "FIGSIZE = (20,4)"
   ]
  },
  {
   "cell_type": "markdown",
   "metadata": {},
   "source": [
    "## Loading the data"
   ]
  },
  {
   "cell_type": "code",
   "execution_count": 116,
   "metadata": {},
   "outputs": [
    {
     "name": "stdout",
     "output_type": "stream",
     "text": [
      "['2000' '4000' '6000' '50000']\n",
      "<class 'pandas.core.frame.DataFrame'>\n",
      "Int64Index: 100 entries, 2867 to 3361\n",
      "Data columns (total 6 columns):\n",
      " #   Column      Non-Null Count  Dtype  \n",
      "---  ------      --------------  -----  \n",
      " 0   PID         100 non-null    int64  \n",
      " 1   Game        100 non-null    object \n",
      " 2   Resolution  100 non-null    int64  \n",
      " 3   Framerate   100 non-null    int64  \n",
      " 4   Bitrate     100 non-null    object \n",
      " 5   VQ          100 non-null    float64\n",
      "dtypes: float64(1), int64(3), object(2)\n",
      "memory usage: 5.5+ KB\n"
     ]
    }
   ],
   "source": [
    "dataset = pd.read_excel(\n",
    "    \"../datasets/DB01_gaming_video_quality_dataset.xlsx\",\n",
    "    usecols=[\"PID\", \"Game\", \"Resolution\", \"Framerate\", \"Bitrate\", \"VQ\"],\n",
    "    dtype={\"Bitrate\": str}\n",
    ").dropna()\n",
    "mask_condition = ((dataset['Resolution'] == 1080) & (dataset['Framerate'] == 60))\n",
    "print(dataset.loc[mask_condition].Bitrate.unique())\n",
    "mask_bitrate = dataset[\"Bitrate\"].isin([\"2000\", \"4000\", \"6000\", \"50000\"])\n",
    "mask_game =(dataset['Game'] == 'Game1')\n",
    "dataset = dataset.loc[mask_condition & mask_bitrate & mask_game]\n",
    "dataset.info()"
   ]
  },
  {
   "cell_type": "markdown",
   "metadata": {},
   "source": [
    "## Check general requirements"
   ]
  },
  {
   "cell_type": "markdown",
   "metadata": {},
   "source": [
    "### Measurement"
   ]
  },
  {
   "cell_type": "markdown",
   "metadata": {},
   "source": [
    "Independent variable: `Bitrate`.<br>\n",
    "The dependent variable (`VQ`) is measured at the interval level.\n",
    "\n",
    "### Balance\n",
    "Is there the same amount of measurements for each bitrate for `Game1`?"
   ]
  },
  {
   "cell_type": "code",
   "execution_count": 108,
   "metadata": {},
   "outputs": [
    {
     "data": {
      "text/plain": [
       "Bitrate\n",
       "2000     25\n",
       "4000     25\n",
       "50000    25\n",
       "6000     25\n",
       "dtype: int64"
      ]
     },
     "execution_count": 108,
     "metadata": {},
     "output_type": "execute_result"
    }
   ],
   "source": [
    "dataset.groupby(['Bitrate']).size()"
   ]
  },
  {
   "cell_type": "markdown",
   "metadata": {},
   "source": [
    "Same amount of measurements -> no changes necessary"
   ]
  },
  {
   "cell_type": "markdown",
   "metadata": {},
   "source": [
    "## Non-parametric Tests\n",
    "![flowchart_nonparametric](https://pingouin-stats.org/_images/flowchart_nonparametric.svg)\n",
    "Source: https://pingouin-stats.org/guidelines.html#id7"
   ]
  },
  {
   "cell_type": "markdown",
   "metadata": {},
   "source": [
    "## Friedmann Test"
   ]
  },
  {
   "cell_type": "code",
   "execution_count": 109,
   "metadata": {},
   "outputs": [
    {
     "data": {
      "text/html": [
       "<div>\n",
       "<style scoped>\n",
       "    .dataframe tbody tr th:only-of-type {\n",
       "        vertical-align: middle;\n",
       "    }\n",
       "\n",
       "    .dataframe tbody tr th {\n",
       "        vertical-align: top;\n",
       "    }\n",
       "\n",
       "    .dataframe thead th {\n",
       "        text-align: right;\n",
       "    }\n",
       "</style>\n",
       "<table border=\"1\" class=\"dataframe\">\n",
       "  <thead>\n",
       "    <tr style=\"text-align: right;\">\n",
       "      <th></th>\n",
       "      <th>Source</th>\n",
       "      <th>ddof1</th>\n",
       "      <th>Q</th>\n",
       "      <th>p-unc</th>\n",
       "    </tr>\n",
       "  </thead>\n",
       "  <tbody>\n",
       "    <tr>\n",
       "      <th>Friedman</th>\n",
       "      <td>Bitrate</td>\n",
       "      <td>3</td>\n",
       "      <td>56.716</td>\n",
       "      <td>2.954771e-12</td>\n",
       "    </tr>\n",
       "  </tbody>\n",
       "</table>\n",
       "</div>"
      ],
      "text/plain": [
       "           Source  ddof1       Q         p-unc\n",
       "Friedman  Bitrate      3  56.716  2.954771e-12"
      ]
     },
     "execution_count": 109,
     "metadata": {},
     "output_type": "execute_result"
    }
   ],
   "source": [
    "resultBitrate = pg.friedman(dataset, dv='VQ', subject='PID', within= 'Bitrate')\n",
    "resultBitrate"
   ]
  },
  {
   "cell_type": "markdown",
   "metadata": {},
   "source": [
    "- `Q` : The Friedman Q statistic, corrected for ties\n",
    "- `p-unc` : Uncorrected p-value\n",
    "- `dof` : degrees of freedom\n",
    "\n",
    "Source: https://pingouin-stats.org/generated/pingouin.friedman.html#pingouin.friedman"
   ]
  },
  {
   "cell_type": "code",
   "execution_count": 110,
   "metadata": {},
   "outputs": [
    {
     "data": {
      "text/html": [
       "<style  type=\"text/css\" >\n",
       "    #T_b11263fa_4c46_11ea_80a5_aa0000b0ab3arow0_col7 {\n",
       "            background-color:  #83cd7a;\n",
       "            color:  #000000;\n",
       "        }    #T_b11263fa_4c46_11ea_80a5_aa0000b0ab3arow1_col7 {\n",
       "            background-color:  #2ea420;\n",
       "            color:  #000000;\n",
       "        }    #T_b11263fa_4c46_11ea_80a5_aa0000b0ab3arow2_col7 {\n",
       "            background-color:  #169906;\n",
       "            color:  #000000;\n",
       "        }    #T_b11263fa_4c46_11ea_80a5_aa0000b0ab3arow3_col7 {\n",
       "            background-color:  #fe2d07;\n",
       "            color:  #f1f1f1;\n",
       "        }    #T_b11263fa_4c46_11ea_80a5_aa0000b0ab3arow4_col7 {\n",
       "            background-color:  #169906;\n",
       "            color:  #000000;\n",
       "        }    #T_b11263fa_4c46_11ea_80a5_aa0000b0ab3arow5_col7 {\n",
       "            background-color:  #1f9d0f;\n",
       "            color:  #000000;\n",
       "        }</style><table id=\"T_b11263fa_4c46_11ea_80a5_aa0000b0ab3a\" ><thead>    <tr>        <th class=\"blank level0\" ></th>        <th class=\"col_heading level0 col0\" >Contrast</th>        <th class=\"col_heading level0 col1\" >A</th>        <th class=\"col_heading level0 col2\" >B</th>        <th class=\"col_heading level0 col3\" >Paired</th>        <th class=\"col_heading level0 col4\" >Parametric</th>        <th class=\"col_heading level0 col5\" >W-val</th>        <th class=\"col_heading level0 col6\" >Tail</th>        <th class=\"col_heading level0 col7\" >p-unc</th>        <th class=\"col_heading level0 col8\" >p-corr</th>        <th class=\"col_heading level0 col9\" >p-adjust</th>        <th class=\"col_heading level0 col10\" >hedges</th>    </tr></thead><tbody>\n",
       "                <tr>\n",
       "                        <th id=\"T_b11263fa_4c46_11ea_80a5_aa0000b0ab3alevel0_row0\" class=\"row_heading level0 row0\" >0</th>\n",
       "                        <td id=\"T_b11263fa_4c46_11ea_80a5_aa0000b0ab3arow0_col0\" class=\"data row0 col0\" >Bitrate</td>\n",
       "                        <td id=\"T_b11263fa_4c46_11ea_80a5_aa0000b0ab3arow0_col1\" class=\"data row0 col1\" >2000</td>\n",
       "                        <td id=\"T_b11263fa_4c46_11ea_80a5_aa0000b0ab3arow0_col2\" class=\"data row0 col2\" >4000</td>\n",
       "                        <td id=\"T_b11263fa_4c46_11ea_80a5_aa0000b0ab3arow0_col3\" class=\"data row0 col3\" >True</td>\n",
       "                        <td id=\"T_b11263fa_4c46_11ea_80a5_aa0000b0ab3arow0_col4\" class=\"data row0 col4\" >False</td>\n",
       "                        <td id=\"T_b11263fa_4c46_11ea_80a5_aa0000b0ab3arow0_col5\" class=\"data row0 col5\" >27.500000</td>\n",
       "                        <td id=\"T_b11263fa_4c46_11ea_80a5_aa0000b0ab3arow0_col6\" class=\"data row0 col6\" >two-sided</td>\n",
       "                        <td id=\"T_b11263fa_4c46_11ea_80a5_aa0000b0ab3arow0_col7\" class=\"data row0 col7\" >0.000486</td>\n",
       "                        <td id=\"T_b11263fa_4c46_11ea_80a5_aa0000b0ab3arow0_col8\" class=\"data row0 col8\" >0.002914</td>\n",
       "                        <td id=\"T_b11263fa_4c46_11ea_80a5_aa0000b0ab3arow0_col9\" class=\"data row0 col9\" >bonf</td>\n",
       "                        <td id=\"T_b11263fa_4c46_11ea_80a5_aa0000b0ab3arow0_col10\" class=\"data row0 col10\" >-0.926000</td>\n",
       "            </tr>\n",
       "            <tr>\n",
       "                        <th id=\"T_b11263fa_4c46_11ea_80a5_aa0000b0ab3alevel0_row1\" class=\"row_heading level0 row1\" >1</th>\n",
       "                        <td id=\"T_b11263fa_4c46_11ea_80a5_aa0000b0ab3arow1_col0\" class=\"data row1 col0\" >Bitrate</td>\n",
       "                        <td id=\"T_b11263fa_4c46_11ea_80a5_aa0000b0ab3arow1_col1\" class=\"data row1 col1\" >2000</td>\n",
       "                        <td id=\"T_b11263fa_4c46_11ea_80a5_aa0000b0ab3arow1_col2\" class=\"data row1 col2\" >6000</td>\n",
       "                        <td id=\"T_b11263fa_4c46_11ea_80a5_aa0000b0ab3arow1_col3\" class=\"data row1 col3\" >True</td>\n",
       "                        <td id=\"T_b11263fa_4c46_11ea_80a5_aa0000b0ab3arow1_col4\" class=\"data row1 col4\" >False</td>\n",
       "                        <td id=\"T_b11263fa_4c46_11ea_80a5_aa0000b0ab3arow1_col5\" class=\"data row1 col5\" >15.000000</td>\n",
       "                        <td id=\"T_b11263fa_4c46_11ea_80a5_aa0000b0ab3arow1_col6\" class=\"data row1 col6\" >two-sided</td>\n",
       "                        <td id=\"T_b11263fa_4c46_11ea_80a5_aa0000b0ab3arow1_col7\" class=\"data row1 col7\" >0.000120</td>\n",
       "                        <td id=\"T_b11263fa_4c46_11ea_80a5_aa0000b0ab3arow1_col8\" class=\"data row1 col8\" >0.000720</td>\n",
       "                        <td id=\"T_b11263fa_4c46_11ea_80a5_aa0000b0ab3arow1_col9\" class=\"data row1 col9\" >bonf</td>\n",
       "                        <td id=\"T_b11263fa_4c46_11ea_80a5_aa0000b0ab3arow1_col10\" class=\"data row1 col10\" >-1.489000</td>\n",
       "            </tr>\n",
       "            <tr>\n",
       "                        <th id=\"T_b11263fa_4c46_11ea_80a5_aa0000b0ab3alevel0_row2\" class=\"row_heading level0 row2\" >2</th>\n",
       "                        <td id=\"T_b11263fa_4c46_11ea_80a5_aa0000b0ab3arow2_col0\" class=\"data row2 col0\" >Bitrate</td>\n",
       "                        <td id=\"T_b11263fa_4c46_11ea_80a5_aa0000b0ab3arow2_col1\" class=\"data row2 col1\" >2000</td>\n",
       "                        <td id=\"T_b11263fa_4c46_11ea_80a5_aa0000b0ab3arow2_col2\" class=\"data row2 col2\" >50000</td>\n",
       "                        <td id=\"T_b11263fa_4c46_11ea_80a5_aa0000b0ab3arow2_col3\" class=\"data row2 col3\" >True</td>\n",
       "                        <td id=\"T_b11263fa_4c46_11ea_80a5_aa0000b0ab3arow2_col4\" class=\"data row2 col4\" >False</td>\n",
       "                        <td id=\"T_b11263fa_4c46_11ea_80a5_aa0000b0ab3arow2_col5\" class=\"data row2 col5\" >1.000000</td>\n",
       "                        <td id=\"T_b11263fa_4c46_11ea_80a5_aa0000b0ab3arow2_col6\" class=\"data row2 col6\" >two-sided</td>\n",
       "                        <td id=\"T_b11263fa_4c46_11ea_80a5_aa0000b0ab3arow2_col7\" class=\"data row2 col7\" >0.000015</td>\n",
       "                        <td id=\"T_b11263fa_4c46_11ea_80a5_aa0000b0ab3arow2_col8\" class=\"data row2 col8\" >0.000088</td>\n",
       "                        <td id=\"T_b11263fa_4c46_11ea_80a5_aa0000b0ab3arow2_col9\" class=\"data row2 col9\" >bonf</td>\n",
       "                        <td id=\"T_b11263fa_4c46_11ea_80a5_aa0000b0ab3arow2_col10\" class=\"data row2 col10\" >-3.032000</td>\n",
       "            </tr>\n",
       "            <tr>\n",
       "                        <th id=\"T_b11263fa_4c46_11ea_80a5_aa0000b0ab3alevel0_row3\" class=\"row_heading level0 row3\" >3</th>\n",
       "                        <td id=\"T_b11263fa_4c46_11ea_80a5_aa0000b0ab3arow3_col0\" class=\"data row3 col0\" >Bitrate</td>\n",
       "                        <td id=\"T_b11263fa_4c46_11ea_80a5_aa0000b0ab3arow3_col1\" class=\"data row3 col1\" >4000</td>\n",
       "                        <td id=\"T_b11263fa_4c46_11ea_80a5_aa0000b0ab3arow3_col2\" class=\"data row3 col2\" >6000</td>\n",
       "                        <td id=\"T_b11263fa_4c46_11ea_80a5_aa0000b0ab3arow3_col3\" class=\"data row3 col3\" >True</td>\n",
       "                        <td id=\"T_b11263fa_4c46_11ea_80a5_aa0000b0ab3arow3_col4\" class=\"data row3 col4\" >False</td>\n",
       "                        <td id=\"T_b11263fa_4c46_11ea_80a5_aa0000b0ab3arow3_col5\" class=\"data row3 col5\" >30.500000</td>\n",
       "                        <td id=\"T_b11263fa_4c46_11ea_80a5_aa0000b0ab3arow3_col6\" class=\"data row3 col6\" >two-sided</td>\n",
       "                        <td id=\"T_b11263fa_4c46_11ea_80a5_aa0000b0ab3arow3_col7\" class=\"data row3 col7\" >0.001915</td>\n",
       "                        <td id=\"T_b11263fa_4c46_11ea_80a5_aa0000b0ab3arow3_col8\" class=\"data row3 col8\" >0.011489</td>\n",
       "                        <td id=\"T_b11263fa_4c46_11ea_80a5_aa0000b0ab3arow3_col9\" class=\"data row3 col9\" >bonf</td>\n",
       "                        <td id=\"T_b11263fa_4c46_11ea_80a5_aa0000b0ab3arow3_col10\" class=\"data row3 col10\" >-0.669000</td>\n",
       "            </tr>\n",
       "            <tr>\n",
       "                        <th id=\"T_b11263fa_4c46_11ea_80a5_aa0000b0ab3alevel0_row4\" class=\"row_heading level0 row4\" >4</th>\n",
       "                        <td id=\"T_b11263fa_4c46_11ea_80a5_aa0000b0ab3arow4_col0\" class=\"data row4 col0\" >Bitrate</td>\n",
       "                        <td id=\"T_b11263fa_4c46_11ea_80a5_aa0000b0ab3arow4_col1\" class=\"data row4 col1\" >4000</td>\n",
       "                        <td id=\"T_b11263fa_4c46_11ea_80a5_aa0000b0ab3arow4_col2\" class=\"data row4 col2\" >50000</td>\n",
       "                        <td id=\"T_b11263fa_4c46_11ea_80a5_aa0000b0ab3arow4_col3\" class=\"data row4 col3\" >True</td>\n",
       "                        <td id=\"T_b11263fa_4c46_11ea_80a5_aa0000b0ab3arow4_col4\" class=\"data row4 col4\" >False</td>\n",
       "                        <td id=\"T_b11263fa_4c46_11ea_80a5_aa0000b0ab3arow4_col5\" class=\"data row4 col5\" >1.000000</td>\n",
       "                        <td id=\"T_b11263fa_4c46_11ea_80a5_aa0000b0ab3arow4_col6\" class=\"data row4 col6\" >two-sided</td>\n",
       "                        <td id=\"T_b11263fa_4c46_11ea_80a5_aa0000b0ab3arow4_col7\" class=\"data row4 col7\" >0.000015</td>\n",
       "                        <td id=\"T_b11263fa_4c46_11ea_80a5_aa0000b0ab3arow4_col8\" class=\"data row4 col8\" >0.000088</td>\n",
       "                        <td id=\"T_b11263fa_4c46_11ea_80a5_aa0000b0ab3arow4_col9\" class=\"data row4 col9\" >bonf</td>\n",
       "                        <td id=\"T_b11263fa_4c46_11ea_80a5_aa0000b0ab3arow4_col10\" class=\"data row4 col10\" >-2.268000</td>\n",
       "            </tr>\n",
       "            <tr>\n",
       "                        <th id=\"T_b11263fa_4c46_11ea_80a5_aa0000b0ab3alevel0_row5\" class=\"row_heading level0 row5\" >5</th>\n",
       "                        <td id=\"T_b11263fa_4c46_11ea_80a5_aa0000b0ab3arow5_col0\" class=\"data row5 col0\" >Bitrate</td>\n",
       "                        <td id=\"T_b11263fa_4c46_11ea_80a5_aa0000b0ab3arow5_col1\" class=\"data row5 col1\" >6000</td>\n",
       "                        <td id=\"T_b11263fa_4c46_11ea_80a5_aa0000b0ab3arow5_col2\" class=\"data row5 col2\" >50000</td>\n",
       "                        <td id=\"T_b11263fa_4c46_11ea_80a5_aa0000b0ab3arow5_col3\" class=\"data row5 col3\" >True</td>\n",
       "                        <td id=\"T_b11263fa_4c46_11ea_80a5_aa0000b0ab3arow5_col4\" class=\"data row5 col4\" >False</td>\n",
       "                        <td id=\"T_b11263fa_4c46_11ea_80a5_aa0000b0ab3arow5_col5\" class=\"data row5 col5\" >5.000000</td>\n",
       "                        <td id=\"T_b11263fa_4c46_11ea_80a5_aa0000b0ab3arow5_col6\" class=\"data row5 col6\" >two-sided</td>\n",
       "                        <td id=\"T_b11263fa_4c46_11ea_80a5_aa0000b0ab3arow5_col7\" class=\"data row5 col7\" >0.000055</td>\n",
       "                        <td id=\"T_b11263fa_4c46_11ea_80a5_aa0000b0ab3arow5_col8\" class=\"data row5 col8\" >0.000329</td>\n",
       "                        <td id=\"T_b11263fa_4c46_11ea_80a5_aa0000b0ab3arow5_col9\" class=\"data row5 col9\" >bonf</td>\n",
       "                        <td id=\"T_b11263fa_4c46_11ea_80a5_aa0000b0ab3arow5_col10\" class=\"data row5 col10\" >-1.421000</td>\n",
       "            </tr>\n",
       "    </tbody></table>"
      ],
      "text/plain": [
       "<pandas.io.formats.style.Styler at 0x7f29aa91db00>"
      ]
     },
     "execution_count": 110,
     "metadata": {},
     "output_type": "execute_result"
    }
   ],
   "source": [
    "result = pg.pairwise_ttests(dataset, dv=\"VQ\", subject=\"PID\", within='Bitrate', parametric=False, padjust='bonf')\n",
    "result.style.background_gradient(cmap=cm, subset=[\"p-unc\"])"
   ]
  },
  {
   "cell_type": "markdown",
   "metadata": {},
   "source": [
    "- `A` : Name of first measurement\n",
    "- `B` : Name of second measurement\n",
    "- `Paired` : indicates whether the two measurements are paired or not\n",
    "- `Parametric` : indicates if (non)-parametric tests were used\n",
    "- `W-val` : Wilcoxon W stat (if parametric=False and paired data)\n",
    "- `Tail` : indicate whether the p-values are one-sided or two-sided\n",
    "- `p-unc` : Uncorrected p-values\n",
    "- `p-corr` : Corrected p-values\n",
    "- `p-adjust` : p-values correction method\n",
    "- `hedges` : effect size (or any effect size defined in ``effsize``)\n",
    "\n",
    "Source: https://pingouin-stats.org/generated/pingouin.pairwise_ttests.html"
   ]
  },
  {
   "cell_type": "code",
   "execution_count": null,
   "metadata": {},
   "outputs": [],
   "source": []
  }
 ],
 "metadata": {
  "kernelspec": {
   "display_name": "Python 3",
   "language": "python",
   "name": "python3"
  },
  "language_info": {
   "codemirror_mode": {
    "name": "ipython",
    "version": 3
   },
   "file_extension": ".py",
   "mimetype": "text/x-python",
   "name": "python",
   "nbconvert_exporter": "python",
   "pygments_lexer": "ipython3",
   "version": "3.6.5"
  }
 },
 "nbformat": 4,
 "nbformat_minor": 2
}
